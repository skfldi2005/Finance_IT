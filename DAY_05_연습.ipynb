{
  "nbformat": 4,
  "nbformat_minor": 0,
  "metadata": {
    "colab": {
      "name": "DAY 05 연습.ipynb",
      "version": "0.3.2",
      "provenance": [],
      "include_colab_link": true
    },
    "kernelspec": {
      "name": "python3",
      "display_name": "Python 3"
    }
  },
  "cells": [
    {
      "cell_type": "markdown",
      "metadata": {
        "id": "view-in-github",
        "colab_type": "text"
      },
      "source": [
        "<a href=\"https://colab.research.google.com/github/skfldi2005/Finance_IT/blob/master/DAY_05_%EC%97%B0%EC%8A%B5.ipynb\" target=\"_parent\"><img src=\"https://colab.research.google.com/assets/colab-badge.svg\" alt=\"Open In Colab\"/></a>"
      ]
    },
    {
      "metadata": {
        "id": "IhE1lfBMKge_",
        "colab_type": "text"
      },
      "cell_type": "markdown",
      "source": [
        "#Numpy for Finance 01 - Numpy 기본"
      ]
    },
    {
      "metadata": {
        "id": "k-eGxc2FK34y",
        "colab_type": "text"
      },
      "cell_type": "markdown",
      "source": [
        "##Numpy"
      ]
    },
    {
      "metadata": {
        "id": "2LZkTgXJK-Dz",
        "colab_type": "text"
      },
      "cell_type": "markdown",
      "source": [
        "Numerical Python, \"넘피\"라고 읽는다.\n",
        "* https://numpy.org (홈페이지)\n",
        "* https://docs.scipy.org/doc/numpy (공식 레퍼런스)\n",
        "* 많은 scientific library 들이 NumPy 기반\n",
        "* Pandas, Scipy, matplotlib, scikit-learn, statsmodels\n",
        "* TensorFlow: NumPy ndarray 확장 + 자동미분 + GPU 지원\n"
      ]
    },
    {
      "metadata": {
        "id": "qFwqR8CvLGWd",
        "colab_type": "text"
      },
      "cell_type": "markdown",
      "source": [
        "    [종류]\n",
        "    * Pandas -> data 분석용 라이브러리\n",
        "    * Scipy -> 선형대수, 미적분등의 수학식 계산\n",
        "    * matplotlib ->데이터 시각화 라이브러리\n",
        "    * scikit-learn -> 머신러닝 라이브러리\n",
        "    * statsmodels -> 통계관련 여러 함수, 다양한 분포 지원\n",
        "    * TensorFlow -> 딥러닝 대표 라이브러리."
      ]
    },
    {
      "metadata": {
        "id": "4xMg92veMfBK",
        "colab_type": "text"
      },
      "cell_type": "markdown",
      "source": [
        "## Numpy 특징\n",
        "\n",
        "\n",
        "수치 데이터를 다루는데 효율적이고 높은 성능을 제공 한다.\n",
        "\n",
        "행렬 많이 사용.\n",
        "\n",
        "matlab과 비슷\n",
        "\n",
        "* 대규모 데이터를 빠르게\n",
        "* 스칼라 연산과 비슷하게 연산을 수행\n",
        "* Linear algebra, Fourier transform, Random 기능들\n",
        "* 배열을 요소별로 조작하지 않고도 원소별 연산이 가능 - 브로드캐스팅(broadcasting)"
      ]
    },
    {
      "metadata": {
        "id": "7W6CdYcFM2f-",
        "colab_type": "text"
      },
      "cell_type": "markdown",
      "source": [
        "##ndarray\n",
        "NumPy의 핵심\n",
        "\n",
        "* ndarray: n-dimensional array object, 다차원 배열 객체\n",
        "* 모든 요소가 동일한 datatype (기본은 float64)\n",
        "* 다차원 데이터도 연속 할당: 높은 성능의 비밀 (파이썬 리스트는 비연속)"
      ]
    },
    {
      "metadata": {
        "id": "FiFZa2wfKXr6",
        "colab_type": "code",
        "colab": {}
      },
      "cell_type": "code",
      "source": [
        "import numpy as np"
      ],
      "execution_count": 0,
      "outputs": []
    },
    {
      "metadata": {
        "id": "uivKAKYtNF-n",
        "colab_type": "code",
        "colab": {
          "base_uri": "https://localhost:8080/",
          "height": 34
        },
        "outputId": "449a10dc-ce49-4e47-f196-d316692079a7"
      },
      "cell_type": "code",
      "source": [
        "%%timeit\n",
        "#이 셀에서 실행된 시간 측정\n",
        "\n",
        "ls=range(10000) #0~9999까지의 수\n",
        "[i**2 for i in ls] # 위의 수들을 모두 제곱\n",
        "\n",
        "# 제곱의 연산을 만 번 실행시 걸리는 시간 측정.\n"
      ],
      "execution_count": 3,
      "outputs": [
        {
          "output_type": "stream",
          "text": [
            "100 loops, best of 3: 2.87 ms per loop\n"
          ],
          "name": "stdout"
        }
      ]
    },
    {
      "metadata": {
        "id": "X6jA73bSOhIM",
        "colab_type": "code",
        "colab": {
          "base_uri": "https://localhost:8080/",
          "height": 52
        },
        "outputId": "bbb6f337-79dd-42f0-b57f-3a85b51545ca"
      },
      "cell_type": "code",
      "source": [
        "#[numpy 사용하기]\n",
        "#numpy 사용 (위의 파이썬의 range와 기능은 같음)\n",
        "\n",
        "%%timeit\n",
        "\n",
        "a = np.arange(10000) \n",
        "a**2\n",
        "\n",
        "# 제곱의 연산을 만 번 실행시 걸리는 시간 측정.(이게 200배 정도 빠름)"
      ],
      "execution_count": 6,
      "outputs": [
        {
          "output_type": "stream",
          "text": [
            "The slowest run took 84.91 times longer than the fastest. This could mean that an intermediate result is being cached.\n",
            "100000 loops, best of 3: 16.2 µs per loop\n"
          ],
          "name": "stdout"
        }
      ]
    },
    {
      "metadata": {
        "id": "mBdwK9OlO_Sn",
        "colab_type": "code",
        "colab": {
          "base_uri": "https://localhost:8080/",
          "height": 34
        },
        "outputId": "70eb3bbf-8fc8-4ba7-e877-6ed127c85cb4"
      },
      "cell_type": "code",
      "source": [
        "a = np.arange(10000) \n",
        "a**2\n",
        "\n",
        "# a = 벡터\n",
        "# 2= 스칼라"
      ],
      "execution_count": 7,
      "outputs": [
        {
          "output_type": "execute_result",
          "data": {
            "text/plain": [
              "array([       0,        1,        4, ..., 99940009, 99960004, 99980001])"
            ]
          },
          "metadata": {
            "tags": []
          },
          "execution_count": 7
        }
      ]
    },
    {
      "metadata": {
        "id": "4e3Jwi6_QLZN",
        "colab_type": "text"
      },
      "cell_type": "markdown",
      "source": [
        "##생성 방법\n",
        "* np.array() # 리스트, 튜플, 배열로 부터 ndarray를 생성\n",
        "* np.asarray() # 기존의 array로 부터 ndarray를 생성\n",
        "* np.arange() # range와 비슷\n",
        "* np.linspace(start, end, num) # [start, end] 균일한 간격으로 num개 생성(num개로 쪼개줌)\n",
        "* np.logspace(start, end, num) # [start, end] log scale 간격으로 num개 생성(num 개수를 기하급수적으로 커지게 쪼갬)"
      ]
    },
    {
      "metadata": {
        "id": "CZyyrcrCPbJc",
        "colab_type": "code",
        "colab": {}
      },
      "cell_type": "code",
      "source": [
        "# 튜플로 부터 1차원 배열 생성\n",
        "ar = np.array((10, 20, 30)) "
      ],
      "execution_count": 0,
      "outputs": []
    },
    {
      "metadata": {
        "id": "rdJDDBJTQjSD",
        "colab_type": "code",
        "colab": {
          "base_uri": "https://localhost:8080/",
          "height": 34
        },
        "outputId": "aa103c32-ddf4-4a66-fb02-705686832c7f"
      },
      "cell_type": "code",
      "source": [
        "type(ar)\n",
        "#타입 파악"
      ],
      "execution_count": 11,
      "outputs": [
        {
          "output_type": "execute_result",
          "data": {
            "text/plain": [
              "numpy.ndarray"
            ]
          },
          "metadata": {
            "tags": []
          },
          "execution_count": 11
        }
      ]
    },
    {
      "metadata": {
        "id": "3-VTKaCMQscM",
        "colab_type": "code",
        "colab": {
          "base_uri": "https://localhost:8080/",
          "height": 70
        },
        "outputId": "7e391df5-13a0-4761-b5ff-dfa84ff0ef9b"
      },
      "cell_type": "code",
      "source": [
        "print (ar[0], ar[2])\n",
        "print (ar.ndim)\n",
        "#ndim -> 몇차원인지\n",
        "\n",
        "print (ar.shape)\n",
        "# 몇X몇 인지"
      ],
      "execution_count": 13,
      "outputs": [
        {
          "output_type": "stream",
          "text": [
            "10 30\n",
            "1\n",
            "(3,)\n"
          ],
          "name": "stdout"
        }
      ]
    },
    {
      "metadata": {
        "id": "_TlMxiYuQzA6",
        "colab_type": "code",
        "colab": {
          "base_uri": "https://localhost:8080/",
          "height": 52
        },
        "outputId": "d8147479-2a1f-4270-eeae-af3313af5f9c"
      },
      "cell_type": "code",
      "source": [
        "#  배열로 부터 2차원 배열 생성\n",
        "ar = np.array([[10, 20, 30], [ 60, 70, 80]]) \n",
        "\n",
        "#[ \n",
        "  #[10, 20, 30],\n",
        "  #[60, 70, 80]\n",
        "#]\n",
        "\n",
        "\n",
        "print (ar.ndim)\n",
        "#차원 확인 -> 2차원\n",
        "\n",
        "\n",
        "print (ar.shape)\n",
        "#행렬 모양 2X3 행렬"
      ],
      "execution_count": 15,
      "outputs": [
        {
          "output_type": "stream",
          "text": [
            "2\n",
            "(2, 3)\n"
          ],
          "name": "stdout"
        }
      ]
    },
    {
      "metadata": {
        "id": "e2Em_AWxRLJJ",
        "colab_type": "code",
        "colab": {
          "base_uri": "https://localhost:8080/",
          "height": 263
        },
        "outputId": "b7b658ce-e06a-4647-99a6-13fa9bebcb08"
      },
      "cell_type": "code",
      "source": [
        "#영행렬\n",
        "ar = np.zeros((2,3))\n",
        "print(ar)\n",
        "print ('~' * 40)\n",
        "\n",
        "\n",
        "ar = np.ones((2,3))\n",
        "print(ar)\n",
        "print ('~' * 40)\n",
        "\n",
        "\n",
        "ar = np.full((2,3), 5)\n",
        "print(ar)\n",
        "print ('~' * 40)\n",
        "\n",
        "\n",
        "ar = np.eye(2)# 항등\n",
        "print(ar)\n",
        "print ('~' * 40)\n",
        "\n",
        "\n",
        "ar = np.random.random((2,3))\n",
        "print(ar)"
      ],
      "execution_count": 16,
      "outputs": [
        {
          "output_type": "stream",
          "text": [
            "[[0. 0. 0.]\n",
            " [0. 0. 0.]]\n",
            "~~~~~~~~~~~~~~~~~~~~~~~~~~~~~~~~~~~~~~~~\n",
            "[[1. 1. 1.]\n",
            " [1. 1. 1.]]\n",
            "~~~~~~~~~~~~~~~~~~~~~~~~~~~~~~~~~~~~~~~~\n",
            "[[5 5 5]\n",
            " [5 5 5]]\n",
            "~~~~~~~~~~~~~~~~~~~~~~~~~~~~~~~~~~~~~~~~\n",
            "[[1. 0.]\n",
            " [0. 1.]]\n",
            "~~~~~~~~~~~~~~~~~~~~~~~~~~~~~~~~~~~~~~~~\n",
            "[[0.49860081 0.92840211 0.88264248]\n",
            " [0.26917012 0.39746658 0.44096602]]\n"
          ],
          "name": "stdout"
        }
      ]
    },
    {
      "metadata": {
        "id": "DuM2wlYxR1Ex",
        "colab_type": "text"
      },
      "cell_type": "markdown",
      "source": [
        "##np.arange()\n",
        "\n",
        "numpy.arange(start, stop, step, dtype)\n",
        "\n",
        "* ar = np.arange(10) # 0 .. n-1\n",
        "* ar = np.arange(1, 9, 2) # [start], (end), step"
      ]
    },
    {
      "metadata": {
        "id": "f5FnZlvIRvHP",
        "colab_type": "code",
        "colab": {
          "base_uri": "https://localhost:8080/",
          "height": 210
        },
        "outputId": "3271dd63-f582-4d3f-b6bc-79624cb91652"
      },
      "cell_type": "code",
      "source": [
        "ar = np.arange(10) # 0 .. n-1(=9)\n",
        "print (ar)\n",
        "print ('~' * 40)\n",
        "\n",
        "ar = np.arange(1, 9, 2) # [start], (end), step\n",
        "print (ar)\n",
        "print ('~' * 40)\n",
        "\n",
        "ar = np.linspace(0, 10, 20)   # [start], [end], num\n",
        "print (ar)\n",
        "print ('~' * 40)\n",
        "\n",
        "ar = np.linspace(0, 10, 20, endpoint=False)   # [start], (end), num\n",
        "print (ar)"
      ],
      "execution_count": 17,
      "outputs": [
        {
          "output_type": "stream",
          "text": [
            "[0 1 2 3 4 5 6 7 8 9]\n",
            "~~~~~~~~~~~~~~~~~~~~~~~~~~~~~~~~~~~~~~~~\n",
            "[1 3 5 7]\n",
            "~~~~~~~~~~~~~~~~~~~~~~~~~~~~~~~~~~~~~~~~\n",
            "[ 0.          0.52631579  1.05263158  1.57894737  2.10526316  2.63157895\n",
            "  3.15789474  3.68421053  4.21052632  4.73684211  5.26315789  5.78947368\n",
            "  6.31578947  6.84210526  7.36842105  7.89473684  8.42105263  8.94736842\n",
            "  9.47368421 10.        ]\n",
            "~~~~~~~~~~~~~~~~~~~~~~~~~~~~~~~~~~~~~~~~\n",
            "[0.  0.5 1.  1.5 2.  2.5 3.  3.5 4.  4.5 5.  5.5 6.  6.5 7.  7.5 8.  8.5\n",
            " 9.  9.5]\n"
          ],
          "name": "stdout"
        }
      ]
    },
    {
      "metadata": {
        "id": "Osy4yoVoSBKZ",
        "colab_type": "text"
      },
      "cell_type": "markdown",
      "source": [
        "##np.linspace()\n",
        "\n",
        "np.linspace(start, end, num)  # [start, end] 균일한 간격으로 num개 생성"
      ]
    },
    {
      "metadata": {
        "id": "VPt8X-m7R9UF",
        "colab_type": "code",
        "colab": {
          "base_uri": "https://localhost:8080/",
          "height": 122
        },
        "outputId": "d0be0046-3781-4155-c6c1-f680ba5d1c5b"
      },
      "cell_type": "code",
      "source": [
        "ar = np.linspace(0, 20, 30)\n",
        "ar"
      ],
      "execution_count": 18,
      "outputs": [
        {
          "output_type": "execute_result",
          "data": {
            "text/plain": [
              "array([ 0.        ,  0.68965517,  1.37931034,  2.06896552,  2.75862069,\n",
              "        3.44827586,  4.13793103,  4.82758621,  5.51724138,  6.20689655,\n",
              "        6.89655172,  7.5862069 ,  8.27586207,  8.96551724,  9.65517241,\n",
              "       10.34482759, 11.03448276, 11.72413793, 12.4137931 , 13.10344828,\n",
              "       13.79310345, 14.48275862, 15.17241379, 15.86206897, 16.55172414,\n",
              "       17.24137931, 17.93103448, 18.62068966, 19.31034483, 20.        ])"
            ]
          },
          "metadata": {
            "tags": []
          },
          "execution_count": 18
        }
      ]
    },
    {
      "metadata": {
        "id": "mEwDTxbISKzs",
        "colab_type": "text"
      },
      "cell_type": "markdown",
      "source": [
        "## np.logspace()\n",
        "\n",
        "np.linspace(start, end, num, base)  # [start, end] 로그 스케일 간격으로 num개 생성"
      ]
    },
    {
      "metadata": {
        "id": "LoM46vnbSHY9",
        "colab_type": "code",
        "colab": {
          "base_uri": "https://localhost:8080/",
          "height": 158
        },
        "outputId": "93d5d9f4-5319-42cc-ca06-f5cbfacbb7eb"
      },
      "cell_type": "code",
      "source": [
        "ar = np.logspace(0, 20, 30)\n",
        "ar"
      ],
      "execution_count": 19,
      "outputs": [
        {
          "output_type": "execute_result",
          "data": {
            "text/plain": [
              "array([1.00000000e+00, 4.89390092e+00, 2.39502662e+01, 1.17210230e+02,\n",
              "       5.73615251e+02, 2.80721620e+03, 1.37382380e+04, 6.72335754e+04,\n",
              "       3.29034456e+05, 1.61026203e+06, 7.88046282e+06, 3.85662042e+07,\n",
              "       1.88739182e+08, 9.23670857e+08, 4.52035366e+09, 2.21221629e+10,\n",
              "       1.08263673e+11, 5.29831691e+11, 2.59294380e+12, 1.26896100e+13,\n",
              "       6.21016942e+13, 3.03919538e+14, 1.48735211e+15, 7.27895384e+15,\n",
              "       3.56224789e+16, 1.74332882e+17, 8.53167852e+17, 4.17531894e+18,\n",
              "       2.04335972e+19, 1.00000000e+20])"
            ]
          },
          "metadata": {
            "tags": []
          },
          "execution_count": 19
        }
      ]
    },
    {
      "metadata": {
        "id": "yKvqY2s_STi-",
        "colab_type": "text"
      },
      "cell_type": "markdown",
      "source": [
        "# 시각화"
      ]
    },
    {
      "metadata": {
        "id": "rYdzc5iCSPV9",
        "colab_type": "code",
        "colab": {}
      },
      "cell_type": "code",
      "source": [
        "# 차트그리는 모듈\n",
        "import matplotlib.pyplot as plt\n",
        "\n",
        "#분할\n",
        "x = np.linspace(0, 20, 30)   # start, end, num\n",
        "y = np.logspace(0, 20, 30, base=2)"
      ],
      "execution_count": 0,
      "outputs": []
    },
    {
      "metadata": {
        "id": "8VtaIy3FSeeh",
        "colab_type": "code",
        "colab": {
          "base_uri": "https://localhost:8080/",
          "height": 365
        },
        "outputId": "f64634a4-4140-4387-8b27-843ed459466c"
      },
      "cell_type": "code",
      "source": [
        "plt.plot(x,y,'-')#실선으로 표현\n",
        "plt.plot(x,y,'o') #점 찍기\n",
        "#두 차트 합치기 \n",
        "#따로도 가능"
      ],
      "execution_count": 23,
      "outputs": [
        {
          "output_type": "execute_result",
          "data": {
            "text/plain": [
              "[<matplotlib.lines.Line2D at 0x7f85b954c2b0>]"
            ]
          },
          "metadata": {
            "tags": []
          },
          "execution_count": 23
        },
        {
          "output_type": "display_data",
          "data": {
            "image/png": "[encoded data removed]",
            "text/plain": [
              "<Figure size 576x396 with 1 Axes>"
            ]
          },
          "metadata": {
            "tags": []
          }
        }
      ]
    },
    {
      "metadata": {
        "id": "5buaBPXeTJDj",
        "colab_type": "text"
      },
      "cell_type": "markdown",
      "source": [
        "##ar.reshape()\n",
        "\n",
        "모양 바꾸기"
      ]
    },
    {
      "metadata": {
        "id": "RD4Wx2IgTTIx",
        "colab_type": "code",
        "colab": {
          "base_uri": "https://localhost:8080/",
          "height": 34
        },
        "outputId": "e0f0728a-665f-41ee-b32d-887efd4dc542"
      },
      "cell_type": "code",
      "source": [
        "#1차원\n",
        "np.arange(1, 10)"
      ],
      "execution_count": 26,
      "outputs": [
        {
          "output_type": "execute_result",
          "data": {
            "text/plain": [
              "array([1, 2, 3, 4, 5, 6, 7, 8, 9])"
            ]
          },
          "metadata": {
            "tags": []
          },
          "execution_count": 26
        }
      ]
    },
    {
      "metadata": {
        "id": "GukjMEuuS176",
        "colab_type": "code",
        "colab": {
          "base_uri": "https://localhost:8080/",
          "height": 70
        },
        "outputId": "3534688c-d8fc-4729-ed4c-0e6ad21b6f0d"
      },
      "cell_type": "code",
      "source": [
        "#2차원으로 바꾸기\n",
        "ar = np.arange(1, 10).reshape((3,3))\n",
        "ar"
      ],
      "execution_count": 27,
      "outputs": [
        {
          "output_type": "execute_result",
          "data": {
            "text/plain": [
              "array([[1, 2, 3],\n",
              "       [4, 5, 6],\n",
              "       [7, 8, 9]])"
            ]
          },
          "metadata": {
            "tags": []
          },
          "execution_count": 27
        }
      ]
    },
    {
      "metadata": {
        "id": "Yc5XuYGKTgZT",
        "colab_type": "text"
      },
      "cell_type": "markdown",
      "source": [
        "#데이터 타입\n",
        "\n",
        "* ndarray을 생성하면서 데이터 타입을 지정할 수 있다.\n",
        "\n",
        "* 주로 np.int (np.int64), np.float (np.float64) 사용"
      ]
    },
    {
      "metadata": {
        "id": "uAe6D3xNTOmn",
        "colab_type": "code",
        "colab": {
          "base_uri": "https://localhost:8080/",
          "height": 34
        },
        "outputId": "2d616388-bd14-492a-c591-4649d37ae749"
      },
      "cell_type": "code",
      "source": [
        "ar = np.array([10, 20, 30.])\n",
        "ar"
      ],
      "execution_count": 28,
      "outputs": [
        {
          "output_type": "execute_result",
          "data": {
            "text/plain": [
              "array([10., 20., 30.])"
            ]
          },
          "metadata": {
            "tags": []
          },
          "execution_count": 28
        }
      ]
    },
    {
      "metadata": {
        "id": "_sE_6IrgTtHM",
        "colab_type": "code",
        "colab": {
          "base_uri": "https://localhost:8080/",
          "height": 34
        },
        "outputId": "96511973-1bf5-4640-bf6a-3b2faae2bc93"
      },
      "cell_type": "code",
      "source": [
        "#데이터 타입 확인\n",
        "ar.dtype"
      ],
      "execution_count": 30,
      "outputs": [
        {
          "output_type": "execute_result",
          "data": {
            "text/plain": [
              "dtype('float64')"
            ]
          },
          "metadata": {
            "tags": []
          },
          "execution_count": 30
        }
      ]
    },
    {
      "metadata": {
        "id": "P0UN7NluT7BS",
        "colab_type": "text"
      },
      "cell_type": "markdown",
      "source": [
        "##데이터 타입 바꾸기\n",
        "\n",
        "ndarray.astype()로 타입을 변경할 수 있다\n",
        "\n",
        "* 데이터가 새로 복사 된다.\n",
        "* str 과 float, int 사이에 변환도 가능"
      ]
    },
    {
      "metadata": {
        "id": "0dMeLmPVTxHP",
        "colab_type": "code",
        "colab": {
          "base_uri": "https://localhost:8080/",
          "height": 70
        },
        "outputId": "0591092b-bd74-46f1-fbe8-61e15b76b367"
      },
      "cell_type": "code",
      "source": [
        "ar = np.array([10, 20, 30, 40])\n",
        "print(ar.dtype, ar)\n",
        "\n",
        "\n",
        "# 타입 지정시,np.float등으로 바꿀 수 있음(numpy의 float). 그냥 float로 써도 가능(이건 파이썬의 float).\n",
        "af = np.ndarray.astype(ar, np.float)\n",
        "print(af.dtype, af)\n",
        "\n",
        "\n",
        "astr = np.ndarray.astype(af, np.str)#스트링으로 변환 -> 자주 쓸 예정.\n",
        "print(astr.dtype, astr)"
      ],
      "execution_count": 32,
      "outputs": [
        {
          "output_type": "stream",
          "text": [
            "int64 [10 20 30 40]\n",
            "float64 [10. 20. 30. 40.]\n",
            "<U32 ['10.0' '20.0' '30.0' '40.0']\n"
          ],
          "name": "stdout"
        }
      ]
    },
    {
      "metadata": {
        "id": "bSPRlsFyUUmI",
        "colab_type": "text"
      },
      "cell_type": "markdown",
      "source": [
        "#입출력 - savetxt, loadtxt\n",
        "\n",
        "numpy.savetxt, numpy.loadtxt"
      ]
    },
    {
      "metadata": {
        "id": "EhGsTKAMT4eZ",
        "colab_type": "code",
        "colab": {
          "base_uri": "https://localhost:8080/",
          "height": 70
        },
        "outputId": "db931180-0a41-4011-9552-87e189e6d02f"
      },
      "cell_type": "code",
      "source": [
        "ar = np.arange(1, 10).reshape((3,3)) #1~9까지의 수를 저장해서 3X3의 행렬로\n",
        "ar"
      ],
      "execution_count": 33,
      "outputs": [
        {
          "output_type": "execute_result",
          "data": {
            "text/plain": [
              "array([[1, 2, 3],\n",
              "       [4, 5, 6],\n",
              "       [7, 8, 9]])"
            ]
          },
          "metadata": {
            "tags": []
          },
          "execution_count": 33
        }
      ]
    },
    {
      "metadata": {
        "id": "0XJulqNeUhm1",
        "colab_type": "code",
        "colab": {}
      },
      "cell_type": "code",
      "source": [
        "np.savetxt(\"a.data\", ar)\n"
      ],
      "execution_count": 0,
      "outputs": []
    },
    {
      "metadata": {
        "id": "n5U0pvEbUkgL",
        "colab_type": "code",
        "colab": {
          "base_uri": "https://localhost:8080/",
          "height": 70
        },
        "outputId": "33c23d4b-94bb-4e23-857e-e7e0fb877e3a"
      },
      "cell_type": "code",
      "source": [
        "!cat a.data\n",
        "# ! -> 외부 명령\n",
        "# cat-> 타이프한 내용 보기 위한 리눅스 명령어"
      ],
      "execution_count": 37,
      "outputs": [
        {
          "output_type": "stream",
          "text": [
            "1.000000000000000000e+00 2.000000000000000000e+00 3.000000000000000000e+00\n",
            "4.000000000000000000e+00 5.000000000000000000e+00 6.000000000000000000e+00\n",
            "7.000000000000000000e+00 8.000000000000000000e+00 9.000000000000000000e+00\n"
          ],
          "name": "stdout"
        }
      ]
    },
    {
      "metadata": {
        "id": "S_N4MR3UUyj3",
        "colab_type": "code",
        "colab": {}
      },
      "cell_type": "code",
      "source": [
        "# np.savetxt\n",
        "\n",
        "# fmt: 형식을 지정 (주로 소수점 이하 자리수를 지정하는 용도로 사용)\n",
        "# delimiter로 주로 컴마(,)를 사용 (CSV 형식)\n",
        "\n",
        "np.savetxt(\"a.data\", ar, fmt='%.2f', delimiter=',', header='sample data', footer='', comments='# ')"
      ],
      "execution_count": 0,
      "outputs": []
    },
    {
      "metadata": {
        "id": "YFLC8RBEVEWO",
        "colab_type": "code",
        "colab": {
          "base_uri": "https://localhost:8080/",
          "height": 87
        },
        "outputId": "30c6a19e-b580-43ff-f4c8-0e83d05d4eb4"
      },
      "cell_type": "code",
      "source": [
        "!cat a.data"
      ],
      "execution_count": 39,
      "outputs": [
        {
          "output_type": "stream",
          "text": [
            "# sample data\n",
            "1.00,2.00,3.00\n",
            "4.00,5.00,6.00\n",
            "7.00,8.00,9.00\n"
          ],
          "name": "stdout"
        }
      ]
    },
    {
      "metadata": {
        "id": "jwtc7-G-VRoL",
        "colab_type": "code",
        "colab": {}
      },
      "cell_type": "code",
      "source": [
        "np.savetxt(\"a.csv\", ar, fmt='%.2f', delimiter=',')"
      ],
      "execution_count": 0,
      "outputs": []
    },
    {
      "metadata": {
        "id": "APAd80eIVWgb",
        "colab_type": "code",
        "colab": {
          "base_uri": "https://localhost:8080/",
          "height": 70
        },
        "outputId": "29314660-a86f-45d8-9eb1-88ace06b6744"
      },
      "cell_type": "code",
      "source": [
        "!cat a.csv"
      ],
      "execution_count": 41,
      "outputs": [
        {
          "output_type": "stream",
          "text": [
            "1.00,2.00,3.00\n",
            "4.00,5.00,6.00\n",
            "7.00,8.00,9.00\n"
          ],
          "name": "stdout"
        }
      ]
    },
    {
      "metadata": {
        "id": "PzBCZ-AoVaJz",
        "colab_type": "code",
        "colab": {
          "base_uri": "https://localhost:8080/",
          "height": 70
        },
        "outputId": "8d3a364f-2242-4b96-be52-e0aed90e5ddb"
      },
      "cell_type": "code",
      "source": [
        "# np.loadtxt()\n",
        "# delimiter로 주로 컴마(,)를 사용 (CSV 형식)\n",
        "\n",
        "ar = np.loadtxt(\"a.csv\", delimiter=',')\n",
        "ar"
      ],
      "execution_count": 43,
      "outputs": [
        {
          "output_type": "execute_result",
          "data": {
            "text/plain": [
              "array([[1., 2., 3.],\n",
              "       [4., 5., 6.],\n",
              "       [7., 8., 9.]])"
            ]
          },
          "metadata": {
            "tags": []
          },
          "execution_count": 43
        }
      ]
    },
    {
      "metadata": {
        "id": "fZNOdldhY8fM",
        "colab_type": "text"
      },
      "cell_type": "markdown",
      "source": [
        "#인덱스"
      ]
    },
    {
      "metadata": {
        "id": "wPyi4jDOVcok",
        "colab_type": "code",
        "colab": {
          "base_uri": "https://localhost:8080/",
          "height": 70
        },
        "outputId": "71290d40-860c-434b-83e2-5a7bde67d3b7"
      },
      "cell_type": "code",
      "source": [
        "import numpy as np\n",
        "\n",
        "ar = np.array( [[10, 20, 30], [60, 70, 80], [90, 91, 92]] )\n",
        "\n",
        "print (ar[1][2]) # 80\n",
        "print (ar[1,2]) # 80 동일\n",
        "print (ar[1,1]) # ar[1][1] 동일"
      ],
      "execution_count": 44,
      "outputs": [
        {
          "output_type": "stream",
          "text": [
            "80\n",
            "80\n",
            "70\n"
          ],
          "name": "stdout"
        }
      ]
    },
    {
      "metadata": {
        "id": "D8Gf406ZY-BL",
        "colab_type": "code",
        "colab": {
          "base_uri": "https://localhost:8080/",
          "height": 34
        },
        "outputId": "21bb0fcd-eb00-4eb4-dd33-e7118d90fd7c"
      },
      "cell_type": "code",
      "source": [
        "ar[0][1]"
      ],
      "execution_count": 45,
      "outputs": [
        {
          "output_type": "execute_result",
          "data": {
            "text/plain": [
              "20"
            ]
          },
          "metadata": {
            "tags": []
          },
          "execution_count": 45
        }
      ]
    },
    {
      "metadata": {
        "id": "lDVHz0YiZG2U",
        "colab_type": "code",
        "colab": {
          "base_uri": "https://localhost:8080/",
          "height": 34
        },
        "outputId": "37ddeb5e-afae-4a60-afb9-646f70680152"
      },
      "cell_type": "code",
      "source": [
        "ar[0,1]"
      ],
      "execution_count": 46,
      "outputs": [
        {
          "output_type": "execute_result",
          "data": {
            "text/plain": [
              "20"
            ]
          },
          "metadata": {
            "tags": []
          },
          "execution_count": 46
        }
      ]
    },
    {
      "metadata": {
        "id": "1DNndWVaZJu6",
        "colab_type": "code",
        "colab": {
          "base_uri": "https://localhost:8080/",
          "height": 34
        },
        "outputId": "6b9331f6-e078-4d59-afc6-a71fab5918c6"
      },
      "cell_type": "code",
      "source": [
        "ar[1]"
      ],
      "execution_count": 47,
      "outputs": [
        {
          "output_type": "execute_result",
          "data": {
            "text/plain": [
              "array([60, 70, 80])"
            ]
          },
          "metadata": {
            "tags": []
          },
          "execution_count": 47
        }
      ]
    },
    {
      "metadata": {
        "id": "LEe48PmPZN8x",
        "colab_type": "code",
        "colab": {
          "base_uri": "https://localhost:8080/",
          "height": 34
        },
        "outputId": "7bbab35a-392b-4de9-bc5e-0ccbb0687d55"
      },
      "cell_type": "code",
      "source": [
        "ar[1,-1]"
      ],
      "execution_count": 48,
      "outputs": [
        {
          "output_type": "execute_result",
          "data": {
            "text/plain": [
              "80"
            ]
          },
          "metadata": {
            "tags": []
          },
          "execution_count": 48
        }
      ]
    },
    {
      "metadata": {
        "id": "d9rLT12OZRSf",
        "colab_type": "code",
        "colab": {
          "base_uri": "https://localhost:8080/",
          "height": 70
        },
        "outputId": "49c56b23-d596-4b2c-b6a3-3d2907b5ef0a"
      },
      "cell_type": "code",
      "source": [
        "ar"
      ],
      "execution_count": 49,
      "outputs": [
        {
          "output_type": "execute_result",
          "data": {
            "text/plain": [
              "array([[10, 20, 30],\n",
              "       [60, 70, 80],\n",
              "       [90, 91, 92]])"
            ]
          },
          "metadata": {
            "tags": []
          },
          "execution_count": 49
        }
      ]
    },
    {
      "metadata": {
        "id": "uC5Gq3cGZX52",
        "colab_type": "code",
        "colab": {
          "base_uri": "https://localhost:8080/",
          "height": 70
        },
        "outputId": "65ec5d69-d038-41e5-cdaa-5cee4d2f3e38"
      },
      "cell_type": "code",
      "source": [
        "#모든 행 출력\n",
        "ar[:]"
      ],
      "execution_count": 51,
      "outputs": [
        {
          "output_type": "execute_result",
          "data": {
            "text/plain": [
              "array([[10, 20, 30],\n",
              "       [60, 70, 80],\n",
              "       [90, 91, 92]])"
            ]
          },
          "metadata": {
            "tags": []
          },
          "execution_count": 51
        }
      ]
    },
    {
      "metadata": {
        "id": "uEZjZCnVZu07",
        "colab_type": "text"
      },
      "cell_type": "markdown",
      "source": [
        "##a[행:열]"
      ]
    },
    {
      "metadata": {
        "id": "Pa1-bFZEZcqj",
        "colab_type": "code",
        "colab": {
          "base_uri": "https://localhost:8080/",
          "height": 34
        },
        "outputId": "33ac1f0b-e78a-4577-9b7d-b16c92de1316"
      },
      "cell_type": "code",
      "source": [
        "ar[:1,1:]"
      ],
      "execution_count": 53,
      "outputs": [
        {
          "output_type": "execute_result",
          "data": {
            "text/plain": [
              "array([[20, 30]])"
            ]
          },
          "metadata": {
            "tags": []
          },
          "execution_count": 53
        }
      ]
    },
    {
      "metadata": {
        "id": "KHJckRcyZsG9",
        "colab_type": "code",
        "colab": {}
      },
      "cell_type": "code",
      "source": [
        "# 0~1까지의 행중 [0] 행인 [10, 20, 30] 선택 -> 열에서 [1]인 숫자 20 부터 시작~ 끝이 설정되지 않았으므로, 30까지 출력"
      ],
      "execution_count": 0,
      "outputs": []
    },
    {
      "metadata": {
        "id": "n9OHnakxaTRU",
        "colab_type": "text"
      },
      "cell_type": "markdown",
      "source": [
        "# 슬라이싱"
      ]
    },
    {
      "metadata": {
        "id": "LPABpBBEaDHp",
        "colab_type": "code",
        "colab": {
          "base_uri": "https://localhost:8080/",
          "height": 87
        },
        "outputId": "f22322be-3070-4da9-a12d-1a365d1faa33"
      },
      "cell_type": "code",
      "source": [
        "ar = np.arange(0,16).reshape((4,4))\n",
        "ar"
      ],
      "execution_count": 57,
      "outputs": [
        {
          "output_type": "execute_result",
          "data": {
            "text/plain": [
              "array([[ 0,  1,  2,  3],\n",
              "       [ 4,  5,  6,  7],\n",
              "       [ 8,  9, 10, 11],\n",
              "       [12, 13, 14, 15]])"
            ]
          },
          "metadata": {
            "tags": []
          },
          "execution_count": 57
        }
      ]
    },
    {
      "metadata": {
        "id": "VrWRtaDxaWJQ",
        "colab_type": "code",
        "colab": {
          "base_uri": "https://localhost:8080/",
          "height": 158
        },
        "outputId": "5da11a48-ee94-453a-e01f-8073403cfb3b"
      },
      "cell_type": "code",
      "source": [
        "print (ar)\n",
        "print ('~' * 40)\n",
        "print (ar[0])\n",
        "print ('~' * 40)\n",
        "print (ar[1,1])"
      ],
      "execution_count": 58,
      "outputs": [
        {
          "output_type": "stream",
          "text": [
            "[[ 0  1  2  3]\n",
            " [ 4  5  6  7]\n",
            " [ 8  9 10 11]\n",
            " [12 13 14 15]]\n",
            "~~~~~~~~~~~~~~~~~~~~~~~~~~~~~~~~~~~~~~~~\n",
            "[0 1 2 3]\n",
            "~~~~~~~~~~~~~~~~~~~~~~~~~~~~~~~~~~~~~~~~\n",
            "5\n"
          ],
          "name": "stdout"
        }
      ]
    },
    {
      "metadata": {
        "id": "IYHr4yBNaYhD",
        "colab_type": "code",
        "colab": {
          "base_uri": "https://localhost:8080/",
          "height": 175
        },
        "outputId": "8475f180-b648-4186-cbc9-b236db4e8a60"
      },
      "cell_type": "code",
      "source": [
        "print (ar)\n",
        "print ('~' * 40)\n",
        "\n",
        "ar[2, :2] = 99 # 값 바꾸기\n",
        "print (ar)"
      ],
      "execution_count": 59,
      "outputs": [
        {
          "output_type": "stream",
          "text": [
            "[[ 0  1  2  3]\n",
            " [ 4  5  6  7]\n",
            " [ 8  9 10 11]\n",
            " [12 13 14 15]]\n",
            "~~~~~~~~~~~~~~~~~~~~~~~~~~~~~~~~~~~~~~~~\n",
            "[[ 0  1  2  3]\n",
            " [ 4  5  6  7]\n",
            " [99 99 10 11]\n",
            " [12 13 14 15]]\n"
          ],
          "name": "stdout"
        }
      ]
    },
    {
      "metadata": {
        "id": "FZw8LPBBa_oh",
        "colab_type": "text"
      },
      "cell_type": "markdown",
      "source": [
        "#다양한 슬라이싱\n"
      ]
    },
    {
      "metadata": {
        "id": "Vgl7INhRcII6",
        "colab_type": "text"
      },
      "cell_type": "markdown",
      "source": [
        "![대체 텍스트](http://i.imgur.com/AAYMAEO.png)"
      ]
    },
    {
      "metadata": {
        "id": "rCuAaayvahLR",
        "colab_type": "code",
        "colab": {
          "base_uri": "https://localhost:8080/",
          "height": 87
        },
        "outputId": "8037cf4e-8fe7-4e38-dfdd-d219d2bed69d"
      },
      "cell_type": "code",
      "source": [
        "ar = np.arange(0,16).reshape((4,4))\n",
        "\n",
        "ar[:]         # ar의 모든  row (= ar)\n",
        "ar[0]        # row 0\n",
        "ar[1]        # row 1\n",
        "ar[:,1]      # col 1\n",
        "ar[1:]       # row 1 이후, ar[1:,] 혹은 ar[1:,:] 와 동일한 표현\n",
        "ar[:2]       # row 0~1\n",
        "ar[:2,1:]   # row 0~1, col 1 이후 \n",
        "ar[:2,:2]   # row 0~1, col 0~1\n",
        "ar[2,:2]    # row 2, col 0~1\n",
        "ar[:,2]      # col 2\n",
        "ar[:,1:3]   # col 1~2"
      ],
      "execution_count": 60,
      "outputs": [
        {
          "output_type": "execute_result",
          "data": {
            "text/plain": [
              "array([[ 1,  2],\n",
              "       [ 5,  6],\n",
              "       [ 9, 10],\n",
              "       [13, 14]])"
            ]
          },
          "metadata": {
            "tags": []
          },
          "execution_count": 60
        }
      ]
    },
    {
      "metadata": {
        "id": "wfWAKlw1bKGe",
        "colab_type": "text"
      },
      "cell_type": "markdown",
      "source": [
        "#ndarry 연산\n",
        "\n",
        "\n",
        "##연산 (브로드캐스팅)"
      ]
    },
    {
      "metadata": {
        "id": "7EE-lSZEa_HL",
        "colab_type": "code",
        "colab": {
          "base_uri": "https://localhost:8080/",
          "height": 175
        },
        "outputId": "72159008-d4f3-4ce5-f826-e1733afa8e9a"
      },
      "cell_type": "code",
      "source": [
        "ar = np.array([[0, 1, 2], [10, 11, 12], [20, 21, 22], [30, 31, 32]])\n",
        "print (ar)\n",
        "print ('~' * 40)\n",
        "\n",
        "p = ar * 10\n",
        "print (p)"
      ],
      "execution_count": 61,
      "outputs": [
        {
          "output_type": "stream",
          "text": [
            "[[ 0  1  2]\n",
            " [10 11 12]\n",
            " [20 21 22]\n",
            " [30 31 32]]\n",
            "~~~~~~~~~~~~~~~~~~~~~~~~~~~~~~~~~~~~~~~~\n",
            "[[  0  10  20]\n",
            " [100 110 120]\n",
            " [200 210 220]\n",
            " [300 310 320]]\n"
          ],
          "name": "stdout"
        }
      ]
    },
    {
      "metadata": {
        "id": "Fuw7CU5FbbQY",
        "colab_type": "text"
      },
      "cell_type": "markdown",
      "source": [
        "##브로드캐스팅 계산 방법\n",
        "\n",
        "* 작은 쪽을 기준으로, 큰 쪽의 행렬 크기로 만들어서 채워넣는다.\n",
        "* 같은 위치끼리 계산"
      ]
    },
    {
      "metadata": {
        "id": "ga6M-4r3b8IY",
        "colab_type": "text"
      },
      "cell_type": "markdown",
      "source": [
        "![대체 텍스트](https://i.imgur.com/lxuY7cr.png)"
      ]
    },
    {
      "metadata": {
        "id": "CCWJFA_3b4mo",
        "colab_type": "text"
      },
      "cell_type": "markdown",
      "source": [
        "![대체 텍스트](http://i.imgur.com/Rj1ML5O.jpg)"
      ]
    },
    {
      "metadata": {
        "id": "GO-FXUXfbXMW",
        "colab_type": "code",
        "colab": {
          "base_uri": "https://localhost:8080/",
          "height": 351
        },
        "outputId": "1ec9fd3c-8e58-4551-fd81-7e8c10ce9f68"
      },
      "cell_type": "code",
      "source": [
        "ar = np.array([[0, 1, 2], [10, 11, 12], [20, 21, 22], [30, 31, 32]])\n",
        "print (ar)\n",
        "\n",
        "print ('~' * 40)\n",
        "p = ar + np.array([[0, 1, 2]])\n",
        "print (p)\n",
        "\n",
        "print ('~' * 40)\n",
        "p = ar + np.array([[0], [1], [2], [3]])\n",
        "print (p)\n",
        "\n",
        "print ('~' * 40)\n",
        "p = np.array([[0], [10], [20], [30]]) + np.array([[0, 1, 2]])\n",
        "print (p)"
      ],
      "execution_count": 62,
      "outputs": [
        {
          "output_type": "stream",
          "text": [
            "[[ 0  1  2]\n",
            " [10 11 12]\n",
            " [20 21 22]\n",
            " [30 31 32]]\n",
            "~~~~~~~~~~~~~~~~~~~~~~~~~~~~~~~~~~~~~~~~\n",
            "[[ 0  2  4]\n",
            " [10 12 14]\n",
            " [20 22 24]\n",
            " [30 32 34]]\n",
            "~~~~~~~~~~~~~~~~~~~~~~~~~~~~~~~~~~~~~~~~\n",
            "[[ 0  1  2]\n",
            " [11 12 13]\n",
            " [22 23 24]\n",
            " [33 34 35]]\n",
            "~~~~~~~~~~~~~~~~~~~~~~~~~~~~~~~~~~~~~~~~\n",
            "[[ 0  1  2]\n",
            " [10 11 12]\n",
            " [20 21 22]\n",
            " [30 31 32]]\n"
          ],
          "name": "stdout"
        }
      ]
    },
    {
      "metadata": {
        "id": "X-1HX6n8cOlZ",
        "colab_type": "text"
      },
      "cell_type": "markdown",
      "source": [
        "# 슬라이싱 예제"
      ]
    },
    {
      "metadata": {
        "id": "ryvXrPSJbfKS",
        "colab_type": "code",
        "colab": {
          "base_uri": "https://localhost:8080/",
          "height": 105
        },
        "outputId": "5578c77b-4ef9-4919-f6be-0ea642ad2d55"
      },
      "cell_type": "code",
      "source": [
        "ar = np.zeros((5,5))\n",
        "v = ar[1:-1,1:-1]\n",
        "\n",
        "print(ar)"
      ],
      "execution_count": 67,
      "outputs": [
        {
          "output_type": "stream",
          "text": [
            "[[0. 0. 0. 0. 0.]\n",
            " [0. 0. 0. 0. 0.]\n",
            " [0. 0. 0. 0. 0.]\n",
            " [0. 0. 0. 0. 0.]\n",
            " [0. 0. 0. 0. 0.]]\n"
          ],
          "name": "stdout"
        }
      ]
    },
    {
      "metadata": {
        "id": "2rJnWr2acRUa",
        "colab_type": "code",
        "colab": {
          "base_uri": "https://localhost:8080/",
          "height": 105
        },
        "outputId": "7b0e56b0-8ddc-4107-ee4d-d5a50d973cac"
      },
      "cell_type": "code",
      "source": [
        "v = ar[1:-1,1:-1]\n",
        "\n",
        "# 1. 가운데 3줄 선택\n",
        "# 2. 3줄 안에서 가운데 세로 3줄 부분만 남기기\n",
        "\n",
        "v[:] = 1\n",
        "# v의 범위가 가운데 1로 씌여져서 출력 됨\n",
        "\n",
        "ar"
      ],
      "execution_count": 71,
      "outputs": [
        {
          "output_type": "execute_result",
          "data": {
            "text/plain": [
              "array([[0., 0., 0., 0., 0.],\n",
              "       [0., 1., 1., 1., 0.],\n",
              "       [0., 1., 1., 1., 0.],\n",
              "       [0., 1., 1., 1., 0.],\n",
              "       [0., 0., 0., 0., 0.]])"
            ]
          },
          "metadata": {
            "tags": []
          },
          "execution_count": 71
        }
      ]
    },
    {
      "metadata": {
        "id": "g_Qvqgz0dUqY",
        "colab_type": "code",
        "colab": {}
      },
      "cell_type": "code",
      "source": [
        "# v=1 -> 1이라는 객체를 참조한다는 의미로, 위의 v[:] = 1와는 완전히 다른 것."
      ],
      "execution_count": 0,
      "outputs": []
    },
    {
      "metadata": {
        "id": "DkB6eQTpdnE2",
        "colab_type": "code",
        "colab": {}
      },
      "cell_type": "code",
      "source": [
        "# v와 ar을 따로 만들고 싶을때\n",
        "\n",
        "v = ar[1:-1,1:-1].copy()\n",
        "\n",
        "\n",
        "v[:] = 1"
      ],
      "execution_count": 0,
      "outputs": []
    },
    {
      "metadata": {
        "id": "HpJGkp69dQSL",
        "colab_type": "text"
      },
      "cell_type": "markdown",
      "source": [
        "# 다양한 슬라이싱"
      ]
    },
    {
      "metadata": {
        "id": "rFASkqWudOI8",
        "colab_type": "text"
      },
      "cell_type": "markdown",
      "source": [
        "![대체 텍스트](http://i.imgur.com/KCnnlMh.png)"
      ]
    },
    {
      "metadata": {
        "id": "lipRbbbPd8uh",
        "colab_type": "text"
      },
      "cell_type": "markdown",
      "source": [
        "## :: 의 의미\n",
        "\n",
        "ar [from : to : step]\n",
        "\n",
        "Ex] [2::2, ::2] -> 2 부터끝까지 2줄씩 끊기 & 칸은 처음 부터 끝까지 2칸씩 끊기"
      ]
    },
    {
      "metadata": {
        "id": "nH5050z2eg_z",
        "colab_type": "text"
      },
      "cell_type": "markdown",
      "source": [
        "# view&copy"
      ]
    },
    {
      "metadata": {
        "id": "_6BfGHYDcpf_",
        "colab_type": "code",
        "colab": {
          "base_uri": "https://localhost:8080/",
          "height": 70
        },
        "outputId": "4728377c-9e92-477b-e376-ac1d1d1fab6d"
      },
      "cell_type": "code",
      "source": [
        "ar = np.array([[10, 20, 30], [60, 70, 80], [90, 91, 92]])\n",
        "v = ar[1]\n",
        "v[:] = 50 # v 배열 전체 요소에 20을 할당\n",
        "\n",
        "#  v는 ar의 뷰, v의 값을 변경하는 것은 ar의 값을 변경\n",
        "print(ar)"
      ],
      "execution_count": 73,
      "outputs": [
        {
          "output_type": "stream",
          "text": [
            "[[10 20 30]\n",
            " [50 50 50]\n",
            " [90 91 92]]\n"
          ],
          "name": "stdout"
        }
      ]
    },
    {
      "metadata": {
        "id": "Oraw5MEUejuY",
        "colab_type": "code",
        "colab": {
          "base_uri": "https://localhost:8080/",
          "height": 70
        },
        "outputId": "eaa2aa9a-d53c-40ef-d11e-9b347cd6ac6d"
      },
      "cell_type": "code",
      "source": [
        "# ar과 v를 완전히 다른 객체로 만드려면 copy를 사용\n",
        "\n",
        "ar = np.array([[10, 20, 30], [60, 70, 80], [90, 91, 92]])\n",
        "v = ar[1].copy()\n",
        "v[:] = 50 # v 배열 전체 요소에 20을 할당\n",
        "\n",
        "#  v는 ar의 뷰, v의 값을 변경하는 것은 ar의 값을 변경\n",
        "print(ar)"
      ],
      "execution_count": 74,
      "outputs": [
        {
          "output_type": "stream",
          "text": [
            "[[10 20 30]\n",
            " [60 70 80]\n",
            " [90 91 92]]\n"
          ],
          "name": "stdout"
        }
      ]
    },
    {
      "metadata": {
        "id": "nAbaD-l4elym",
        "colab_type": "code",
        "colab": {
          "base_uri": "https://localhost:8080/",
          "height": 34
        },
        "outputId": "2d540773-c17e-4388-ab97-a8486edf9264"
      },
      "cell_type": "code",
      "source": [
        "v"
      ],
      "execution_count": 77,
      "outputs": [
        {
          "output_type": "execute_result",
          "data": {
            "text/plain": [
              "array([[1]])"
            ]
          },
          "metadata": {
            "tags": []
          },
          "execution_count": 77
        }
      ]
    },
    {
      "metadata": {
        "id": "Tvof15SoextD",
        "colab_type": "text"
      },
      "cell_type": "markdown",
      "source": [
        "#불리언 인덱싱 (Boolean indexing)"
      ]
    },
    {
      "metadata": {
        "id": "xX0QlACket7o",
        "colab_type": "code",
        "colab": {
          "base_uri": "https://localhost:8080/",
          "height": 34
        },
        "outputId": "3614b69b-b3ab-4d0f-97bd-ac21bfaaf998"
      },
      "cell_type": "code",
      "source": [
        "city = np.array(['newyork', 'seoul', 'shanghai', 'tokyo', 'london'])\n",
        "val = np.array([10, 20, 30, 40, 50])\n",
        "\n",
        "city == 'seoul'         # array([False, True, False, False, False], dtype=bool)\n",
        "val[city == 'seoul']   # array([20])\n",
        "city[val >= 30]         # array(['shanghai', 'tokyo', 'london'], dtype='<U8')\n",
        "city[city != 'tokyo']    # array(['newyork', 'seoul', 'shanghai', 'london']\n",
        "\n",
        "mask = (city == 'shanghai') | (city == 'london')\n",
        "val[mask]                # array([30, 50])"
      ],
      "execution_count": 78,
      "outputs": [
        {
          "output_type": "execute_result",
          "data": {
            "text/plain": [
              "array([30, 50])"
            ]
          },
          "metadata": {
            "tags": []
          },
          "execution_count": 78
        }
      ]
    },
    {
      "metadata": {
        "id": "osPZr08ye1xQ",
        "colab_type": "code",
        "colab": {
          "base_uri": "https://localhost:8080/",
          "height": 34
        },
        "outputId": "efd75f95-b6ca-4fbc-cb7e-7a15f77648c3"
      },
      "cell_type": "code",
      "source": [
        "# 0 이하를 모두 0으로 만들기\n",
        "x = np.array([-2, 0, 4, 6, -8, 5, 9, 2])\n",
        "x[x < 0] = 0 \n",
        "\n",
        "x"
      ],
      "execution_count": 79,
      "outputs": [
        {
          "output_type": "execute_result",
          "data": {
            "text/plain": [
              "array([0, 0, 4, 6, 0, 5, 9, 2])"
            ]
          },
          "metadata": {
            "tags": []
          },
          "execution_count": 79
        }
      ]
    },
    {
      "metadata": {
        "id": "X5c1wHHAe6kt",
        "colab_type": "code",
        "colab": {}
      },
      "cell_type": "code",
      "source": [
        "city = np.array(['newyork', 'seoul', 'shanghai', 'tokyo', 'london'])\n",
        "val = np.array([10, 20, 30, 40, 50]) #각 도시 별 점심값"
      ],
      "execution_count": 0,
      "outputs": []
    },
    {
      "metadata": {
        "id": "NxxjiBgOfA24",
        "colab_type": "code",
        "colab": {
          "base_uri": "https://localhost:8080/",
          "height": 34
        },
        "outputId": "56a84cf2-71e8-4a52-80ca-075da2226088"
      },
      "cell_type": "code",
      "source": [
        "city =='seoul'"
      ],
      "execution_count": 82,
      "outputs": [
        {
          "output_type": "execute_result",
          "data": {
            "text/plain": [
              "array([False,  True, False, False, False])"
            ]
          },
          "metadata": {
            "tags": []
          },
          "execution_count": 82
        }
      ]
    },
    {
      "metadata": {
        "id": "MRfTI84gfGaP",
        "colab_type": "code",
        "colab": {}
      },
      "cell_type": "code",
      "source": [
        "# 위의 방법으로 인해 seoul이 5개에 저장되어 비교되기 때문에 이렇게 결과가 나온다.(비교연산도 브로드캐스팅됨)"
      ],
      "execution_count": 0,
      "outputs": []
    },
    {
      "metadata": {
        "id": "MPvZOjDbfSe6",
        "colab_type": "code",
        "colab": {
          "base_uri": "https://localhost:8080/",
          "height": 34
        },
        "outputId": "87864582-9128-456e-cac0-b335ee3c8063"
      },
      "cell_type": "code",
      "source": [
        "#bolean값을 val에 넣으면, 참인 내용의  위치 숫자만 출력. -> 20이 나온다.\n",
        "\n",
        "# 즉, Q.도시가 서울 일때의 점심값은?\n",
        "val[city =='seoul']"
      ],
      "execution_count": 87,
      "outputs": [
        {
          "output_type": "execute_result",
          "data": {
            "text/plain": [
              "array([20])"
            ]
          },
          "metadata": {
            "tags": []
          },
          "execution_count": 87
        }
      ]
    },
    {
      "metadata": {
        "id": "dBsDT2eRfjXy",
        "colab_type": "code",
        "colab": {
          "base_uri": "https://localhost:8080/",
          "height": 34
        },
        "outputId": "3b168060-b4a0-48ed-8fe3-5747fef888db"
      },
      "cell_type": "code",
      "source": [
        "# Q. 30달러 이상인 점심값을 가진 도시들은?\n",
        "city[val>=30]"
      ],
      "execution_count": 90,
      "outputs": [
        {
          "output_type": "execute_result",
          "data": {
            "text/plain": [
              "array(['shanghai', 'tokyo', 'london'], dtype='<U8')"
            ]
          },
          "metadata": {
            "tags": []
          },
          "execution_count": 90
        }
      ]
    },
    {
      "metadata": {
        "id": "Nk0FYUWwf-f1",
        "colab_type": "code",
        "colab": {
          "base_uri": "https://localhost:8080/",
          "height": 34
        },
        "outputId": "cb9f2d14-8714-4db0-a55c-9533bc8f8034"
      },
      "cell_type": "code",
      "source": [
        "# Q. 도시 중에 도쿄를 제외하고 모두 출력하라.\n",
        "city[city != 'tokyo']"
      ],
      "execution_count": 91,
      "outputs": [
        {
          "output_type": "execute_result",
          "data": {
            "text/plain": [
              "array(['newyork', 'seoul', 'shanghai', 'london'], dtype='<U8')"
            ]
          },
          "metadata": {
            "tags": []
          },
          "execution_count": 91
        }
      ]
    },
    {
      "metadata": {
        "id": "bupECd8QgPnJ",
        "colab_type": "code",
        "colab": {
          "base_uri": "https://localhost:8080/",
          "height": 34
        },
        "outputId": "b7682e08-c5c4-416d-a829-7755675ecab4"
      },
      "cell_type": "code",
      "source": [
        "# 상하이랑 런던만 추출\n",
        "mask = (city == 'shanghai') | (city == 'london')\n",
        "\n",
        "# 이 두 도시의 점심값만 추출\n",
        "val[mask]"
      ],
      "execution_count": 92,
      "outputs": [
        {
          "output_type": "execute_result",
          "data": {
            "text/plain": [
              "array([30, 50])"
            ]
          },
          "metadata": {
            "tags": []
          },
          "execution_count": 92
        }
      ]
    },
    {
      "metadata": {
        "id": "OFnTuqW2ge1G",
        "colab_type": "code",
        "colab": {
          "base_uri": "https://localhost:8080/",
          "height": 34
        },
        "outputId": "59cc18c7-570b-4c21-b18a-972095aea1e6"
      },
      "cell_type": "code",
      "source": [
        "x = np.array([-2, 0, 4, 6, -8, 5, 9, 2])\n",
        "\n",
        "# 데이터 중에 0보다 작은 것은 모두 0으로 만들어라.\n",
        "x[x < 0] = 0 \n",
        "\n",
        "x"
      ],
      "execution_count": 94,
      "outputs": [
        {
          "output_type": "execute_result",
          "data": {
            "text/plain": [
              "array([0, 0, 4, 6, 0, 5, 9, 2])"
            ]
          },
          "metadata": {
            "tags": []
          },
          "execution_count": 94
        }
      ]
    },
    {
      "metadata": {
        "id": "Op_Jzd5vhE4P",
        "colab_type": "text"
      },
      "cell_type": "markdown",
      "source": [
        "#팬시 인덱싱 (fancy indexing)\n",
        "\n",
        "* 정수 리스트(혹은 배열)를 이용하여 여러 개를 동시에 선택\n",
        "* 팬시 인덱싱은 복사가 일어난다.\n",
        "* ar[[3,4,5,2,0]] # 지정된 행을 순서대로 추출"
      ]
    },
    {
      "metadata": {
        "id": "iA3Vms1lgy_p",
        "colab_type": "code",
        "colab": {
          "base_uri": "https://localhost:8080/",
          "height": 122
        },
        "outputId": "cff3f00e-17fd-4260-fc53-83b68aac3eea"
      },
      "cell_type": "code",
      "source": [
        "ar = np.array([[0], [10], [20], [30], [40], [50]]) + np.array([[0, 1, 2, 3, 4, 5]])\n",
        "ar"
      ],
      "execution_count": 95,
      "outputs": [
        {
          "output_type": "execute_result",
          "data": {
            "text/plain": [
              "array([[ 0,  1,  2,  3,  4,  5],\n",
              "       [10, 11, 12, 13, 14, 15],\n",
              "       [20, 21, 22, 23, 24, 25],\n",
              "       [30, 31, 32, 33, 34, 35],\n",
              "       [40, 41, 42, 43, 44, 45],\n",
              "       [50, 51, 52, 53, 54, 55]])"
            ]
          },
          "metadata": {
            "tags": []
          },
          "execution_count": 95
        }
      ]
    },
    {
      "metadata": {
        "id": "H5ijDwSMhLud",
        "colab_type": "code",
        "colab": {
          "base_uri": "https://localhost:8080/",
          "height": 70
        },
        "outputId": "e2e9f458-c9a4-4164-f67e-8b7dc3f726b2"
      },
      "cell_type": "code",
      "source": [
        "ar[[0, 2, -1]]   # 지정한 row 얻기 -> 순서대로"
      ],
      "execution_count": 96,
      "outputs": [
        {
          "output_type": "execute_result",
          "data": {
            "text/plain": [
              "array([[ 0,  1,  2,  3,  4,  5],\n",
              "       [20, 21, 22, 23, 24, 25],\n",
              "       [50, 51, 52, 53, 54, 55]])"
            ]
          },
          "metadata": {
            "tags": []
          },
          "execution_count": 96
        }
      ]
    },
    {
      "metadata": {
        "id": "vKP2pKkyhOMs",
        "colab_type": "code",
        "colab": {
          "base_uri": "https://localhost:8080/",
          "height": 122
        },
        "outputId": "222bfdd6-4704-4897-bbb7-4848c3563d86"
      },
      "cell_type": "code",
      "source": [
        "ar[:, [0, 2, -1]]  # 지정한 column 얻기 -> 순서대로"
      ],
      "execution_count": 97,
      "outputs": [
        {
          "output_type": "execute_result",
          "data": {
            "text/plain": [
              "array([[ 0,  2,  5],\n",
              "       [10, 12, 15],\n",
              "       [20, 22, 25],\n",
              "       [30, 32, 35],\n",
              "       [40, 42, 45],\n",
              "       [50, 52, 55]])"
            ]
          },
          "metadata": {
            "tags": []
          },
          "execution_count": 97
        }
      ]
    },
    {
      "metadata": {
        "id": "NJJa1CJEhhUJ",
        "colab_type": "text"
      },
      "cell_type": "markdown",
      "source": [
        "#Numpy for Finance 03 - 기본 통계량과 시뮬레이션"
      ]
    },
    {
      "metadata": {
        "id": "vOAKoCChiLjL",
        "colab_type": "text"
      },
      "cell_type": "markdown",
      "source": [
        "##소트"
      ]
    },
    {
      "metadata": {
        "id": "vAr6B3Iih-I3",
        "colab_type": "code",
        "colab": {
          "base_uri": "https://localhost:8080/",
          "height": 34
        },
        "outputId": "7edcb0c5-9bd2-466e-bc0b-8da82c6ebbdd"
      },
      "cell_type": "code",
      "source": [
        "import numpy as np\n",
        "\n",
        "ar = np.random.randint(0,10,5)\n",
        "ar"
      ],
      "execution_count": 102,
      "outputs": [
        {
          "output_type": "execute_result",
          "data": {
            "text/plain": [
              "array([5, 4, 9, 9, 7])"
            ]
          },
          "metadata": {
            "tags": []
          },
          "execution_count": 102
        }
      ]
    },
    {
      "metadata": {
        "id": "MSMJdsUZhsdE",
        "colab_type": "text"
      },
      "cell_type": "markdown",
      "source": [
        "##소트 - 분위수 구하기"
      ]
    },
    {
      "metadata": {
        "id": "Ey8TVgRYhVpU",
        "colab_type": "code",
        "colab": {
          "base_uri": "https://localhost:8080/",
          "height": 34
        },
        "outputId": "199f63bf-9de5-40b3-9fd9-7c5d754ba283"
      },
      "cell_type": "code",
      "source": [
        "#상위 25%가 되려면 몇 점 이상이어야 할까?\n",
        "\n",
        "a = np.random.randn(100) * 100 #임의로 100개의 점수\n",
        "a.sort()\n",
        "a[int(0.75 * len(a))]# 75% 분위수"
      ],
      "execution_count": 104,
      "outputs": [
        {
          "output_type": "execute_result",
          "data": {
            "text/plain": [
              "55.99772262036857"
            ]
          },
          "metadata": {
            "tags": []
          },
          "execution_count": 104
        }
      ]
    },
    {
      "metadata": {
        "id": "QX8ZIfwIiRSx",
        "colab_type": "text"
      },
      "cell_type": "markdown",
      "source": [
        "##통계량\n",
        "* np.mean(ar), ar.mean(): 산술평균\n",
        "* ar.mean(axis=1): 한단계 낮은 차원의 배열 반환\n",
        "* arr.sum(0): 0은 축"
      ]
    },
    {
      "metadata": {
        "id": "v-zP7xqUiXhu",
        "colab_type": "text"
      },
      "cell_type": "markdown",
      "source": [
        "##2D 배열\n",
        "   \n",
        "   ar.cumsum(0)\n",
        "   \n",
        "   ar.cumprod(1)"
      ]
    },
    {
      "metadata": {
        "id": "8PSvD4SjhvKM",
        "colab_type": "code",
        "colab": {
          "base_uri": "https://localhost:8080/",
          "height": 70
        },
        "outputId": "8680948e-4422-44ce-ac4d-8579658aef43"
      },
      "cell_type": "code",
      "source": [
        "ar = np.arange(1,10).reshape(3,3)\n",
        "ar"
      ],
      "execution_count": 105,
      "outputs": [
        {
          "output_type": "execute_result",
          "data": {
            "text/plain": [
              "array([[1, 2, 3],\n",
              "       [4, 5, 6],\n",
              "       [7, 8, 9]])"
            ]
          },
          "metadata": {
            "tags": []
          },
          "execution_count": 105
        }
      ]
    },
    {
      "metadata": {
        "id": "UoAjGU3eisaa",
        "colab_type": "code",
        "colab": {
          "base_uri": "https://localhost:8080/",
          "height": 70
        },
        "outputId": "417e1c55-0574-48ca-9011-1695d3492330"
      },
      "cell_type": "code",
      "source": [
        "#행으로 누적 덧셈\n",
        "ar.cumsum(0)"
      ],
      "execution_count": 106,
      "outputs": [
        {
          "output_type": "execute_result",
          "data": {
            "text/plain": [
              "array([[ 1,  2,  3],\n",
              "       [ 5,  7,  9],\n",
              "       [12, 15, 18]])"
            ]
          },
          "metadata": {
            "tags": []
          },
          "execution_count": 106
        }
      ]
    },
    {
      "metadata": {
        "id": "vySs4jdcixUj",
        "colab_type": "code",
        "colab": {
          "base_uri": "https://localhost:8080/",
          "height": 70
        },
        "outputId": "4e2e760b-019b-466c-b894-5d9c87160a9c"
      },
      "cell_type": "code",
      "source": [
        "# 열로 누적 덧셈\n",
        "ar.cumsum(1)"
      ],
      "execution_count": 107,
      "outputs": [
        {
          "output_type": "execute_result",
          "data": {
            "text/plain": [
              "array([[ 1,  3,  6],\n",
              "       [ 4,  9, 15],\n",
              "       [ 7, 15, 24]])"
            ]
          },
          "metadata": {
            "tags": []
          },
          "execution_count": 107
        }
      ]
    },
    {
      "metadata": {
        "id": "oI6mVbyWi1CG",
        "colab_type": "code",
        "colab": {
          "base_uri": "https://localhost:8080/",
          "height": 87
        },
        "outputId": "be1943d7-fbc7-4414-8620-6997b680731d"
      },
      "cell_type": "code",
      "source": [
        "ar = np.arange(1,21).reshape(4,5)\n",
        "print(ar)"
      ],
      "execution_count": 108,
      "outputs": [
        {
          "output_type": "stream",
          "text": [
            "[[ 1  2  3  4  5]\n",
            " [ 6  7  8  9 10]\n",
            " [11 12 13 14 15]\n",
            " [16 17 18 19 20]]\n"
          ],
          "name": "stdout"
        }
      ]
    },
    {
      "metadata": {
        "id": "L1WQqt3hi93r",
        "colab_type": "code",
        "colab": {
          "base_uri": "https://localhost:8080/",
          "height": 70
        },
        "outputId": "d956c2c0-96ed-4bb2-a06c-c47b694bd14b"
      },
      "cell_type": "code",
      "source": [
        "p = ar.mean()\n",
        "print(\"ar.mean() \", p)\n",
        "\n",
        "# 행으로 평균 내기\n",
        "p = ar.mean(axis=0)\n",
        "print(\"ar.mean(axis=0) \", p)\n",
        "\n",
        "#열로 평균내기 -> \n",
        "p = ar.mean(axis=1)\n",
        "print(\"ar.mean(axis=1) \", p)"
      ],
      "execution_count": 109,
      "outputs": [
        {
          "output_type": "stream",
          "text": [
            "ar.mean()  10.5\n",
            "ar.mean(axis=0)  [ 8.5  9.5 10.5 11.5 12.5]\n",
            "ar.mean(axis=1)  [ 3.  8. 13. 18.]\n"
          ],
          "name": "stdout"
        }
      ]
    },
    {
      "metadata": {
        "id": "XrsPJWuIjVHq",
        "colab_type": "text"
      },
      "cell_type": "markdown",
      "source": [
        "##정규화\n",
        "\n",
        "\n",
        "시작 행을 0으로 만들기 (초기값 대비 등락 관찰)"
      ]
    },
    {
      "metadata": {
        "id": "c7c5J168i-rv",
        "colab_type": "code",
        "colab": {
          "base_uri": "https://localhost:8080/",
          "height": 70
        },
        "outputId": "e5e34af6-5622-42c7-a4a6-3470c8ada148"
      },
      "cell_type": "code",
      "source": [
        "a = np.array( [[10,  20, 30], [15, 48, 30], [5, 4, 60]] )\n",
        "a"
      ],
      "execution_count": 110,
      "outputs": [
        {
          "output_type": "execute_result",
          "data": {
            "text/plain": [
              "array([[10, 20, 30],\n",
              "       [15, 48, 30],\n",
              "       [ 5,  4, 60]])"
            ]
          },
          "metadata": {
            "tags": []
          },
          "execution_count": 110
        }
      ]
    },
    {
      "metadata": {
        "id": "RyUIvz7jjvlv",
        "colab_type": "text"
      },
      "cell_type": "markdown",
      "source": [
        "## 정규화 예제 ★"
      ]
    },
    {
      "metadata": {
        "id": "4DnIsELkjWia",
        "colab_type": "code",
        "colab": {
          "base_uri": "https://localhost:8080/",
          "height": 70
        },
        "outputId": "4c77fe32-adcc-4400-d5bd-b2f1bd912d3d"
      },
      "cell_type": "code",
      "source": [
        "n = a/a[0, :] - 1\n",
        "\n",
        "# a 행렬 전체 / [10,20,30] 하기 - 모든 값에 1빼기\n",
        "\n",
        "n\n",
        "\n",
        "\n",
        "# 어떤 값을 비교하기 위해 0을 만들어서 많이 사용."
      ],
      "execution_count": 113,
      "outputs": [
        {
          "output_type": "execute_result",
          "data": {
            "text/plain": [
              "array([[ 0. ,  0. ,  0. ],\n",
              "       [ 0.5,  1.4,  0. ],\n",
              "       [-0.5, -0.8,  1. ]])"
            ]
          },
          "metadata": {
            "tags": []
          },
          "execution_count": 113
        }
      ]
    },
    {
      "metadata": {
        "id": "e-2wV9HvkKlF",
        "colab_type": "text"
      },
      "cell_type": "markdown",
      "source": [
        "## 랜덤 배열 생성"
      ]
    },
    {
      "metadata": {
        "id": "r1OVEOgmjlJZ",
        "colab_type": "code",
        "colab": {
          "base_uri": "https://localhost:8080/",
          "height": 347
        },
        "outputId": "c6fd822d-ff60-4ce8-f4bc-df3844d8b23d"
      },
      "cell_type": "code",
      "source": [
        "import matplotlib.pyplot as plt\n",
        "\n",
        "# 랜덤 숫자로 채워진 ndarray를 생성\n",
        "ar_x = np.random.rand(400)\n",
        "ar_y = np.random.rand(400)\n",
        "plt.plot(ar_x, ar_y, 'o')\n",
        "plt.show()"
      ],
      "execution_count": 114,
      "outputs": [
        {
          "output_type": "display_data",
          "data": {
            "image/png": "[encoded data removed]",
            "text/plain": [
              "<Figure size 576x396 with 1 Axes>"
            ]
          },
          "metadata": {
            "tags": []
          }
        }
      ]
    },
    {
      "metadata": {
        "id": "QtAkm3qAkPTx",
        "colab_type": "text"
      },
      "cell_type": "markdown",
      "source": [
        "## 랜덤 배열 생성 -> 정규분포"
      ]
    },
    {
      "metadata": {
        "id": "RDVDi51XkMvl",
        "colab_type": "code",
        "colab": {
          "base_uri": "https://localhost:8080/",
          "height": 347
        },
        "outputId": "b025a26d-cb5b-4597-9be7-55bdd703da23"
      },
      "cell_type": "code",
      "source": [
        "ar_x = np.random.randn(400)\n",
        "ar_y = np.random.randn(400)\n",
        "plt.plot(ar_x, ar_y, 'o')\n",
        "plt.show()"
      ],
      "execution_count": 115,
      "outputs": [
        {
          "output_type": "display_data",
          "data": {
            "image/png": "[encoded data removed]",
            "text/plain": [
              "<Figure size 576x396 with 1 Axes>"
            ]
          },
          "metadata": {
            "tags": []
          }
        }
      ]
    },
    {
      "metadata": {
        "id": "b89QplKqoTFa",
        "colab_type": "text"
      },
      "cell_type": "markdown",
      "source": [
        "#+)"
      ]
    },
    {
      "metadata": {
        "id": "fC-0KmbxkSWe",
        "colab_type": "code",
        "colab": {
          "base_uri": "https://localhost:8080/",
          "height": 70
        },
        "outputId": "a83c8cc1-1eab-412f-9c2d-27eb81fc7c7a"
      },
      "cell_type": "code",
      "source": [
        "ar = np.array( [[10, 20, 30], [60, 70, 80], [90, 91, 92]] )\n",
        "ar"
      ],
      "execution_count": 116,
      "outputs": [
        {
          "output_type": "execute_result",
          "data": {
            "text/plain": [
              "array([[10, 20, 30],\n",
              "       [60, 70, 80],\n",
              "       [90, 91, 92]])"
            ]
          },
          "metadata": {
            "tags": []
          },
          "execution_count": 116
        }
      ]
    },
    {
      "metadata": {
        "id": "9oZjFjRCocet",
        "colab_type": "code",
        "colab": {
          "base_uri": "https://localhost:8080/",
          "height": 87
        },
        "outputId": "80a7ddb8-bf64-43fc-b808-8c916732b6d5"
      },
      "cell_type": "code",
      "source": [
        "np.append(ar, np.array([[0, 1, 2]]), axis=0)"
      ],
      "execution_count": 117,
      "outputs": [
        {
          "output_type": "execute_result",
          "data": {
            "text/plain": [
              "array([[10, 20, 30],\n",
              "       [60, 70, 80],\n",
              "       [90, 91, 92],\n",
              "       [ 0,  1,  2]])"
            ]
          },
          "metadata": {
            "tags": []
          },
          "execution_count": 117
        }
      ]
    },
    {
      "metadata": {
        "id": "cemSIwtbofMr",
        "colab_type": "code",
        "colab": {
          "base_uri": "https://localhost:8080/",
          "height": 70
        },
        "outputId": "9e9c0253-fa78-4f01-f843-6891e37ed1ea"
      },
      "cell_type": "code",
      "source": [
        "np.append(ar, np.array([[0], [1], [2]]), axis=1)"
      ],
      "execution_count": 118,
      "outputs": [
        {
          "output_type": "execute_result",
          "data": {
            "text/plain": [
              "array([[10, 20, 30,  0],\n",
              "       [60, 70, 80,  1],\n",
              "       [90, 91, 92,  2]])"
            ]
          },
          "metadata": {
            "tags": []
          },
          "execution_count": 118
        }
      ]
    },
    {
      "metadata": {
        "id": "Y8zCrBNxoybJ",
        "colab_type": "text"
      },
      "cell_type": "markdown",
      "source": [
        "# Pandas"
      ]
    },
    {
      "metadata": {
        "id": "JcSFoVYIo1cb",
        "colab_type": "text"
      },
      "cell_type": "markdown",
      "source": [
        "##pandas 자료구조\n",
        "\n",
        "* Series(1차원), DataFrame(2차원), Panel(3차원) -> dataframe의 colunm 하나가 series임.\n",
        "\n",
        "* Panel은 3D 라벨 배열 (여러 DataFrame을 포함)\n",
        "* 가장 많이 사용하는 구조는 DataFrame"
      ]
    },
    {
      "metadata": {
        "id": "i08zifYTpKi-",
        "colab_type": "text"
      },
      "cell_type": "markdown",
      "source": [
        "#Series\n",
        "\n",
        "1차원 배열 모습의 자료구조이며, 각 요소는 NumPy의 데이터 타입\n",
        "* numpy.ndarray 의 서브클래스\n",
        "* 값과 값에 대한 인덱스(index)로 구성\n",
        "* 리스트, 딕셔너리 혹은 다른 시리즈로 부터 생성"
      ]
    },
    {
      "metadata": {
        "id": "SO1FoGNyohMW",
        "colab_type": "code",
        "colab": {}
      },
      "cell_type": "code",
      "source": [
        "import pandas as pd\n",
        "from pandas import Series, DataFrame"
      ],
      "execution_count": 0,
      "outputs": []
    },
    {
      "metadata": {
        "id": "ZudoePrdpg3k",
        "colab_type": "text"
      },
      "cell_type": "markdown",
      "source": [
        "##리스트에서 생성"
      ]
    },
    {
      "metadata": {
        "id": "QqZsfs-xpeRW",
        "colab_type": "code",
        "colab": {
          "base_uri": "https://localhost:8080/",
          "height": 122
        },
        "outputId": "02db9d55-89a6-4814-981d-72419d926a72"
      },
      "cell_type": "code",
      "source": [
        "s = Series([7, 0, -3, 8, 1])\n",
        "s"
      ],
      "execution_count": 120,
      "outputs": [
        {
          "output_type": "execute_result",
          "data": {
            "text/plain": [
              "0    7\n",
              "1    0\n",
              "2   -3\n",
              "3    8\n",
              "4    1\n",
              "dtype: int64"
            ]
          },
          "metadata": {
            "tags": []
          },
          "execution_count": 120
        }
      ]
    },
    {
      "metadata": {
        "id": "06Z42QZ_pjHs",
        "colab_type": "code",
        "colab": {
          "base_uri": "https://localhost:8080/",
          "height": 122
        },
        "outputId": "ce08ef64-1bb9-4db0-9a45-e99d6c13f61d"
      },
      "cell_type": "code",
      "source": [
        "#인덱스 형성\n",
        "\n",
        "\n",
        "s = Series([7, 0, -3, 8, 1], index=['A', 'B', 'C', 'D', 'E'])\n",
        "s"
      ],
      "execution_count": 121,
      "outputs": [
        {
          "output_type": "execute_result",
          "data": {
            "text/plain": [
              "A    7\n",
              "B    0\n",
              "C   -3\n",
              "D    8\n",
              "E    1\n",
              "dtype: int64"
            ]
          },
          "metadata": {
            "tags": []
          },
          "execution_count": 121
        }
      ]
    },
    {
      "metadata": {
        "id": "2sGSLIQRpuKm",
        "colab_type": "code",
        "colab": {
          "base_uri": "https://localhost:8080/",
          "height": 105
        },
        "outputId": "c4b2e676-bf95-47d1-b537-e3e613d84613"
      },
      "cell_type": "code",
      "source": [
        "# 딕셔너리에서 생성\n",
        "\n",
        "s = Series({'A':7, 'B':0, 'C':-3, 'D':8})\n",
        "s"
      ],
      "execution_count": 122,
      "outputs": [
        {
          "output_type": "execute_result",
          "data": {
            "text/plain": [
              "A    7\n",
              "B    0\n",
              "C   -3\n",
              "D    8\n",
              "dtype: int64"
            ]
          },
          "metadata": {
            "tags": []
          },
          "execution_count": 122
        }
      ]
    },
    {
      "metadata": {
        "id": "CdjCx_i2ptLk",
        "colab_type": "text"
      },
      "cell_type": "markdown",
      "source": [
        "#series 접근"
      ]
    },
    {
      "metadata": {
        "id": "QoJlfCTEppnk",
        "colab_type": "code",
        "colab": {}
      },
      "cell_type": "code",
      "source": [
        "s = Series({'A':7, 'B':0, 'C':-3, 'D':8})"
      ],
      "execution_count": 0,
      "outputs": []
    },
    {
      "metadata": {
        "id": "OyFhpGs9p6uC",
        "colab_type": "code",
        "colab": {
          "base_uri": "https://localhost:8080/",
          "height": 34
        },
        "outputId": "a8e2a594-21ab-4119-d4c9-7fd8e54f369b"
      },
      "cell_type": "code",
      "source": [
        "s['D']  # s[3] 과 같다."
      ],
      "execution_count": 124,
      "outputs": [
        {
          "output_type": "execute_result",
          "data": {
            "text/plain": [
              "8"
            ]
          },
          "metadata": {
            "tags": []
          },
          "execution_count": 124
        }
      ]
    },
    {
      "metadata": {
        "id": "LgiqGogvqDo6",
        "colab_type": "text"
      },
      "cell_type": "markdown",
      "source": [
        "## series 연산"
      ]
    },
    {
      "metadata": {
        "id": "KLpehgYmp92E",
        "colab_type": "code",
        "colab": {
          "base_uri": "https://localhost:8080/",
          "height": 122
        },
        "outputId": "42422197-c42e-48a6-99d6-0b3823081a91"
      },
      "cell_type": "code",
      "source": [
        "a = Series([2, 3, 6, -4], index=['A', 'B', 'C', 'D'])\n",
        "b = Series([10, 2, 3, 8], index=['B', 'C', 'D', 'E'])\n",
        "\n",
        "c = a + b\n",
        "c"
      ],
      "execution_count": 125,
      "outputs": [
        {
          "output_type": "execute_result",
          "data": {
            "text/plain": [
              "A     NaN\n",
              "B    13.0\n",
              "C     8.0\n",
              "D    -1.0\n",
              "E     NaN\n",
              "dtype: float64"
            ]
          },
          "metadata": {
            "tags": []
          },
          "execution_count": 125
        }
      ]
    },
    {
      "metadata": {
        "id": "1Xj-uAN2qGV0",
        "colab_type": "code",
        "colab": {}
      },
      "cell_type": "code",
      "source": [
        "# NaN -> 빠진 데이터 (결측치)"
      ],
      "execution_count": 0,
      "outputs": []
    },
    {
      "metadata": {
        "id": "y_Vs0GRhqUNZ",
        "colab_type": "text"
      },
      "cell_type": "markdown",
      "source": [
        "# 누락 데이터"
      ]
    },
    {
      "metadata": {
        "id": "WYe9Mllxqc6l",
        "colab_type": "text"
      },
      "cell_type": "markdown",
      "source": [
        "##1. 0으로 채우기"
      ]
    },
    {
      "metadata": {
        "id": "NoqxOz61qQeO",
        "colab_type": "code",
        "colab": {
          "base_uri": "https://localhost:8080/",
          "height": 246
        },
        "outputId": "b2db6961-9ca5-4ffd-b827-b85dbbd6b679"
      },
      "cell_type": "code",
      "source": [
        "# 누락 데이터(NaN)를 0으로 채우기\n",
        "print (c)\n",
        "print ('-' * 40)\n",
        "\n",
        "fill_c = c.fillna(0)\n",
        "print(fill_c)"
      ],
      "execution_count": 127,
      "outputs": [
        {
          "output_type": "stream",
          "text": [
            "A     NaN\n",
            "B    13.0\n",
            "C     8.0\n",
            "D    -1.0\n",
            "E     NaN\n",
            "dtype: float64\n",
            "----------------------------------------\n",
            "A     0.0\n",
            "B    13.0\n",
            "C     8.0\n",
            "D    -1.0\n",
            "E     0.0\n",
            "dtype: float64\n"
          ],
          "name": "stdout"
        }
      ]
    },
    {
      "metadata": {
        "id": "GAlvaLQAqi1J",
        "colab_type": "text"
      },
      "cell_type": "markdown",
      "source": [
        "## 2. dropna()으로 날리기"
      ]
    },
    {
      "metadata": {
        "id": "HwHgkmReqY-C",
        "colab_type": "code",
        "colab": {
          "base_uri": "https://localhost:8080/",
          "height": 210
        },
        "outputId": "b236d1da-0055-4495-83d4-217ce4684a6c"
      },
      "cell_type": "code",
      "source": [
        "# dropna(), NaN 요소 삭제\n",
        "print(c)\n",
        "print ('-' * 40)\n",
        "\n",
        "drop_c = c.dropna()\n",
        "print(drop_c)"
      ],
      "execution_count": 128,
      "outputs": [
        {
          "output_type": "stream",
          "text": [
            "A     NaN\n",
            "B    13.0\n",
            "C     8.0\n",
            "D    -1.0\n",
            "E     NaN\n",
            "dtype: float64\n",
            "----------------------------------------\n",
            "B    13.0\n",
            "C     8.0\n",
            "D    -1.0\n",
            "dtype: float64\n"
          ],
          "name": "stdout"
        }
      ]
    },
    {
      "metadata": {
        "id": "cGjoedlkqt97",
        "colab_type": "text"
      },
      "cell_type": "markdown",
      "source": [
        "##3."
      ]
    },
    {
      "metadata": {
        "id": "VViXnavYq2uM",
        "colab_type": "text"
      },
      "cell_type": "markdown",
      "source": [
        "# DataFrame (자주 쓰임)"
      ]
    },
    {
      "metadata": {
        "id": "0mqZOrjRql3w",
        "colab_type": "code",
        "colab": {}
      },
      "cell_type": "code",
      "source": [
        "# 간단한 예\n",
        "import pandas as pd\n",
        "\n"
      ],
      "execution_count": 0,
      "outputs": []
    },
    {
      "metadata": {
        "id": "3f27Y01Bq7Dl",
        "colab_type": "code",
        "colab": {}
      },
      "cell_type": "code",
      "source": [
        "values = [[10, 20, 30], [40, 50, 60], [70, 80, 90]]\n",
        "index = [1,2,3]\n",
        "columns = ['A', 'B', 'C']"
      ],
      "execution_count": 0,
      "outputs": []
    },
    {
      "metadata": {
        "id": "UmIJCW4Eq-DX",
        "colab_type": "code",
        "colab": {
          "base_uri": "https://localhost:8080/",
          "height": 136
        },
        "outputId": "f55731a0-edbf-45a9-bf8f-1fdc1820f110"
      },
      "cell_type": "code",
      "source": [
        "df = pd.DataFrame(values, index=index, columns=columns)\n",
        "df"
      ],
      "execution_count": 131,
      "outputs": [
        {
          "output_type": "execute_result",
          "data": {
            "text/html": [
              "<div>\n",
              "<style scoped>\n",
              "    .dataframe tbody tr th:only-of-type {\n",
              "        vertical-align: middle;\n",
              "    }\n",
              "\n",
              "    .dataframe tbody tr th {\n",
              "        vertical-align: top;\n",
              "    }\n",
              "\n",
              "    .dataframe thead th {\n",
              "        text-align: right;\n",
              "    }\n",
              "</style>\n",
              "<table border=\"1\" class=\"dataframe\">\n",
              "  <thead>\n",
              "    <tr style=\"text-align: right;\">\n",
              "      <th></th>\n",
              "      <th>A</th>\n",
              "      <th>B</th>\n",
              "      <th>C</th>\n",
              "    </tr>\n",
              "  </thead>\n",
              "  <tbody>\n",
              "    <tr>\n",
              "      <th>1</th>\n",
              "      <td>10</td>\n",
              "      <td>20</td>\n",
              "      <td>30</td>\n",
              "    </tr>\n",
              "    <tr>\n",
              "      <th>2</th>\n",
              "      <td>40</td>\n",
              "      <td>50</td>\n",
              "      <td>60</td>\n",
              "    </tr>\n",
              "    <tr>\n",
              "      <th>3</th>\n",
              "      <td>70</td>\n",
              "      <td>80</td>\n",
              "      <td>90</td>\n",
              "    </tr>\n",
              "  </tbody>\n",
              "</table>\n",
              "</div>"
            ],
            "text/plain": [
              "    A   B   C\n",
              "1  10  20  30\n",
              "2  40  50  60\n",
              "3  70  80  90"
            ]
          },
          "metadata": {
            "tags": []
          },
          "execution_count": 131
        }
      ]
    },
    {
      "metadata": {
        "id": "VeD1cGIhrHqM",
        "colab_type": "text"
      },
      "cell_type": "markdown",
      "source": [
        "# Ex] 예제 데이터\n",
        "\n",
        "\n",
        "삼성전자, LG전자 2017년 1월~4월 광고비 지출 (단위, 천원)"
      ]
    },
    {
      "metadata": {
        "id": "Aek8CRYLrAUU",
        "colab_type": "code",
        "colab": {
          "base_uri": "https://localhost:8080/",
          "height": 225
        },
        "outputId": "5ec6f41c-b619-434d-d012-bdf1c0ba6c94"
      },
      "cell_type": "code",
      "source": [
        "# 리스트로 부터 생성하기\n",
        "\n",
        "values = [\n",
        "    ['2016-10', 23353920, 13611721], \n",
        "    ['2016-11', 21405206, 14520911], \n",
        "    ['2016-12', 15932536, 20073843], \n",
        "    ['2017-01', 11286761, 5911641], \n",
        "    ['2017-02', 12195995, 4220130],\n",
        "    ['2017-03', 12922589, 14147994],\n",
        "]\n",
        "\n",
        "df = pd.DataFrame(values)\n",
        "df"
      ],
      "execution_count": 132,
      "outputs": [
        {
          "output_type": "execute_result",
          "data": {
            "text/html": [
              "<div>\n",
              "<style scoped>\n",
              "    .dataframe tbody tr th:only-of-type {\n",
              "        vertical-align: middle;\n",
              "    }\n",
              "\n",
              "    .dataframe tbody tr th {\n",
              "        vertical-align: top;\n",
              "    }\n",
              "\n",
              "    .dataframe thead th {\n",
              "        text-align: right;\n",
              "    }\n",
              "</style>\n",
              "<table border=\"1\" class=\"dataframe\">\n",
              "  <thead>\n",
              "    <tr style=\"text-align: right;\">\n",
              "      <th></th>\n",
              "      <th>0</th>\n",
              "      <th>1</th>\n",
              "      <th>2</th>\n",
              "    </tr>\n",
              "  </thead>\n",
              "  <tbody>\n",
              "    <tr>\n",
              "      <th>0</th>\n",
              "      <td>2016-10</td>\n",
              "      <td>23353920</td>\n",
              "      <td>13611721</td>\n",
              "    </tr>\n",
              "    <tr>\n",
              "      <th>1</th>\n",
              "      <td>2016-11</td>\n",
              "      <td>21405206</td>\n",
              "      <td>14520911</td>\n",
              "    </tr>\n",
              "    <tr>\n",
              "      <th>2</th>\n",
              "      <td>2016-12</td>\n",
              "      <td>15932536</td>\n",
              "      <td>20073843</td>\n",
              "    </tr>\n",
              "    <tr>\n",
              "      <th>3</th>\n",
              "      <td>2017-01</td>\n",
              "      <td>11286761</td>\n",
              "      <td>5911641</td>\n",
              "    </tr>\n",
              "    <tr>\n",
              "      <th>4</th>\n",
              "      <td>2017-02</td>\n",
              "      <td>12195995</td>\n",
              "      <td>4220130</td>\n",
              "    </tr>\n",
              "    <tr>\n",
              "      <th>5</th>\n",
              "      <td>2017-03</td>\n",
              "      <td>12922589</td>\n",
              "      <td>14147994</td>\n",
              "    </tr>\n",
              "  </tbody>\n",
              "</table>\n",
              "</div>"
            ],
            "text/plain": [
              "         0         1         2\n",
              "0  2016-10  23353920  13611721\n",
              "1  2016-11  21405206  14520911\n",
              "2  2016-12  15932536  20073843\n",
              "3  2017-01  11286761   5911641\n",
              "4  2017-02  12195995   4220130\n",
              "5  2017-03  12922589  14147994"
            ]
          },
          "metadata": {
            "tags": []
          },
          "execution_count": 132
        }
      ]
    },
    {
      "metadata": {
        "id": "ALxjNDALrQG8",
        "colab_type": "code",
        "colab": {
          "base_uri": "https://localhost:8080/",
          "height": 225
        },
        "outputId": "8311f6ff-0075-4296-b712-d9eab407f50b"
      },
      "cell_type": "code",
      "source": [
        "# 컬럼 지정하기\n",
        "\n",
        "df = pd.DataFrame(values, columns=['날짜', '삼성전자', 'LG전자'])\n",
        "df"
      ],
      "execution_count": 133,
      "outputs": [
        {
          "output_type": "execute_result",
          "data": {
            "text/html": [
              "<div>\n",
              "<style scoped>\n",
              "    .dataframe tbody tr th:only-of-type {\n",
              "        vertical-align: middle;\n",
              "    }\n",
              "\n",
              "    .dataframe tbody tr th {\n",
              "        vertical-align: top;\n",
              "    }\n",
              "\n",
              "    .dataframe thead th {\n",
              "        text-align: right;\n",
              "    }\n",
              "</style>\n",
              "<table border=\"1\" class=\"dataframe\">\n",
              "  <thead>\n",
              "    <tr style=\"text-align: right;\">\n",
              "      <th></th>\n",
              "      <th>날짜</th>\n",
              "      <th>삼성전자</th>\n",
              "      <th>LG전자</th>\n",
              "    </tr>\n",
              "  </thead>\n",
              "  <tbody>\n",
              "    <tr>\n",
              "      <th>0</th>\n",
              "      <td>2016-10</td>\n",
              "      <td>23353920</td>\n",
              "      <td>13611721</td>\n",
              "    </tr>\n",
              "    <tr>\n",
              "      <th>1</th>\n",
              "      <td>2016-11</td>\n",
              "      <td>21405206</td>\n",
              "      <td>14520911</td>\n",
              "    </tr>\n",
              "    <tr>\n",
              "      <th>2</th>\n",
              "      <td>2016-12</td>\n",
              "      <td>15932536</td>\n",
              "      <td>20073843</td>\n",
              "    </tr>\n",
              "    <tr>\n",
              "      <th>3</th>\n",
              "      <td>2017-01</td>\n",
              "      <td>11286761</td>\n",
              "      <td>5911641</td>\n",
              "    </tr>\n",
              "    <tr>\n",
              "      <th>4</th>\n",
              "      <td>2017-02</td>\n",
              "      <td>12195995</td>\n",
              "      <td>4220130</td>\n",
              "    </tr>\n",
              "    <tr>\n",
              "      <th>5</th>\n",
              "      <td>2017-03</td>\n",
              "      <td>12922589</td>\n",
              "      <td>14147994</td>\n",
              "    </tr>\n",
              "  </tbody>\n",
              "</table>\n",
              "</div>"
            ],
            "text/plain": [
              "        날짜      삼성전자      LG전자\n",
              "0  2016-10  23353920  13611721\n",
              "1  2016-11  21405206  14520911\n",
              "2  2016-12  15932536  20073843\n",
              "3  2017-01  11286761   5911641\n",
              "4  2017-02  12195995   4220130\n",
              "5  2017-03  12922589  14147994"
            ]
          },
          "metadata": {
            "tags": []
          },
          "execution_count": 133
        }
      ]
    },
    {
      "metadata": {
        "id": "JN71JVDVrcHb",
        "colab_type": "text"
      },
      "cell_type": "markdown",
      "source": [
        "##딕셔너리로 생성"
      ]
    },
    {
      "metadata": {
        "id": "9ZbOHRpfrY-f",
        "colab_type": "code",
        "colab": {
          "base_uri": "https://localhost:8080/",
          "height": 225
        },
        "outputId": "330597b9-6f0c-45aa-d2f2-02573e55871f"
      },
      "cell_type": "code",
      "source": [
        "# 딕셔너리로 부터 생성\n",
        "\n",
        "values = {\n",
        "    '날짜': ['2016-10', '2016-11', '2016-12', '2017-01', '2017-02', '2017-03'],\n",
        "    '삼성전자': [23353920, 21405206, 15932536, 11286761, 12195995, 12922589], \n",
        "    'LG전자': [13611721, 14520911, 20073843, 5911641, 4220130, 14147994]\n",
        "}\n",
        "\n",
        "df = pd.DataFrame(values)\n",
        "df"
      ],
      "execution_count": 134,
      "outputs": [
        {
          "output_type": "execute_result",
          "data": {
            "text/html": [
              "<div>\n",
              "<style scoped>\n",
              "    .dataframe tbody tr th:only-of-type {\n",
              "        vertical-align: middle;\n",
              "    }\n",
              "\n",
              "    .dataframe tbody tr th {\n",
              "        vertical-align: top;\n",
              "    }\n",
              "\n",
              "    .dataframe thead th {\n",
              "        text-align: right;\n",
              "    }\n",
              "</style>\n",
              "<table border=\"1\" class=\"dataframe\">\n",
              "  <thead>\n",
              "    <tr style=\"text-align: right;\">\n",
              "      <th></th>\n",
              "      <th>LG전자</th>\n",
              "      <th>날짜</th>\n",
              "      <th>삼성전자</th>\n",
              "    </tr>\n",
              "  </thead>\n",
              "  <tbody>\n",
              "    <tr>\n",
              "      <th>0</th>\n",
              "      <td>13611721</td>\n",
              "      <td>2016-10</td>\n",
              "      <td>23353920</td>\n",
              "    </tr>\n",
              "    <tr>\n",
              "      <th>1</th>\n",
              "      <td>14520911</td>\n",
              "      <td>2016-11</td>\n",
              "      <td>21405206</td>\n",
              "    </tr>\n",
              "    <tr>\n",
              "      <th>2</th>\n",
              "      <td>20073843</td>\n",
              "      <td>2016-12</td>\n",
              "      <td>15932536</td>\n",
              "    </tr>\n",
              "    <tr>\n",
              "      <th>3</th>\n",
              "      <td>5911641</td>\n",
              "      <td>2017-01</td>\n",
              "      <td>11286761</td>\n",
              "    </tr>\n",
              "    <tr>\n",
              "      <th>4</th>\n",
              "      <td>4220130</td>\n",
              "      <td>2017-02</td>\n",
              "      <td>12195995</td>\n",
              "    </tr>\n",
              "    <tr>\n",
              "      <th>5</th>\n",
              "      <td>14147994</td>\n",
              "      <td>2017-03</td>\n",
              "      <td>12922589</td>\n",
              "    </tr>\n",
              "  </tbody>\n",
              "</table>\n",
              "</div>"
            ],
            "text/plain": [
              "       LG전자       날짜      삼성전자\n",
              "0  13611721  2016-10  23353920\n",
              "1  14520911  2016-11  21405206\n",
              "2  20073843  2016-12  15932536\n",
              "3   5911641  2017-01  11286761\n",
              "4   4220130  2017-02  12195995\n",
              "5  14147994  2017-03  12922589"
            ]
          },
          "metadata": {
            "tags": []
          },
          "execution_count": 134
        }
      ]
    },
    {
      "metadata": {
        "id": "2sszj2K7rdq8",
        "colab_type": "code",
        "colab": {
          "base_uri": "https://localhost:8080/",
          "height": 34
        },
        "outputId": "1b597b97-9467-40b6-b76d-20b016b082f5"
      },
      "cell_type": "code",
      "source": [
        "# 인덱스(index)\n",
        "df.index"
      ],
      "execution_count": 135,
      "outputs": [
        {
          "output_type": "execute_result",
          "data": {
            "text/plain": [
              "RangeIndex(start=0, stop=6, step=1)"
            ]
          },
          "metadata": {
            "tags": []
          },
          "execution_count": 135
        }
      ]
    },
    {
      "metadata": {
        "id": "30vYOpwXrhvn",
        "colab_type": "code",
        "colab": {
          "base_uri": "https://localhost:8080/",
          "height": 34
        },
        "outputId": "de53faac-ea57-4f17-9727-7c3f70d8c759"
      },
      "cell_type": "code",
      "source": [
        "# 열(column)\n",
        "df.columns"
      ],
      "execution_count": 136,
      "outputs": [
        {
          "output_type": "execute_result",
          "data": {
            "text/plain": [
              "Index(['LG전자', '날짜', '삼성전자'], dtype='object')"
            ]
          },
          "metadata": {
            "tags": []
          },
          "execution_count": 136
        }
      ]
    },
    {
      "metadata": {
        "id": "tUneU44Nrvms",
        "colab_type": "code",
        "colab": {}
      },
      "cell_type": "code",
      "source": [
        "#  dtype='object' -> 데이터 타입이 string이다."
      ],
      "execution_count": 0,
      "outputs": []
    },
    {
      "metadata": {
        "id": "cisdOAjNrjxE",
        "colab_type": "code",
        "colab": {
          "base_uri": "https://localhost:8080/",
          "height": 122
        },
        "outputId": "78cec7b1-c904-482e-9a55-94c339c24d3e"
      },
      "cell_type": "code",
      "source": [
        "# 값 (2차원 배열)\n",
        "df.values"
      ],
      "execution_count": 137,
      "outputs": [
        {
          "output_type": "execute_result",
          "data": {
            "text/plain": [
              "array([[13611721, '2016-10', 23353920],\n",
              "       [14520911, '2016-11', 21405206],\n",
              "       [20073843, '2016-12', 15932536],\n",
              "       [5911641, '2017-01', 11286761],\n",
              "       [4220130, '2017-02', 12195995],\n",
              "       [14147994, '2017-03', 12922589]], dtype=object)"
            ]
          },
          "metadata": {
            "tags": []
          },
          "execution_count": 137
        }
      ]
    },
    {
      "metadata": {
        "id": "DLA4rOj0sBUC",
        "colab_type": "text"
      },
      "cell_type": "markdown",
      "source": [
        "##컬럼 순서 지정하기"
      ]
    },
    {
      "metadata": {
        "id": "rWxGo5X1sDgo",
        "colab_type": "code",
        "colab": {
          "base_uri": "https://localhost:8080/",
          "height": 225
        },
        "outputId": "81caff55-5044-46f6-d805-866103567e32"
      },
      "cell_type": "code",
      "source": [
        "values = { \n",
        "    '날짜': ['2016-10', '2016-11', '2016-12', '2017-01', '2017-02', '2017-03'],\n",
        "    '삼성전자': [23353920, 21405206, 15932536, 11286761, 12195995, 12922589], \n",
        "    'LG전자': [13611721, 14520911, 20073843, 5911641, 4220130, 14147994]\n",
        "}\n",
        "\n",
        "df = pd.DataFrame(values, columns=['날짜', '삼성전자', 'LG전자']) #columns으로 순서 지정\n",
        "df"
      ],
      "execution_count": 142,
      "outputs": [
        {
          "output_type": "execute_result",
          "data": {
            "text/html": [
              "<div>\n",
              "<style scoped>\n",
              "    .dataframe tbody tr th:only-of-type {\n",
              "        vertical-align: middle;\n",
              "    }\n",
              "\n",
              "    .dataframe tbody tr th {\n",
              "        vertical-align: top;\n",
              "    }\n",
              "\n",
              "    .dataframe thead th {\n",
              "        text-align: right;\n",
              "    }\n",
              "</style>\n",
              "<table border=\"1\" class=\"dataframe\">\n",
              "  <thead>\n",
              "    <tr style=\"text-align: right;\">\n",
              "      <th></th>\n",
              "      <th>날짜</th>\n",
              "      <th>삼성전자</th>\n",
              "      <th>LG전자</th>\n",
              "    </tr>\n",
              "  </thead>\n",
              "  <tbody>\n",
              "    <tr>\n",
              "      <th>0</th>\n",
              "      <td>2016-10</td>\n",
              "      <td>23353920</td>\n",
              "      <td>13611721</td>\n",
              "    </tr>\n",
              "    <tr>\n",
              "      <th>1</th>\n",
              "      <td>2016-11</td>\n",
              "      <td>21405206</td>\n",
              "      <td>14520911</td>\n",
              "    </tr>\n",
              "    <tr>\n",
              "      <th>2</th>\n",
              "      <td>2016-12</td>\n",
              "      <td>15932536</td>\n",
              "      <td>20073843</td>\n",
              "    </tr>\n",
              "    <tr>\n",
              "      <th>3</th>\n",
              "      <td>2017-01</td>\n",
              "      <td>11286761</td>\n",
              "      <td>5911641</td>\n",
              "    </tr>\n",
              "    <tr>\n",
              "      <th>4</th>\n",
              "      <td>2017-02</td>\n",
              "      <td>12195995</td>\n",
              "      <td>4220130</td>\n",
              "    </tr>\n",
              "    <tr>\n",
              "      <th>5</th>\n",
              "      <td>2017-03</td>\n",
              "      <td>12922589</td>\n",
              "      <td>14147994</td>\n",
              "    </tr>\n",
              "  </tbody>\n",
              "</table>\n",
              "</div>"
            ],
            "text/plain": [
              "        날짜      삼성전자      LG전자\n",
              "0  2016-10  23353920  13611721\n",
              "1  2016-11  21405206  14520911\n",
              "2  2016-12  15932536  20073843\n",
              "3  2017-01  11286761   5911641\n",
              "4  2017-02  12195995   4220130\n",
              "5  2017-03  12922589  14147994"
            ]
          },
          "metadata": {
            "tags": []
          },
          "execution_count": 142
        }
      ]
    },
    {
      "metadata": {
        "id": "EQ8fexbCr41d",
        "colab_type": "text"
      },
      "cell_type": "markdown",
      "source": [
        "##df.dtypes - 각 컬럼의 데이터 타입을 확인"
      ]
    },
    {
      "metadata": {
        "id": "SSx69FxIrmCm",
        "colab_type": "code",
        "colab": {
          "base_uri": "https://localhost:8080/",
          "height": 87
        },
        "outputId": "2e48d587-9f86-4725-a5c1-54c6b885f8d9"
      },
      "cell_type": "code",
      "source": [
        "# 열(column)과 타입\n",
        "df.dtypes"
      ],
      "execution_count": 141,
      "outputs": [
        {
          "output_type": "execute_result",
          "data": {
            "text/plain": [
              "날짜      object\n",
              "삼성전자     int64\n",
              "LG전자     int64\n",
              "dtype: object"
            ]
          },
          "metadata": {
            "tags": []
          },
          "execution_count": 141
        }
      ]
    },
    {
      "metadata": {
        "id": "y9vjiF5hsv6f",
        "colab_type": "text"
      },
      "cell_type": "markdown",
      "source": [
        "## DataFrame 살펴 보기\n",
        "* df.head() - 앞 부분 보기\n",
        "* df.tail() - 뒷 부분 보기\n",
        "* len(df) - 행(row)의 수"
      ]
    },
    {
      "metadata": {
        "id": "60NBmcBur7lC",
        "colab_type": "code",
        "colab": {
          "base_uri": "https://localhost:8080/",
          "height": 106
        },
        "outputId": "fccfbff7-0735-4a3b-e19f-530f5dd43f60"
      },
      "cell_type": "code",
      "source": [
        "# 앞 부분 보기 (기본 5행)\n",
        "df.head(2)"
      ],
      "execution_count": 143,
      "outputs": [
        {
          "output_type": "execute_result",
          "data": {
            "text/html": [
              "<div>\n",
              "<style scoped>\n",
              "    .dataframe tbody tr th:only-of-type {\n",
              "        vertical-align: middle;\n",
              "    }\n",
              "\n",
              "    .dataframe tbody tr th {\n",
              "        vertical-align: top;\n",
              "    }\n",
              "\n",
              "    .dataframe thead th {\n",
              "        text-align: right;\n",
              "    }\n",
              "</style>\n",
              "<table border=\"1\" class=\"dataframe\">\n",
              "  <thead>\n",
              "    <tr style=\"text-align: right;\">\n",
              "      <th></th>\n",
              "      <th>날짜</th>\n",
              "      <th>삼성전자</th>\n",
              "      <th>LG전자</th>\n",
              "    </tr>\n",
              "  </thead>\n",
              "  <tbody>\n",
              "    <tr>\n",
              "      <th>0</th>\n",
              "      <td>2016-10</td>\n",
              "      <td>23353920</td>\n",
              "      <td>13611721</td>\n",
              "    </tr>\n",
              "    <tr>\n",
              "      <th>1</th>\n",
              "      <td>2016-11</td>\n",
              "      <td>21405206</td>\n",
              "      <td>14520911</td>\n",
              "    </tr>\n",
              "  </tbody>\n",
              "</table>\n",
              "</div>"
            ],
            "text/plain": [
              "        날짜      삼성전자      LG전자\n",
              "0  2016-10  23353920  13611721\n",
              "1  2016-11  21405206  14520911"
            ]
          },
          "metadata": {
            "tags": []
          },
          "execution_count": 143
        }
      ]
    },
    {
      "metadata": {
        "id": "aV-2aTwbsRYu",
        "colab_type": "code",
        "colab": {
          "base_uri": "https://localhost:8080/",
          "height": 106
        },
        "outputId": "0efd8bed-8e58-4630-e313-028997071244"
      },
      "cell_type": "code",
      "source": [
        "# 뒷 부분 보기 (기본 5행)\n",
        "df.tail(2)"
      ],
      "execution_count": 144,
      "outputs": [
        {
          "output_type": "execute_result",
          "data": {
            "text/html": [
              "<div>\n",
              "<style scoped>\n",
              "    .dataframe tbody tr th:only-of-type {\n",
              "        vertical-align: middle;\n",
              "    }\n",
              "\n",
              "    .dataframe tbody tr th {\n",
              "        vertical-align: top;\n",
              "    }\n",
              "\n",
              "    .dataframe thead th {\n",
              "        text-align: right;\n",
              "    }\n",
              "</style>\n",
              "<table border=\"1\" class=\"dataframe\">\n",
              "  <thead>\n",
              "    <tr style=\"text-align: right;\">\n",
              "      <th></th>\n",
              "      <th>날짜</th>\n",
              "      <th>삼성전자</th>\n",
              "      <th>LG전자</th>\n",
              "    </tr>\n",
              "  </thead>\n",
              "  <tbody>\n",
              "    <tr>\n",
              "      <th>4</th>\n",
              "      <td>2017-02</td>\n",
              "      <td>12195995</td>\n",
              "      <td>4220130</td>\n",
              "    </tr>\n",
              "    <tr>\n",
              "      <th>5</th>\n",
              "      <td>2017-03</td>\n",
              "      <td>12922589</td>\n",
              "      <td>14147994</td>\n",
              "    </tr>\n",
              "  </tbody>\n",
              "</table>\n",
              "</div>"
            ],
            "text/plain": [
              "        날짜      삼성전자      LG전자\n",
              "4  2017-02  12195995   4220130\n",
              "5  2017-03  12922589  14147994"
            ]
          },
          "metadata": {
            "tags": []
          },
          "execution_count": 144
        }
      ]
    },
    {
      "metadata": {
        "id": "9XVzg2wpsUwC",
        "colab_type": "code",
        "colab": {
          "base_uri": "https://localhost:8080/",
          "height": 34
        },
        "outputId": "478cb107-1ced-40ec-96e5-aafb454d0010"
      },
      "cell_type": "code",
      "source": [
        "# 행(row) 수 (df.shape[0] 와 동일하다)\n",
        "len(df)"
      ],
      "execution_count": 145,
      "outputs": [
        {
          "output_type": "execute_result",
          "data": {
            "text/plain": [
              "6"
            ]
          },
          "metadata": {
            "tags": []
          },
          "execution_count": 145
        }
      ]
    },
    {
      "metadata": {
        "id": "E9EWQVgYsbwq",
        "colab_type": "text"
      },
      "cell_type": "markdown",
      "source": [
        "##요약 통계량\n",
        "\n",
        "df.describe() - 모든 컬럼의 기술통계(descriptive stats) 값"
      ]
    },
    {
      "metadata": {
        "id": "38k6GRgKsXb9",
        "colab_type": "code",
        "colab": {
          "base_uri": "https://localhost:8080/",
          "height": 284
        },
        "outputId": "d8c643c8-540a-4cdd-b43f-199dfc77f5f0"
      },
      "cell_type": "code",
      "source": [
        "# 모든 컬럼의 기술통계(descriptive stats) 값\n",
        "df.describe()"
      ],
      "execution_count": 146,
      "outputs": [
        {
          "output_type": "execute_result",
          "data": {
            "text/html": [
              "<div>\n",
              "<style scoped>\n",
              "    .dataframe tbody tr th:only-of-type {\n",
              "        vertical-align: middle;\n",
              "    }\n",
              "\n",
              "    .dataframe tbody tr th {\n",
              "        vertical-align: top;\n",
              "    }\n",
              "\n",
              "    .dataframe thead th {\n",
              "        text-align: right;\n",
              "    }\n",
              "</style>\n",
              "<table border=\"1\" class=\"dataframe\">\n",
              "  <thead>\n",
              "    <tr style=\"text-align: right;\">\n",
              "      <th></th>\n",
              "      <th>삼성전자</th>\n",
              "      <th>LG전자</th>\n",
              "    </tr>\n",
              "  </thead>\n",
              "  <tbody>\n",
              "    <tr>\n",
              "      <th>count</th>\n",
              "      <td>6.000000e+00</td>\n",
              "      <td>6.000000e+00</td>\n",
              "    </tr>\n",
              "    <tr>\n",
              "      <th>mean</th>\n",
              "      <td>1.618283e+07</td>\n",
              "      <td>1.208104e+07</td>\n",
              "    </tr>\n",
              "    <tr>\n",
              "      <th>std</th>\n",
              "      <td>5.084406e+06</td>\n",
              "      <td>5.938157e+06</td>\n",
              "    </tr>\n",
              "    <tr>\n",
              "      <th>min</th>\n",
              "      <td>1.128676e+07</td>\n",
              "      <td>4.220130e+06</td>\n",
              "    </tr>\n",
              "    <tr>\n",
              "      <th>25%</th>\n",
              "      <td>1.237764e+07</td>\n",
              "      <td>7.836661e+06</td>\n",
              "    </tr>\n",
              "    <tr>\n",
              "      <th>50%</th>\n",
              "      <td>1.442756e+07</td>\n",
              "      <td>1.387986e+07</td>\n",
              "    </tr>\n",
              "    <tr>\n",
              "      <th>75%</th>\n",
              "      <td>2.003704e+07</td>\n",
              "      <td>1.442768e+07</td>\n",
              "    </tr>\n",
              "    <tr>\n",
              "      <th>max</th>\n",
              "      <td>2.335392e+07</td>\n",
              "      <td>2.007384e+07</td>\n",
              "    </tr>\n",
              "  </tbody>\n",
              "</table>\n",
              "</div>"
            ],
            "text/plain": [
              "               삼성전자          LG전자\n",
              "count  6.000000e+00  6.000000e+00\n",
              "mean   1.618283e+07  1.208104e+07\n",
              "std    5.084406e+06  5.938157e+06\n",
              "min    1.128676e+07  4.220130e+06\n",
              "25%    1.237764e+07  7.836661e+06\n",
              "50%    1.442756e+07  1.387986e+07\n",
              "75%    2.003704e+07  1.442768e+07\n",
              "max    2.335392e+07  2.007384e+07"
            ]
          },
          "metadata": {
            "tags": []
          },
          "execution_count": 146
        }
      ]
    },
    {
      "metadata": {
        "id": "42_xOdkrsmmQ",
        "colab_type": "text"
      },
      "cell_type": "markdown",
      "source": [
        "##조회 방법"
      ]
    },
    {
      "metadata": {
        "id": "iNeJQTzAsgYJ",
        "colab_type": "code",
        "colab": {
          "base_uri": "https://localhost:8080/",
          "height": 140
        },
        "outputId": "c82ae1ac-ec74-43c5-8de4-56f0fed95871"
      },
      "cell_type": "code",
      "source": [
        "df['날짜']"
      ],
      "execution_count": 147,
      "outputs": [
        {
          "output_type": "execute_result",
          "data": {
            "text/plain": [
              "0    2016-10\n",
              "1    2016-11\n",
              "2    2016-12\n",
              "3    2017-01\n",
              "4    2017-02\n",
              "5    2017-03\n",
              "Name: 날짜, dtype: object"
            ]
          },
          "metadata": {
            "tags": []
          },
          "execution_count": 147
        }
      ]
    },
    {
      "metadata": {
        "id": "06RJEvfNs5jm",
        "colab_type": "text"
      },
      "cell_type": "markdown",
      "source": [
        "##위치 기반 조회 - df.iloc()"
      ]
    },
    {
      "metadata": {
        "id": "LwnjFthasrGp",
        "colab_type": "code",
        "colab": {
          "base_uri": "https://localhost:8080/",
          "height": 87
        },
        "outputId": "4189f548-70ad-47f0-f55e-47ba3fbca121"
      },
      "cell_type": "code",
      "source": [
        "# 1 행(두번째 행)\n",
        "df.iloc[1]"
      ],
      "execution_count": 148,
      "outputs": [
        {
          "output_type": "execute_result",
          "data": {
            "text/plain": [
              "날짜       2016-11\n",
              "삼성전자    21405206\n",
              "LG전자    14520911\n",
              "Name: 1, dtype: object"
            ]
          },
          "metadata": {
            "tags": []
          },
          "execution_count": 148
        }
      ]
    },
    {
      "metadata": {
        "id": "Kg6yzNT2s9O8",
        "colab_type": "code",
        "colab": {
          "base_uri": "https://localhost:8080/",
          "height": 106
        },
        "outputId": "3c3224b5-eb45-4912-9e24-b21ae8de5515"
      },
      "cell_type": "code",
      "source": [
        "# 1~3행\n",
        "df.iloc[1:3]"
      ],
      "execution_count": 149,
      "outputs": [
        {
          "output_type": "execute_result",
          "data": {
            "text/html": [
              "<div>\n",
              "<style scoped>\n",
              "    .dataframe tbody tr th:only-of-type {\n",
              "        vertical-align: middle;\n",
              "    }\n",
              "\n",
              "    .dataframe tbody tr th {\n",
              "        vertical-align: top;\n",
              "    }\n",
              "\n",
              "    .dataframe thead th {\n",
              "        text-align: right;\n",
              "    }\n",
              "</style>\n",
              "<table border=\"1\" class=\"dataframe\">\n",
              "  <thead>\n",
              "    <tr style=\"text-align: right;\">\n",
              "      <th></th>\n",
              "      <th>날짜</th>\n",
              "      <th>삼성전자</th>\n",
              "      <th>LG전자</th>\n",
              "    </tr>\n",
              "  </thead>\n",
              "  <tbody>\n",
              "    <tr>\n",
              "      <th>1</th>\n",
              "      <td>2016-11</td>\n",
              "      <td>21405206</td>\n",
              "      <td>14520911</td>\n",
              "    </tr>\n",
              "    <tr>\n",
              "      <th>2</th>\n",
              "      <td>2016-12</td>\n",
              "      <td>15932536</td>\n",
              "      <td>20073843</td>\n",
              "    </tr>\n",
              "  </tbody>\n",
              "</table>\n",
              "</div>"
            ],
            "text/plain": [
              "        날짜      삼성전자      LG전자\n",
              "1  2016-11  21405206  14520911\n",
              "2  2016-12  15932536  20073843"
            ]
          },
          "metadata": {
            "tags": []
          },
          "execution_count": 149
        }
      ]
    },
    {
      "metadata": {
        "id": "0YMzhaHOs_cI",
        "colab_type": "code",
        "colab": {
          "base_uri": "https://localhost:8080/",
          "height": 166
        },
        "outputId": "de13f6bc-37b6-4529-b4bb-0d785ab8a7b9"
      },
      "cell_type": "code",
      "source": [
        "# 처음 4개 행(row), 처음 3개 열(column)\n",
        "df.iloc[0:4, 0:2]"
      ],
      "execution_count": 150,
      "outputs": [
        {
          "output_type": "execute_result",
          "data": {
            "text/html": [
              "<div>\n",
              "<style scoped>\n",
              "    .dataframe tbody tr th:only-of-type {\n",
              "        vertical-align: middle;\n",
              "    }\n",
              "\n",
              "    .dataframe tbody tr th {\n",
              "        vertical-align: top;\n",
              "    }\n",
              "\n",
              "    .dataframe thead th {\n",
              "        text-align: right;\n",
              "    }\n",
              "</style>\n",
              "<table border=\"1\" class=\"dataframe\">\n",
              "  <thead>\n",
              "    <tr style=\"text-align: right;\">\n",
              "      <th></th>\n",
              "      <th>날짜</th>\n",
              "      <th>삼성전자</th>\n",
              "    </tr>\n",
              "  </thead>\n",
              "  <tbody>\n",
              "    <tr>\n",
              "      <th>0</th>\n",
              "      <td>2016-10</td>\n",
              "      <td>23353920</td>\n",
              "    </tr>\n",
              "    <tr>\n",
              "      <th>1</th>\n",
              "      <td>2016-11</td>\n",
              "      <td>21405206</td>\n",
              "    </tr>\n",
              "    <tr>\n",
              "      <th>2</th>\n",
              "      <td>2016-12</td>\n",
              "      <td>15932536</td>\n",
              "    </tr>\n",
              "    <tr>\n",
              "      <th>3</th>\n",
              "      <td>2017-01</td>\n",
              "      <td>11286761</td>\n",
              "    </tr>\n",
              "  </tbody>\n",
              "</table>\n",
              "</div>"
            ],
            "text/plain": [
              "        날짜      삼성전자\n",
              "0  2016-10  23353920\n",
              "1  2016-11  21405206\n",
              "2  2016-12  15932536\n",
              "3  2017-01  11286761"
            ]
          },
          "metadata": {
            "tags": []
          },
          "execution_count": 150
        }
      ]
    },
    {
      "metadata": {
        "id": "mmSLpmtltMc4",
        "colab_type": "text"
      },
      "cell_type": "markdown",
      "source": [
        "## 컬럼 추가"
      ]
    },
    {
      "metadata": {
        "id": "XO29cnoNtBq9",
        "colab_type": "code",
        "colab": {
          "base_uri": "https://localhost:8080/",
          "height": 225
        },
        "outputId": "b83cb9b8-c2de-407c-bf17-347d47e43ac9"
      },
      "cell_type": "code",
      "source": [
        "#그냥 컬럼 이름 쓰고 초기값 쓰기\n",
        "#만약 겹치면 내용 오버라이드\n",
        "\n",
        "df['차이'] = 0\n",
        "df"
      ],
      "execution_count": 151,
      "outputs": [
        {
          "output_type": "execute_result",
          "data": {
            "text/html": [
              "<div>\n",
              "<style scoped>\n",
              "    .dataframe tbody tr th:only-of-type {\n",
              "        vertical-align: middle;\n",
              "    }\n",
              "\n",
              "    .dataframe tbody tr th {\n",
              "        vertical-align: top;\n",
              "    }\n",
              "\n",
              "    .dataframe thead th {\n",
              "        text-align: right;\n",
              "    }\n",
              "</style>\n",
              "<table border=\"1\" class=\"dataframe\">\n",
              "  <thead>\n",
              "    <tr style=\"text-align: right;\">\n",
              "      <th></th>\n",
              "      <th>날짜</th>\n",
              "      <th>삼성전자</th>\n",
              "      <th>LG전자</th>\n",
              "      <th>차이</th>\n",
              "    </tr>\n",
              "  </thead>\n",
              "  <tbody>\n",
              "    <tr>\n",
              "      <th>0</th>\n",
              "      <td>2016-10</td>\n",
              "      <td>23353920</td>\n",
              "      <td>13611721</td>\n",
              "      <td>0</td>\n",
              "    </tr>\n",
              "    <tr>\n",
              "      <th>1</th>\n",
              "      <td>2016-11</td>\n",
              "      <td>21405206</td>\n",
              "      <td>14520911</td>\n",
              "      <td>0</td>\n",
              "    </tr>\n",
              "    <tr>\n",
              "      <th>2</th>\n",
              "      <td>2016-12</td>\n",
              "      <td>15932536</td>\n",
              "      <td>20073843</td>\n",
              "      <td>0</td>\n",
              "    </tr>\n",
              "    <tr>\n",
              "      <th>3</th>\n",
              "      <td>2017-01</td>\n",
              "      <td>11286761</td>\n",
              "      <td>5911641</td>\n",
              "      <td>0</td>\n",
              "    </tr>\n",
              "    <tr>\n",
              "      <th>4</th>\n",
              "      <td>2017-02</td>\n",
              "      <td>12195995</td>\n",
              "      <td>4220130</td>\n",
              "      <td>0</td>\n",
              "    </tr>\n",
              "    <tr>\n",
              "      <th>5</th>\n",
              "      <td>2017-03</td>\n",
              "      <td>12922589</td>\n",
              "      <td>14147994</td>\n",
              "      <td>0</td>\n",
              "    </tr>\n",
              "  </tbody>\n",
              "</table>\n",
              "</div>"
            ],
            "text/plain": [
              "        날짜      삼성전자      LG전자  차이\n",
              "0  2016-10  23353920  13611721   0\n",
              "1  2016-11  21405206  14520911   0\n",
              "2  2016-12  15932536  20073843   0\n",
              "3  2017-01  11286761   5911641   0\n",
              "4  2017-02  12195995   4220130   0\n",
              "5  2017-03  12922589  14147994   0"
            ]
          },
          "metadata": {
            "tags": []
          },
          "execution_count": 151
        }
      ]
    },
    {
      "metadata": {
        "id": "COlfOaAttSRf",
        "colab_type": "text"
      },
      "cell_type": "markdown",
      "source": [
        "#컬럼간 연산"
      ]
    },
    {
      "metadata": {
        "id": "6bFef_trtLY_",
        "colab_type": "code",
        "colab": {
          "base_uri": "https://localhost:8080/",
          "height": 225
        },
        "outputId": "c5597510-f5c5-4ef9-8575-32b0d350712b"
      },
      "cell_type": "code",
      "source": [
        "df['차이'] = df['삼성전자'] - df['LG전자']\n",
        "df"
      ],
      "execution_count": 152,
      "outputs": [
        {
          "output_type": "execute_result",
          "data": {
            "text/html": [
              "<div>\n",
              "<style scoped>\n",
              "    .dataframe tbody tr th:only-of-type {\n",
              "        vertical-align: middle;\n",
              "    }\n",
              "\n",
              "    .dataframe tbody tr th {\n",
              "        vertical-align: top;\n",
              "    }\n",
              "\n",
              "    .dataframe thead th {\n",
              "        text-align: right;\n",
              "    }\n",
              "</style>\n",
              "<table border=\"1\" class=\"dataframe\">\n",
              "  <thead>\n",
              "    <tr style=\"text-align: right;\">\n",
              "      <th></th>\n",
              "      <th>날짜</th>\n",
              "      <th>삼성전자</th>\n",
              "      <th>LG전자</th>\n",
              "      <th>차이</th>\n",
              "    </tr>\n",
              "  </thead>\n",
              "  <tbody>\n",
              "    <tr>\n",
              "      <th>0</th>\n",
              "      <td>2016-10</td>\n",
              "      <td>23353920</td>\n",
              "      <td>13611721</td>\n",
              "      <td>9742199</td>\n",
              "    </tr>\n",
              "    <tr>\n",
              "      <th>1</th>\n",
              "      <td>2016-11</td>\n",
              "      <td>21405206</td>\n",
              "      <td>14520911</td>\n",
              "      <td>6884295</td>\n",
              "    </tr>\n",
              "    <tr>\n",
              "      <th>2</th>\n",
              "      <td>2016-12</td>\n",
              "      <td>15932536</td>\n",
              "      <td>20073843</td>\n",
              "      <td>-4141307</td>\n",
              "    </tr>\n",
              "    <tr>\n",
              "      <th>3</th>\n",
              "      <td>2017-01</td>\n",
              "      <td>11286761</td>\n",
              "      <td>5911641</td>\n",
              "      <td>5375120</td>\n",
              "    </tr>\n",
              "    <tr>\n",
              "      <th>4</th>\n",
              "      <td>2017-02</td>\n",
              "      <td>12195995</td>\n",
              "      <td>4220130</td>\n",
              "      <td>7975865</td>\n",
              "    </tr>\n",
              "    <tr>\n",
              "      <th>5</th>\n",
              "      <td>2017-03</td>\n",
              "      <td>12922589</td>\n",
              "      <td>14147994</td>\n",
              "      <td>-1225405</td>\n",
              "    </tr>\n",
              "  </tbody>\n",
              "</table>\n",
              "</div>"
            ],
            "text/plain": [
              "        날짜      삼성전자      LG전자       차이\n",
              "0  2016-10  23353920  13611721  9742199\n",
              "1  2016-11  21405206  14520911  6884295\n",
              "2  2016-12  15932536  20073843 -4141307\n",
              "3  2017-01  11286761   5911641  5375120\n",
              "4  2017-02  12195995   4220130  7975865\n",
              "5  2017-03  12922589  14147994 -1225405"
            ]
          },
          "metadata": {
            "tags": []
          },
          "execution_count": 152
        }
      ]
    },
    {
      "metadata": {
        "id": "jzjWzY5EtY6u",
        "colab_type": "text"
      },
      "cell_type": "markdown",
      "source": [
        "#컬럼 단위 데이터 변경\n",
        "\n",
        "단위 '천원', 100000로 나누어 억원'으로 단위 변경"
      ]
    },
    {
      "metadata": {
        "id": "eRB_aeLetV7o",
        "colab_type": "code",
        "colab": {
          "base_uri": "https://localhost:8080/",
          "height": 225
        },
        "outputId": "906cee9c-8fed-4a76-8d2b-6282ffd6c3c2"
      },
      "cell_type": "code",
      "source": [
        "df['삼성전자'] =  df['삼성전자'] / 100000.\n",
        "df['LG전자'] =  df['LG전자'] / 100000.\n",
        "df['차이'] =  df['차이'] / 100000.\n",
        "df"
      ],
      "execution_count": 153,
      "outputs": [
        {
          "output_type": "execute_result",
          "data": {
            "text/html": [
              "<div>\n",
              "<style scoped>\n",
              "    .dataframe tbody tr th:only-of-type {\n",
              "        vertical-align: middle;\n",
              "    }\n",
              "\n",
              "    .dataframe tbody tr th {\n",
              "        vertical-align: top;\n",
              "    }\n",
              "\n",
              "    .dataframe thead th {\n",
              "        text-align: right;\n",
              "    }\n",
              "</style>\n",
              "<table border=\"1\" class=\"dataframe\">\n",
              "  <thead>\n",
              "    <tr style=\"text-align: right;\">\n",
              "      <th></th>\n",
              "      <th>날짜</th>\n",
              "      <th>삼성전자</th>\n",
              "      <th>LG전자</th>\n",
              "      <th>차이</th>\n",
              "    </tr>\n",
              "  </thead>\n",
              "  <tbody>\n",
              "    <tr>\n",
              "      <th>0</th>\n",
              "      <td>2016-10</td>\n",
              "      <td>233.53920</td>\n",
              "      <td>136.11721</td>\n",
              "      <td>97.42199</td>\n",
              "    </tr>\n",
              "    <tr>\n",
              "      <th>1</th>\n",
              "      <td>2016-11</td>\n",
              "      <td>214.05206</td>\n",
              "      <td>145.20911</td>\n",
              "      <td>68.84295</td>\n",
              "    </tr>\n",
              "    <tr>\n",
              "      <th>2</th>\n",
              "      <td>2016-12</td>\n",
              "      <td>159.32536</td>\n",
              "      <td>200.73843</td>\n",
              "      <td>-41.41307</td>\n",
              "    </tr>\n",
              "    <tr>\n",
              "      <th>3</th>\n",
              "      <td>2017-01</td>\n",
              "      <td>112.86761</td>\n",
              "      <td>59.11641</td>\n",
              "      <td>53.75120</td>\n",
              "    </tr>\n",
              "    <tr>\n",
              "      <th>4</th>\n",
              "      <td>2017-02</td>\n",
              "      <td>121.95995</td>\n",
              "      <td>42.20130</td>\n",
              "      <td>79.75865</td>\n",
              "    </tr>\n",
              "    <tr>\n",
              "      <th>5</th>\n",
              "      <td>2017-03</td>\n",
              "      <td>129.22589</td>\n",
              "      <td>141.47994</td>\n",
              "      <td>-12.25405</td>\n",
              "    </tr>\n",
              "  </tbody>\n",
              "</table>\n",
              "</div>"
            ],
            "text/plain": [
              "        날짜       삼성전자       LG전자        차이\n",
              "0  2016-10  233.53920  136.11721  97.42199\n",
              "1  2016-11  214.05206  145.20911  68.84295\n",
              "2  2016-12  159.32536  200.73843 -41.41307\n",
              "3  2017-01  112.86761   59.11641  53.75120\n",
              "4  2017-02  121.95995   42.20130  79.75865\n",
              "5  2017-03  129.22589  141.47994 -12.25405"
            ]
          },
          "metadata": {
            "tags": []
          },
          "execution_count": 153
        }
      ]
    },
    {
      "metadata": {
        "id": "y_iGh3f8tcxw",
        "colab_type": "code",
        "colab": {
          "base_uri": "https://localhost:8080/",
          "height": 225
        },
        "outputId": "805590e7-679a-43c9-de86-ec0fd5c3c5d0"
      },
      "cell_type": "code",
      "source": [
        "# numpy 이용해서 계산하기\n",
        "import numpy as np\n",
        "\n",
        "df['합계'] = np.round(df['삼성전자'] + df['LG전자'], 1)\n",
        "# round -> 해당 값을 소수점 이하 1자리로 반올림 해서 만들기\n",
        "df"
      ],
      "execution_count": 154,
      "outputs": [
        {
          "output_type": "execute_result",
          "data": {
            "text/html": [
              "<div>\n",
              "<style scoped>\n",
              "    .dataframe tbody tr th:only-of-type {\n",
              "        vertical-align: middle;\n",
              "    }\n",
              "\n",
              "    .dataframe tbody tr th {\n",
              "        vertical-align: top;\n",
              "    }\n",
              "\n",
              "    .dataframe thead th {\n",
              "        text-align: right;\n",
              "    }\n",
              "</style>\n",
              "<table border=\"1\" class=\"dataframe\">\n",
              "  <thead>\n",
              "    <tr style=\"text-align: right;\">\n",
              "      <th></th>\n",
              "      <th>날짜</th>\n",
              "      <th>삼성전자</th>\n",
              "      <th>LG전자</th>\n",
              "      <th>차이</th>\n",
              "      <th>합계</th>\n",
              "    </tr>\n",
              "  </thead>\n",
              "  <tbody>\n",
              "    <tr>\n",
              "      <th>0</th>\n",
              "      <td>2016-10</td>\n",
              "      <td>233.53920</td>\n",
              "      <td>136.11721</td>\n",
              "      <td>97.42199</td>\n",
              "      <td>369.7</td>\n",
              "    </tr>\n",
              "    <tr>\n",
              "      <th>1</th>\n",
              "      <td>2016-11</td>\n",
              "      <td>214.05206</td>\n",
              "      <td>145.20911</td>\n",
              "      <td>68.84295</td>\n",
              "      <td>359.3</td>\n",
              "    </tr>\n",
              "    <tr>\n",
              "      <th>2</th>\n",
              "      <td>2016-12</td>\n",
              "      <td>159.32536</td>\n",
              "      <td>200.73843</td>\n",
              "      <td>-41.41307</td>\n",
              "      <td>360.1</td>\n",
              "    </tr>\n",
              "    <tr>\n",
              "      <th>3</th>\n",
              "      <td>2017-01</td>\n",
              "      <td>112.86761</td>\n",
              "      <td>59.11641</td>\n",
              "      <td>53.75120</td>\n",
              "      <td>172.0</td>\n",
              "    </tr>\n",
              "    <tr>\n",
              "      <th>4</th>\n",
              "      <td>2017-02</td>\n",
              "      <td>121.95995</td>\n",
              "      <td>42.20130</td>\n",
              "      <td>79.75865</td>\n",
              "      <td>164.2</td>\n",
              "    </tr>\n",
              "    <tr>\n",
              "      <th>5</th>\n",
              "      <td>2017-03</td>\n",
              "      <td>129.22589</td>\n",
              "      <td>141.47994</td>\n",
              "      <td>-12.25405</td>\n",
              "      <td>270.7</td>\n",
              "    </tr>\n",
              "  </tbody>\n",
              "</table>\n",
              "</div>"
            ],
            "text/plain": [
              "        날짜       삼성전자       LG전자        차이     합계\n",
              "0  2016-10  233.53920  136.11721  97.42199  369.7\n",
              "1  2016-11  214.05206  145.20911  68.84295  359.3\n",
              "2  2016-12  159.32536  200.73843 -41.41307  360.1\n",
              "3  2017-01  112.86761   59.11641  53.75120  172.0\n",
              "4  2017-02  121.95995   42.20130  79.75865  164.2\n",
              "5  2017-03  129.22589  141.47994 -12.25405  270.7"
            ]
          },
          "metadata": {
            "tags": []
          },
          "execution_count": 154
        }
      ]
    },
    {
      "metadata": {
        "id": "vNCC9-Xgt0Ql",
        "colab_type": "text"
      },
      "cell_type": "markdown",
      "source": [
        "##로우(row) 삭제\n",
        "로우(row) 삭제 DataFrame.drop() 을 사용"
      ]
    },
    {
      "metadata": {
        "id": "xAWkgZentxGf",
        "colab_type": "code",
        "colab": {
          "base_uri": "https://localhost:8080/",
          "height": 166
        },
        "outputId": "4b73c311-e66d-4c85-f754-5c36d95f3db1"
      },
      "cell_type": "code",
      "source": [
        "r_df = df.drop([4,5]) # axis=0 가 생략되어 있다.\n",
        "r_df"
      ],
      "execution_count": 155,
      "outputs": [
        {
          "output_type": "execute_result",
          "data": {
            "text/html": [
              "<div>\n",
              "<style scoped>\n",
              "    .dataframe tbody tr th:only-of-type {\n",
              "        vertical-align: middle;\n",
              "    }\n",
              "\n",
              "    .dataframe tbody tr th {\n",
              "        vertical-align: top;\n",
              "    }\n",
              "\n",
              "    .dataframe thead th {\n",
              "        text-align: right;\n",
              "    }\n",
              "</style>\n",
              "<table border=\"1\" class=\"dataframe\">\n",
              "  <thead>\n",
              "    <tr style=\"text-align: right;\">\n",
              "      <th></th>\n",
              "      <th>날짜</th>\n",
              "      <th>삼성전자</th>\n",
              "      <th>LG전자</th>\n",
              "      <th>차이</th>\n",
              "      <th>합계</th>\n",
              "    </tr>\n",
              "  </thead>\n",
              "  <tbody>\n",
              "    <tr>\n",
              "      <th>0</th>\n",
              "      <td>2016-10</td>\n",
              "      <td>233.53920</td>\n",
              "      <td>136.11721</td>\n",
              "      <td>97.42199</td>\n",
              "      <td>369.7</td>\n",
              "    </tr>\n",
              "    <tr>\n",
              "      <th>1</th>\n",
              "      <td>2016-11</td>\n",
              "      <td>214.05206</td>\n",
              "      <td>145.20911</td>\n",
              "      <td>68.84295</td>\n",
              "      <td>359.3</td>\n",
              "    </tr>\n",
              "    <tr>\n",
              "      <th>2</th>\n",
              "      <td>2016-12</td>\n",
              "      <td>159.32536</td>\n",
              "      <td>200.73843</td>\n",
              "      <td>-41.41307</td>\n",
              "      <td>360.1</td>\n",
              "    </tr>\n",
              "    <tr>\n",
              "      <th>3</th>\n",
              "      <td>2017-01</td>\n",
              "      <td>112.86761</td>\n",
              "      <td>59.11641</td>\n",
              "      <td>53.75120</td>\n",
              "      <td>172.0</td>\n",
              "    </tr>\n",
              "  </tbody>\n",
              "</table>\n",
              "</div>"
            ],
            "text/plain": [
              "        날짜       삼성전자       LG전자        차이     합계\n",
              "0  2016-10  233.53920  136.11721  97.42199  369.7\n",
              "1  2016-11  214.05206  145.20911  68.84295  359.3\n",
              "2  2016-12  159.32536  200.73843 -41.41307  360.1\n",
              "3  2017-01  112.86761   59.11641  53.75120  172.0"
            ]
          },
          "metadata": {
            "tags": []
          },
          "execution_count": 155
        }
      ]
    },
    {
      "metadata": {
        "id": "MrEma8XJt7Hj",
        "colab_type": "text"
      },
      "cell_type": "markdown",
      "source": [
        "#컬럼 삭제\n",
        "drop 사용하면서 축(axis)를 지정한다."
      ]
    },
    {
      "metadata": {
        "id": "8SybcD7It4fO",
        "colab_type": "code",
        "colab": {
          "base_uri": "https://localhost:8080/",
          "height": 225
        },
        "outputId": "4cea8cab-448c-442b-c165-a95df9a5e8b3"
      },
      "cell_type": "code",
      "source": [
        "r_df = df.drop(['차이'], axis=1)\n",
        "r_df"
      ],
      "execution_count": 156,
      "outputs": [
        {
          "output_type": "execute_result",
          "data": {
            "text/html": [
              "<div>\n",
              "<style scoped>\n",
              "    .dataframe tbody tr th:only-of-type {\n",
              "        vertical-align: middle;\n",
              "    }\n",
              "\n",
              "    .dataframe tbody tr th {\n",
              "        vertical-align: top;\n",
              "    }\n",
              "\n",
              "    .dataframe thead th {\n",
              "        text-align: right;\n",
              "    }\n",
              "</style>\n",
              "<table border=\"1\" class=\"dataframe\">\n",
              "  <thead>\n",
              "    <tr style=\"text-align: right;\">\n",
              "      <th></th>\n",
              "      <th>날짜</th>\n",
              "      <th>삼성전자</th>\n",
              "      <th>LG전자</th>\n",
              "      <th>합계</th>\n",
              "    </tr>\n",
              "  </thead>\n",
              "  <tbody>\n",
              "    <tr>\n",
              "      <th>0</th>\n",
              "      <td>2016-10</td>\n",
              "      <td>233.53920</td>\n",
              "      <td>136.11721</td>\n",
              "      <td>369.7</td>\n",
              "    </tr>\n",
              "    <tr>\n",
              "      <th>1</th>\n",
              "      <td>2016-11</td>\n",
              "      <td>214.05206</td>\n",
              "      <td>145.20911</td>\n",
              "      <td>359.3</td>\n",
              "    </tr>\n",
              "    <tr>\n",
              "      <th>2</th>\n",
              "      <td>2016-12</td>\n",
              "      <td>159.32536</td>\n",
              "      <td>200.73843</td>\n",
              "      <td>360.1</td>\n",
              "    </tr>\n",
              "    <tr>\n",
              "      <th>3</th>\n",
              "      <td>2017-01</td>\n",
              "      <td>112.86761</td>\n",
              "      <td>59.11641</td>\n",
              "      <td>172.0</td>\n",
              "    </tr>\n",
              "    <tr>\n",
              "      <th>4</th>\n",
              "      <td>2017-02</td>\n",
              "      <td>121.95995</td>\n",
              "      <td>42.20130</td>\n",
              "      <td>164.2</td>\n",
              "    </tr>\n",
              "    <tr>\n",
              "      <th>5</th>\n",
              "      <td>2017-03</td>\n",
              "      <td>129.22589</td>\n",
              "      <td>141.47994</td>\n",
              "      <td>270.7</td>\n",
              "    </tr>\n",
              "  </tbody>\n",
              "</table>\n",
              "</div>"
            ],
            "text/plain": [
              "        날짜       삼성전자       LG전자     합계\n",
              "0  2016-10  233.53920  136.11721  369.7\n",
              "1  2016-11  214.05206  145.20911  359.3\n",
              "2  2016-12  159.32536  200.73843  360.1\n",
              "3  2017-01  112.86761   59.11641  172.0\n",
              "4  2017-02  121.95995   42.20130  164.2\n",
              "5  2017-03  129.22589  141.47994  270.7"
            ]
          },
          "metadata": {
            "tags": []
          },
          "execution_count": 156
        }
      ]
    },
    {
      "metadata": {
        "id": "0_EvqmD8t_c4",
        "colab_type": "code",
        "colab": {
          "base_uri": "https://localhost:8080/",
          "height": 225
        },
        "outputId": "d9e3f980-828f-4126-892e-7388d56c47a9"
      },
      "cell_type": "code",
      "source": [
        "del df['차이']\n",
        "df\n",
        "\n",
        "# 이 방법으로도 제거 가능"
      ],
      "execution_count": 157,
      "outputs": [
        {
          "output_type": "execute_result",
          "data": {
            "text/html": [
              "<div>\n",
              "<style scoped>\n",
              "    .dataframe tbody tr th:only-of-type {\n",
              "        vertical-align: middle;\n",
              "    }\n",
              "\n",
              "    .dataframe tbody tr th {\n",
              "        vertical-align: top;\n",
              "    }\n",
              "\n",
              "    .dataframe thead th {\n",
              "        text-align: right;\n",
              "    }\n",
              "</style>\n",
              "<table border=\"1\" class=\"dataframe\">\n",
              "  <thead>\n",
              "    <tr style=\"text-align: right;\">\n",
              "      <th></th>\n",
              "      <th>날짜</th>\n",
              "      <th>삼성전자</th>\n",
              "      <th>LG전자</th>\n",
              "      <th>합계</th>\n",
              "    </tr>\n",
              "  </thead>\n",
              "  <tbody>\n",
              "    <tr>\n",
              "      <th>0</th>\n",
              "      <td>2016-10</td>\n",
              "      <td>233.53920</td>\n",
              "      <td>136.11721</td>\n",
              "      <td>369.7</td>\n",
              "    </tr>\n",
              "    <tr>\n",
              "      <th>1</th>\n",
              "      <td>2016-11</td>\n",
              "      <td>214.05206</td>\n",
              "      <td>145.20911</td>\n",
              "      <td>359.3</td>\n",
              "    </tr>\n",
              "    <tr>\n",
              "      <th>2</th>\n",
              "      <td>2016-12</td>\n",
              "      <td>159.32536</td>\n",
              "      <td>200.73843</td>\n",
              "      <td>360.1</td>\n",
              "    </tr>\n",
              "    <tr>\n",
              "      <th>3</th>\n",
              "      <td>2017-01</td>\n",
              "      <td>112.86761</td>\n",
              "      <td>59.11641</td>\n",
              "      <td>172.0</td>\n",
              "    </tr>\n",
              "    <tr>\n",
              "      <th>4</th>\n",
              "      <td>2017-02</td>\n",
              "      <td>121.95995</td>\n",
              "      <td>42.20130</td>\n",
              "      <td>164.2</td>\n",
              "    </tr>\n",
              "    <tr>\n",
              "      <th>5</th>\n",
              "      <td>2017-03</td>\n",
              "      <td>129.22589</td>\n",
              "      <td>141.47994</td>\n",
              "      <td>270.7</td>\n",
              "    </tr>\n",
              "  </tbody>\n",
              "</table>\n",
              "</div>"
            ],
            "text/plain": [
              "        날짜       삼성전자       LG전자     합계\n",
              "0  2016-10  233.53920  136.11721  369.7\n",
              "1  2016-11  214.05206  145.20911  359.3\n",
              "2  2016-12  159.32536  200.73843  360.1\n",
              "3  2017-01  112.86761   59.11641  172.0\n",
              "4  2017-02  121.95995   42.20130  164.2\n",
              "5  2017-03  129.22589  141.47994  270.7"
            ]
          },
          "metadata": {
            "tags": []
          },
          "execution_count": 157
        }
      ]
    },
    {
      "metadata": {
        "id": "W7NT8qC9uLJP",
        "colab_type": "text"
      },
      "cell_type": "markdown",
      "source": [
        "#인덱싱에 사용하는 메소드\n",
        "loc는 라벨로 인덱싱할 때, iloc는 정수(integer)로 인덱싱할 때 사용 한다."
      ]
    },
    {
      "metadata": {
        "id": "yBPRkXS5uE2g",
        "colab_type": "code",
        "colab": {
          "base_uri": "https://localhost:8080/",
          "height": 225
        },
        "outputId": "c5297f8c-18b6-4a6e-ca16-b89441076a86"
      },
      "cell_type": "code",
      "source": [
        "df"
      ],
      "execution_count": 158,
      "outputs": [
        {
          "output_type": "execute_result",
          "data": {
            "text/html": [
              "<div>\n",
              "<style scoped>\n",
              "    .dataframe tbody tr th:only-of-type {\n",
              "        vertical-align: middle;\n",
              "    }\n",
              "\n",
              "    .dataframe tbody tr th {\n",
              "        vertical-align: top;\n",
              "    }\n",
              "\n",
              "    .dataframe thead th {\n",
              "        text-align: right;\n",
              "    }\n",
              "</style>\n",
              "<table border=\"1\" class=\"dataframe\">\n",
              "  <thead>\n",
              "    <tr style=\"text-align: right;\">\n",
              "      <th></th>\n",
              "      <th>날짜</th>\n",
              "      <th>삼성전자</th>\n",
              "      <th>LG전자</th>\n",
              "      <th>합계</th>\n",
              "    </tr>\n",
              "  </thead>\n",
              "  <tbody>\n",
              "    <tr>\n",
              "      <th>0</th>\n",
              "      <td>2016-10</td>\n",
              "      <td>233.53920</td>\n",
              "      <td>136.11721</td>\n",
              "      <td>369.7</td>\n",
              "    </tr>\n",
              "    <tr>\n",
              "      <th>1</th>\n",
              "      <td>2016-11</td>\n",
              "      <td>214.05206</td>\n",
              "      <td>145.20911</td>\n",
              "      <td>359.3</td>\n",
              "    </tr>\n",
              "    <tr>\n",
              "      <th>2</th>\n",
              "      <td>2016-12</td>\n",
              "      <td>159.32536</td>\n",
              "      <td>200.73843</td>\n",
              "      <td>360.1</td>\n",
              "    </tr>\n",
              "    <tr>\n",
              "      <th>3</th>\n",
              "      <td>2017-01</td>\n",
              "      <td>112.86761</td>\n",
              "      <td>59.11641</td>\n",
              "      <td>172.0</td>\n",
              "    </tr>\n",
              "    <tr>\n",
              "      <th>4</th>\n",
              "      <td>2017-02</td>\n",
              "      <td>121.95995</td>\n",
              "      <td>42.20130</td>\n",
              "      <td>164.2</td>\n",
              "    </tr>\n",
              "    <tr>\n",
              "      <th>5</th>\n",
              "      <td>2017-03</td>\n",
              "      <td>129.22589</td>\n",
              "      <td>141.47994</td>\n",
              "      <td>270.7</td>\n",
              "    </tr>\n",
              "  </tbody>\n",
              "</table>\n",
              "</div>"
            ],
            "text/plain": [
              "        날짜       삼성전자       LG전자     합계\n",
              "0  2016-10  233.53920  136.11721  369.7\n",
              "1  2016-11  214.05206  145.20911  359.3\n",
              "2  2016-12  159.32536  200.73843  360.1\n",
              "3  2017-01  112.86761   59.11641  172.0\n",
              "4  2017-02  121.95995   42.20130  164.2\n",
              "5  2017-03  129.22589  141.47994  270.7"
            ]
          },
          "metadata": {
            "tags": []
          },
          "execution_count": 158
        }
      ]
    },
    {
      "metadata": {
        "id": "cSXN0JIkuOYF",
        "colab_type": "code",
        "colab": {
          "base_uri": "https://localhost:8080/",
          "height": 105
        },
        "outputId": "308031a9-13e8-43dc-d1b5-c6c5e49c2c6d"
      },
      "cell_type": "code",
      "source": [
        "df.loc[2] # 2번 로우"
      ],
      "execution_count": 159,
      "outputs": [
        {
          "output_type": "execute_result",
          "data": {
            "text/plain": [
              "날짜      2016-12\n",
              "삼성전자    159.325\n",
              "LG전자    200.738\n",
              "합계        360.1\n",
              "Name: 2, dtype: object"
            ]
          },
          "metadata": {
            "tags": []
          },
          "execution_count": 159
        }
      ]
    },
    {
      "metadata": {
        "id": "bj69KCFouQpd",
        "colab_type": "code",
        "colab": {
          "base_uri": "https://localhost:8080/",
          "height": 106
        },
        "outputId": "c16a198e-4971-4e42-99a2-aa75f6adb501"
      },
      "cell_type": "code",
      "source": [
        "df[3:5] # row 3~4"
      ],
      "execution_count": 160,
      "outputs": [
        {
          "output_type": "execute_result",
          "data": {
            "text/html": [
              "<div>\n",
              "<style scoped>\n",
              "    .dataframe tbody tr th:only-of-type {\n",
              "        vertical-align: middle;\n",
              "    }\n",
              "\n",
              "    .dataframe tbody tr th {\n",
              "        vertical-align: top;\n",
              "    }\n",
              "\n",
              "    .dataframe thead th {\n",
              "        text-align: right;\n",
              "    }\n",
              "</style>\n",
              "<table border=\"1\" class=\"dataframe\">\n",
              "  <thead>\n",
              "    <tr style=\"text-align: right;\">\n",
              "      <th></th>\n",
              "      <th>날짜</th>\n",
              "      <th>삼성전자</th>\n",
              "      <th>LG전자</th>\n",
              "      <th>합계</th>\n",
              "    </tr>\n",
              "  </thead>\n",
              "  <tbody>\n",
              "    <tr>\n",
              "      <th>3</th>\n",
              "      <td>2017-01</td>\n",
              "      <td>112.86761</td>\n",
              "      <td>59.11641</td>\n",
              "      <td>172.0</td>\n",
              "    </tr>\n",
              "    <tr>\n",
              "      <th>4</th>\n",
              "      <td>2017-02</td>\n",
              "      <td>121.95995</td>\n",
              "      <td>42.20130</td>\n",
              "      <td>164.2</td>\n",
              "    </tr>\n",
              "  </tbody>\n",
              "</table>\n",
              "</div>"
            ],
            "text/plain": [
              "        날짜       삼성전자      LG전자     합계\n",
              "3  2017-01  112.86761  59.11641  172.0\n",
              "4  2017-02  121.95995  42.20130  164.2"
            ]
          },
          "metadata": {
            "tags": []
          },
          "execution_count": 160
        }
      ]
    },
    {
      "metadata": {
        "id": "0vDjz4R3uTLq",
        "colab_type": "code",
        "colab": {
          "base_uri": "https://localhost:8080/",
          "height": 136
        },
        "outputId": "4f731487-dfdc-4c39-d01c-1f0916a5c7b6"
      },
      "cell_type": "code",
      "source": [
        "df.loc[3:5] # row 3~5 (loc일 때는 5도 포함)"
      ],
      "execution_count": 162,
      "outputs": [
        {
          "output_type": "execute_result",
          "data": {
            "text/html": [
              "<div>\n",
              "<style scoped>\n",
              "    .dataframe tbody tr th:only-of-type {\n",
              "        vertical-align: middle;\n",
              "    }\n",
              "\n",
              "    .dataframe tbody tr th {\n",
              "        vertical-align: top;\n",
              "    }\n",
              "\n",
              "    .dataframe thead th {\n",
              "        text-align: right;\n",
              "    }\n",
              "</style>\n",
              "<table border=\"1\" class=\"dataframe\">\n",
              "  <thead>\n",
              "    <tr style=\"text-align: right;\">\n",
              "      <th></th>\n",
              "      <th>날짜</th>\n",
              "      <th>삼성전자</th>\n",
              "      <th>LG전자</th>\n",
              "      <th>합계</th>\n",
              "    </tr>\n",
              "  </thead>\n",
              "  <tbody>\n",
              "    <tr>\n",
              "      <th>3</th>\n",
              "      <td>2017-01</td>\n",
              "      <td>112.86761</td>\n",
              "      <td>59.11641</td>\n",
              "      <td>172.0</td>\n",
              "    </tr>\n",
              "    <tr>\n",
              "      <th>4</th>\n",
              "      <td>2017-02</td>\n",
              "      <td>121.95995</td>\n",
              "      <td>42.20130</td>\n",
              "      <td>164.2</td>\n",
              "    </tr>\n",
              "    <tr>\n",
              "      <th>5</th>\n",
              "      <td>2017-03</td>\n",
              "      <td>129.22589</td>\n",
              "      <td>141.47994</td>\n",
              "      <td>270.7</td>\n",
              "    </tr>\n",
              "  </tbody>\n",
              "</table>\n",
              "</div>"
            ],
            "text/plain": [
              "        날짜       삼성전자       LG전자     합계\n",
              "3  2017-01  112.86761   59.11641  172.0\n",
              "4  2017-02  121.95995   42.20130  164.2\n",
              "5  2017-03  129.22589  141.47994  270.7"
            ]
          },
          "metadata": {
            "tags": []
          },
          "execution_count": 162
        }
      ]
    },
    {
      "metadata": {
        "id": "ibtaJ_ERuWhe",
        "colab_type": "code",
        "colab": {
          "base_uri": "https://localhost:8080/",
          "height": 225
        },
        "outputId": "07cb34fe-753f-43f7-cdbd-16fc893705b4"
      },
      "cell_type": "code",
      "source": [
        "df.loc[:, 'LG전자':'합계'] # 전체 row 컬럼 'skt'~'sum' 선택 \n",
        "#[행-> 처음 행부터 끝까지, 열-> LG전자,합계 2개]"
      ],
      "execution_count": 164,
      "outputs": [
        {
          "output_type": "execute_result",
          "data": {
            "text/html": [
              "<div>\n",
              "<style scoped>\n",
              "    .dataframe tbody tr th:only-of-type {\n",
              "        vertical-align: middle;\n",
              "    }\n",
              "\n",
              "    .dataframe tbody tr th {\n",
              "        vertical-align: top;\n",
              "    }\n",
              "\n",
              "    .dataframe thead th {\n",
              "        text-align: right;\n",
              "    }\n",
              "</style>\n",
              "<table border=\"1\" class=\"dataframe\">\n",
              "  <thead>\n",
              "    <tr style=\"text-align: right;\">\n",
              "      <th></th>\n",
              "      <th>LG전자</th>\n",
              "      <th>합계</th>\n",
              "    </tr>\n",
              "  </thead>\n",
              "  <tbody>\n",
              "    <tr>\n",
              "      <th>0</th>\n",
              "      <td>136.11721</td>\n",
              "      <td>369.7</td>\n",
              "    </tr>\n",
              "    <tr>\n",
              "      <th>1</th>\n",
              "      <td>145.20911</td>\n",
              "      <td>359.3</td>\n",
              "    </tr>\n",
              "    <tr>\n",
              "      <th>2</th>\n",
              "      <td>200.73843</td>\n",
              "      <td>360.1</td>\n",
              "    </tr>\n",
              "    <tr>\n",
              "      <th>3</th>\n",
              "      <td>59.11641</td>\n",
              "      <td>172.0</td>\n",
              "    </tr>\n",
              "    <tr>\n",
              "      <th>4</th>\n",
              "      <td>42.20130</td>\n",
              "      <td>164.2</td>\n",
              "    </tr>\n",
              "    <tr>\n",
              "      <th>5</th>\n",
              "      <td>141.47994</td>\n",
              "      <td>270.7</td>\n",
              "    </tr>\n",
              "  </tbody>\n",
              "</table>\n",
              "</div>"
            ],
            "text/plain": [
              "        LG전자     합계\n",
              "0  136.11721  369.7\n",
              "1  145.20911  359.3\n",
              "2  200.73843  360.1\n",
              "3   59.11641  172.0\n",
              "4   42.20130  164.2\n",
              "5  141.47994  270.7"
            ]
          },
          "metadata": {
            "tags": []
          },
          "execution_count": 164
        }
      ]
    },
    {
      "metadata": {
        "id": "1eY_s469ut7U",
        "colab_type": "text"
      },
      "cell_type": "markdown",
      "source": [
        "# 불린인덱스"
      ]
    },
    {
      "metadata": {
        "id": "-m8vdNUQugQk",
        "colab_type": "code",
        "colab": {
          "base_uri": "https://localhost:8080/",
          "height": 225
        },
        "outputId": "a8e8cdb1-da9b-4e6d-f94a-dd76f5c9c4b9"
      },
      "cell_type": "code",
      "source": [
        "df\n",
        "\n",
        "df.삼성전자 > 90\n",
        "\n",
        "df[df.삼성전자 > 90]"
      ],
      "execution_count": 165,
      "outputs": [
        {
          "output_type": "execute_result",
          "data": {
            "text/html": [
              "<div>\n",
              "<style scoped>\n",
              "    .dataframe tbody tr th:only-of-type {\n",
              "        vertical-align: middle;\n",
              "    }\n",
              "\n",
              "    .dataframe tbody tr th {\n",
              "        vertical-align: top;\n",
              "    }\n",
              "\n",
              "    .dataframe thead th {\n",
              "        text-align: right;\n",
              "    }\n",
              "</style>\n",
              "<table border=\"1\" class=\"dataframe\">\n",
              "  <thead>\n",
              "    <tr style=\"text-align: right;\">\n",
              "      <th></th>\n",
              "      <th>날짜</th>\n",
              "      <th>삼성전자</th>\n",
              "      <th>LG전자</th>\n",
              "      <th>합계</th>\n",
              "    </tr>\n",
              "  </thead>\n",
              "  <tbody>\n",
              "    <tr>\n",
              "      <th>0</th>\n",
              "      <td>2016-10</td>\n",
              "      <td>233.53920</td>\n",
              "      <td>136.11721</td>\n",
              "      <td>369.7</td>\n",
              "    </tr>\n",
              "    <tr>\n",
              "      <th>1</th>\n",
              "      <td>2016-11</td>\n",
              "      <td>214.05206</td>\n",
              "      <td>145.20911</td>\n",
              "      <td>359.3</td>\n",
              "    </tr>\n",
              "    <tr>\n",
              "      <th>2</th>\n",
              "      <td>2016-12</td>\n",
              "      <td>159.32536</td>\n",
              "      <td>200.73843</td>\n",
              "      <td>360.1</td>\n",
              "    </tr>\n",
              "    <tr>\n",
              "      <th>3</th>\n",
              "      <td>2017-01</td>\n",
              "      <td>112.86761</td>\n",
              "      <td>59.11641</td>\n",
              "      <td>172.0</td>\n",
              "    </tr>\n",
              "    <tr>\n",
              "      <th>4</th>\n",
              "      <td>2017-02</td>\n",
              "      <td>121.95995</td>\n",
              "      <td>42.20130</td>\n",
              "      <td>164.2</td>\n",
              "    </tr>\n",
              "    <tr>\n",
              "      <th>5</th>\n",
              "      <td>2017-03</td>\n",
              "      <td>129.22589</td>\n",
              "      <td>141.47994</td>\n",
              "      <td>270.7</td>\n",
              "    </tr>\n",
              "  </tbody>\n",
              "</table>\n",
              "</div>"
            ],
            "text/plain": [
              "        날짜       삼성전자       LG전자     합계\n",
              "0  2016-10  233.53920  136.11721  369.7\n",
              "1  2016-11  214.05206  145.20911  359.3\n",
              "2  2016-12  159.32536  200.73843  360.1\n",
              "3  2017-01  112.86761   59.11641  172.0\n",
              "4  2017-02  121.95995   42.20130  164.2\n",
              "5  2017-03  129.22589  141.47994  270.7"
            ]
          },
          "metadata": {
            "tags": []
          },
          "execution_count": 165
        }
      ]
    },
    {
      "metadata": {
        "id": "UiEjFLKhu2mC",
        "colab_type": "text"
      },
      "cell_type": "markdown",
      "source": [
        "## 다양한 불린 인덱스"
      ]
    },
    {
      "metadata": {
        "id": "poW0hldWuwSY",
        "colab_type": "code",
        "colab": {
          "base_uri": "https://localhost:8080/",
          "height": 225
        },
        "outputId": "4ffbf682-1ce3-4557-8783-ee64a8957edd"
      },
      "cell_type": "code",
      "source": [
        "df"
      ],
      "execution_count": 166,
      "outputs": [
        {
          "output_type": "execute_result",
          "data": {
            "text/html": [
              "<div>\n",
              "<style scoped>\n",
              "    .dataframe tbody tr th:only-of-type {\n",
              "        vertical-align: middle;\n",
              "    }\n",
              "\n",
              "    .dataframe tbody tr th {\n",
              "        vertical-align: top;\n",
              "    }\n",
              "\n",
              "    .dataframe thead th {\n",
              "        text-align: right;\n",
              "    }\n",
              "</style>\n",
              "<table border=\"1\" class=\"dataframe\">\n",
              "  <thead>\n",
              "    <tr style=\"text-align: right;\">\n",
              "      <th></th>\n",
              "      <th>날짜</th>\n",
              "      <th>삼성전자</th>\n",
              "      <th>LG전자</th>\n",
              "      <th>합계</th>\n",
              "    </tr>\n",
              "  </thead>\n",
              "  <tbody>\n",
              "    <tr>\n",
              "      <th>0</th>\n",
              "      <td>2016-10</td>\n",
              "      <td>233.53920</td>\n",
              "      <td>136.11721</td>\n",
              "      <td>369.7</td>\n",
              "    </tr>\n",
              "    <tr>\n",
              "      <th>1</th>\n",
              "      <td>2016-11</td>\n",
              "      <td>214.05206</td>\n",
              "      <td>145.20911</td>\n",
              "      <td>359.3</td>\n",
              "    </tr>\n",
              "    <tr>\n",
              "      <th>2</th>\n",
              "      <td>2016-12</td>\n",
              "      <td>159.32536</td>\n",
              "      <td>200.73843</td>\n",
              "      <td>360.1</td>\n",
              "    </tr>\n",
              "    <tr>\n",
              "      <th>3</th>\n",
              "      <td>2017-01</td>\n",
              "      <td>112.86761</td>\n",
              "      <td>59.11641</td>\n",
              "      <td>172.0</td>\n",
              "    </tr>\n",
              "    <tr>\n",
              "      <th>4</th>\n",
              "      <td>2017-02</td>\n",
              "      <td>121.95995</td>\n",
              "      <td>42.20130</td>\n",
              "      <td>164.2</td>\n",
              "    </tr>\n",
              "    <tr>\n",
              "      <th>5</th>\n",
              "      <td>2017-03</td>\n",
              "      <td>129.22589</td>\n",
              "      <td>141.47994</td>\n",
              "      <td>270.7</td>\n",
              "    </tr>\n",
              "  </tbody>\n",
              "</table>\n",
              "</div>"
            ],
            "text/plain": [
              "        날짜       삼성전자       LG전자     합계\n",
              "0  2016-10  233.53920  136.11721  369.7\n",
              "1  2016-11  214.05206  145.20911  359.3\n",
              "2  2016-12  159.32536  200.73843  360.1\n",
              "3  2017-01  112.86761   59.11641  172.0\n",
              "4  2017-02  121.95995   42.20130  164.2\n",
              "5  2017-03  129.22589  141.47994  270.7"
            ]
          },
          "metadata": {
            "tags": []
          },
          "execution_count": 166
        }
      ]
    },
    {
      "metadata": {
        "id": "0evSfpK0u7WQ",
        "colab_type": "code",
        "colab": {
          "base_uri": "https://localhost:8080/",
          "height": 140
        },
        "outputId": "759e6aad-3054-4c27-e03f-5973b32717e0"
      },
      "cell_type": "code",
      "source": [
        "(150 < df.삼성전자 ) & (df.삼성전자 < 220)"
      ],
      "execution_count": 167,
      "outputs": [
        {
          "output_type": "execute_result",
          "data": {
            "text/plain": [
              "0    False\n",
              "1     True\n",
              "2     True\n",
              "3    False\n",
              "4    False\n",
              "5    False\n",
              "Name: 삼성전자, dtype: bool"
            ]
          },
          "metadata": {
            "tags": []
          },
          "execution_count": 167
        }
      ]
    },
    {
      "metadata": {
        "id": "vSJVy9Jyu_zi",
        "colab_type": "code",
        "colab": {
          "base_uri": "https://localhost:8080/",
          "height": 106
        },
        "outputId": "8a6b8942-a1c1-4c05-e907-c331d123770f"
      },
      "cell_type": "code",
      "source": [
        "df[(150 < df.삼성전자 ) & (df.삼성전자 < 220)]"
      ],
      "execution_count": 168,
      "outputs": [
        {
          "output_type": "execute_result",
          "data": {
            "text/html": [
              "<div>\n",
              "<style scoped>\n",
              "    .dataframe tbody tr th:only-of-type {\n",
              "        vertical-align: middle;\n",
              "    }\n",
              "\n",
              "    .dataframe tbody tr th {\n",
              "        vertical-align: top;\n",
              "    }\n",
              "\n",
              "    .dataframe thead th {\n",
              "        text-align: right;\n",
              "    }\n",
              "</style>\n",
              "<table border=\"1\" class=\"dataframe\">\n",
              "  <thead>\n",
              "    <tr style=\"text-align: right;\">\n",
              "      <th></th>\n",
              "      <th>날짜</th>\n",
              "      <th>삼성전자</th>\n",
              "      <th>LG전자</th>\n",
              "      <th>합계</th>\n",
              "    </tr>\n",
              "  </thead>\n",
              "  <tbody>\n",
              "    <tr>\n",
              "      <th>1</th>\n",
              "      <td>2016-11</td>\n",
              "      <td>214.05206</td>\n",
              "      <td>145.20911</td>\n",
              "      <td>359.3</td>\n",
              "    </tr>\n",
              "    <tr>\n",
              "      <th>2</th>\n",
              "      <td>2016-12</td>\n",
              "      <td>159.32536</td>\n",
              "      <td>200.73843</td>\n",
              "      <td>360.1</td>\n",
              "    </tr>\n",
              "  </tbody>\n",
              "</table>\n",
              "</div>"
            ],
            "text/plain": [
              "        날짜       삼성전자       LG전자     합계\n",
              "1  2016-11  214.05206  145.20911  359.3\n",
              "2  2016-12  159.32536  200.73843  360.1"
            ]
          },
          "metadata": {
            "tags": []
          },
          "execution_count": 168
        }
      ]
    },
    {
      "metadata": {
        "id": "qMVWiTJevBue",
        "colab_type": "code",
        "colab": {
          "base_uri": "https://localhost:8080/",
          "height": 166
        },
        "outputId": "0e35b5cb-250b-43a0-978f-9adb38389f20"
      },
      "cell_type": "code",
      "source": [
        "df[(df.삼성전자 < 150) | (220 < df.삼성전자)]"
      ],
      "execution_count": 169,
      "outputs": [
        {
          "output_type": "execute_result",
          "data": {
            "text/html": [
              "<div>\n",
              "<style scoped>\n",
              "    .dataframe tbody tr th:only-of-type {\n",
              "        vertical-align: middle;\n",
              "    }\n",
              "\n",
              "    .dataframe tbody tr th {\n",
              "        vertical-align: top;\n",
              "    }\n",
              "\n",
              "    .dataframe thead th {\n",
              "        text-align: right;\n",
              "    }\n",
              "</style>\n",
              "<table border=\"1\" class=\"dataframe\">\n",
              "  <thead>\n",
              "    <tr style=\"text-align: right;\">\n",
              "      <th></th>\n",
              "      <th>날짜</th>\n",
              "      <th>삼성전자</th>\n",
              "      <th>LG전자</th>\n",
              "      <th>합계</th>\n",
              "    </tr>\n",
              "  </thead>\n",
              "  <tbody>\n",
              "    <tr>\n",
              "      <th>0</th>\n",
              "      <td>2016-10</td>\n",
              "      <td>233.53920</td>\n",
              "      <td>136.11721</td>\n",
              "      <td>369.7</td>\n",
              "    </tr>\n",
              "    <tr>\n",
              "      <th>3</th>\n",
              "      <td>2017-01</td>\n",
              "      <td>112.86761</td>\n",
              "      <td>59.11641</td>\n",
              "      <td>172.0</td>\n",
              "    </tr>\n",
              "    <tr>\n",
              "      <th>4</th>\n",
              "      <td>2017-02</td>\n",
              "      <td>121.95995</td>\n",
              "      <td>42.20130</td>\n",
              "      <td>164.2</td>\n",
              "    </tr>\n",
              "    <tr>\n",
              "      <th>5</th>\n",
              "      <td>2017-03</td>\n",
              "      <td>129.22589</td>\n",
              "      <td>141.47994</td>\n",
              "      <td>270.7</td>\n",
              "    </tr>\n",
              "  </tbody>\n",
              "</table>\n",
              "</div>"
            ],
            "text/plain": [
              "        날짜       삼성전자       LG전자     합계\n",
              "0  2016-10  233.53920  136.11721  369.7\n",
              "3  2017-01  112.86761   59.11641  172.0\n",
              "4  2017-02  121.95995   42.20130  164.2\n",
              "5  2017-03  129.22589  141.47994  270.7"
            ]
          },
          "metadata": {
            "tags": []
          },
          "execution_count": 169
        }
      ]
    },
    {
      "metadata": {
        "id": "EjVDotGKvHo6",
        "colab_type": "text"
      },
      "cell_type": "markdown",
      "source": [
        "#소트\n",
        "인덱스 혹은 특정 컬럼으로 소트\n",
        "\n",
        "* 인덱스로 소트 (내림차순) \n",
        "df.sort_index(ascending=False)\n",
        "\n",
        "* skt 컬럼으로 (내림차순)\n",
        "df.sort_values(by='삼성전자', ascending=False)"
      ]
    },
    {
      "metadata": {
        "id": "L3VpfYWavTEe",
        "colab_type": "text"
      },
      "cell_type": "markdown",
      "source": [
        "##인덱스로 소트"
      ]
    },
    {
      "metadata": {
        "id": "xjknI_T9vZ2j",
        "colab_type": "code",
        "colab": {
          "base_uri": "https://localhost:8080/",
          "height": 225
        },
        "outputId": "b75d7a90-476c-41c7-8291-073dbcf45c8b"
      },
      "cell_type": "code",
      "source": [
        "df.sort_index(ascending=False) "
      ],
      "execution_count": 171,
      "outputs": [
        {
          "output_type": "execute_result",
          "data": {
            "text/html": [
              "<div>\n",
              "<style scoped>\n",
              "    .dataframe tbody tr th:only-of-type {\n",
              "        vertical-align: middle;\n",
              "    }\n",
              "\n",
              "    .dataframe tbody tr th {\n",
              "        vertical-align: top;\n",
              "    }\n",
              "\n",
              "    .dataframe thead th {\n",
              "        text-align: right;\n",
              "    }\n",
              "</style>\n",
              "<table border=\"1\" class=\"dataframe\">\n",
              "  <thead>\n",
              "    <tr style=\"text-align: right;\">\n",
              "      <th></th>\n",
              "      <th>날짜</th>\n",
              "      <th>삼성전자</th>\n",
              "      <th>LG전자</th>\n",
              "      <th>합계</th>\n",
              "    </tr>\n",
              "  </thead>\n",
              "  <tbody>\n",
              "    <tr>\n",
              "      <th>5</th>\n",
              "      <td>2017-03</td>\n",
              "      <td>129.22589</td>\n",
              "      <td>141.47994</td>\n",
              "      <td>270.7</td>\n",
              "    </tr>\n",
              "    <tr>\n",
              "      <th>4</th>\n",
              "      <td>2017-02</td>\n",
              "      <td>121.95995</td>\n",
              "      <td>42.20130</td>\n",
              "      <td>164.2</td>\n",
              "    </tr>\n",
              "    <tr>\n",
              "      <th>3</th>\n",
              "      <td>2017-01</td>\n",
              "      <td>112.86761</td>\n",
              "      <td>59.11641</td>\n",
              "      <td>172.0</td>\n",
              "    </tr>\n",
              "    <tr>\n",
              "      <th>2</th>\n",
              "      <td>2016-12</td>\n",
              "      <td>159.32536</td>\n",
              "      <td>200.73843</td>\n",
              "      <td>360.1</td>\n",
              "    </tr>\n",
              "    <tr>\n",
              "      <th>1</th>\n",
              "      <td>2016-11</td>\n",
              "      <td>214.05206</td>\n",
              "      <td>145.20911</td>\n",
              "      <td>359.3</td>\n",
              "    </tr>\n",
              "    <tr>\n",
              "      <th>0</th>\n",
              "      <td>2016-10</td>\n",
              "      <td>233.53920</td>\n",
              "      <td>136.11721</td>\n",
              "      <td>369.7</td>\n",
              "    </tr>\n",
              "  </tbody>\n",
              "</table>\n",
              "</div>"
            ],
            "text/plain": [
              "        날짜       삼성전자       LG전자     합계\n",
              "5  2017-03  129.22589  141.47994  270.7\n",
              "4  2017-02  121.95995   42.20130  164.2\n",
              "3  2017-01  112.86761   59.11641  172.0\n",
              "2  2016-12  159.32536  200.73843  360.1\n",
              "1  2016-11  214.05206  145.20911  359.3\n",
              "0  2016-10  233.53920  136.11721  369.7"
            ]
          },
          "metadata": {
            "tags": []
          },
          "execution_count": 171
        }
      ]
    },
    {
      "metadata": {
        "id": "nIXPv1sYvUw6",
        "colab_type": "text"
      },
      "cell_type": "markdown",
      "source": [
        "## 컬럼으로 소트\n",
        "\n",
        "\n",
        "ascending=False (내림차순), 일반적으로 TOP-N을 구하는데 많이 사용한다. \n",
        "\n",
        "(skt의 광고비 지출이 많은 순서는 5월, 2월, 6월 순)"
      ]
    },
    {
      "metadata": {
        "id": "bwDY0GGOvEWF",
        "colab_type": "code",
        "colab": {
          "base_uri": "https://localhost:8080/",
          "height": 225
        },
        "outputId": "7a9c2ae2-3a1b-4864-cbdc-81ff0c10333a"
      },
      "cell_type": "code",
      "source": [
        "df.sort_values(by='삼성전자', ascending=False) "
      ],
      "execution_count": 170,
      "outputs": [
        {
          "output_type": "execute_result",
          "data": {
            "text/html": [
              "<div>\n",
              "<style scoped>\n",
              "    .dataframe tbody tr th:only-of-type {\n",
              "        vertical-align: middle;\n",
              "    }\n",
              "\n",
              "    .dataframe tbody tr th {\n",
              "        vertical-align: top;\n",
              "    }\n",
              "\n",
              "    .dataframe thead th {\n",
              "        text-align: right;\n",
              "    }\n",
              "</style>\n",
              "<table border=\"1\" class=\"dataframe\">\n",
              "  <thead>\n",
              "    <tr style=\"text-align: right;\">\n",
              "      <th></th>\n",
              "      <th>날짜</th>\n",
              "      <th>삼성전자</th>\n",
              "      <th>LG전자</th>\n",
              "      <th>합계</th>\n",
              "    </tr>\n",
              "  </thead>\n",
              "  <tbody>\n",
              "    <tr>\n",
              "      <th>0</th>\n",
              "      <td>2016-10</td>\n",
              "      <td>233.53920</td>\n",
              "      <td>136.11721</td>\n",
              "      <td>369.7</td>\n",
              "    </tr>\n",
              "    <tr>\n",
              "      <th>1</th>\n",
              "      <td>2016-11</td>\n",
              "      <td>214.05206</td>\n",
              "      <td>145.20911</td>\n",
              "      <td>359.3</td>\n",
              "    </tr>\n",
              "    <tr>\n",
              "      <th>2</th>\n",
              "      <td>2016-12</td>\n",
              "      <td>159.32536</td>\n",
              "      <td>200.73843</td>\n",
              "      <td>360.1</td>\n",
              "    </tr>\n",
              "    <tr>\n",
              "      <th>5</th>\n",
              "      <td>2017-03</td>\n",
              "      <td>129.22589</td>\n",
              "      <td>141.47994</td>\n",
              "      <td>270.7</td>\n",
              "    </tr>\n",
              "    <tr>\n",
              "      <th>4</th>\n",
              "      <td>2017-02</td>\n",
              "      <td>121.95995</td>\n",
              "      <td>42.20130</td>\n",
              "      <td>164.2</td>\n",
              "    </tr>\n",
              "    <tr>\n",
              "      <th>3</th>\n",
              "      <td>2017-01</td>\n",
              "      <td>112.86761</td>\n",
              "      <td>59.11641</td>\n",
              "      <td>172.0</td>\n",
              "    </tr>\n",
              "  </tbody>\n",
              "</table>\n",
              "</div>"
            ],
            "text/plain": [
              "        날짜       삼성전자       LG전자     합계\n",
              "0  2016-10  233.53920  136.11721  369.7\n",
              "1  2016-11  214.05206  145.20911  359.3\n",
              "2  2016-12  159.32536  200.73843  360.1\n",
              "5  2017-03  129.22589  141.47994  270.7\n",
              "4  2017-02  121.95995   42.20130  164.2\n",
              "3  2017-01  112.86761   59.11641  172.0"
            ]
          },
          "metadata": {
            "tags": []
          },
          "execution_count": 170
        }
      ]
    },
    {
      "metadata": {
        "id": "7GG7UKVTvmqZ",
        "colab_type": "text"
      },
      "cell_type": "markdown",
      "source": [
        "#축 변환\n",
        "\n",
        "* 컬럼과 인덱스 축 바꾸기\n",
        "* 엑셀 선택하여 붙여넣기, 행/열 바꿈\n",
        "* 대칭 행렬(symmetric matrix)"
      ]
    },
    {
      "metadata": {
        "id": "G2MP9MX4vXWg",
        "colab_type": "code",
        "colab": {
          "base_uri": "https://localhost:8080/",
          "height": 166
        },
        "outputId": "31b2063f-eab6-4cff-eb97-13ddcbeeb231"
      },
      "cell_type": "code",
      "source": [
        "df.T"
      ],
      "execution_count": 172,
      "outputs": [
        {
          "output_type": "execute_result",
          "data": {
            "text/html": [
              "<div>\n",
              "<style scoped>\n",
              "    .dataframe tbody tr th:only-of-type {\n",
              "        vertical-align: middle;\n",
              "    }\n",
              "\n",
              "    .dataframe tbody tr th {\n",
              "        vertical-align: top;\n",
              "    }\n",
              "\n",
              "    .dataframe thead th {\n",
              "        text-align: right;\n",
              "    }\n",
              "</style>\n",
              "<table border=\"1\" class=\"dataframe\">\n",
              "  <thead>\n",
              "    <tr style=\"text-align: right;\">\n",
              "      <th></th>\n",
              "      <th>0</th>\n",
              "      <th>1</th>\n",
              "      <th>2</th>\n",
              "      <th>3</th>\n",
              "      <th>4</th>\n",
              "      <th>5</th>\n",
              "    </tr>\n",
              "  </thead>\n",
              "  <tbody>\n",
              "    <tr>\n",
              "      <th>날짜</th>\n",
              "      <td>2016-10</td>\n",
              "      <td>2016-11</td>\n",
              "      <td>2016-12</td>\n",
              "      <td>2017-01</td>\n",
              "      <td>2017-02</td>\n",
              "      <td>2017-03</td>\n",
              "    </tr>\n",
              "    <tr>\n",
              "      <th>삼성전자</th>\n",
              "      <td>233.539</td>\n",
              "      <td>214.052</td>\n",
              "      <td>159.325</td>\n",
              "      <td>112.868</td>\n",
              "      <td>121.96</td>\n",
              "      <td>129.226</td>\n",
              "    </tr>\n",
              "    <tr>\n",
              "      <th>LG전자</th>\n",
              "      <td>136.117</td>\n",
              "      <td>145.209</td>\n",
              "      <td>200.738</td>\n",
              "      <td>59.1164</td>\n",
              "      <td>42.2013</td>\n",
              "      <td>141.48</td>\n",
              "    </tr>\n",
              "    <tr>\n",
              "      <th>합계</th>\n",
              "      <td>369.7</td>\n",
              "      <td>359.3</td>\n",
              "      <td>360.1</td>\n",
              "      <td>172</td>\n",
              "      <td>164.2</td>\n",
              "      <td>270.7</td>\n",
              "    </tr>\n",
              "  </tbody>\n",
              "</table>\n",
              "</div>"
            ],
            "text/plain": [
              "            0        1        2        3        4        5\n",
              "날짜    2016-10  2016-11  2016-12  2017-01  2017-02  2017-03\n",
              "삼성전자  233.539  214.052  159.325  112.868   121.96  129.226\n",
              "LG전자  136.117  145.209  200.738  59.1164  42.2013   141.48\n",
              "합계      369.7    359.3    360.1      172    164.2    270.7"
            ]
          },
          "metadata": {
            "tags": []
          },
          "execution_count": 172
        }
      ]
    },
    {
      "metadata": {
        "id": "k5wFPJ74vw4K",
        "colab_type": "text"
      },
      "cell_type": "markdown",
      "source": [
        "\n",
        "# +) 리뷰\n",
        "* DataFrame 구조 df.columns, df.index, df.values\n",
        "* 필터링 df[df.skt > 90] >>>>>>>>>>>>>>>>>>>>>>>>> 가장 많이 씀\n",
        "* df.sort_values(by='column', ascending=False)>>>>> 가장 많이 씀\n",
        "* 축 변환 df.T"
      ]
    },
    {
      "metadata": {
        "id": "gBTFnuWfwSzS",
        "colab_type": "text"
      },
      "cell_type": "markdown",
      "source": [
        "#Pandas-04 Advanced Indexing"
      ]
    },
    {
      "metadata": {
        "id": "54EmUk98wYXn",
        "colab_type": "text"
      },
      "cell_type": "markdown",
      "source": [
        "## 인덱싱에 사용하는 메소드 (중요)\n",
        "* loc[] - 라벨(label) 인덱싱\n",
        "* iloc[] - 정수(integer positional) 인덱싱(0 ~ 길이-1)\n",
        "\n",
        "loc는 라벨로 인덱싱할 때, iloc는 정수(integer)로 인덱싱할 때 사용"
      ]
    },
    {
      "metadata": {
        "id": "Qite1TcyrL2O",
        "colab_type": "code",
        "colab": {}
      },
      "cell_type": "code",
      "source": [
        "from IPython.display import display\n",
        "import pandas as pd"
      ],
      "execution_count": 0,
      "outputs": []
    },
    {
      "metadata": {
        "id": "aR4Psc_6r_MK",
        "colab_type": "code",
        "colab": {
          "base_uri": "https://localhost:8080/",
          "height": 195
        },
        "outputId": "27167412-e4cc-405f-ffc2-1c2fa0f44be1"
      },
      "cell_type": "code",
      "source": [
        "\n",
        "data = {\n",
        "    'A':['KO', 'US', 'EU', 'US', 'EU'], \n",
        "    'B':[54, 67, 89, 203, 101], \n",
        "    'C':['Seoul', 'New york', 'Paris', 'LA', 'London']}\n",
        "\n",
        "df =pd.DataFrame(data)\n",
        "\n",
        "\n",
        "display(df)\n",
        "\n"
      ],
      "execution_count": 3,
      "outputs": [
        {
          "output_type": "display_data",
          "data": {
            "text/html": [
              "<div>\n",
              "<style scoped>\n",
              "    .dataframe tbody tr th:only-of-type {\n",
              "        vertical-align: middle;\n",
              "    }\n",
              "\n",
              "    .dataframe tbody tr th {\n",
              "        vertical-align: top;\n",
              "    }\n",
              "\n",
              "    .dataframe thead th {\n",
              "        text-align: right;\n",
              "    }\n",
              "</style>\n",
              "<table border=\"1\" class=\"dataframe\">\n",
              "  <thead>\n",
              "    <tr style=\"text-align: right;\">\n",
              "      <th></th>\n",
              "      <th>A</th>\n",
              "      <th>B</th>\n",
              "      <th>C</th>\n",
              "    </tr>\n",
              "  </thead>\n",
              "  <tbody>\n",
              "    <tr>\n",
              "      <th>0</th>\n",
              "      <td>KO</td>\n",
              "      <td>54</td>\n",
              "      <td>Seoul</td>\n",
              "    </tr>\n",
              "    <tr>\n",
              "      <th>1</th>\n",
              "      <td>US</td>\n",
              "      <td>67</td>\n",
              "      <td>New york</td>\n",
              "    </tr>\n",
              "    <tr>\n",
              "      <th>2</th>\n",
              "      <td>EU</td>\n",
              "      <td>89</td>\n",
              "      <td>Paris</td>\n",
              "    </tr>\n",
              "    <tr>\n",
              "      <th>3</th>\n",
              "      <td>US</td>\n",
              "      <td>203</td>\n",
              "      <td>LA</td>\n",
              "    </tr>\n",
              "    <tr>\n",
              "      <th>4</th>\n",
              "      <td>EU</td>\n",
              "      <td>101</td>\n",
              "      <td>London</td>\n",
              "    </tr>\n",
              "  </tbody>\n",
              "</table>\n",
              "</div>"
            ],
            "text/plain": [
              "    A    B         C\n",
              "0  KO   54     Seoul\n",
              "1  US   67  New york\n",
              "2  EU   89     Paris\n",
              "3  US  203        LA\n",
              "4  EU  101    London"
            ]
          },
          "metadata": {
            "tags": []
          }
        }
      ]
    },
    {
      "metadata": {
        "id": "4F5ieErhsirx",
        "colab_type": "code",
        "colab": {
          "base_uri": "https://localhost:8080/",
          "height": 122
        },
        "outputId": "00dd36c2-7fea-41d1-c47a-12ed723ddfe6"
      },
      "cell_type": "code",
      "source": [
        "df['A']=='EU'"
      ],
      "execution_count": 4,
      "outputs": [
        {
          "output_type": "execute_result",
          "data": {
            "text/plain": [
              "0    False\n",
              "1    False\n",
              "2     True\n",
              "3    False\n",
              "4     True\n",
              "Name: A, dtype: bool"
            ]
          },
          "metadata": {
            "tags": []
          },
          "execution_count": 4
        }
      ]
    },
    {
      "metadata": {
        "id": "zwlWRRz2sqIk",
        "colab_type": "code",
        "colab": {
          "base_uri": "https://localhost:8080/",
          "height": 106
        },
        "outputId": "34727bd8-e469-4692-e6f1-58ba5bc21452"
      },
      "cell_type": "code",
      "source": [
        "df[df['A']=='EU']\n",
        "\n",
        "# 'A'열이 EU인 것을 골라서 dataframe 형태로 보여라."
      ],
      "execution_count": 6,
      "outputs": [
        {
          "output_type": "execute_result",
          "data": {
            "text/html": [
              "<div>\n",
              "<style scoped>\n",
              "    .dataframe tbody tr th:only-of-type {\n",
              "        vertical-align: middle;\n",
              "    }\n",
              "\n",
              "    .dataframe tbody tr th {\n",
              "        vertical-align: top;\n",
              "    }\n",
              "\n",
              "    .dataframe thead th {\n",
              "        text-align: right;\n",
              "    }\n",
              "</style>\n",
              "<table border=\"1\" class=\"dataframe\">\n",
              "  <thead>\n",
              "    <tr style=\"text-align: right;\">\n",
              "      <th></th>\n",
              "      <th>A</th>\n",
              "      <th>B</th>\n",
              "      <th>C</th>\n",
              "    </tr>\n",
              "  </thead>\n",
              "  <tbody>\n",
              "    <tr>\n",
              "      <th>2</th>\n",
              "      <td>EU</td>\n",
              "      <td>89</td>\n",
              "      <td>Paris</td>\n",
              "    </tr>\n",
              "    <tr>\n",
              "      <th>4</th>\n",
              "      <td>EU</td>\n",
              "      <td>101</td>\n",
              "      <td>London</td>\n",
              "    </tr>\n",
              "  </tbody>\n",
              "</table>\n",
              "</div>"
            ],
            "text/plain": [
              "    A    B       C\n",
              "2  EU   89   Paris\n",
              "4  EU  101  London"
            ]
          },
          "metadata": {
            "tags": []
          },
          "execution_count": 6
        }
      ]
    },
    {
      "metadata": {
        "id": "Ydy4FceMtD-Y",
        "colab_type": "text"
      },
      "cell_type": "markdown",
      "source": [
        "# loc 인덱서 (위치, 라벨)\n",
        "\n",
        "행(Row)/열(Column)에 라벨/위치/불리언 인덱싱이 가능\n",
        "\n",
        "* 위치(숫자) 인덱싱 가능\n",
        "* 열에 라벨, 정수 인덱싱 가능\n",
        "* df.ix[0:2, ['A', 'C']]"
      ]
    },
    {
      "metadata": {
        "id": "QUrC8yp2uBrw",
        "colab_type": "text"
      },
      "cell_type": "markdown",
      "source": [
        "# iloc 인덱서 (정수)\n",
        "* 정수 인덱싱\n",
        "* 정수 리스트, 정수 슬라이싱\n",
        "* 불리언 배열 가능"
      ]
    },
    {
      "metadata": {
        "id": "bM6Hog3JtAwd",
        "colab_type": "code",
        "colab": {
          "base_uri": "https://localhost:8080/",
          "height": 702
        },
        "outputId": "f280c721-94b5-414e-c7d9-6dd4a64cf745"
      },
      "cell_type": "code",
      "source": [
        "# 행(row), 숫자 인덱싱\n",
        "display (df)\n",
        "display (df[0:2])  # 정수 인덱싱\n",
        "\n",
        "display (df.iloc[0:2, 0:2])  # 정수 인덱싱\n",
        "display (df.iloc[0:2, [0,2]])  # 정수 인덱싱\n",
        "\n",
        "\n",
        "display (df.loc[0:2, 'A':'B'])  # 라벨 인덱싱\n",
        "display (df.loc[0:2, ['A','C']])  # 라벨 인덱싱"
      ],
      "execution_count": 8,
      "outputs": [
        {
          "output_type": "display_data",
          "data": {
            "text/html": [
              "<div>\n",
              "<style scoped>\n",
              "    .dataframe tbody tr th:only-of-type {\n",
              "        vertical-align: middle;\n",
              "    }\n",
              "\n",
              "    .dataframe tbody tr th {\n",
              "        vertical-align: top;\n",
              "    }\n",
              "\n",
              "    .dataframe thead th {\n",
              "        text-align: right;\n",
              "    }\n",
              "</style>\n",
              "<table border=\"1\" class=\"dataframe\">\n",
              "  <thead>\n",
              "    <tr style=\"text-align: right;\">\n",
              "      <th></th>\n",
              "      <th>A</th>\n",
              "      <th>B</th>\n",
              "      <th>C</th>\n",
              "    </tr>\n",
              "  </thead>\n",
              "  <tbody>\n",
              "    <tr>\n",
              "      <th>0</th>\n",
              "      <td>KO</td>\n",
              "      <td>54</td>\n",
              "      <td>Seoul</td>\n",
              "    </tr>\n",
              "    <tr>\n",
              "      <th>1</th>\n",
              "      <td>US</td>\n",
              "      <td>67</td>\n",
              "      <td>New york</td>\n",
              "    </tr>\n",
              "    <tr>\n",
              "      <th>2</th>\n",
              "      <td>EU</td>\n",
              "      <td>89</td>\n",
              "      <td>Paris</td>\n",
              "    </tr>\n",
              "    <tr>\n",
              "      <th>3</th>\n",
              "      <td>US</td>\n",
              "      <td>203</td>\n",
              "      <td>LA</td>\n",
              "    </tr>\n",
              "    <tr>\n",
              "      <th>4</th>\n",
              "      <td>EU</td>\n",
              "      <td>101</td>\n",
              "      <td>London</td>\n",
              "    </tr>\n",
              "  </tbody>\n",
              "</table>\n",
              "</div>"
            ],
            "text/plain": [
              "    A    B         C\n",
              "0  KO   54     Seoul\n",
              "1  US   67  New york\n",
              "2  EU   89     Paris\n",
              "3  US  203        LA\n",
              "4  EU  101    London"
            ]
          },
          "metadata": {
            "tags": []
          }
        },
        {
          "output_type": "display_data",
          "data": {
            "text/html": [
              "<div>\n",
              "<style scoped>\n",
              "    .dataframe tbody tr th:only-of-type {\n",
              "        vertical-align: middle;\n",
              "    }\n",
              "\n",
              "    .dataframe tbody tr th {\n",
              "        vertical-align: top;\n",
              "    }\n",
              "\n",
              "    .dataframe thead th {\n",
              "        text-align: right;\n",
              "    }\n",
              "</style>\n",
              "<table border=\"1\" class=\"dataframe\">\n",
              "  <thead>\n",
              "    <tr style=\"text-align: right;\">\n",
              "      <th></th>\n",
              "      <th>A</th>\n",
              "      <th>B</th>\n",
              "      <th>C</th>\n",
              "    </tr>\n",
              "  </thead>\n",
              "  <tbody>\n",
              "    <tr>\n",
              "      <th>0</th>\n",
              "      <td>KO</td>\n",
              "      <td>54</td>\n",
              "      <td>Seoul</td>\n",
              "    </tr>\n",
              "    <tr>\n",
              "      <th>1</th>\n",
              "      <td>US</td>\n",
              "      <td>67</td>\n",
              "      <td>New york</td>\n",
              "    </tr>\n",
              "  </tbody>\n",
              "</table>\n",
              "</div>"
            ],
            "text/plain": [
              "    A   B         C\n",
              "0  KO  54     Seoul\n",
              "1  US  67  New york"
            ]
          },
          "metadata": {
            "tags": []
          }
        },
        {
          "output_type": "display_data",
          "data": {
            "text/html": [
              "<div>\n",
              "<style scoped>\n",
              "    .dataframe tbody tr th:only-of-type {\n",
              "        vertical-align: middle;\n",
              "    }\n",
              "\n",
              "    .dataframe tbody tr th {\n",
              "        vertical-align: top;\n",
              "    }\n",
              "\n",
              "    .dataframe thead th {\n",
              "        text-align: right;\n",
              "    }\n",
              "</style>\n",
              "<table border=\"1\" class=\"dataframe\">\n",
              "  <thead>\n",
              "    <tr style=\"text-align: right;\">\n",
              "      <th></th>\n",
              "      <th>A</th>\n",
              "      <th>B</th>\n",
              "    </tr>\n",
              "  </thead>\n",
              "  <tbody>\n",
              "    <tr>\n",
              "      <th>0</th>\n",
              "      <td>KO</td>\n",
              "      <td>54</td>\n",
              "    </tr>\n",
              "    <tr>\n",
              "      <th>1</th>\n",
              "      <td>US</td>\n",
              "      <td>67</td>\n",
              "    </tr>\n",
              "  </tbody>\n",
              "</table>\n",
              "</div>"
            ],
            "text/plain": [
              "    A   B\n",
              "0  KO  54\n",
              "1  US  67"
            ]
          },
          "metadata": {
            "tags": []
          }
        },
        {
          "output_type": "display_data",
          "data": {
            "text/html": [
              "<div>\n",
              "<style scoped>\n",
              "    .dataframe tbody tr th:only-of-type {\n",
              "        vertical-align: middle;\n",
              "    }\n",
              "\n",
              "    .dataframe tbody tr th {\n",
              "        vertical-align: top;\n",
              "    }\n",
              "\n",
              "    .dataframe thead th {\n",
              "        text-align: right;\n",
              "    }\n",
              "</style>\n",
              "<table border=\"1\" class=\"dataframe\">\n",
              "  <thead>\n",
              "    <tr style=\"text-align: right;\">\n",
              "      <th></th>\n",
              "      <th>A</th>\n",
              "      <th>C</th>\n",
              "    </tr>\n",
              "  </thead>\n",
              "  <tbody>\n",
              "    <tr>\n",
              "      <th>0</th>\n",
              "      <td>KO</td>\n",
              "      <td>Seoul</td>\n",
              "    </tr>\n",
              "    <tr>\n",
              "      <th>1</th>\n",
              "      <td>US</td>\n",
              "      <td>New york</td>\n",
              "    </tr>\n",
              "  </tbody>\n",
              "</table>\n",
              "</div>"
            ],
            "text/plain": [
              "    A         C\n",
              "0  KO     Seoul\n",
              "1  US  New york"
            ]
          },
          "metadata": {
            "tags": []
          }
        },
        {
          "output_type": "display_data",
          "data": {
            "text/html": [
              "<div>\n",
              "<style scoped>\n",
              "    .dataframe tbody tr th:only-of-type {\n",
              "        vertical-align: middle;\n",
              "    }\n",
              "\n",
              "    .dataframe tbody tr th {\n",
              "        vertical-align: top;\n",
              "    }\n",
              "\n",
              "    .dataframe thead th {\n",
              "        text-align: right;\n",
              "    }\n",
              "</style>\n",
              "<table border=\"1\" class=\"dataframe\">\n",
              "  <thead>\n",
              "    <tr style=\"text-align: right;\">\n",
              "      <th></th>\n",
              "      <th>A</th>\n",
              "      <th>B</th>\n",
              "    </tr>\n",
              "  </thead>\n",
              "  <tbody>\n",
              "    <tr>\n",
              "      <th>0</th>\n",
              "      <td>KO</td>\n",
              "      <td>54</td>\n",
              "    </tr>\n",
              "    <tr>\n",
              "      <th>1</th>\n",
              "      <td>US</td>\n",
              "      <td>67</td>\n",
              "    </tr>\n",
              "    <tr>\n",
              "      <th>2</th>\n",
              "      <td>EU</td>\n",
              "      <td>89</td>\n",
              "    </tr>\n",
              "  </tbody>\n",
              "</table>\n",
              "</div>"
            ],
            "text/plain": [
              "    A   B\n",
              "0  KO  54\n",
              "1  US  67\n",
              "2  EU  89"
            ]
          },
          "metadata": {
            "tags": []
          }
        },
        {
          "output_type": "display_data",
          "data": {
            "text/html": [
              "<div>\n",
              "<style scoped>\n",
              "    .dataframe tbody tr th:only-of-type {\n",
              "        vertical-align: middle;\n",
              "    }\n",
              "\n",
              "    .dataframe tbody tr th {\n",
              "        vertical-align: top;\n",
              "    }\n",
              "\n",
              "    .dataframe thead th {\n",
              "        text-align: right;\n",
              "    }\n",
              "</style>\n",
              "<table border=\"1\" class=\"dataframe\">\n",
              "  <thead>\n",
              "    <tr style=\"text-align: right;\">\n",
              "      <th></th>\n",
              "      <th>A</th>\n",
              "      <th>C</th>\n",
              "    </tr>\n",
              "  </thead>\n",
              "  <tbody>\n",
              "    <tr>\n",
              "      <th>0</th>\n",
              "      <td>KO</td>\n",
              "      <td>Seoul</td>\n",
              "    </tr>\n",
              "    <tr>\n",
              "      <th>1</th>\n",
              "      <td>US</td>\n",
              "      <td>New york</td>\n",
              "    </tr>\n",
              "    <tr>\n",
              "      <th>2</th>\n",
              "      <td>EU</td>\n",
              "      <td>Paris</td>\n",
              "    </tr>\n",
              "  </tbody>\n",
              "</table>\n",
              "</div>"
            ],
            "text/plain": [
              "    A         C\n",
              "0  KO     Seoul\n",
              "1  US  New york\n",
              "2  EU     Paris"
            ]
          },
          "metadata": {
            "tags": []
          }
        }
      ]
    },
    {
      "metadata": {
        "id": "bICCKUmOt6fd",
        "colab_type": "code",
        "colab": {
          "base_uri": "https://localhost:8080/",
          "height": 374
        },
        "outputId": "bdf1cd1e-5393-43d0-a8db-13223635b8f8"
      },
      "cell_type": "code",
      "source": [
        "# 컬럼, 로우 동시 인덱싱\n",
        "display (df)\n",
        "display (df.loc[:1, ['A', 'C']] )\n",
        "display (df.loc[:1, 'A':'C'])\n"
      ],
      "execution_count": 9,
      "outputs": [
        {
          "output_type": "display_data",
          "data": {
            "text/html": [
              "<div>\n",
              "<style scoped>\n",
              "    .dataframe tbody tr th:only-of-type {\n",
              "        vertical-align: middle;\n",
              "    }\n",
              "\n",
              "    .dataframe tbody tr th {\n",
              "        vertical-align: top;\n",
              "    }\n",
              "\n",
              "    .dataframe thead th {\n",
              "        text-align: right;\n",
              "    }\n",
              "</style>\n",
              "<table border=\"1\" class=\"dataframe\">\n",
              "  <thead>\n",
              "    <tr style=\"text-align: right;\">\n",
              "      <th></th>\n",
              "      <th>A</th>\n",
              "      <th>B</th>\n",
              "      <th>C</th>\n",
              "    </tr>\n",
              "  </thead>\n",
              "  <tbody>\n",
              "    <tr>\n",
              "      <th>0</th>\n",
              "      <td>KO</td>\n",
              "      <td>54</td>\n",
              "      <td>Seoul</td>\n",
              "    </tr>\n",
              "    <tr>\n",
              "      <th>1</th>\n",
              "      <td>US</td>\n",
              "      <td>67</td>\n",
              "      <td>New york</td>\n",
              "    </tr>\n",
              "    <tr>\n",
              "      <th>2</th>\n",
              "      <td>EU</td>\n",
              "      <td>89</td>\n",
              "      <td>Paris</td>\n",
              "    </tr>\n",
              "    <tr>\n",
              "      <th>3</th>\n",
              "      <td>US</td>\n",
              "      <td>203</td>\n",
              "      <td>LA</td>\n",
              "    </tr>\n",
              "    <tr>\n",
              "      <th>4</th>\n",
              "      <td>EU</td>\n",
              "      <td>101</td>\n",
              "      <td>London</td>\n",
              "    </tr>\n",
              "  </tbody>\n",
              "</table>\n",
              "</div>"
            ],
            "text/plain": [
              "    A    B         C\n",
              "0  KO   54     Seoul\n",
              "1  US   67  New york\n",
              "2  EU   89     Paris\n",
              "3  US  203        LA\n",
              "4  EU  101    London"
            ]
          },
          "metadata": {
            "tags": []
          }
        },
        {
          "output_type": "display_data",
          "data": {
            "text/html": [
              "<div>\n",
              "<style scoped>\n",
              "    .dataframe tbody tr th:only-of-type {\n",
              "        vertical-align: middle;\n",
              "    }\n",
              "\n",
              "    .dataframe tbody tr th {\n",
              "        vertical-align: top;\n",
              "    }\n",
              "\n",
              "    .dataframe thead th {\n",
              "        text-align: right;\n",
              "    }\n",
              "</style>\n",
              "<table border=\"1\" class=\"dataframe\">\n",
              "  <thead>\n",
              "    <tr style=\"text-align: right;\">\n",
              "      <th></th>\n",
              "      <th>A</th>\n",
              "      <th>C</th>\n",
              "    </tr>\n",
              "  </thead>\n",
              "  <tbody>\n",
              "    <tr>\n",
              "      <th>0</th>\n",
              "      <td>KO</td>\n",
              "      <td>Seoul</td>\n",
              "    </tr>\n",
              "    <tr>\n",
              "      <th>1</th>\n",
              "      <td>US</td>\n",
              "      <td>New york</td>\n",
              "    </tr>\n",
              "  </tbody>\n",
              "</table>\n",
              "</div>"
            ],
            "text/plain": [
              "    A         C\n",
              "0  KO     Seoul\n",
              "1  US  New york"
            ]
          },
          "metadata": {
            "tags": []
          }
        },
        {
          "output_type": "display_data",
          "data": {
            "text/html": [
              "<div>\n",
              "<style scoped>\n",
              "    .dataframe tbody tr th:only-of-type {\n",
              "        vertical-align: middle;\n",
              "    }\n",
              "\n",
              "    .dataframe tbody tr th {\n",
              "        vertical-align: top;\n",
              "    }\n",
              "\n",
              "    .dataframe thead th {\n",
              "        text-align: right;\n",
              "    }\n",
              "</style>\n",
              "<table border=\"1\" class=\"dataframe\">\n",
              "  <thead>\n",
              "    <tr style=\"text-align: right;\">\n",
              "      <th></th>\n",
              "      <th>A</th>\n",
              "      <th>B</th>\n",
              "      <th>C</th>\n",
              "    </tr>\n",
              "  </thead>\n",
              "  <tbody>\n",
              "    <tr>\n",
              "      <th>0</th>\n",
              "      <td>KO</td>\n",
              "      <td>54</td>\n",
              "      <td>Seoul</td>\n",
              "    </tr>\n",
              "    <tr>\n",
              "      <th>1</th>\n",
              "      <td>US</td>\n",
              "      <td>67</td>\n",
              "      <td>New york</td>\n",
              "    </tr>\n",
              "  </tbody>\n",
              "</table>\n",
              "</div>"
            ],
            "text/plain": [
              "    A   B         C\n",
              "0  KO  54     Seoul\n",
              "1  US  67  New york"
            ]
          },
          "metadata": {
            "tags": []
          }
        }
      ]
    },
    {
      "metadata": {
        "id": "toOi_8gnwelO",
        "colab_type": "text"
      },
      "cell_type": "markdown",
      "source": [
        "노트 내용 마저 정리하기& 오프라인 노트 준비"
      ]
    },
    {
      "metadata": {
        "id": "tpeSxlPDwzZt",
        "colab_type": "text"
      },
      "cell_type": "markdown",
      "source": [
        "#+) params"
      ]
    },
    {
      "metadata": {
        "id": "a0xuNSgNw3MI",
        "colab_type": "text"
      },
      "cell_type": "markdown",
      "source": [
        "질문 내용 답\n",
        "\n",
        "\n",
        "https://nbviewer.jupyter.org/gist/FinanceData/20930462f47777b00a7d99d735967487"
      ]
    },
    {
      "metadata": {
        "id": "CxZuK32IvrrK",
        "colab_type": "code",
        "colab": {}
      },
      "cell_type": "code",
      "source": [
        ""
      ],
      "execution_count": 0,
      "outputs": []
    }
  ]
}