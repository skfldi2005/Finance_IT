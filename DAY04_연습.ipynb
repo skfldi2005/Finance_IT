{
  "nbformat": 4,
  "nbformat_minor": 0,
  "metadata": {
    "colab": {
      "name": "DAY04 연습.ipynb",
      "version": "0.3.2",
      "provenance": [],
      "include_colab_link": true
    },
    "kernelspec": {
      "name": "python3",
      "display_name": "Python 3"
    }
  },
  "cells": [
    {
      "cell_type": "markdown",
      "metadata": {
        "id": "view-in-github",
        "colab_type": "text"
      },
      "source": [
        "<a href=\"https://colab.research.google.com/github/skfldi2005/Finance_IT/blob/master/DAY04_%EC%97%B0%EC%8A%B5.ipynb\" target=\"_parent\"><img src=\"https://colab.research.google.com/assets/colab-badge.svg\" alt=\"Open In Colab\"/></a>"
      ]
    },
    {
      "metadata": {
        "id": "nTd6-4hHshjP",
        "colab_type": "text"
      },
      "cell_type": "markdown",
      "source": [
        "#DAY 04"
      ]
    },
    {
      "metadata": {
        "id": "M4j5IEBDsQQl",
        "colab_type": "code",
        "colab": {}
      },
      "cell_type": "code",
      "source": [
        "import requests\n",
        "from bs4 import BeautifulSoup"
      ],
      "execution_count": 0,
      "outputs": []
    },
    {
      "metadata": {
        "id": "RENSzFgZsu22",
        "colab_type": "code",
        "outputId": "d78cb867-3e75-4902-efdf-b7d1fb99bd42",
        "colab": {
          "base_uri": "https://localhost:8080/",
          "height": 54
        }
      },
      "cell_type": "code",
      "source": [
        "url=\"https://www.google.com/search?q=코스콤\"\n",
        "r=requests.get(url)\n",
        "\n",
        "r.text\n",
        "#r에 페이지 정보 저장 후 텍스트로 보여주기"
      ],
      "execution_count": 0,
      "outputs": [
        {
          "output_type": "execute_result",
          "data": {
            "text/plain": [
              "'<!doctype html><html itemscope=\"\" itemtype=\"http://schema.org/SearchResultsPage\" lang=\"en\"><head><meta content=\"text/html; charset=UTF-8\" http-equiv=\"Content-Type\"><meta content=\"/images/branding/googleg/1x/googleg_standard_color_128dp.png\" itemprop=\"image\"><noscript><meta content=\"0;url=/search?q=%EC%BD%94%EC%8A%A4%EC%BD%A4&amp;ie=UTF-8&amp;gbv=1&amp;sei=r5icXIKEI-nj0gL54aOgAQ\" http-equiv=\"refresh\"><style>table,div,span,p{display:none}</style><div style=\"display:block\">Please click <a href=\"/search?q=%EC%BD%94%EC%8A%A4%EC%BD%A4&amp;ie=UTF-8&amp;gbv=1&amp;sei=r5icXIKEI-nj0gL54aOgAQ\">here</a> if you are not redirected within a few seconds.</div></noscript><title>&#53076;&#49828;&#53092; - Google Search</title><style>#gbar,#guser{font-size:13px;padding-top:1px !important;}#gbar{height:22px}#guser{padding-bottom:7px !important;text-align:right}.gbh,.gbd{border-top:1px solid #c9d7f1;font-size:1px}.gbh{height:0;position:absolute;top:24px;width:100%}@media all{.gb1{height:22px;margin-right:.5em;vertical-align:top}#gbar{float:left}}a.gb1,a.gb4{text-decoration:underline !important}a.gb1,a.gb4{color:#00c !important}.gbi .gb4{color:#dd8e27 !important}.gbf .gb4{color:#900 !important}\\n</style><style>.star{float:left;margin-top:1px;overflow:hidden}.ybhkme{font-size:11px}.j{width:34em}body,td,div,a{font-family:arial,sans-serif;tap-highlight-color:rgba(255,255,255,0)}body{margin:0}a img{border:0}#gbar{float:left;height:22px;padding-left:2px;font-size:13px}.gsfi,.gsfs{font-size:17px}.w,.q:active,.q:visited,.tbotu{color:#11c}a.gl{text-decoration:none}#foot{padding:0 8px}#foot a{white-space:nowrap}h3{font-size:16px;font-weight:normal;margin:0;padding:0}#res h3{display:inline}.hd{height:1px;position:absolute;top:-1000em}.g,body,html,table,.std{font-size:13px}.g{margin-bottom:23px;margin-top:0;zoom:1}ol li,ul li{list-style:none}h1,ol,ul,li{margin:0;padding:0}.e{margin:2px 0 0.75em}#leftnav a{text-decoration:none}#leftnav h2{color:#767676;font-weight:normal;margin:0}#nav{border-collapse:collapse;margin-top:17px;text-align:left}#nav td{text-align:center}.nobr{white-space:nowrap}.ts{border-collapse:collapse}.s br{display:none}.csb{display:block;height:40px}.images_table td{line-height:17px;padding-bottom:16px}.images_table img{border:1px solid #ccc;padding:1px}#tbd,#abd{display:block;min-height:1px}#abd{padding-top:3px}#tbd li{display:inline}.TIrJXe,.UU5df{margin-bottom:8px}#tbd .tbt li{display:block;font-size:13px;line-height:1.2;padding-bottom:3px;padding-left:8px;text-indent:-8px}.tbos,.b{font-weight:bold}em{font-weight:bold;font-style:normal}.mime{color:#1a0dab;font-weight:bold;font-size:x-small}.soc a{text-decoration:none}.soc{color:#808080}.ul7Gbc{color:#e7711b}#Db7kif{border:1px solid #e0e0e0;margin-left:-8px;margin-right:-8px;padding:15px 20px 5px}.mrH1y{font-size:32px}.PZ6wOb{color:#777;font-size:16px;margin-top:5px}.gwrItc{color:#777;font-size:14px;margin-top:5px}.SVob4e{border:1px solid #e0e0e0;padding-left:20px}.mYu5Hb{border:1px solid #e0e0e0;padding:5px 20px}#vob{border:1px solid #e0e0e0;padding:15px 15px}#ZjIC2e{font-size:22px;line-height:22px;padding-bottom:5px}#vob_st{line-height:1.24}.DfLGHd{border-width:1px;border-style:solid;border-color:#eee;background-color:#fff;position:relative;margin-bottom:26px}.uRIxYb,.NjTIc,.PftIHd,.DXoZmb{font-family:Arial;font-weight:lighter}.uRIxYb{margin-bottom:5px}.uRIxYb{font-size:xx-large}.NjTIc{font-size:medium}.PftIHd{font-size:large}.DXoZmb{font-size:small}.DfLGHd{margin-left:-8px;margin-right:-15px;padding:20px 20px 24px}.ernfsc{border-spacing:0px 2px}.D3VFNd{max-width:380px;text-overflow:ellipsis;white-space:nowrap;overflow:hidden;padding-left:0px}.c1Ujmc{padding-left:15px;white-space:nowrap;color:#666}.EjZtie{padding-left:0px}.SFt5jb{color:#212121}.Pt7r9e{color:#878787}.bkcGhd{color:#093}.fIP9ce{color:#c00}.LDBB9d{padding:1px}.gssb_a{padding:0 10px !important}.gssb_c{left:132px !important;right:295px !important;top:78px !important;width:572px !important}.gssb_c table{font-size:16px !important}.gssb_e{border:1px solid #ccc !important;border-top-color:#d9d9d9 !important}.gssb_i{background:#eee !important}#res{padding:0 8px}#rhs_block{padding-top:43px}#MCN7mf{padding:0 8px}#subform_ctrl{font-size:11px;height:17px;margin:5px 3px 0 17px}.taf{padding-bottom:3px}.WIkLp{padding:20px 0 3px}.FuZzl{padding:20px 0 3px}#topstuff .e{padding-bottom:6px}.slk .sld{width:250px}.slk{margin-bottom:-3px}.slk .zaHRAf{padding-bottom:5px;width:250px}.ac,.st{line-height:1.24}.a1DBFd,#ofr{font-size:16px;margin:1em 0;padding:0 8px}.tZz6cc{padding-bottom:25px}.s{color:#545454}.ac{color:#545454}a.fl,.A8ul6 a,.osl a{color:#1a0dab;text-decoration:none}a:link{color:#1a0dab;cursor:pointer}#tads a:link{color:#1a0dab}#tads .soc a:link{color:#808080}a:visited{color:#61C}.blg a{text-decoration:none}cite,cite a:link{color:#006621;font-style:normal}#tads cite{color:#006621}.hJND5c{font-size:15px}.kvs{margin-top:1px}.hJND5c,.kvs,.slp{display:block;margin-bottom:1px}.kt{border-spacing:2px 0;margin-top:1px}.f{color:#808080}.L4Zeue{color:#093}h4.r{display:inline;font-size:small;font-weight:normal}.g{line-height:1.2}.NpC9Hd{display:inline-block;vertical-align:top;overflow:hidden;position:relative}.COi8F{margin:0 0 2em 1.3em}.COi8F li{list-style-type:disc}.osl{color:#777;margin-top:4px}.r{font-size:16px;margin:0}.gL9Hy{font-size:16px}.spell_orig{font-size:13px}.spell_orig a{text-decoration:none}.spell_orig b i{font-style:normal;font-weight:normal}.th{border:1px solid #ebebeb}.ts td{padding:0}.videobox{padding-bottom:3px}.slk a{text-decoration:none}#leftnav a:hover,#leftnav .tbou a:hover,.slk h3 a,a:hover{text-decoration:underline}#mn{table-layout:fixed;width:100%}#leftnav a{color:#222;font-size:13px}#leftnav{padding:43px 4px 4px 0}.tbos{color:#dd4b39}.tbt{margin-bottom:28px}#tbd{padding:0 0 0 16px}.tbou a{color:#222}#center_col{border:0;padding:0 8px 0 0}#topstuff .e{padding-top:3px}#topstuff .p64x9c{padding-top:6px}#ab_name{color:#dd4b39;font:20px \"Arial\";margin-left:15px}#resultStats{color:#999;font-size:13px;overflow:hidden;white-space:nowrap}.mslg>td{padding-right:1px;padding-top:2px}.slk .sld{margin-top:2px;padding:5px 0 5px 5px}.fmp{padding-top:3px}.close_btn{overflow:hidden}#fll a,#bfl a{color:#1a0dab !important;margin:0 12px;text-decoration:none !important}.ng{color:#dd4b39}#mss{margin:.33em 0 0;padding:0;display:table}.NYKCib{display:inline-block;float:left;white-space:nowrap;padding-right:16px}#mss p{margin:0;padding-top:5px}.tn{border-bottom:1px solid #ebebeb;display:block;float:left;height:59px;line-height:54px;min-width:980px;padding:0;position:relative;white-space:nowrap}.qrSWbe,a.qrSWbe{color:#777;cursor:pointer;display:inline-block;font-family:arial,sans-serif;font-size:small;height:54px;line-height:54px;margin:0 8px;padding:0 8px;text-decoration:none;white-space:nowrap}.tnuiC{border-bottom:3px solid #dd4b39;color:#dd4b39;font-weight:bold;margin:2px 8px 0}a.KDZjCd:hover{color:black;text-decoration:none;white-space:nowrap}body{margin:0;padding:0}.sFTC8c{display:inline-block;float:left;margin-top:2px}.pqkqJe,a.pqkqJe{margin-left:1px}.sd{line-height:43px;padding:0 8px 0 9px}a:active,.osl a:active,.tbou a:active,#leftnav a:active{color:#dd4b39}#bfl a:active{color:#dd4b39 !important}.csb{background:url(/images/nav_logo229.png) no-repeat;overflow:hidden}.close_btn{background:url(/images/nav_logo229.png) no-repeat -138px -84px;height:14px;width:14px;display:block}.star{background:url(/images/nav_logo229.png) no-repeat -94px -245px;height:13px;width:65px;display:block}.star div,.star span{background:url(/images/nav_logo229.png) no-repeat 0 -245px;height:13px;width:65px;display:block}.Pj9hGd{display:inline;margin:0 3px;outline-color:transparent;overflow:hidden;position:relative}.Pj9hGd>div{outline-color:transparent}.CiacGf{border-color:transparent;border-style:solid dashed dashed;border-top-color:green;border-width:4px 4px 0 4px;cursor:pointer;display:inline-block;font-size:0;height:0;left:4px;line-height:0;outline-color:transparent;position:relative;top:-3px;width:0}.CiacGf{margin-top:-4px}.am-dropdown-menu{display:block;background:#fff;border:1px solid #dcdcdc;font-size:13px;left:0;padding:0;position:absolute;right:auto;white-space:nowrap;z-index:3}.mUpfKd{list-style:none;white-space:nowrap}.mUpfKd:hover{background-color:#eee}a.imx0m{color:#333;cursor:pointer;display:block;padding:7px 18px;text-decoration:none}#tads a.imx0m{color:#333}.sfbgg{background:#f1f1f1;border-bottom:1px solid #e5e5e5;height:71px}#logocont{z-index:1;padding-left:4px;padding-top:4px}#logo{display:block;height:49px;margin-top:12px;margin-left:12px;overflow:hidden;position:relative;width:137px}#logo img{left:0;position:absolute;top:-41px}.lst-a{background:white;border:1px solid #d9d9d9;border-top-color:silver;width:570px}.lst-a:hover{border:1px solid #b9b9b9;border-top:1px solid #a0a0a0;box-shadow:inset 0 1px 2px rgba(0,0,0,0.1);-webkit-box-shadow:inset 0 1px 2px rgba(0,0,0,0.1);-moz-box-shadow:inset 0 1px 2px rgba(0,0,0,0.1)}.lst-td{border:none;padding:0}.tia input{border-right:none;padding-right:0}.tia{padding-right:0}.lst{background:none;border:none;color:#000;font:16px arial,sans-serif;float:left;height:22px;margin:0;padding:3px 6px 2px 9px;vertical-align:top;width:100%;word-break:break-all}.lst:focus{outline:none}.lst-b{background:none;border:none;height:26px;padding:0 6px 0 12px}.ds{border-right:1px solid #e7e7e7;position:relative;height:29px;margin-left:17px;z-index:100}.lsbb{background-image:-moz-linear-gradient(top,#4d90fe,#4787ed);background-image:-ms-linear-gradient(top,#4d90fe,#4787ed);background-image:-o-linear-gradient(top,#4d90fe,#4787ed);background-image:-webkit-gradient(linear,left top,left bottom,from(#4d90fe),to(#4787ed));background-image:-webkit-linear-gradient(top,#4d90fe,#4787ed);background-image:linear-gradient(top,#4d90fe,#4787ed);border:1px solid #3079ed;border-radius:2px;background-color:#4d90fe;height:27px;width:68px}.lsbb:hover{background-image:-moz-linear-gradient(top,#4d90fe,#357ae8);background-image:-ms-linear-gradient(top,#4d90fe,#357ae8);background-image:-o-linear-gradient(top,#4d90fe,#357ae8);background-image:-webkit-gradient(linear,left top,left bottom,from(#4d90fe),to(#357ae8));background-image:-webkit-linear-gradient(top,#4d90fe,#357ae8);background-color:#357ae8;background-image:linear-gradient(top,#4d90fe,#357ae8);border:1px solid #2f5bb7}.lsb{background:transparent;background-position:0 -343px;background-repeat:repeat-x;border:none;color:#000;cursor:default;font:15px arial,sans-serif;height:29px;margin:0;vertical-align:top;width:100%}.lsb:active{-moz-box-shadow:inset 0 1px 2px rgba(0,0,0,0.3);-webkit-box-shadow:inset 0 1px 2px rgba(0,0,0,0.3);box-shadow:inset 0 1px 2px rgba(0,0,0,0.3);background:transparent;color:transparent;overflow:hidden;position:relative;width:100%}.sbico{color:transparent;display:inline-block;height:15px;margin:0 auto;margin-top:2px;width:15px;overflow:hidden}</style><script nonce=\"TH9dWt8Z5WydAixOOrUqFg==\">(function(){window.google={kEI:\\'r5icXIKEI-nj0gL54aOgAQ\\',kEXPI:\\'0,18167,1335580,57,1958,2422,697,528,730,224,1507,68,30,1228,1894,56,528,350,127,320,187,37,73,2333528,303214,26305,1294,10193,2190,4855,32692,15247,867,10761,1640,6143,3335,2,2,4605,2196,363,3320,5505,2442,260,1028,4079,575,835,284,2,578,728,2431,59,2,1,3,1297,284,4039,3700,1267,774,2003,249,1405,4483,5,2,2,1963,2595,3601,669,1050,1808,1397,81,7,1,2,471,17,620,29,1395,978,2632,4090,48,1163,1286,2,4006,797,1220,38,920,270,484,119,1217,93,1119,149,106,381,47,1080,2736,293,1265,1097,315,97,2,625,2374,188,2,4,2,670,44,1769,605,1371,559,356,123,525,2082,12,620,1166,623,439,656,20,318,254,2,111,415,810,1255,172,13,143,57,138,403,378,115,250,1319,80,526,97,758,89,7,392,30,399,376,1,511,22,82,456,245,406,10,170,6,85,211,7,824,83,152,78,365,24,793,174,556,7,150,3,104,69,78,612,14,10,5,49,304,75,141,83,288,714,297,2,15,439,10,13,2,61,57,5,921,25,283,172,4,41,5,478,12,159,166,244,103,15,19,56,67,20,428,124,141,60,12,376,112,17,209,164,597,54,14,137,88,164,57,5950331,13,1861,680,255,12147763,18966500\\',authuser:0,kscs:\\'c9c918f0_r5icXIKEI-nj0gL54aOgAQ\\',kGL:\\'US\\'};google.sn=\\'web\\';google.kHL=\\'en\\';})();(function(){google.lc=[];google.li=0;google.getEI=function(a){for(var b;a&&(!a.getAttribute||!(b=a.getAttribute(\"eid\")));)a=a.parentNode;return b||google.kEI};google.getLEI=function(a){for(var b=null;a&&(!a.getAttribute||!(b=a.getAttribute(\"leid\")));)a=a.parentNode;return b};google.https=function(){return\"https:\"==window.location.protocol};google.ml=function(){return null};google.time=function(){return(new Date).getTime()};google.log=function(a,b,e,c,g){if(a=google.logUrl(a,b,e,c,g)){b=new Image;var d=google.lc,f=google.li;d[f]=b;b.onerror=b.onload=b.onabort=function(){delete d[f]};google.vel&&google.vel.lu&&google.vel.lu(a);b.src=a;google.li=f+1}};google.logUrl=function(a,b,e,c,g){var d=\"\",f=google.ls||\"\";e||-1!=b.search(\"&ei=\")||(d=\"&ei=\"+google.getEI(c),-1==b.search(\"&lei=\")&&(c=google.getLEI(c))&&(d+=\"&lei=\"+c));c=\"\";!e&&google.cshid&&-1==b.search(\"&cshid=\")&&\"slh\"!=a&&(c=\"&cshid=\"+google.cshid);a=e||\"/\"+(g||\"gen_204\")+\"?atyp=i&ct=\"+a+\"&cad=\"+b+d+f+\"&zx=\"+google.time()+c;/^http:/i.test(a)&&google.https()&&(google.ml(Error(\"a\"),!1,{src:a,glmm:1}),a=\"\");return a};}).call(this);(function(){google.y={};google.x=function(a,b){if(a)var c=a.id;else{do c=Math.random();while(google.y[c])}google.y[c]=[a,b];return!1};google.lm=[];google.plm=function(a){google.lm.push.apply(google.lm,a)};google.lq=[];google.load=function(a,b,c){google.lq.push([[a],b,c])};google.loadAll=function(a,b){google.lq.push([a,b])};}).call(this);google.f={};(function(){var b=[function(){google.c&&google.tick(\"load\",\"dcl\")}];google.dclc=function(a){b.length?b.push(a):a()};function c(){for(var a;a=b.shift();)a()}window.addEventListener?(document.addEventListener(\"DOMContentLoaded\",c,!1),window.addEventListener(\"load\",c,!1)):window.attachEvent&&window.attachEvent(\"onload\",c);}).call(this);</script><script type=\"text/javascript\" nonce=\"TH9dWt8Z5WydAixOOrUqFg==\"></script><script nonce=\"TH9dWt8Z5WydAixOOrUqFg==\">(function(){google.sham=function(c){for(var d=c.parentElement,a=null,b=0;b<d.childNodes.length;b++){var e=d.childNodes[b];-1<(\" \"+e.className+\" \").indexOf(\" am-dropdown-menu \")&&(a=e)}\"none\"==a.style.display?(a.style.display=\"\",google.log(\"hpam\",\"&ved=\"+c.getAttribute(\"data-ved\"))):a.style.display=\"none\"};}).call(this);(function(){var b=[];google.jsc={xx:b,x:function(a){b.push(a)},mm:[],m:function(a){google.jsc.mm.length||(google.jsc.mm=a)}};}).call(this);</script></head><body class=\"hsrp\" bgcolor=\"#ffffff\" marginheight=\"0\" marginwidth=\"0\" topmargin=\"0\"><div id=gbar><nobr><b class=gb1>Search</b> <a class=gb1 href=\"https://www.google.com/search?hl=en&tbm=isch&source=og&tab=wi\">Images</a> <a class=gb1 href=\"https://maps.google.com/maps?hl=en&tab=wl\">Maps</a> <a class=gb1 href=\"https://play.google.com/?hl=en&tab=w8\">Play</a> <a class=gb1 href=\"https://www.youtube.com/results?gl=US&tab=w1\">YouTube</a> <a class=gb1 href=\"https://news.google.com/nwshp?hl=en&tab=wn\">News</a> <a class=gb1 href=\"https://mail.google.com/mail/?tab=wm\">Gmail</a> <a class=gb1 href=\"https://drive.google.com/?tab=wo\">Drive</a> <a class=gb1 style=\"text-decoration:none\" href=\"https://www.google.com/intl/en/about/products?tab=wh\"><u>More</u> &raquo;</a></nobr></div><div id=guser width=100%><nobr><span id=gbn class=gbi></span><span id=gbf class=gbf></span><span id=gbe></span><a href=\"http://www.google.com/history/optout?hl=en\" class=gb4>Web History</a> | <a  href=\"/preferences?hl=en\" class=gb4>Settings</a> | <a target=_top id=gb_70 href=\"https://accounts.google.com/ServiceLogin?hl=en&passive=true&continue=https://www.google.com/search%3Fq%3D%25EC%25BD%2594%25EC%258A%25A4%25EC%25BD%25A4\" class=gb4>Sign in</a></nobr></div><div class=gbh style=left:0></div><div class=gbh style=right:0></div><table id=\"mn\" border=\"0\" cellpadding=\"0\" cellspacing=\"0\" style=\"position:relative\"><tr><th width=\"132\"></th><th width=\"573\"></th><th width=\"278\"></th><th></th></tr><tr><td class=\"sfbgg\" valign=\"top\"><div id=\"logocont\"><h1><a href=\"/webhp?hl=en\" style=\"background-image:url(/images/nav_logo229.png);background-repeat:no-repeat;height:37px;width:95px;display:block;background-position:0 -41px\" id=\"logo\" title=\"Go to Google Home\"></a></h1></div></td><td class=\"sfbgg\" colspan=\"2\" valign=\"top\" style=\"padding-left:0px\"><form style=\"display:block;margin:0;background:none\" action=\"/search\" id=\"tsf\" method=\"GET\" name=\"gs\"><table border=\"0\" cellpadding=\"0\" cellspacing=\"0\" style=\"margin-top:20px;position:relative\"><tr><td><div class=\"lst-a\"><table cellpadding=\"0\" cellspacing=\"0\"><tr><td class=\"lst-td\" width=\"555\" valign=\"bottom\"><div style=\"position:relative;zoom:1\"><input class=\"lst\" value=\"&#53076;&#49828;&#53092;\" title=\"Search\" autocomplete=\"off\" id=\"sbhost\" maxlength=\"2048\" name=\"q\" type=\"text\"></div></td></tr></table></div></td><td><div class=\"ds\"><div class=\"lsbb\"><button class=\"lsb\" value=\"Search\" name=\"btnG\" type=\"submit\"><span class=\"sbico\" style=\"background-image:url(/images/nav_logo229.png);background-repeat:no-repeat;height:14px;width:13px;display:block;background-position:-36px -111px\"></span></button></div></div></td></tr></table></form></td><td class=\"sfbgg\">&nbsp;</td></tr><tr style=\"position:relative\"><td><div style=\"border-bottom:1px solid #ebebeb;height:59px\"></div></td><td colspan=\"2\"><div class=\"tn\"><div class=\"qrSWbe tnuiC sFTC8c pqkqJe\">All</div><div class=\"sFTC8c\"><a class=\"qrSWbe KDZjCd\" href=\"/search?q=%EC%BD%94%EC%8A%A4%EC%BD%A4&amp;ie=UTF-8&amp;prmd=ivns&amp;source=lnms&amp;tbm=isch&amp;sa=X&amp;ved=0ahUKEwjCl7TGx6ThAhXpsVQKHfnwCBQQ_AUIBQ\">Images</a></div><div class=\"sFTC8c\"><a class=\"qrSWbe KDZjCd\" href=\"/search?q=%EC%BD%94%EC%8A%A4%EC%BD%A4&amp;ie=UTF-8&amp;prmd=ivns&amp;source=lnms&amp;tbm=vid&amp;sa=X&amp;ved=0ahUKEwjCl7TGx6ThAhXpsVQKHfnwCBQQ_AUIBg\">Videos</a></div><div class=\"sFTC8c\"><a class=\"qrSWbe KDZjCd\" href=\"/search?q=%EC%BD%94%EC%8A%A4%EC%BD%A4&amp;ie=UTF-8&amp;prmd=ivns&amp;source=lnms&amp;tbm=nws&amp;sa=X&amp;ved=0ahUKEwjCl7TGx6ThAhXpsVQKHfnwCBQQ_AUIBw\">News</a></div><div class=\"sFTC8c\"><a class=\"qrSWbe KDZjCd\" href=\"/search?q=%EC%BD%94%EC%8A%A4%EC%BD%A4&amp;ie=UTF-8&amp;prmd=ivns&amp;source=lnms&amp;tbm=shop&amp;sa=X&amp;ved=0ahUKEwjCl7TGx6ThAhXpsVQKHfnwCBQQ_AUICA\">Shopping</a></div><div class=\"sFTC8c\"><a class=\"qrSWbe KDZjCd\" href=\"https://maps.google.com/maps?q=%EC%BD%94%EC%8A%A4%EC%BD%A4&amp;um=1&amp;ie=UTF-8&amp;sa=X&amp;ved=0ahUKEwjCl7TGx6ThAhXpsVQKHfnwCBQQ_AUICQ\">Maps</a></div><div class=\"sFTC8c\"><a class=\"qrSWbe KDZjCd\" href=\"/search?q=%EC%BD%94%EC%8A%A4%EC%BD%A4&amp;ie=UTF-8&amp;prmd=ivns&amp;source=lnms&amp;tbm=bks&amp;sa=X&amp;ved=0ahUKEwjCl7TGx6ThAhXpsVQKHfnwCBQQ_AUICg\">Books</a></div></div><div style=\"border-bottom:1px solid #ebebeb;height:59px\"></div></td><td><div style=\"border-bottom:1px solid #ebebeb;height:59px\"></div></td></tr><tbody id=\"desktop-search\"><style>.pCA4Bd,.pCA4Bd a:link,.pCA4Bd a:visited,a.pCA4Bd:link,a.pCA4Bd:visited{color:#808080}.AzrInc{color:#61C}.ellip{overflow:hidden;text-overflow:ellipsis;white-space:nowrap}.VBt9Dc{border:1px solid #e0e0e0;font-size:13px;margin-right:-2px;}.V7Q8V{margin:4px 10px}.AwJT2c{background:white;border-bottom:0;border-left:0;border-right:0;border-top:1px solid #e0e0e0;cursor:pointer;height:40px;outline:0;width:100%}.dxrUgb{color:#777;font-size:11px}.dxrUgb a{color:#777;text-decoration:none}.xpdclpsbtn{}.xpdxpndbtn{}.xpdclpsbtn .KMK5T{background:url(/images/nav_logo229.png) no-repeat -50px -79px;height:22px;width:64px}.xpdxpndbtn .KMK5T{background:url(/images/nav_logo229.png) no-repeat -50px -102px;height:22px;width:64px}.mraOPb{color:#222;font-size:15px;line-height:normal;margin:12px 0}.dXAUyb{margin:4px 0}.R8KuR{margin:10px;overflow:hidden;position:relative;white-space:nowrap;}.M1e9Oe{display:-moz-inline-stack;display:inline-block;position:relative;width:100%;z-index:0;}.OSMzvb{display:-moz-inline-stack;display:inline-block;max-width:100%;overflow:hidden;}.JKXCdf{position:absolute;right:0;z-index:1;}.FSP1Dd{border-top:1px solid #e0e0e0;color:#000;font-size:22px;margin-top:-5px;padding-top:10px}.CB9G1b{color:#000;font-size:14px}.F7uZG{color:#777;margin:4px 0;overflow:hidden}.Rlw09{margin-bottom:20px}.cC4Myd{color:#212121}.A1t5ne{color:#777}.cC4Myd{font-weight:bold}.xKoZHf{margin-left:10px}.B27ELd.ty7XEe{margin-right:10px}.x32fhf{color:#222;font-size:18px;margin:20px 0 8px 0}.lHETUb{color:#222;font-size:18px;margin:20px 10px 8px 10px}.B27ELd{display:-moz-inline-stack;display:inline-block;margin-bottom:10px;margin-right:21px;text-align:left;vertical-align:top;}.tQOFN{overflow:hidden}.czonVc{color:#777;overflow:hidden;text-overflow:ellipsis;white-space:normal;word-wrap:break-word}.brYqc{margin:6px 0 0 8px;overflow:hidden;text-overflow:ellipsis;white-space:normal;word-wrap:break-word}</style><tr><td id=\"leftnav\" valign=\"top\"><div><h2 class=\"hd\">Search Options</h2><ul class=\"med\" id=\"tbd\"><li><ul class=\"tbt\"><li class=\"tbos\" id=\"qdr_\">Any time</li><li class=\"tbou\" id=\"qdr_h\"><a class=\"q\" href=\"/search?q=%EC%BD%94%EC%8A%A4%EC%BD%A4&amp;ie=UTF-8&amp;prmd=ivns&amp;source=lnt&amp;tbs=qdr:h&amp;sa=X&amp;ved=0ahUKEwjCl7TGx6ThAhXpsVQKHfnwCBQQpwUIDw\">Past hour</a></li><li class=\"tbou\" id=\"qdr_d\"><a class=\"q\" href=\"/search?q=%EC%BD%94%EC%8A%A4%EC%BD%A4&amp;ie=UTF-8&amp;prmd=ivns&amp;source=lnt&amp;tbs=qdr:d&amp;sa=X&amp;ved=0ahUKEwjCl7TGx6ThAhXpsVQKHfnwCBQQpwUIDw\">Past 24 hours</a></li><li class=\"tbou\" id=\"qdr_w\"><a class=\"q\" href=\"/search?q=%EC%BD%94%EC%8A%A4%EC%BD%A4&amp;ie=UTF-8&amp;prmd=ivns&amp;source=lnt&amp;tbs=qdr:w&amp;sa=X&amp;ved=0ahUKEwjCl7TGx6ThAhXpsVQKHfnwCBQQpwUIDw\">Past week</a></li><li class=\"tbou\" id=\"qdr_m\"><a class=\"q\" href=\"/search?q=%EC%BD%94%EC%8A%A4%EC%BD%A4&amp;ie=UTF-8&amp;prmd=ivns&amp;source=lnt&amp;tbs=qdr:m&amp;sa=X&amp;ved=0ahUKEwjCl7TGx6ThAhXpsVQKHfnwCBQQpwUIDw\">Past month</a></li><li class=\"tbou\" id=\"qdr_y\"><a class=\"q\" href=\"/search?q=%EC%BD%94%EC%8A%A4%EC%BD%A4&amp;ie=UTF-8&amp;prmd=ivns&amp;source=lnt&amp;tbs=qdr:y&amp;sa=X&amp;ved=0ahUKEwjCl7TGx6ThAhXpsVQKHfnwCBQQpwUIDw\">Past year</a></li></ul></li><li><ul class=\"tbt\"><li class=\"tbos\" id=\"li_\">All results</li><li class=\"tbou\" id=\"li_1\"><a class=\"q\" href=\"/search?q=%EC%BD%94%EC%8A%A4%EC%BD%A4&amp;ie=UTF-8&amp;prmd=ivns&amp;source=lnt&amp;tbs=li:1&amp;sa=X&amp;ved=0ahUKEwjCl7TGx6ThAhXpsVQKHfnwCBQQpwUIDw\">Verbatim</a></li></ul></li></ul></div></td><td valign=\"top\"><div id=\"center_col\"><div class=\"sd\" id=\"resultStats\">About 866,000 results</div><div id=\"res\"><div id=\"topstuff\"></div><div id=\"search\"><div id=\"ires\"><ol><div class=\"g\"><h3 class=\"r\"><a href=\"/url?q=https://www.koscom.co.kr/&amp;sa=U&amp;ved=0ahUKEwjCl7TGx6ThAhXpsVQKHfnwCBQQFggUMAA&amp;usg=AOvVaw0dGku0V064d2rNEvm2CZw7\"><b>&#53076;&#49828;&#53092;</b></a></h3><div class=\"s\"><div class=\"hJND5c\" style=\"margin-bottom:2px\"><cite>https://www.<b>koscom</b>.co.kr/</cite><div class=\"Pj9hGd\"><div style=\"display:inline\" onclick=\"google.sham(this);\" aria-expanded=\"false\" aria-haspopup=\"true\" tabindex=\"0\" data-ved=\"0ahUKEwjCl7TGx6ThAhXpsVQKHfnwCBQQ7B0IFTAA\"><span class=\"CiacGf\"></span></div><div style=\"display:none\" class=\"am-dropdown-menu\" role=\"menu\" tabindex=\"-1\"><ul><li class=\"mUpfKd\"><a class=\"imx0m\" href=\"/url?q=http://webcache.googleusercontent.com/search%3Fq%3Dcache:geF5QdMKJ8sJ:https://www.koscom.co.kr/%252B%25EC%25BD%2594%25EC%258A%25A4%25EC%25BD%25A4%26hl%3Den%26ct%3Dclnk&amp;sa=U&amp;ved=0ahUKEwjCl7TGx6ThAhXpsVQKHfnwCBQQIAgXMAA&amp;usg=AOvVaw0sxSdyE_1a7q_9UHlj1uio\">Cached</a></li></ul></div></div></div><span class=\"st\">&#51088;&#48376;&#49884;&#51109;IT &#49436;&#48708;&#49828;<b>&#53076;&#49828;&#53092;</b>&#51008; &#51452;&#49885; · &#52292;&#44428; · &#49440;&#47932; · &#50741;&#49496; · &#49345;&#54408; &#46321; &#49884;&#51109; &#50976;&#54805;&#48324; &#47588;&#47588;&#52404;&#44208; <br>\\n&#50629;&#47924;&#50640; &#45824;&#54620; &#49440;&#51652;&#54868;&#46108; IT&#49436;&#48708;&#49828;&#47484; &#51228;&#44277;&#54632;&#51004;&#47196;&#50024; &#44552;&#50997; &#51221;&#52293; &#48143; &#51228;&#46020;&#47484; &#46263;&#48155;&#52840;&#54616;&#44256;&nbsp;...</span><br><div class=\"osl\"><a href=\"/url?q=https://www.koscom.co.kr/portal/main/contents.do%3FmenuNo%3D200001&amp;sa=U&amp;ved=0ahUKEwjCl7TGx6ThAhXpsVQKHfnwCBQQ0gIIGSgAMAA&amp;usg=AOvVaw2XB7j_H50kvNyNmFBX4xnZ\">&#53076;&#49828;&#53092; &#49548;&#44060;</a> - <a href=\"/url?q=https://www.koscom.co.kr/portal/main/contents.do%3FmenuNo%3D200382&amp;sa=U&amp;ved=0ahUKEwjCl7TGx6ThAhXpsVQKHfnwCBQQ0gIIGigBMAA&amp;usg=AOvVaw1VTx5z9mZQM_pkJ8P_17WU\">&#51064;&#51116;&#52292;&#50857;</a> - <a href=\"/url?q=https://data.koscom.co.kr/&amp;sa=U&amp;ved=0ahUKEwjCl7TGx6ThAhXpsVQKHfnwCBQQ0gIIGygCMAA&amp;usg=AOvVaw1pw8DP9APr3T8fgKHPNeC3\">Koscom data</a> - <a href=\"/url?q=https://www.koscom.co.kr/portal/main/contents.do%3FmenuNo%3D200023&amp;sa=U&amp;ved=0ahUKEwjCl7TGx6ThAhXpsVQKHfnwCBQQ0gIIHCgDMAA&amp;usg=AOvVaw3uUjjNDW0AnRedgV1eV4Ar\">&#51068;&#48152;&#54788;&#54889;&lt;&#44221;&#50689;&#44277;&#49884;&lt;&#53076;&#49828;&#53092; ...</a></div></div></div><div class=\"g\"><h3 class=\"r\"><a href=\"/url?q=https://www.koscom.co.kr/portal/main/contents.do%3FmenuNo%3D200001&amp;sa=U&amp;ved=0ahUKEwjCl7TGx6ThAhXpsVQKHfnwCBQQFggeMAE&amp;usg=AOvVaw18b3_7z80jMlleF0S8pkj2\">&#44592;&#50629;&#49548;&#44060;&lt;&#54924;&#49324;&#51068;&#48152;&lt;&#44592;&#50629;&#51221;&#48372;&lt;<b>&#53076;&#49828;&#53092;</b> &#49548;&#44060;&lt;<b>koscom</b></a></h3><div class=\"s\"><div class=\"hJND5c\" style=\"margin-bottom:2px\"><cite>https://www.<b>koscom</b>.co.kr/portal/main/contents.do?menuNo...</cite><div class=\"Pj9hGd\"><div style=\"display:inline\" onclick=\"google.sham(this);\" aria-expanded=\"false\" aria-haspopup=\"true\" tabindex=\"0\" data-ved=\"0ahUKEwjCl7TGx6ThAhXpsVQKHfnwCBQQ7B0IHzAB\"><span class=\"CiacGf\"></span></div><div style=\"display:none\" class=\"am-dropdown-menu\" role=\"menu\" tabindex=\"-1\"><ul><li class=\"mUpfKd\"><a class=\"imx0m\" href=\"/url?q=http://webcache.googleusercontent.com/search%3Fq%3Dcache:IY1yWSlx4XAJ:https://www.koscom.co.kr/portal/main/contents.do%3FmenuNo%253D200001%252B%25EC%25BD%2594%25EC%258A%25A4%25EC%25BD%25A4%26hl%3Den%26ct%3Dclnk&amp;sa=U&amp;ved=0ahUKEwjCl7TGx6ThAhXpsVQKHfnwCBQQIAghMAE&amp;usg=AOvVaw0SOaeoCZwow4nYaHrruCUe\">Cached</a></li><li class=\"mUpfKd\"><a class=\"imx0m\" href=\"/search?ie=UTF-8&amp;q=related:https://www.koscom.co.kr/portal/main/contents.do%3FmenuNo%3D200001+%EC%BD%94%EC%8A%A4%EC%BD%A4&amp;tbo=1&amp;sa=X&amp;ved=0ahUKEwjCl7TGx6ThAhXpsVQKHfnwCBQQHwgiMAE\">Similar</a></li></ul></div></div></div><span class=\"st\">&#54924;&#49324;&#44060;&#50836;. &#54924;&#49324;&#47749;: &#51452;&#49885;&#54924;&#49324; <b>&#53076;&#49828;&#53092;</b>. &#49444;&#47549;&#51068;: 1977&#45380; 9&#50900; 20&#51068;. &#49444;&#47549;&#48176;&#44221;. &#33290;&#51116;&#47924;&#48512;<br>\\n&#50640;&#49436; &#51613;&#44428;&#44144;&#47000;&#49548;&#45236; &#39;&#51613;&#44428;&#51204;&#49328;&#49892;&#39; &#49444;&#52824; &#51648;&#49884; (&#39;75.5.20); &#51116;&#47924;&#48512;&#51109;&#44288; &#45236;&#51064;&#44032;&#50640; &#51032;&#44144;&nbsp;...</span><br></div></div><div class=\"g\"><h3 class=\"r\"><a href=\"/url?q=https://namu.wiki/w/%25EC%25BD%2594%25EC%258A%25A4%25EC%25BD%25A4&amp;sa=U&amp;ved=0ahUKEwjCl7TGx6ThAhXpsVQKHfnwCBQQFggkMAI&amp;usg=AOvVaw10KL4fGKYIIUIyfEKnJ8Fj\"><b>&#53076;&#49828;&#53092;</b> - &#45208;&#47924;&#50948;&#53412;</a></h3><div class=\"s\"><div class=\"hJND5c\" style=\"margin-bottom:2px\"><cite>https://namu.wiki/w/<b>&#53076;&#49828;&#53092;</b></cite><div class=\"Pj9hGd\"><div style=\"display:inline\" onclick=\"google.sham(this);\" aria-expanded=\"false\" aria-haspopup=\"true\" tabindex=\"0\" data-ved=\"0ahUKEwjCl7TGx6ThAhXpsVQKHfnwCBQQ7B0IJTAC\"><span class=\"CiacGf\"></span></div><div style=\"display:none\" class=\"am-dropdown-menu\" role=\"menu\" tabindex=\"-1\"><ul><li class=\"mUpfKd\"><a class=\"imx0m\" href=\"/search?ie=UTF-8&amp;q=related:https://namu.wiki/w/%25EC%25BD%2594%25EC%258A%25A4%25EC%25BD%25A4+%EC%BD%94%EC%8A%A4%EC%BD%A4&amp;tbo=1&amp;sa=X&amp;ved=0ahUKEwjCl7TGx6ThAhXpsVQKHfnwCBQQHwgnMAI\">Similar</a></li></ul></div></div></div><span class=\"st\">2019&#45380; 3&#50900; 10&#51068; <b>...</b> &#51204; &#47749;&#52845;&#51008; &#54620;&#44397;&#51613;&#44428;&#51204;&#49328;. &#51593;, &#54620;&#44397;&#44144;&#47000;&#49548;&#48143; &#54620;&#44397;&#50696;&#53441;&#44208;&#51228;&#50896;, &#54532;&#47532;&#48372;&#46300; &#46321;&#44284; &#50672;&#44228;<br>\\n&#54616;&#50668; &#51452;&#44032;&#51648;&#49688; &#49328;&#52636; &#48143; &#49892;&#51656;&#51201;&#51064; &#51204;&#49328;&#50629;&#47924;&#47484; &#45812;&#45817;&#54616;&#44256; &#51080;&#45796;.</span><br></div></div><div class=\"g\"><h3 class=\"r\"><a href=\"/url?q=https://ko.wikipedia.org/wiki/%25EC%25BD%2594%25EC%258A%25A4%25EC%25BD%25A4&amp;sa=U&amp;ved=0ahUKEwjCl7TGx6ThAhXpsVQKHfnwCBQQFggqMAM&amp;usg=AOvVaw0bwcJm2OIes3XDTp25TtDz\"><b>&#53076;&#49828;&#53092;</b> - &#50948;&#53412;&#48177;&#44284;, &#50864;&#47532; &#47784;&#46160;&#51032; &#48177;&#44284;&#49324;&#51204;</a></h3><div class=\"s\"><div class=\"hJND5c\" style=\"margin-bottom:2px\"><cite>https://ko.wikipedia.org/wiki/<b>&#53076;&#49828;&#53092;</b></cite><div class=\"Pj9hGd\"><div style=\"display:inline\" onclick=\"google.sham(this);\" aria-expanded=\"false\" aria-haspopup=\"true\" tabindex=\"0\" data-ved=\"0ahUKEwjCl7TGx6ThAhXpsVQKHfnwCBQQ7B0IKzAD\"><span class=\"CiacGf\"></span></div><div style=\"display:none\" class=\"am-dropdown-menu\" role=\"menu\" tabindex=\"-1\"><ul><li class=\"mUpfKd\"><a class=\"imx0m\" href=\"/url?q=http://webcache.googleusercontent.com/search%3Fq%3Dcache:vD5BoGTHXpQJ:https://ko.wikipedia.org/wiki/%2525EC%2525BD%252594%2525EC%25258A%2525A4%2525EC%2525BD%2525A4%252B%25EC%25BD%2594%25EC%258A%25A4%25EC%25BD%25A4%26hl%3Den%26ct%3Dclnk&amp;sa=U&amp;ved=0ahUKEwjCl7TGx6ThAhXpsVQKHfnwCBQQIAgtMAM&amp;usg=AOvVaw284NIIK56TFMEh03uFOcZY\">Cached</a></li><li class=\"mUpfKd\"><a class=\"imx0m\" href=\"/search?ie=UTF-8&amp;q=related:https://ko.wikipedia.org/wiki/%25EC%25BD%2594%25EC%258A%25A4%25EC%25BD%25A4+%EC%BD%94%EC%8A%A4%EC%BD%A4&amp;tbo=1&amp;sa=X&amp;ved=0ahUKEwjCl7TGx6ThAhXpsVQKHfnwCBQQHwguMAM\">Similar</a></li></ul></div></div></div><span class=\"st\">3.1&#50868;&#46041; 100&#51452;&#45380; &#44592;&#45392; &#50640;&#46356;&#53552;&#53668;&#51060; 3&#50900; 11&#51068;&#48512;&#53552; 4&#50900; 11&#51068;&#44620;&#51648; &#51652;&#54665;&#46121;&#45768;&#45796;. 3&#50900; 30<br>\\n&#51068; &#49436;&#50872;&#50640;&#49436; .... &#50808;&#48512; &#47553;&#53356;[&#54200;&#51665;]. <b>&#53076;&#49828;&#53092;</b> &#54856;&#54168;&#51060;&#51648;&nbsp;...</span><br></div></div><div class=\"g\"><h3 class=\"r\"><a href=\"/url?q=https://www.signkorea.com/&amp;sa=U&amp;ved=0ahUKEwjCl7TGx6ThAhXpsVQKHfnwCBQQFggwMAQ&amp;usg=AOvVaw0wEVlJg6-a5OeQBuSd-eoS\">SignKorea</a></h3><div class=\"s\"><div class=\"hJND5c\" style=\"margin-bottom:2px\"><cite>https://www.signkorea.com/</cite><div class=\"Pj9hGd\"><div style=\"display:inline\" onclick=\"google.sham(this);\" aria-expanded=\"false\" aria-haspopup=\"true\" tabindex=\"0\" data-ved=\"0ahUKEwjCl7TGx6ThAhXpsVQKHfnwCBQQ7B0IMTAE\"><span class=\"CiacGf\"></span></div><div style=\"display:none\" class=\"am-dropdown-menu\" role=\"menu\" tabindex=\"-1\"><ul><li class=\"mUpfKd\"><a class=\"imx0m\" href=\"/search?ie=UTF-8&amp;q=related:https://www.signkorea.com/+%EC%BD%94%EC%8A%A4%EC%BD%A4&amp;tbo=1&amp;sa=X&amp;ved=0ahUKEwjCl7TGx6ThAhXpsVQKHfnwCBQQHwgzMAQ\">Similar</a></li></ul></div></div></div><span class=\"st\"></span><br></div></div><div class=\"g\"><h3 class=\"r\"><a href=\"/url?q=https://www.jobplanet.co.kr/companies/52769/reviews/%25EC%25BD%2594%25EC%258A%25A4%25EC%25BD%25A4&amp;sa=U&amp;ved=0ahUKEwjCl7TGx6ThAhXpsVQKHfnwCBQQFgg1MAU&amp;usg=AOvVaw1BsdAQhYVP2j5Q4IqC0SYU\"><b>&#53076;&#49828;&#53092;</b> 40&#44148; &#54217;&#44512; &#47532;&#48624; &#54217;&#51216; 3.8&#51216; &#44592;&#50629;&#47532;&#48624; | &#51105;&#54540;&#47000;&#45787;</a></h3><div class=\"s\"><div class=\"hJND5c\" style=\"margin-bottom:2px\"><cite>https://www.jobplanet.co.kr/companies/52769/reviews/<b>&#53076;&#49828;&#53092;</b></cite><div class=\"Pj9hGd\"><div style=\"display:inline\" onclick=\"google.sham(this);\" aria-expanded=\"false\" aria-haspopup=\"true\" tabindex=\"0\" data-ved=\"0ahUKEwjCl7TGx6ThAhXpsVQKHfnwCBQQ7B0INjAF\"><span class=\"CiacGf\"></span></div><div style=\"display:none\" class=\"am-dropdown-menu\" role=\"menu\" tabindex=\"-1\"><ul><li class=\"mUpfKd\"><a class=\"imx0m\" href=\"/url?q=http://webcache.googleusercontent.com/search%3Fq%3Dcache:XZ3EEzJpD3QJ:https://www.jobplanet.co.kr/companies/52769/reviews/%2525EC%2525BD%252594%2525EC%25258A%2525A4%2525EC%2525BD%2525A4%252B%25EC%25BD%2594%25EC%258A%25A4%25EC%25BD%25A4%26hl%3Den%26ct%3Dclnk&amp;sa=U&amp;ved=0ahUKEwjCl7TGx6ThAhXpsVQKHfnwCBQQIAg4MAU&amp;usg=AOvVaw07LfsBi1aUapdVlc1Xa2OZ\">Cached</a></li><li class=\"mUpfKd\"><a class=\"imx0m\" href=\"/search?ie=UTF-8&amp;q=related:https://www.jobplanet.co.kr/companies/52769/reviews/%25EC%25BD%2594%25EC%258A%25A4%25EC%25BD%25A4+%EC%BD%94%EC%8A%A4%EC%BD%A4&amp;tbo=1&amp;sa=X&amp;ved=0ahUKEwjCl7TGx6ThAhXpsVQKHfnwCBQQHwg5MAU\">Similar</a></li></ul></div></div></div><div class=\"f slp\"><div class=\"star\"><div style=\"width:52px\">&nbsp;</div></div>&nbsp;Rating: 3.8&nbsp;-&nbsp;40 votes</div><span class=\"st\"><b>&#53076;&#49828;&#53092;</b>&#51032; &#51204;/&#54788;&#51649;&#50896;&#51060; &#51204;&#54616;&#45716; &#49373;&#49373;&#54620; &#44592;&#50629;&#47532;&#48624;! &#46321;&#47197;&#46108; &#47532;&#48624; 40&#44148;, &#54217;&#44512; &#47532;&#48624; &#54217;&#51216; <br>\\n3.8&#51216;, &#51204;&#52404; &#51649;&#50896;&#51032; 80%&#44032; &#51060; &#44592;&#50629;&#51012; &#52628;&#52380;&#54633;&#45768;&#45796;!</span><br></div></div><div class=\"g\"><h3 class=\"r\"><a href=\"/url?q=https://m.post.naver.com/viewer/postView.nhn%3FvolumeNo%3D9689771%26memberNo%3D38747808&amp;sa=U&amp;ved=0ahUKEwjCl7TGx6ThAhXpsVQKHfnwCBQQFgg8MAY&amp;usg=AOvVaw2DhcuHXy4OH1cntdprU2i1\">[<b>&#53076;&#49828;&#53092;</b>] &#50668;&#51032;&#46020;&#50640; &#49704;&#51008; &#49888;&#51032; &#51649;&#51109;...&#44397;&#45236; &#52572;&#44256; &#44552;&#50997; IT &#54924;&#49324; | jobsN ...</a></h3><div class=\"s\"><div class=\"hJND5c\" style=\"margin-bottom:2px\"><cite>https://m.post.naver.com/viewer/postView.nhn?volumeNo...</cite><div class=\"Pj9hGd\"><div style=\"display:inline\" onclick=\"google.sham(this);\" aria-expanded=\"false\" aria-haspopup=\"true\" tabindex=\"0\" data-ved=\"0ahUKEwjCl7TGx6ThAhXpsVQKHfnwCBQQ7B0IPTAG\"><span class=\"CiacGf\"></span></div><div style=\"display:none\" class=\"am-dropdown-menu\" role=\"menu\" tabindex=\"-1\"><ul><li class=\"mUpfKd\"><a class=\"imx0m\" href=\"/url?q=http://webcache.googleusercontent.com/search%3Fq%3Dcache:fJegKeCgdjgJ:https://m.post.naver.com/viewer/postView.nhn%3FvolumeNo%253D9689771%2526memberNo%253D38747808%252B%25EC%25BD%2594%25EC%258A%25A4%25EC%25BD%25A4%26hl%3Den%26ct%3Dclnk&amp;sa=U&amp;ved=0ahUKEwjCl7TGx6ThAhXpsVQKHfnwCBQQIAg_MAY&amp;usg=AOvVaw13HMTAhaPMfIumrk5GYkas\">Cached</a></li></ul></div></div></div><span class=\"st\">2017&#45380; 9&#50900; 20&#51068; <b>...</b> 9&#50900; 28&#51068;&#44620;&#51648; &#49436;&#47448;&#51217;&#49688; &#54617;&#47141;·&#51204;&#44277; &#51228;&#54620;&#50630;&#50612; &#54596;&#44592;&#49884;&#54744; &#49849;&#48512; &#51204;&#49328;·IT &#51064;&#51116;&#44032; &#49440;&#54840;&#54616;&#45716; <br>\\n&#51649;&#51109; &quot;<b>&#53076;&#49828;&#53092;</b>&#51008; 1977&#45380;&#50640; &#49444;&#47549;&#46104;&#50612; 4&#52264; &#49328;&#50629;&#54785;&#47749;&#51032; &#54028;&#44256; &#49549;&#50640;&#49436;&nbsp;...</span><br></div></div><div class=\"g\"><h3 class=\"r\"><a href=\"/url?q=http://www.saramin.co.kr/zf_user/company-info/view/csn/1168102919/company_nm/(%25EC%25A3%25BC)%25EC%25BD%2594%25EC%258A%25A4%25EC%25BD%25A4&amp;sa=U&amp;ved=0ahUKEwjCl7TGx6ThAhXpsVQKHfnwCBQQFghCMAc&amp;usg=AOvVaw14k7myyFDRTSLJoDK-HbqU\">(&#51452;)<b>&#53076;&#49828;&#53092;</b> 2019&#45380; &#44592;&#50629;&#51221;&#48372; | &#49324;&#50896;&#49688; 705&#47749;, &#44540;&#47924;&#54872;&#44221;, &#48373;&#47532;&#54980;&#49373; &#46321; ...</a></h3><div class=\"s\"><div class=\"hJND5c\" style=\"margin-bottom:2px\"><cite>www.saramin.co.kr/zf_user/company-info/view/.../(&#51452;)<b>&#53076;&#49828;&#53092;</b></cite><div class=\"Pj9hGd\"><div style=\"display:inline\" onclick=\"google.sham(this);\" aria-expanded=\"false\" aria-haspopup=\"true\" tabindex=\"0\" data-ved=\"0ahUKEwjCl7TGx6ThAhXpsVQKHfnwCBQQ7B0IQzAH\"><span class=\"CiacGf\"></span></div><div style=\"display:none\" class=\"am-dropdown-menu\" role=\"menu\" tabindex=\"-1\"><ul><li class=\"mUpfKd\"><a class=\"imx0m\" href=\"/url?q=http://webcache.googleusercontent.com/search%3Fq%3Dcache:P9YnWlFrzBEJ:http://www.saramin.co.kr/zf_user/company-info/view/csn/1168102919/company_nm/(%2525EC%2525A3%2525BC)%2525EC%2525BD%252594%2525EC%25258A%2525A4%2525EC%2525BD%2525A4%252B%25EC%25BD%2594%25EC%258A%25A4%25EC%25BD%25A4%26hl%3Den%26ct%3Dclnk&amp;sa=U&amp;ved=0ahUKEwjCl7TGx6ThAhXpsVQKHfnwCBQQIAhFMAc&amp;usg=AOvVaw1es4ot3JC43HpOMan73Y7R\">Cached</a></li></ul></div></div></div><span class=\"st\">(&#51452;)<b>&#53076;&#49828;&#53092;</b> &#54924;&#49324; &#49548;&#44060;, &#44592;&#50629;&#51221;&#48372;, &#44540;&#47924;&#54872;&#44221;, &#48373;&#47532;&#54980;&#49373;, &#54616;&#45716; &#51068;, &#54924;&#49324;&#50948;&#52824;, &#52292;&#50857;&#51221;&#48372;, <br>\\n&#50672;&#48393;&#51221;&#48372; &#46321;&#51012; &#49324;&#46988;&#51064;&#50640;&#49436; &#54869;&#51064;&#54644;&#48372;&#49464;&#50836;. (saramin.co.kr)</span><br></div></div><div class=\"g\"><h3 class=\"r\"><a href=\"/url?q=http://www.jobkorea.co.kr/Company/1682944&amp;sa=U&amp;ved=0ahUKEwjCl7TGx6ThAhXpsVQKHfnwCBQQFghHMAg&amp;usg=AOvVaw0nYtzKQIZHEkDgDWx8UkB2\"><b>&#53076;&#49828;&#53092;</b> &#44592;&#50629;&#51221;&#48372; | &#51105;&#53076;&#47532;&#50500;</a></h3><div class=\"s\"><div class=\"hJND5c\" style=\"margin-bottom:2px\"><cite>www.jobkorea.co.kr/Company/1682944</cite><div class=\"Pj9hGd\"><div style=\"display:inline\" onclick=\"google.sham(this);\" aria-expanded=\"false\" aria-haspopup=\"true\" tabindex=\"0\" data-ved=\"0ahUKEwjCl7TGx6ThAhXpsVQKHfnwCBQQ7B0ISDAI\"><span class=\"CiacGf\"></span></div><div style=\"display:none\" class=\"am-dropdown-menu\" role=\"menu\" tabindex=\"-1\"><ul><li class=\"mUpfKd\"><a class=\"imx0m\" href=\"/url?q=http://webcache.googleusercontent.com/search%3Fq%3Dcache:WpYQfUdKZ7UJ:http://www.jobkorea.co.kr/Company/1682944%252B%25EC%25BD%2594%25EC%258A%25A4%25EC%25BD%25A4%26hl%3Den%26ct%3Dclnk&amp;sa=U&amp;ved=0ahUKEwjCl7TGx6ThAhXpsVQKHfnwCBQQIAhKMAg&amp;usg=AOvVaw3cFpkj7MQc2hguNnKrLw-_\">Cached</a></li></ul></div></div></div><span class=\"st\"><b>&#53076;&#49828;&#53092;</b> &#44592;&#50629;&#51221;&#48372; - &#52572;&#49888; &#49548;&#49885; &#48143; &#44592;&#50629;&#47928;&#54868;, &#44540;&#47924;&#54872;&#44221;, &#52292;&#50857;&#51221;&#48372;, &#51064;&#51116;&#49345; &#46321;&#51032; &#44592;&#50629;<br>\\n&#51221;&#48372;&#47484; &#51105;&#53076;&#47532;&#50500;&#50640;&#49436; &#44277;&#44060;&#54633;&#45768;&#45796;.</span><br></div></div><div class=\"g\"><h3 class=\"r\"><a href=\"/url?q=https://www.incruit.com/company/2743676/&amp;sa=U&amp;ved=0ahUKEwjCl7TGx6ThAhXpsVQKHfnwCBQQFghMMAk&amp;usg=AOvVaw3hl_GmzhufV_iLoaOmrimt\"><b>&#53076;&#49828;&#53092;</b> &#52292;&#50857; &#44592;&#50629;&#51221;&#48372; &#48372;&#44592; | &#51064;&#53356;&#47336;&#53944;</a></h3><div class=\"s\"><div class=\"hJND5c\" style=\"margin-bottom:2px\"><cite>https://www.incruit.com/company/2743676/</cite><div class=\"Pj9hGd\"><div style=\"display:inline\" onclick=\"google.sham(this);\" aria-expanded=\"false\" aria-haspopup=\"true\" tabindex=\"0\" data-ved=\"0ahUKEwjCl7TGx6ThAhXpsVQKHfnwCBQQ7B0ITTAJ\"><span class=\"CiacGf\"></span></div><div style=\"display:none\" class=\"am-dropdown-menu\" role=\"menu\" tabindex=\"-1\"><ul><li class=\"mUpfKd\"><a class=\"imx0m\" href=\"/url?q=http://webcache.googleusercontent.com/search%3Fq%3Dcache:ex_b0Tzy6foJ:https://www.incruit.com/company/2743676/%252B%25EC%25BD%2594%25EC%258A%25A4%25EC%25BD%25A4%26hl%3Den%26ct%3Dclnk&amp;sa=U&amp;ved=0ahUKEwjCl7TGx6ThAhXpsVQKHfnwCBQQIAhPMAk&amp;usg=AOvVaw3dvQokkt_igfEWS8619kNi\">Cached</a></li></ul></div></div></div><span class=\"st\"><b>&#53076;&#49828;&#53092;</b>&#51032; &#52572;&#49888; &#44592;&#50629;&#51221;&#48372;, &#52292;&#50857;, &#50672;&#48393; &#46321; &#52712;&#50629;&#50640; &#54596;&#50836;&#54620; &#51221;&#48372;&#47484; &#51064;&#53356;&#47336;&#53944;&#50640;&#49436; &#54869;&#51064;<br>\\n&#54616;&#49464;&#50836;.</span><br></div></div></ol></div></div></div><div style=\"clear:both;margin-bottom:17px;overflow:hidden\"><div style=\"font-size:16px;padding:0 8px 1px\">Searches related to <b>&#53076;&#49828;&#53092;</b></div><table border=\"0\" cellpadding=\"0\" cellspacing=\"0\"><tr><td valign=\"top\"><p class=\"aw5cc\" style=\"margin:3px 8px\"><a href=\"/search?ie=UTF-8&amp;q=%EC%BD%94%EC%8A%A4%EC%BD%A4+%EB%8D%B0%EC%9D%B4%ED%84%B0&amp;sa=X&amp;ved=0ahUKEwjCl7TGx6ThAhXpsVQKHfnwCBQQ1QIIUigA\">&#53076;&#49828;&#53092; <b>&#45936;&#51060;&#53552;</b></a></p></td><td valign=\"top\" style=\"padding-left:10px\"><p class=\"aw5cc\" style=\"margin:3px 8px\"><a href=\"/search?ie=UTF-8&amp;q=%EC%BD%94%EC%8A%A4%EC%BD%A4+%ED%95%A9%EA%B2%A9+%EC%8A%A4%ED%8E%99&amp;sa=X&amp;ved=0ahUKEwjCl7TGx6ThAhXpsVQKHfnwCBQQ1QIIUygB\">&#53076;&#49828;&#53092; <b>&#54633;&#44201; &#49828;&#54169;</b></a></p></td></tr><tr><td valign=\"top\"><p class=\"aw5cc\" style=\"margin:3px 8px\"><a href=\"/search?ie=UTF-8&amp;q=%EC%BD%94%EC%8A%A4%EC%BD%A4+api&amp;sa=X&amp;ved=0ahUKEwjCl7TGx6ThAhXpsVQKHfnwCBQQ1QIIVCgC\">&#53076;&#49828;&#53092; <b>api</b></a></p></td><td valign=\"top\" style=\"padding-left:10px\"><p class=\"aw5cc\" style=\"margin:3px 8px\"><a href=\"/search?ie=UTF-8&amp;q=%EC%BD%94%EC%8A%A4%EC%BD%A4+%EC%9D%B8%ED%84%B4&amp;sa=X&amp;ved=0ahUKEwjCl7TGx6ThAhXpsVQKHfnwCBQQ1QIIVSgD\">&#53076;&#49828;&#53092; <b>&#51064;&#53556;</b></a></p></td></tr><tr><td valign=\"top\"><p class=\"aw5cc\" style=\"margin:3px 8px\"><a href=\"/search?ie=UTF-8&amp;q=%EC%BD%94%EC%8A%A4%EC%BD%A4+%EA%B3%B5%EA%B8%B0%EC%97%85&amp;sa=X&amp;ved=0ahUKEwjCl7TGx6ThAhXpsVQKHfnwCBQQ1QIIVigE\">&#53076;&#49828;&#53092; <b>&#44277;&#44592;&#50629;</b></a></p></td><td valign=\"top\" style=\"padding-left:10px\"><p class=\"aw5cc\" style=\"margin:3px 8px\"><a href=\"/search?ie=UTF-8&amp;q=%EC%BD%94%EC%8A%A4%EC%BD%A4+pb&amp;sa=X&amp;ved=0ahUKEwjCl7TGx6ThAhXpsVQKHfnwCBQQ1QIIVygF\">&#53076;&#49828;&#53092; <b>pb</b></a></p></td></tr><tr><td valign=\"top\"><p class=\"aw5cc\" style=\"margin:3px 8px\"><a href=\"/search?ie=UTF-8&amp;q=%EC%BD%94%EC%8A%A4%EC%BD%A4+%EB%A7%88%EC%BC%80%ED%8C%85&amp;sa=X&amp;ved=0ahUKEwjCl7TGx6ThAhXpsVQKHfnwCBQQ1QIIWCgG\">&#53076;&#49828;&#53092; <b>&#47560;&#52992;&#54021;</b></a></p></td><td valign=\"top\" style=\"padding-left:10px\"><p class=\"aw5cc\" style=\"margin:3px 8px\"><a href=\"/search?ie=UTF-8&amp;q=%EC%BD%94%EC%8A%A4%EC%BD%A4+%EB%B8%94%EB%A1%9D%EC%B2%B4%EC%9D%B8&amp;sa=X&amp;ved=0ahUKEwjCl7TGx6ThAhXpsVQKHfnwCBQQ1QIIWSgH\">&#53076;&#49828;&#53092; <b>&#48660;&#47197;&#52404;&#51064;</b></a></p></td></tr><tr><td valign=\"top\"><p class=\"aw5cc\" style=\"margin:3px 8px\"><a href=\"/search?ie=UTF-8&amp;q=%EC%BD%94%EC%8A%A4%EC%BD%A4+%ED%95%84%EA%B8%B0&amp;sa=X&amp;ved=0ahUKEwjCl7TGx6ThAhXpsVQKHfnwCBQQ1QIIWigI\">&#53076;&#49828;&#53092; <b>&#54596;&#44592;</b></a></p></td><td valign=\"top\" style=\"padding-left:10px\"><p class=\"aw5cc\" style=\"margin:3px 8px\"><a href=\"/search?ie=UTF-8&amp;q=%EC%BD%94%EC%8A%A4%EC%BD%A4+%EC%82%AC%EC%97%85&amp;sa=X&amp;ved=0ahUKEwjCl7TGx6ThAhXpsVQKHfnwCBQQ1QIIWygJ\">&#53076;&#49828;&#53092; <b>&#49324;&#50629;</b></a></p></td></tr></table></div></div><div id=\"foot\"><table align=\"center\" border=\"0\" cellpadding=\"0\" cellspacing=\"0\" id=\"nav\"><tr valign=\"top\"><td align=\"left\" class=\"b\"><span class=\"csb\" style=\"background-position:-24px 0;width:28px\"></span><b></b></td><td><span class=\"csb\" style=\"background-position:-53px 0;width:20px\"></span><b>1</b></td><td><a class=\"fl\" href=\"/search?q=%EC%BD%94%EC%8A%A4%EC%BD%A4&amp;ie=UTF-8&amp;prmd=ivns&amp;ei=r5icXIKEI-nj0gL54aOgAQ&amp;start=10&amp;sa=N\"><span class=\"csb\" style=\"background-position:-74px 0;width:20px\"></span>2</a></td><td><a class=\"fl\" href=\"/search?q=%EC%BD%94%EC%8A%A4%EC%BD%A4&amp;ie=UTF-8&amp;prmd=ivns&amp;ei=r5icXIKEI-nj0gL54aOgAQ&amp;start=20&amp;sa=N\"><span class=\"csb\" style=\"background-position:-74px 0;width:20px\"></span>3</a></td><td><a class=\"fl\" href=\"/search?q=%EC%BD%94%EC%8A%A4%EC%BD%A4&amp;ie=UTF-8&amp;prmd=ivns&amp;ei=r5icXIKEI-nj0gL54aOgAQ&amp;start=30&amp;sa=N\"><span class=\"csb\" style=\"background-position:-74px 0;width:20px\"></span>4</a></td><td><a class=\"fl\" href=\"/search?q=%EC%BD%94%EC%8A%A4%EC%BD%A4&amp;ie=UTF-8&amp;prmd=ivns&amp;ei=r5icXIKEI-nj0gL54aOgAQ&amp;start=40&amp;sa=N\"><span class=\"csb\" style=\"background-position:-74px 0;width:20px\"></span>5</a></td><td><a class=\"fl\" href=\"/search?q=%EC%BD%94%EC%8A%A4%EC%BD%A4&amp;ie=UTF-8&amp;prmd=ivns&amp;ei=r5icXIKEI-nj0gL54aOgAQ&amp;start=50&amp;sa=N\"><span class=\"csb\" style=\"background-position:-74px 0;width:20px\"></span>6</a></td><td><a class=\"fl\" href=\"/search?q=%EC%BD%94%EC%8A%A4%EC%BD%A4&amp;ie=UTF-8&amp;prmd=ivns&amp;ei=r5icXIKEI-nj0gL54aOgAQ&amp;start=60&amp;sa=N\"><span class=\"csb\" style=\"background-position:-74px 0;width:20px\"></span>7</a></td><td><a class=\"fl\" href=\"/search?q=%EC%BD%94%EC%8A%A4%EC%BD%A4&amp;ie=UTF-8&amp;prmd=ivns&amp;ei=r5icXIKEI-nj0gL54aOgAQ&amp;start=70&amp;sa=N\"><span class=\"csb\" style=\"background-position:-74px 0;width:20px\"></span>8</a></td><td><a class=\"fl\" href=\"/search?q=%EC%BD%94%EC%8A%A4%EC%BD%A4&amp;ie=UTF-8&amp;prmd=ivns&amp;ei=r5icXIKEI-nj0gL54aOgAQ&amp;start=80&amp;sa=N\"><span class=\"csb\" style=\"background-position:-74px 0;width:20px\"></span>9</a></td><td><a class=\"fl\" href=\"/search?q=%EC%BD%94%EC%8A%A4%EC%BD%A4&amp;ie=UTF-8&amp;prmd=ivns&amp;ei=r5icXIKEI-nj0gL54aOgAQ&amp;start=90&amp;sa=N\"><span class=\"csb\" style=\"background-position:-74px 0;width:20px\"></span>10</a></td><td class=\"b\" style=\"text-align:left\"><a class=\"fl\" href=\"/search?q=%EC%BD%94%EC%8A%A4%EC%BD%A4&amp;ie=UTF-8&amp;prmd=ivns&amp;ei=r5icXIKEI-nj0gL54aOgAQ&amp;start=10&amp;sa=N\" style=\"text-align:left\"><span class=\"csb\" style=\"background-position:-96px 0;width:71px\"></span><span style=\"display:block;margin-left:53px\">Next</span></a></td></tr></table><p class=\"A8ul6\" id=\"bfl\" style=\"margin:19px 0 0;text-align:center\"><a href=\"/advanced_search?q=%EC%BD%94%EC%8A%A4%EC%BD%A4&amp;ie=UTF-8&amp;prmd=ivns\">Advanced search</a><a href=\"/support/websearch/bin/answer.py?answer=134479&amp;hl=en\">Search Help</a> <a href=\"/tools/feedback/survey/html?productId=196&amp;query=%EC%BD%94%EC%8A%A4%EC%BD%A4&amp;hl=en\">Send feedback</a></p><div class=\"A8ul6\" id=\"fll\" style=\"margin:19px auto 19px auto;text-align:center\"><a href=\"/\">Google&nbsp;Home</a> <a href=\"/intl/en/ads\">Advertising&nbsp;Programs</a> <a href=\"/services\">Business Solutions</a> <a href=\"/intl/en/policies/privacy/\">Privacy</a> <a href=\"/intl/en/policies/terms/\">Terms</a> <a href=\"/intl/en/about.html\">About Google</a></div></div></td><td id=\"rhs_block\" valign=\"top\"><ol><div class=\"g\"><div class=\"VBt9Dc hp-xpdbox\"><div class=\"R8KuR\" style=\"float:right\"><div class=\"OSMzvb\" style=\"height:16px;width:86px\"><a href=\"/url?q=http://www.koscom.co.kr/eng/main/contents.do%3FmenuNo%3D300027&amp;sa=U&amp;ved=0ahUKEwjCl7TGx6ThAhXpsVQKHfnwCBQQndQBCGUwCg&amp;usg=AOvVaw1k4bB2tuO5eF5KXB08Kybe\"><img src=\"https://encrypted-tbn0.gstatic.com/images?q=tbn:ANd9GcSv3ISPiHuLfCaieb2EISEHeSNa4Keh2kKrUV3RUG4cP-pdwfCDA_Wm9mI\" style=\"margin-left:0px;margin-right:0px\" title=\"http://www.koscom.co.kr/eng/main/contents.do?menuNo=300027\" alt=\"Image result for &#53076;&#49828;&#53092;\"></a></div></div><div class=\"V7Q8V\"><div><div class=\"FSP1Dd\">Koscom</div><div class=\"F7uZG Rlw09\">Company</div></div></div><div class=\"V7Q8V\"><div class=\"mraOPb\"><span>Koscom is a Korean financial IT solutions company launched by the Ministry of Finance and the Korea Exchange in 1977. It has five corporate divisions with providing IT infrastructure to the Korean financial securities and futures market. <a class=\"fl\" href=\"/url?q=https://en.wikipedia.org/wiki/Koscom&amp;sa=U&amp;ved=0ahUKEwjCl7TGx6ThAhXpsVQKHfnwCBQQmhMIaygAMAw&amp;usg=AOvVaw0Dl9Mkeu1YJeQOHu8oac6I\">Wikipedia</a></span></div></div><div class=\"V7Q8V\" style=\"display:none\"></div><div class=\"V7Q8V\"></div><div class=\"V7Q8V\"><span class=\"cC4Myd\">Founded: </span><span class=\"A1t5ne\">1977</span></div><div class=\"V7Q8V\"><span class=\"cC4Myd\">Headquarters: </span><span class=\"A1t5ne\"><a class=\"A1t5ne fl\" href=\"/search?ie=UTF-8&amp;q=Seoul&amp;stick=H4sIAAAAAAAAAOPgE-LSz9U3MDEwz8iuUuIAsTOKC9O0NDLKrfST83NyUpNLMvPz9POL0hPzMqsSQZxiq_TEoqLMYqBwRuEiVtbg1PzSHADeHi08SgAAAA&amp;sa=X&amp;ved=0ahUKEwjCl7TGx6ThAhXpsVQKHfnwCBQQmxMIcSgAMBA\">Seoul, South Korea</a></span></div><div class=\"V7Q8V\"><span class=\"cC4Myd\">Parent organization: </span><span class=\"A1t5ne\"><a class=\"A1t5ne fl\" href=\"/search?ie=UTF-8&amp;q=Korea+Exchange&amp;stick=H4sIAAAAAAAAAOPgE-LSz9U3MDEwz8iuUuLWT9c3NDJMMiyLN9QyyCi30k_Oz8lJTS7JzM_Tzy9KT8zLrEoEcYqtChKLUvNKFJAFF7HyeecXpSYquFYkZyTmpacCAO5p-mZeAAAA&amp;sa=X&amp;ved=0ahUKEwjCl7TGx6ThAhXpsVQKHfnwCBQQmxMIdCgAMBE\">Korea Exchange</a></span></div><div class=\"dXAUyb\"><div class=\"lHETUb\">People also search for</div><div class=\"xKoZHf B27ELd\" style=\"width:72px\"><div class=\"tQOFN\" style=\"height:72px\"><a class=\"FEM55\" href=\"/search?ie=UTF-8&amp;q=Korea+Information&amp;stick=H4sIAAAAAAAAAONgFuLSz9U3MDEwz8iuUuLRT9c3rKw0LsszMSzQ4nPOz83NzwvOTEktT6wsXsQq6J1flJqo4JmXll-Um1iSmZ8HANK3WvxAAAAA&amp;sa=X&amp;ved=0ahUKEwjCl7TGx6ThAhXpsVQKHfnwCBQQsQ4IeDAS\"><img alt=\"Korea Information\" height=\"56px\" src=\"https://encrypted-tbn1.gstatic.com/images?q=tbn:ANd9GcT1CdaFtl6wvk__ucKmmZEOE71QX0t9xNiyRSqbTl53Upr0FAqSPjws\" style=\"margin-top:8px\" title=\"Korea Information\" width=\"72px\"></a></div><div class=\"brYqc\"><a class=\"fl\" href=\"/search?ie=UTF-8&amp;q=Korea+Information&amp;stick=H4sIAAAAAAAAAONgFuLSz9U3MDEwz8iuUuLRT9c3rKw0LsszMSzQ4nPOz83NzwvOTEktT6wsXsQq6J1flJqo4JmXll-Um1iSmZ8HANK3WvxAAAAA&amp;sa=X&amp;ved=0ahUKEwjCl7TGx6ThAhXpsVQKHfnwCBQQxA0IeTAS\" title=\"Korea Information\">Korea Information</a><div class=\"czonVc\" title=\"Korea Information\"></div></div></div><div class=\"B27ELd\" style=\"width:72px\"><div class=\"tQOFN\" style=\"height:72px\"><a class=\"FEM55\" href=\"/search?ie=UTF-8&amp;q=KTNET&amp;stick=H4sIAAAAAAAAAONgFuLSz9U3MDEwz8iuUuLWT9c3NDI2MahIT9Lic87Pzc3PC85MSS1PrCxexMrqHeLnGgIARdV6hzMAAAA&amp;sa=X&amp;ved=0ahUKEwjCl7TGx6ThAhXpsVQKHfnwCBQQsQ4IezAS\"><img alt=\"KTNET\" height=\"28px\" src=\"https://encrypted-tbn3.gstatic.com/images?q=tbn:ANd9GcSc97QvFlx_wupx3f9NhxAZvmge2wBZyyDlWUfxePCkCw7kkfm3Vf9a\" style=\"margin-top:22px\" title=\"KTNET\" width=\"72px\"></a></div><div class=\"brYqc\"><a class=\"fl\" href=\"/search?ie=UTF-8&amp;q=KTNET&amp;stick=H4sIAAAAAAAAAONgFuLSz9U3MDEwz8iuUuLWT9c3NDI2MahIT9Lic87Pzc3PC85MSS1PrCxexMrqHeLnGgIARdV6hzMAAAA&amp;sa=X&amp;ved=0ahUKEwjCl7TGx6ThAhXpsVQKHfnwCBQQxA0IfDAS\" title=\"KTNET\">KTNET</a><div class=\"czonVc\" title=\"KTNET\"></div></div></div><div class=\"ty7XEe B27ELd\" style=\"width:72px\"><div class=\"tQOFN\" style=\"height:72px\"><a class=\"FEM55\" href=\"/search?ie=UTF-8&amp;q=Korea+Exchange&amp;stick=H4sIAAAAAAAAAONgFuLSz9U3MDEwz8iuUuLWT9c3NDJMMiyLN9Tic87Pzc3PC85MSS1PrCxexMrnnV-UmqjgWpGckZiXngoAxNT4aDwAAAA&amp;sa=X&amp;ved=0ahUKEwjCl7TGx6ThAhXpsVQKHfnwCBQQsQ4IfjAS\"><img alt=\"Korea Exchange\" height=\"37px\" src=\"https://encrypted-tbn0.gstatic.com/images?q=tbn:ANd9GcRa1mN8TLeQ63CKy7gGFlwJD2eWeWxgEEfpg2JOMyH3cTDnFhmUu_SR\" style=\"margin-top:17px\" title=\"Korea Exchange\" width=\"72px\"></a></div><div class=\"brYqc\"><a class=\"fl\" href=\"/search?ie=UTF-8&amp;q=Korea+Exchange&amp;stick=H4sIAAAAAAAAAONgFuLSz9U3MDEwz8iuUuLWT9c3NDJMMiyLN9Tic87Pzc3PC85MSS1PrCxexMrnnV-UmqjgWpGckZiXngoAxNT4aDwAAAA&amp;sa=X&amp;ved=0ahUKEwjCl7TGx6ThAhXpsVQKHfnwCBQQxA0IfzAS\" title=\"Korea Exchange\">Korea Exchange</a><div class=\"czonVc\" title=\"Korea Exchange\"></div></div></div><br><div class=\"xKoZHf B27ELd\" style=\"width:72px\"><div class=\"tQOFN\" style=\"height:72px\"><a class=\"FEM55\" href=\"/search?ie=UTF-8&amp;q=Korea+Financial+Telecommunications+%26+Clearings+Institute&amp;stick=H4sIAAAAAAAAAONgFuLSz9U3MDEwz8iuUgKzk8rTq7IstPic83Nz8_OCM1NSyxMrixexWnjnF6UmKrhl5iXmJWcm5iiEpOakJgMVleZlJieWZObnFSuoKTjnpCYWZealFyt45hWXZJaUlqQCABHy5RVlAAAA&amp;sa=X&amp;ved=0ahUKEwjCl7TGx6ThAhXpsVQKHfnwCBQQsQ4IgQEwEg\"><img alt=\"Korea Financial Telecommunications &amp; Clearings Institute\" height=\"26px\" src=\"https://encrypted-tbn1.gstatic.com/images?q=tbn:ANd9GcTWMDfzuP8nF9gcTcQPE_cIlGRF8PBLe-SkdYeojg-Rpa8Wdkn2wxd3\" style=\"margin-top:23px\" title=\"Korea Financial Telecommunications &amp; Clearings Institute\" width=\"72px\"></a></div><div class=\"brYqc\"><a class=\"fl\" href=\"/search?ie=UTF-8&amp;q=Korea+Financial+Telecommunications+%26+Clearings+Institute&amp;stick=H4sIAAAAAAAAAONgFuLSz9U3MDEwz8iuUgKzk8rTq7IstPic83Nz8_OCM1NSyxMrixexWnjnF6UmKrhl5iXmJWcm5iiEpOakJgMVleZlJieWZObnFSuoKTjnpCYWZealFyt45hWXZJaUlqQCABHy5RVlAAAA&amp;sa=X&amp;ved=0ahUKEwjCl7TGx6ThAhXpsVQKHfnwCBQQxA0IggEwEg\" title=\"Korea Financial Telecommunications &amp; Clearings Institute\">Korea Financial Telecom...</a><div class=\"czonVc\" title=\"Korea Financial Telecommunications &amp; Clearings Institute\"></div></div></div><div class=\"B27ELd\" style=\"width:72px\"><div class=\"tQOFN\" style=\"height:72px\"><a class=\"FEM55\" href=\"/search?ie=UTF-8&amp;q=Korea+Securities+Depository&amp;stick=H4sIAAAAAAAAAONgFuLSz9U3MDEwz8iuUuIGsQ2NTVKMzIq1-Jzzc3Pz84IzU1LLEyuLF7FKe-cXpSYqBKcmlxZllmSmFiu4pBbkF2eW5BdVAgA9499DSQAAAA&amp;sa=X&amp;ved=0ahUKEwjCl7TGx6ThAhXpsVQKHfnwCBQQsQ4IhAEwEg\"><img alt=\"Korea Securities Depository\" height=\"22px\" src=\"https://encrypted-tbn1.gstatic.com/images?q=tbn:ANd9GcR3b6IohSDieeenVRywLZS9ZGea2PqkHCTd5y6u46FMU5dFgV1MXhh3\" style=\"margin-top:25px\" title=\"Korea Securities Depository\" width=\"72px\"></a></div><div class=\"brYqc\"><a class=\"fl\" href=\"/search?ie=UTF-8&amp;q=Korea+Securities+Depository&amp;stick=H4sIAAAAAAAAAONgFuLSz9U3MDEwz8iuUuIGsQ2NTVKMzIq1-Jzzc3Pz84IzU1LLEyuLF7FKe-cXpSYqBKcmlxZllmSmFiu4pBbkF2eW5BdVAgA9499DSQAAAA&amp;sa=X&amp;ved=0ahUKEwjCl7TGx6ThAhXpsVQKHfnwCBQQxA0IhQEwEg\" title=\"Korea Securities Depository\">Korea Securities Depository</a><div class=\"czonVc\" title=\"Korea Securities Depository\"></div></div></div><div class=\"ty7XEe B27ELd\" style=\"width:72px\"><div class=\"tQOFN\" style=\"height:72px\"><a class=\"FEM55\" href=\"/search?ie=UTF-8&amp;q=Korea+Deposit+Insurance+Corporation&amp;stick=H4sIAAAAAAAAAONgFuLSz9U3MDEwz8iuUgKzjczLcytStPic83Nz8_OCM1NSyxMrixexKnvnF6UmKrikFuQXZ5YoeOYVlxYl5iWnKjjnFxXkFyWWZObnAQCcOf5VUAAAAA&amp;sa=X&amp;ved=0ahUKEwjCl7TGx6ThAhXpsVQKHfnwCBQQsQ4IhwEwEg\"><img alt=\"Korea Deposit Insurance Corporation\" height=\"72px\" src=\"https://encrypted-tbn2.gstatic.com/images?q=tbn:ANd9GcS-etB1gzWN5pvfcdUS_5l4B2SArupgX-J1fxbyFgQkBMcXifdiFiY\" title=\"Korea Deposit Insurance Corporation\" width=\"72px\"></a></div><div class=\"brYqc\"><a class=\"fl\" href=\"/search?ie=UTF-8&amp;q=Korea+Deposit+Insurance+Corporation&amp;stick=H4sIAAAAAAAAAONgFuLSz9U3MDEwz8iuUgKzjczLcytStPic83Nz8_OCM1NSyxMrixexKnvnF6UmKrikFuQXZ5YoeOYVlxYl5iWnKjjnFxXkFyWWZObnAQCcOf5VUAAAAA&amp;sa=X&amp;ved=0ahUKEwjCl7TGx6ThAhXpsVQKHfnwCBQQxA0IiAEwEg\" title=\"Korea Deposit Insurance Corporation\">Korea Deposit Insurance...</a><div class=\"czonVc\" title=\"Korea Deposit Insurance Corporation\"></div></div></div><br></div></div></div></ol></td></tr></tbody></table><script type=\"text/javascript\" nonce=\"TH9dWt8Z5WydAixOOrUqFg==\">(function(){var eventid=\\'r5icXIKEI-nj0gL54aOgAQ\\';google.kEI = eventid;})();</script><script src=\"/xjs/_/js/k=xjs.hp.en_US.APCND3bsvvg.O/m=sb_he,d/rt=j/d=1/rs=ACT90oG3M6Dz9lSUnsqEnOBH56yJw2_qnA\" nonce=\"TH9dWt8Z5WydAixOOrUqFg==\"></script><script type=\"text/javascript\" nonce=\"TH9dWt8Z5WydAixOOrUqFg==\">google.ac&&google.ac.c({\"agen\":true,\"cgen\":true,\"client\":\"heirloom-serp\",\"dh\":true,\"dhqt\":true,\"ds\":\"\",\"ffql\":\"en\",\"fl\":true,\"host\":\"google.com\",\"isbh\":28,\"jsonp\":true,\"msgs\":{\"cibl\":\"Clear Search\",\"dym\":\"Did you mean:\",\"lcky\":\"I\\\\u0026#39;m Feeling Lucky\",\"lml\":\"Learn more\",\"oskt\":\"Input tools\",\"psrc\":\"This search was removed from your \\\\u003Ca href=\\\\\"/history\\\\\"\\\\u003EWeb History\\\\u003C/a\\\\u003E\",\"psrl\":\"Remove\",\"sbit\":\"Search by image\",\"srch\":\"Google Search\"},\"ovr\":{},\"pq\":\"&#53076;&#49828;&#53092;\",\"refpd\":true,\"rfs\":[\"&#53076;&#49828;&#53092; &#45936;&#51060;&#53552;\",\"&#53076;&#49828;&#53092; api\",\"&#53076;&#49828;&#53092; &#44277;&#44592;&#50629;\",\"&#53076;&#49828;&#53092; &#47560;&#52992;&#54021;\",\"&#53076;&#49828;&#53092; &#54596;&#44592;\",\"&#53076;&#49828;&#53092; &#54633;&#44201; &#49828;&#54169;\",\"&#53076;&#49828;&#53092; &#51064;&#53556;\",\"&#53076;&#49828;&#53092; pb\",\"&#53076;&#49828;&#53092; &#48660;&#47197;&#52404;&#51064;\",\"&#53076;&#49828;&#53092; &#49324;&#50629;\"],\"sbpl\":24,\"sbpr\":24,\"scd\":10,\"sce\":5,\"stok\":\"zpaayevt_nCk8N_sxCl8FQW1HF8\",\"uhde\":false})</script><script nonce=\"TH9dWt8Z5WydAixOOrUqFg==\">(function(){window.google.cdo={height:0,width:0};(function(){var a=window.innerWidth,b=window.innerHeight;if(!a||!b){var c=window.document,d=\"CSS1Compat\"==c.compatMode?c.documentElement:c.body;a=d.clientWidth;b=d.clientHeight}a&&b&&(a!=google.cdo.width||b!=google.cdo.height)&&google.log(\"\",\"\",\"/client_204?&atyp=i&biw=\"+a+\"&bih=\"+b+\"&ei=\"+google.kEI);}).call(this);})();</script></body></html>'"
            ]
          },
          "metadata": {
            "tags": []
          },
          "execution_count": 4
        }
      ]
    },
    {
      "metadata": {
        "id": "98Gq50GDs8Em",
        "colab_type": "code",
        "outputId": "3a9427ae-fd38-433d-c734-08a56602d44a",
        "colab": {
          "base_uri": "https://localhost:8080/",
          "height": 34
        }
      },
      "cell_type": "code",
      "source": [
        "soup = BeautifulSoup(r.text)\n",
        "soup\n",
        "#soup에 객체 저장\n",
        "\n",
        "#여기서 우리가 원하는 정보인 div 태그 찾기\n",
        "\n",
        "div=soup.find('div', attrs={'id':'resultStats'})  \n",
        "\n",
        "#div변수에 이 부분 찾아서 넣기 ->> <div id=\"resultStats\">검색결과 약 767,000개<nobr> (0.29초)&nbsp;</nobr></div>\n",
        "div\n"
      ],
      "execution_count": 0,
      "outputs": [
        {
          "output_type": "execute_result",
          "data": {
            "text/plain": [
              "<div class=\"sd\" id=\"resultStats\">About 866,000 results</div>"
            ]
          },
          "metadata": {
            "tags": []
          },
          "execution_count": 6
        }
      ]
    },
    {
      "metadata": {
        "id": "p7FZU7fHto-G",
        "colab_type": "code",
        "outputId": "e345e6e4-7dcb-401d-a1b2-f4313992d4ba",
        "colab": {
          "base_uri": "https://localhost:8080/",
          "height": 34
        }
      },
      "cell_type": "code",
      "source": [
        "div.text"
      ],
      "execution_count": 0,
      "outputs": [
        {
          "output_type": "execute_result",
          "data": {
            "text/plain": [
              "'About 866,000 results'"
            ]
          },
          "metadata": {
            "tags": []
          },
          "execution_count": 7
        }
      ]
    },
    {
      "metadata": {
        "id": "g2Y36NqAufUB",
        "colab_type": "code",
        "outputId": "5e65b069-4779-4563-e907-ea54e62e8317",
        "colab": {
          "base_uri": "https://localhost:8080/",
          "height": 34
        }
      },
      "cell_type": "code",
      "source": [
        "div.text.split()[1] # 글자를 자르고 그중에 숫자 부분인 [1]만 필요"
      ],
      "execution_count": 0,
      "outputs": [
        {
          "output_type": "execute_result",
          "data": {
            "text/plain": [
              "'866,000'"
            ]
          },
          "metadata": {
            "tags": []
          },
          "execution_count": 8
        }
      ]
    },
    {
      "metadata": {
        "id": "DL4Y2Zn0un_S",
        "colab_type": "code",
        "outputId": "63fe9a96-c6f3-4eec-833a-902bff5ef405",
        "colab": {
          "base_uri": "https://localhost:8080/",
          "height": 34
        }
      },
      "cell_type": "code",
      "source": [
        "result = int(div.text.split()[1].replace(',','')) # result 변수에 콤마를 빈칸으로 변환-> 정수형이 되므로 결과 넣기\n",
        "result"
      ],
      "execution_count": 0,
      "outputs": [
        {
          "output_type": "execute_result",
          "data": {
            "text/plain": [
              "866000"
            ]
          },
          "metadata": {
            "tags": []
          },
          "execution_count": 10
        }
      ]
    },
    {
      "metadata": {
        "id": "YX1UVBgsvLzl",
        "colab_type": "text"
      },
      "cell_type": "markdown",
      "source": [
        "## 함수로 만들기"
      ]
    },
    {
      "metadata": {
        "id": "320JvxG0u7Dj",
        "colab_type": "code",
        "colab": {}
      },
      "cell_type": "code",
      "source": [
        "import requests\n",
        "from bs4 import BeautifulSoup\n",
        "\n",
        "def get_google_counter(keyword):\n",
        "    url=\"https://www.google.com/search?q=\"+keyword\n",
        "    r=requests.get(url)\n",
        "    soup = BeautifulSoup(r.text)\n",
        "    div=soup.find('div', attrs={'id':'resultStats'})\n",
        "    result = int(div.text.split()[1].replace(',',''))\n",
        "    \n",
        "    return result"
      ],
      "execution_count": 0,
      "outputs": []
    },
    {
      "metadata": {
        "id": "CGnvvrnkwxaC",
        "colab_type": "code",
        "outputId": "300ad8bc-2bdf-4e32-e407-e040686c1786",
        "colab": {
          "base_uri": "https://localhost:8080/",
          "height": 34
        }
      },
      "cell_type": "code",
      "source": [
        "get_google_counter('삼성전자')"
      ],
      "execution_count": 0,
      "outputs": [
        {
          "output_type": "execute_result",
          "data": {
            "text/plain": [
              "113000000"
            ]
          },
          "metadata": {
            "tags": []
          },
          "execution_count": 25
        }
      ]
    },
    {
      "metadata": {
        "id": "Xm1WSE_Uw7cp",
        "colab_type": "code",
        "outputId": "42198fad-ac48-460d-9015-b31502e91522",
        "colab": {
          "base_uri": "https://localhost:8080/",
          "height": 34
        }
      },
      "cell_type": "code",
      "source": [
        "get_google_counter('네이버')"
      ],
      "execution_count": 0,
      "outputs": [
        {
          "output_type": "execute_result",
          "data": {
            "text/plain": [
              "259000000"
            ]
          },
          "metadata": {
            "tags": []
          },
          "execution_count": 26
        }
      ]
    },
    {
      "metadata": {
        "id": "bz6hRgOlw7Yu",
        "colab_type": "code",
        "colab": {}
      },
      "cell_type": "code",
      "source": [
        ""
      ],
      "execution_count": 0,
      "outputs": []
    },
    {
      "metadata": {
        "id": "N632nawXvrjQ",
        "colab_type": "text"
      },
      "cell_type": "markdown",
      "source": [
        "#데이터 크롤링 02 - requests, BeautifulSoup"
      ]
    },
    {
      "metadata": {
        "id": "4OTQhCBb2XHu",
        "colab_type": "text"
      },
      "cell_type": "markdown",
      "source": [
        "## 구글 카운터_복습"
      ]
    },
    {
      "metadata": {
        "id": "Vq4-f3sk1awD",
        "colab_type": "code",
        "outputId": "2558387a-21e6-46a2-cd0f-998f861b6237",
        "colab": {
          "base_uri": "https://localhost:8080/",
          "height": 34
        }
      },
      "cell_type": "code",
      "source": [
        "import requests\n",
        "from bs4 import BeautifulSoup\n",
        "\n",
        "r = requests.get(\"https://www.google.co.kr/search?q=삼성전자\")\n",
        "\n",
        "soup = BeautifulSoup(r.content, 'lxml') #'lxml'-> parser를 굳이 안써도 되지만 쓰면 조음. 'lxml'이 좀더 속도 빠름.\n",
        "#soup에 저장\n",
        "\n",
        "# [r.content 주의]\n",
        "#url이 binary형인 경우, 엑셀파일 등등 -> r.content사용 (binary 형)\n",
        "\n",
        "#soup에게 물어보기\n",
        "res_stat = soup.find(id='resultStats').text #id는 유니크 하므로 id만 가지고 뽑아내기 가능\n",
        "\n",
        "print (res_stat)"
      ],
      "execution_count": 0,
      "outputs": [
        {
          "output_type": "stream",
          "text": [
            "About 113,000,000 results\n"
          ],
          "name": "stdout"
        }
      ]
    },
    {
      "metadata": {
        "id": "TAIFyL_Qvrg-",
        "colab_type": "text"
      },
      "cell_type": "markdown",
      "source": [
        "## 네이버 finance\n",
        "\n",
        "\n",
        "https://companyinfo.stock.naver.com/v1/company/c1010001.aspx?cmp_cd=005930"
      ]
    },
    {
      "metadata": {
        "id": "Um-Hy7pp2c9X",
        "colab_type": "code",
        "outputId": "5dcaec50-6aec-45a9-d5ed-561557663349",
        "colab": {
          "base_uri": "https://localhost:8080/",
          "height": 263
        }
      },
      "cell_type": "code",
      "source": [
        "code = '005930'\n",
        "\n",
        "url = 'http://companyinfo.stock.naver.com/v1/company/c1010001.aspx?cmp_cd=' + code\n",
        "\n",
        "r= requests.get(url)\n",
        "soup = BeautifulSoup(r.text,\"lxml\")\n",
        "td = soup.find('td', {'class':'cmp-table-cell td0101'})\n",
        "td\n",
        "\n",
        "\n",
        "# PER 7.53얻어오기\n",
        "# id=\"krx_per\" 말고 다르게\n",
        "\n",
        "\n",
        "# dt의 모든부분 불어오기."
      ],
      "execution_count": 0,
      "outputs": [
        {
          "output_type": "execute_result",
          "data": {
            "text/plain": [
              "<td class=\"cmp-table-cell td0101\">\n",
              "<dl>\n",
              "<dt>\n",
              "<span class=\"name\">삼성전자</span>\n",
              "<a class=\"cEm\" href=\"http://www.sec.co.kr\" target=\"comPage\" title=\"[홈페이지] www.sec.co.kr\"><img align=\"absmiddle\" hspace=\"3\" src=\"/images/icon_home.gif\"/></a>\n",
              "<a class=\"cEm\" title=\"[대표전화] 031-200-1114       \n",
              "[주식담당] 02-2255-8126\"><img align=\"absmiddle\" hspace=\"1\" src=\"/images/icon_tel.gif\"/></a>\n",
              "<b class=\"num\">005930</b>\n",
              "</dt>\n",
              "<dt class=\"line-left\">SamsungElec</dt>\n",
              "<dt class=\"line-left\">KOSPI : 전기전자</dt>\n",
              "<dt class=\"line-left\">WICS : 반도체와반도체장비</dt>\n",
              "</dl>\n",
              "</td>"
            ]
          },
          "metadata": {
            "tags": []
          },
          "execution_count": 32
        }
      ]
    },
    {
      "metadata": {
        "id": "Iwr8Snsd2wHk",
        "colab_type": "code",
        "outputId": "a01c934c-f9eb-4446-eb1d-a7078fad52d5",
        "colab": {
          "base_uri": "https://localhost:8080/",
          "height": 193
        }
      },
      "cell_type": "code",
      "source": [
        "td.find_all('dt')"
      ],
      "execution_count": 0,
      "outputs": [
        {
          "output_type": "execute_result",
          "data": {
            "text/plain": [
              "[<dt>\n",
              " <span class=\"name\">삼성전자</span>\n",
              " <a class=\"cEm\" href=\"http://www.sec.co.kr\" target=\"comPage\" title=\"[홈페이지] www.sec.co.kr\"><img align=\"absmiddle\" hspace=\"3\" src=\"/images/icon_home.gif\"/></a>\n",
              " <a class=\"cEm\" title=\"[대표전화] 031-200-1114       \n",
              " [주식담당] 02-2255-8126\"><img align=\"absmiddle\" hspace=\"1\" src=\"/images/icon_tel.gif\"/></a>\n",
              " <b class=\"num\">005930</b>\n",
              " </dt>,\n",
              " <dt class=\"line-left\">SamsungElec</dt>,\n",
              " <dt class=\"line-left\">KOSPI : 전기전자</dt>,\n",
              " <dt class=\"line-left\">WICS : 반도체와반도체장비</dt>]"
            ]
          },
          "metadata": {
            "tags": []
          },
          "execution_count": 33
        }
      ]
    },
    {
      "metadata": {
        "id": "VMF2by3F5E7I",
        "colab_type": "code",
        "outputId": "4011742d-f9fe-4a86-d9a5-68e8ecd47789",
        "colab": {
          "base_uri": "https://localhost:8080/",
          "height": 34
        }
      },
      "cell_type": "code",
      "source": [
        "tds = td.find_all('dt')\n",
        "len(tds)"
      ],
      "execution_count": 0,
      "outputs": [
        {
          "output_type": "execute_result",
          "data": {
            "text/plain": [
              "4"
            ]
          },
          "metadata": {
            "tags": []
          },
          "execution_count": 37
        }
      ]
    },
    {
      "metadata": {
        "id": "WNoO4tko4G4k",
        "colab_type": "code",
        "colab": {}
      },
      "cell_type": "code",
      "source": [
        "import requests\n",
        "from bs4 import BeautifulSoup\n",
        "\n",
        "def get_sector(code):\n",
        "    url = 'http://companyinfo.stock.naver.com' \\\n",
        "          '/v1/company/c1010001.aspx?cmp_cd=' + code\n",
        "\n",
        "    r= requests.get(url)\n",
        "    soup = BeautifulSoup(r.text,\"lxml\")\n",
        "    td = soup.find('td', {'class':'cmp-table-cell td0101'})\n",
        "    sector = tds[2].text.split(' : ')[1]\n",
        "    return sector\n"
      ],
      "execution_count": 0,
      "outputs": []
    },
    {
      "metadata": {
        "id": "IQDOKPva6Hgg",
        "colab_type": "text"
      },
      "cell_type": "markdown",
      "source": [
        "##네이버실검(정규식)"
      ]
    },
    {
      "metadata": {
        "id": "iJtPeqhH4ziT",
        "colab_type": "code",
        "outputId": "50695d08-f128-48cd-a0da-8961b289f287",
        "colab": {
          "base_uri": "https://localhost:8080/",
          "height": 54
        }
      },
      "cell_type": "code",
      "source": [
        "import requests\n",
        "from bs4 import BeautifulSoup\n",
        "\n",
        "r=requests. get('http://naver.com')\n",
        "r.text"
      ],
      "execution_count": 0,
      "outputs": [
        {
          "output_type": "execute_result",
          "data": {
            "text/plain": [
              "'<!doctype html>\\n\\n\\n\\n\\n\\n\\n\\n\\n\\n\\n\\n\\n\\n\\n\\n\\n<html lang=\"ko\">\\n<head>\\n<meta charset=\"utf-8\">\\n<meta name=\"Referrer\" content=\"origin\">\\n<meta http-equiv=\"Content-Script-Type\" content=\"text/javascript\">\\n<meta http-equiv=\"Content-Style-Type\" content=\"text/css\">\\n<meta http-equiv=\"X-UA-Compatible\" content=\"IE=edge\">\\n<meta name=\"viewport\" content=\"width=1100\">\\n<meta name=\"apple-mobile-web-app-title\" content=\"NAVER\" />\\n<meta name=\"robots\" content=\"index,nofollow\"/>\\n<meta name=\"description\" content=\"네이버 메인에서 다양한 정보와 유용한 컨텐츠를 만나 보세요\"/>\\n<meta property=\"og:title\" content=\"네이버\">\\n<meta property=\"og:url\" content=\"https://www.naver.com/\">\\n<meta property=\"og:image\" content=\"https://s.pstatic.net/static/www/mobile/edit/2016/0705/mobile_212852414260.png\">\\n<meta property=\"og:description\" content=\"네이버 메인에서 다양한 정보와 유용한 컨텐츠를 만나 보세요\"/>\\n<meta name=\"twitter:card\" content=\"summary\">\\n<meta name=\"twitter:title\" content=\"\">\\n<meta name=\"twitter:url\" content=\"https://www.naver.com/\">\\n<meta name=\"twitter:image\" content=\"https://s.pstatic.net/static/www/mobile/edit/2016/0705/mobile_212852414260.png\">\\n<meta name=\"twitter:description\" content=\"네이버 메인에서 다양한 정보와 유용한 컨텐츠를 만나 보세요\"/>\\n\\n\\n<link rel=\"shortcut icon\" type=\"image/x-icon\" href=\"/favicon.ico\" />\\n\\n<link rel=\"stylesheet\" type=\"text/css\" href=\"https://pm.pstatic.net/css/main_v190219.css\"/> \\n<link rel=\"stylesheet\" type=\"text/css\" href=\"https://pm.pstatic.net/css/webfont_v170623.css\"/>\\n<link rel=\"stylesheet\" type=\"text/css\" href=\"https://ssl.pstatic.net/sstatic/search/pc/css/api_atcmp_181122.css\"/>\\n\\n\\n<script type=\"text/javascript\" src=\"https://pm.pstatic.net/js/c/nlog_v181107.js\"></script>\\n\\n<script type=\"text/javascript\" src=\"https://ssl.pstatic.net/tveta/libs/assets/js/common/min/probe.min.js\"></script>\\n<script type=\"text/javascript\">\\nvar nsc = \"navertop.v3\";\\ndocument.domain = \"naver.com\";\\nvar jindoAll = \"\";\\nvar iframeLazyLoad = false;\\nif (!!!window.console) {window.console={};window.console[\"log\"]=function(){}}\\nvar isLogin = false; \\nfunction refreshLcs(etc) {etc = etc ? etc : {};if(document.cookie.indexOf(\"nrefreshx=1\") != -1) {etc[\"mrf\"]=\"1\";} else {etc[\"pan\"]=\"lif\";}return etc;}\\n\\n</script>\\n<title>NAVER</title>\\n</head>\\n\\n\\n\\n\\n\\n\\n\\n\\n\\n\\n\\n\\n\\n\\n\\n\\n\\n\\n\\n<style>\\n\\t#_nx_kbd .setkorhelp a { display:none; }\\n</style>\\n<body class=\\'\\'>\\n\\t<!-- 스킵 내비게이션 -->\\n\\t<div class=\"u_skip\">\\n\\t\\t<a href=\"#news_cast\" onclick=\"document.getElementById(\\'news_cast2\\').tabIndex = -1;document.getElementById(\\'news_cast2\\').focus();return false;\"><span>연합뉴스 바로가기</span></a>\\n\\t\\t<a href=\"#themecast\" onclick=\"document.getElementById(\\'themecast\\').tabIndex = -1;document.getElementById(\\'themecast\\').focus();return false;\"><span>주제별캐스트 바로가기</span></a>\\n\\t\\t<a href=\"#time_square\" onclick=\"document.getElementById(\\'time_square\\').tabIndex = -1;document.getElementById(\\'time_square\\').focus();return false;\"><span>타임스퀘어 바로가기</span></a>\\n\\t\\t<a href=\"#shp_cst\" onclick=\"document.getElementById(\\'shp_cst\\').tabIndex = -1;document.getElementById(\\'shp_cst\\').focus();return false;\"><span>쇼핑캐스트 바로가기</span></a>\\n\\t\\t<a href=\"#account\" onclick=\"document.getElementById(\\'account\\').tabIndex = -1;document.getElementById(\\'account\\').focus();return false;\"><span>로그인 바로가기</span></a>\\n\\t</div>\\n\\t<!-- //스킵 내비게이션 -->\\n\\t<div id=\"PM_ID_ct\" class=\"wrap\" >\\n\\t\\t<!-- 헤더 -->\\n<div class=\"header\" role=\"banner\">\\n\\t\\n\\n\\n\\n\\n\\n\\n<div class=\"special_bg\">\\n<div class=\"area_flex\">\\n<div class=\"area_logo\">\\n<h1>\\n<a data-clk=\"top.logo\" href=\"/\"><span class=\"naver_logo\">네이버</span></a>\\n</h1>\\n</div>\\n<div class=\"area_links\">\\n<a data-clk=\"top.mkhome\" href=\"http://help.naver.com/support/alias/contents2/naverhome/naverhome_1.naver\" class=\"al_favorite\">네이버를 시작페이지로<span class=\"al_ico_link\"></span></a>\\n<span class=\"al_bar\"></span>\\n<a data-clk=\"top.jrnaver\" href=\"http://jr.naver.com\" class=\"al_jr\"><span class=\"blind\">쥬니어네이버</span><span class=\"al_ico\"></span></a>\\n<a data-clk=\"top.happybean\" href=\"http://happybean.naver.com/main/SectionMain.nhn\" class=\"al_happybean\"><span class=\"blind\">해피빈</span><span class=\"al_ico\"></span></a>\\n</div>\\n<div id=\"search\" class=\"search\">\\n<!--자동완성 입력창-->\\n\\n<form id=\"sform\" name=\"sform\" action=\"https://search.naver.com/search.naver\" method=\"get\">\\n\\n\\t<fieldset>\\n   \\t\\t<legend class=\"blind\">검색</legend>\\n        <input type=\"hidden\" id=\"sm\" name=\"sm\" value=\"top_hty\" />\\n        <input type=\"hidden\" id=\"fbm\" name=\"fbm\" value=\"0\" />\\n        <input type=\"hidden\" id=\"acr\" name=\"acr\" value=\"\" disabled=\"disabled\" />\\n        <input type=\"hidden\" id=\"acq\" name=\"acq\" value=\"\" disabled=\"disabled\" />\\n        <input type=\"hidden\" id=\"qdt\" name=\"qdt\" value=\"\" disabled=\"disabled\" />\\n        <input type=\"hidden\" id=\"ie\" name=\"ie\" value=\"utf8\" />\\n        <input type=\"hidden\" id=\"acir\" name=\"acir\" value=\"\" disabled=\"disabled\" />\\n        <input type=\"hidden\" id=\"os\" name=\"os\" value=\"\" disabled=\"disabled\" />\\n        <input type=\"hidden\" id=\"bid\" name=\"bid\" value=\"\" disabled=\"disabled\" />\\n        <input type=\"hidden\" id=\"pkid\" name=\"pkid\" value=\"\" disabled=\"disabled\" />\\n        <input type=\"hidden\" id=\"eid\" name=\"eid\" value=\"\" disabled=\"disabled\" />\\n        <input type=\"hidden\" id=\"mra\" name=\"mra\" value=\"\" disabled=\"disabled\" />\\n        <span class=\"green_window\">\\n            <input id=\"query\" name=\"query\" type=\"text\" title=\"검색어 입력\" maxlength=\"255\" class=\"input_text\" tabindex=\"1\" accesskey=\"s\" style=\"ime-mode:active;\" autocomplete=\"off\" onclick=\"document.getElementById(\\'fbm\\').value=1;\" value=\"\" />\\n        </span>\\n        <div id=\"nautocomplete\" class=\"autocomplete\">\\n            <!-- 자동완성 열린 경우 fold 클래스 추가, 딤드인 경우 dim 추가 -->\\n            <a href=\"javascript:;\" role=\"button\" tabindex=\"2\" class=\"btn_arw _btn_arw fold\"><span class=\"blind _text\">자동완성 펼치기</span><span class=\"ico_arr\"></span></a>\\n        </div>\\n        <button id=\"search_btn\" type=\"submit\" title=\"검색\" tabindex=\"3\" class=\"sch_smit\" onmouseover=\"this.className=\\'sch_smit over\\'\" onmousedown=\"this.className=\\'sch_smit down\\'\" onmouseout=\"this.className=\\'sch_smit\\'\" onclick=\"clickcr(this,\\'sch.action\\',\\'\\',\\'\\',event);\"><span class=\"blind\">검색</span><span class=\"ico_search_submit\"></span></button>\\n    </fieldset>\\n</form>\\n<!--자동완성 입력창-->\\n<!--한글입력기 -->\\n<a href=\"javascript:;\" id=\"ke_kbd_btn\" role=\"button\" class=\"btn_keyboard\" onclick=\"nx_ime_load(this)\" data-clk=\"sch.ime\"><span class=\"blind\">한글 입력기</span><span class=\"ico_keyboard\"></span></a>\\n<style type=\"text/css\" id=\"_nx_kbd_style\"></style>\\n<div id=\"_nx_kbd\" style=\"display:none;\"></div>\\n<!--한글입력기 -->\\n<!--자동완성 레이어 -->\\n<div id=\"autoFrame\" class=\"reatcmp\" style=\"background-color:rgb(255, 255, 255);display:none;\">\\n    <div class=\"api_atcmp_wrap _atcmp\" style=\"display:none;\">\\n        <div class=\"words _words\">\\n            <div class=\"_atcmp_result_wrap\">\\n                <ul class=\"_resultBox\"></ul>\\n                <ul class=\"_resultBox\"></ul>\\n                <ul class=\"_resultBox\"></ul>\\n                <ul class=\"_resultBox\"></ul>\\n            </div>\\n            <!-- 우측 정답형 영역 -->\\n            <div class=\"add_group _atcmp_answer_wrap\"></div>\\n        </div>\\n        <!-- 컨텍스트 자동완성 플러스 -->\\n        <!-- [AU] _plus -->\\n        <div class=\"atcmp_plus _plus\">\\n            <span class=\"desc\">\\n                <span class=\"plus_txt _plusTxt\">시간대와 관심사에 맞춘 <em class=\\'txt\\'>컨텍스트 자동완성</em></span>\\n                <a onclick=\"__atcmpCR(event, this, \\'plus.help\\', \\'\\',\\'\\',\\'\\');\" href=\"https://help.naver.com/support/contents/contents.nhn?serviceNo=606&categoryNo=16658\" target=\"_blank\" class=\"spat ico_info _plusHelp\"><span class=\"blind\">도움말 보기</span></a>\\n            </span>\\n            <!-- [AU] _plus_btn -->\\n            <span class=\"switch _plus_btn\">\\n                <a href=\"#\" class=\"btn_turnon active\" onclick=\"__atcmpCR(event, this, \\'plus.use\\', \\'\\',\\'\\',\\'\\');\">ON<span class=\"blind\">선택됨</span></a>\\n                <a href=\"#\" class=\"btn_turnoff\" onclick=\"__atcmpCR(event, this, \\'plus.unuse\\', \\'\\',\\'\\',\\'\\');\">OFF</a>\\n            </span>\\n            <div class=\"layer_plus _plusAlert\">\\n                <strong class=\"tit\">컨텍스트 자동완성</strong>\\n                <div class=\"_logout\" style=\"display:block;\">\\n                    <p class=\"dsc\"><em class=\"txt\">동일한 시간대/연령/남녀별</em> 사용자 그룹의<br>관심사에 맞춰 자동완성을 제공합니다.</p>\\n                    <div class=\"btn_area\">\\n                        <a onclick=\"__atcmpCR(event, this, \\'plus.login\\', \\'\\',\\'\\',\\'\\');\" href=\"https://nid.naver.com/nidlogin.login\" class=\"btn btn_login\">로그인</a>\\n                        <a target=\"_blank\" onclick=\"__atcmpCR(event, this, \\'plus.detail\\', \\'\\',\\'\\',\\'\\');\" href=\"https://help.naver.com/support/alias/search/word/word_16.naver\" class=\"btn btn_view\">자세히</a>\\n                    </div>\\n                </div>\\n                <div class=\"_login\" style=\"display:none;\">\\n                    <p class=\"dsc\">ON/OFF설정은<br>해당 기기(브라우저)에 저장됩니다.</p>\\n                    <div class=\"btn_area\">\\n                        <a target=\"_blank\" onclick=\"__atcmpCR(event, this, \\'plus.detail\\', \\'\\',\\'\\',\\'\\');\" href=\"https://help.naver.com/support/contents/contents.nhn?serviceNo=606&categoryNo=16659\" class=\"btn btn_view\">자세히</a>\\n                    </div>\\n                </div>\\n                <button type=\"button\" class=\"btn_close _close\" onclick=\"__atcmpCR(event, this, \\'plus.close\\', \\'\\',\\'\\',\\'\\');\"><i class=\"spat ico_close\">컨텍스트 자동완성 레이어 닫기</i></button>\\n            </div>\\n        </div>\\n        <!-- //컨텍스트 자동완성 플러스 -->\\n        <p class=\"func _atcmpBtnGroup\"><span class=\"fl\"><a class=\"_help\" onclick=\"__atcmpCR(event, this, \\'help\\', \\'\\',\\'\\',\\'\\');\" href=\"https://help.naver.com/support/service/main.nhn?serviceNo=606&categoryNo=1987\" target=\"_blank\">도움말</a><span class=\"atcmp_bar\"></span><a onclick=\"__atcmpCR(event, this, \\'report\\', \\'\\',\\'\\',\\'\\');\" href=\"https://help.naver.com/support/contents/contents.nhn?serviceNo=605&categoryNo=18215\" target=\"_blank\">신고</a></span><span><em><a class=\"hisoff\" href=\"javascript:;\">검색어저장 켜기</a><span class=\"atcmp_bar\"></span></em><a class=\"funoff\" href=\"javascript:;\">자동완성 끄기</a></span></p>\\n        <span class=\"atcmp_helper _help_tooltip1\">기능을 다시 켤 때는 <em class=\"ico_search spat\">자동완성 펼치기</em>을 클릭하세요</span>\\n    </div>\\n    <div class=\"api_atcmp_wrap _atcmpIng\" style=\"display:none;\">\\n        <div class=\"words\"><p class=\"info_words\">현재 자동완성 기능을 사용하고 계십니다.</p></div>\\n        <p class=\"func _atcmpBtnGroup\"><span class=\"fl\"><a class=\"_help\" onclick=\"__atcmpCR(event, this, \\'help\\', \\'\\',\\'\\',\\'\\');\" href=\"https://help.naver.com/support/service/main.nhn?serviceNo=606&categoryNo=1987\" target=\"_blank\">도움말</a><span class=\"atcmp_bar\"></span><a onclick=\"__atcmpCR(event, this, \\'report\\', \\'\\',\\'\\',\\'\\');\" href=\"https://help.naver.com/support/contents/contents.nhn?serviceNo=605&categoryNo=18215\" target=\"_blank\">신고</a></span><span><em><a class=\"hisoff\" href=\"javascript:;\">검색어저장 켜기</a><span class=\"atcmp_bar\"></span></em><a class=\"funoff\" href=\"javascript:;\">자동완성 끄기</a></span></p>\\n        <span class=\"atcmp_helper _help_tooltip2\">기능을 다시 켤 때는 <em class=\"ico_search spat\">자동완성 펼치기</em>을 클릭하세요</span>\\n    </div>\\n    <div class=\"api_atcmp_wrap _atcmpStart\" style=\"display:none;\">\\n        <div class=\"words\"><p class=\"info_words\">자동완성 기능이 활성화되었습니다.</p></div>\\n        <p class=\"func _atcmpBtnGroup\"><span class=\"fl\"><a class=\"_help\" onclick=\"__atcmpCR(event, this, \\'help\\', \\'\\',\\'\\',\\'\\');\" href=\"https://help.naver.com/support/service/main.nhn?serviceNo=606&categoryNo=1987\" target=\"_blank\">도움말</a><span class=\"atcmp_bar\"></span><a onclick=\"__atcmpCR(event, this, \\'report\\', \\'\\',\\'\\',\\'\\');\" href=\"https://help.naver.com/support/contents/contents.nhn?serviceNo=605&categoryNo=18215\" target=\"_blank\">신고</a></span><span><em><a class=\"hisoff\" href=\"javascript:;\">검색어저장 켜기</a><span class=\"atcmp_bar\"></span></em><a class=\"funoff\" href=\"javascript:;\">자동완성 끄기</a></span></p>\\n        <span class=\"atcmp_helper _help_tooltip3\">기능을 다시 켤 때는 <em class=\"ico_search spat\">자동완성 펼치기</em>을 클릭하세요</span>\\n    </div>\\n    <div class=\"api_atcmp_wrap _atcmpOff\" style=\"display:none;\">\\n        <div class=\"words\"><p class=\"info_words\">자동완성 기능이 꺼져 있습니다.</p></div>\\n        <p class=\"func _atcmpBtnGroup\"><span class=\"fl\"><a class=\"_help\" onclick=\"__atcmpCR(event, this, \\'help\\', \\'\\',\\'\\',\\'\\');\" href=\"https://help.naver.com/support/service/main.nhn?serviceNo=606&categoryNo=1987\" target=\"_blank\">도움말</a><span class=\"atcmp_bar\"></span><a onclick=\"__atcmpCR(event, this, \\'report\\', \\'\\',\\'\\',\\'\\');\" href=\"https://help.naver.com/support/contents/contents.nhn?serviceNo=605&categoryNo=18215\" target=\"_blank\">신고</a></span><span><em><a class=\"hisoff\" href=\"javascript:;\">검색어저장 켜기</a><span class=\"atcmp_bar\"></span></em><a class=\"funoff\" href=\"javascript:;\">자동완성 켜기</a></span></p>\\n    </div>\\n    <!-- 최근검색어 & 내검색어 -->\\n    <div class=\"api_atcmp_wrap _keywords\" style=\"display:none;\">\\n        <div class=\"my_words\">\\n            <div class=\"lst_tab\">\\n                <ul><li class=\"on _recentTab\"><a href=\"javascript:;\">최근검색어</a></li><li class=\"_myTab\"><a href=\"javascript:;\">내 검색어</a></li></ul>\\n            </div>\\n            <div class=\"words _recent\">\\n                <ul><li data-rank=\"@rank@\"><a class=\"t@my@ _star _myBtn\" title=\"내 검색어 등록\" href=\"javascript:;\"><em class=\"spat\">내 검색어 등록</em></a><a href=\"javascript:;\" class=\"keyword\">@txt@</a><em class=\"keyword_date\">@date@.</em><a href=\"javascript:;\" class=\"btn_delete spat _del\" title=\"검색어삭제\">삭제</a><span style=\"display:none\">@in_txt@</span></li></ul>\\n                <div class=\"info_words _recentNone\" style=\"display:none\">최근검색어 내역이 없습니다.</div>\\n                <p class=\"info_words _offMsg\" style=\"display:none\">검색어 저장 기능이 꺼져 있습니다.</p>\\n            </div>\\n            <div class=\"words _my\" style=\"display:none\">\\n                <ul><li data-rank=\"@rank@\"><a class=\"ton _star _myBtn\" title=\"내 검색어 해제\" href=\"javascript:;\"><em class=\"spat\">내 검색어 해제</em></a><a href=\"javascript:;\" class=\"keyword\">@txt@</a></li></ul>\\n                <div class=\"info_words _myNone\" style=\"display:none\">설정된 내 검색어가 없습니다.<br />최근검색어에서 <span class=\"star spat\">내 검색어 등록</span>를 선택하여 자주 찾는 검색어를<br />내 검색어로 저장해 보세요.</div>\\n                <p class=\"info_words _offMsg\" style=\"display:none\">검색어 저장 기능이 꺼져 있습니다.</p>\\n            </div>\\n            <p class=\"noti _noti\" style=\"display:none\"><em class=\"ico_noti spat\"><span class=\"blind\">알림</span></em>공용 PC에서는 개인정보 보호를 위하여 반드시 로그아웃을 해 주세요.</p>\\n            <p class=\"func _recentBtnGroup\"><span class=\"fl\"><a class=\"_delMode\" href=\"javascript:;\">기록 삭제</a></span><span><a class=\"_keywordOff\" href=\"javascript:;\">검색어저장 끄기</a><span class=\"atcmp_bar\"></span><a class=\"_acOff\" href=\"javascript:;\">자동완성 끄기</a></span></p>\\n            <p class=\"func _recentDelBtnGroup\" style=\"display:none\"><span class=\"fl\"><a class=\"_delAll\" href=\"javascript:;\" title=\"최근 검색어 기록을 모두 삭제합니다.\">기록 전체 삭제</a></span><span><a class=\"_delDone\" href=\"javascript:;\">완료</a></span></p>\\n            <p class=\"func _myBtnGroup\" style=\"display:none\"><span class=\"fl\"><a class=\"_delAll\" href=\"javascript:;\" title=\"설정된 내 검색어를 모두 삭제합니다.\">기록 전체 삭제</a></span><span><a class=\"_keywordOff\" href=\"javascript:;\">검색어저장 끄기</a><span class=\"atcmp_bar\"></span><a class=\"_acOff\" href=\"javascript:;\">자동완성 끄기</a></span></p>\\n            <span class=\"atcmp_helper _help2\">기능을 다시 켤 때는 <em class=\"ico_search spat\">자동완성 펼치기</em>을 클릭하세요</span>\\n            <div class=\"ly_noti _maxLayer\" style=\"display:none\">\\n                <span class=\"mask\"></span>\\n                <p><span class=\"ico_alert spat\"></span>내 검색어는 <em>최대 10</em>개 까지 저장할 수 있습니다.<br />추가하시려면 기존 내 검색어를 지워주세요. <a href=\"javascript:;\" class=\"btn_close _close\"><i class=\"spat ico_close\">닫기</i></a></p>\\n            </div>\\n        </div>\\n    </div>\\n    <!-- 자동완성 안내문구 (선거) -->\\n    <div class=\"api_atcmp_wrap _alert\" style=\"display:none;\">\\n        <div class=\"api_atcmp_alert\">\\n            <span class=\"ico_alert spat\"></span>\\n            <p class=\"dsc_txt\"><em class=\"_passage\"></em><br>\\n                <a class=\"_link\" target=\"_blank\" href=\"\" onclick=\"clickcr(this,\\'sug.vote\\',\\'\\',\\'\\',event);\">자세히보기</a></p>\\n        </div>\\n    </div>\\n    <!-- //자동완성 안내문구 (선거) -->\\n    <!-- [D] IE 계열, wmode=\"window\" flash와 겹치지 않기 위함 -->\\n    <iframe vspace=\"0\" hspace=\"0\" border=\"0\" style=\"display:none;display:block\\\\9;display:block\\\\0/;position:absolute;left:0;top:0;width:100%;height:100%;z-index:-1;\" title=\"빈 프레임\"></iframe>\\n</div>\\t\\t\\t\\n<!--자동완성 레이어 -->\\n\\n<!--자동완성 템플릿 추가-->\\n<!-- 신규 공통 템플릿 -->\\n<script type=\"text/template\" id=\"_atcmp_answer_0\">\\n    <div class=\"add_opt _item\" data-sm=\"@2@\" data-keyword=\"@1@\" data-template_id=\"@0@\" data-acir=\"@rank@\" data-os=\"@8@\" data-bid=\"@9@\" data-eid=\"@3@\" data-pkid=\"@10@\" data-mra=\"@11@\" >\\n        <a href=\"#\" class=\"opt_dsc\">\\n            <span class=\"dsc_thmb\" style=\"@style7@\">@image7@</span>\\n            <span class=\"dsc_group\">\\n                <span class=\"dsc_cate\">@6@</span>\\n                <strong class=\"dsc_word\">@1@</strong>\\n                <span class=\"dsc_sub\" style=\"@style12@\">@12@</span>\\n            </span>\\n        </a>\\n    </div>\\n</script>\\n<!-- 로또당첨번호 -->\\n<script type=\"text/template\" id=\"_atcmp_answer_3\">\\n    <div class=\"add_opt _item\" data-sm=\"@2@\" data-keyword=\"@1@\" data-template_id=\"@0@\" data-acir=\"@rank@\">\\n        <a href=\"javascript:;\" class=\"opt_lotto\">\\n            <span class=\"lotto_num_area\">\\n                <span class=\"spat lotto_num lotto_num@6@\">@6@</span><span class=\"spat lotto_num lotto_num@7@\">@7@</span><span class=\"spat lotto_num lotto_num@8@\">@8@</span><span class=\"spat lotto_num lotto_num@9@\">@9@</span><span class=\"spat lotto_num lotto_num@10@\">@10@</span><span class=\"spat lotto_num lotto_num@11@\">@11@</span><span class=\"spat lotto_bonus\">+</span><span class=\"spat lotto_num lotto_num@12@\">@12@</span>\\n            </span>\\n            <span class=\"lotto_sub\">@5@회차<em class=\"lotto_date\">(@13@.)</em></span>\\n        </a>\\n    </div>\\n</script>\\n<!-- 환율:엔화환율 -->\\n<script type=\"text/template\" id=\"_atcmp_answer_9\">\\n    <div class=\"add_opt _item\" data-sm=\"@2@\" data-keyword=\"@1@\" data-template_id=\"@0@\" data-acir=\"@rank@\">\\n        <a href=\"javascript:;\" class=\"opt_exchange opt_exchange_@11@\">\\n            <span class=\"opt_nation\">\\n                <img src=\"https://ssl.pstatic.net/sstatic/keypage/lifesrch/exchange/ico_@12@1.gif\" alt=\"\" />\\n                @14@<span class=\"tx_nation\">@money@</span>\\n            </span>\\n            <span class=\"opt_amount\">\\n                <span class=\"amount\"><strong>@6@</strong>원</span><span class=\"changes\"><i class=\"bullet\">@10@</i> @8@ (@9@%)<span class=\"opt_time\"><time datetime=\"@fulldate@\">@7@</time></span></span>\\n            </span>\\n        </a>\\n    </div>\\n</script>\\n<!-- 해외날씨 : 파리날씨 -->\\n<script type=\"text/template\" id=\"_atcmp_answer_10\">\\n    <div class=\"add_opt _item\" data-sm=\"@2@\" data-keyword=\"@1@\" data-template_id=\"@0@\" data-acir=\"@rank@\">\\n        <a href=\"javascript:;\" class=\"opt_weather\">\\n            <span class=\"opt_weather_thmb\">\\n                <img src=\"https://ssl.pstatic.net/sstatic/search/pc/img/wt_@6@.png\" width=\"56\" height=\"56\" alt=\"@7@\">\\n            </span>\\n            <span class=\"opt_weather_group\">\\n                <span class=\"opt_weather_state\">@7@</span>\\n                <span class=\"opt_weather_state\">기온 <em class=\"opt_deg\">@8@</em><span class=\"opt_unit\">℃</span></span>\\n                <span class=\"opt_weather_state\">@9@ <em>@10@</em><span class=\"opt_unit\">@11@</span></span>\\n\\t\\t\\t\\t<span class=\"opt_weather_state\"><span class=\"opt_time\"><time datetime=\"@fulldate@\">@5@</time></span></span>\\n            </span>\\n        </a>\\n    </div>\\n</script>\\n<!-- 국내날씨 : 서울날씨 -->\\n<script type=\"text/template\" id=\"_atcmp_answer_11\">\\n    <div class=\"add_opt _item\" data-sm=\"@2@\" data-keyword=\"@1@\" data-template_id=\"@0@\" data-acir=\"@rank@\">\\n        <a href=\"javascript:;\" class=\"opt_weather\">\\n            <span class=\"opt_weather_thmb\">\\n                <img src=\"https://ssl.pstatic.net/sstatic/search/pc/img/wt_@6@.png\" width=\"56\" height=\"56\" alt=\"@7@\">\\n            </span>\\n            <span class=\"opt_weather_group\">\\n                <span class=\"opt_weather_state\">@7@</span>\\n                <span class=\"opt_weather_state\">기온 <em class=\"opt_deg\">@8@</em><span class=\"opt_unit\">℃</span></span>\\n                <span class=\"opt_weather_state\">@9@ <em>@10@</em><span class=\"opt_unit\">@11@</span></span>\\n\\t\\t\\t\\t<span class=\"opt_weather_state\"><span class=\"opt_time\"><time datetime=\"@fulldate@\">@5@</time></span></span>\\n            </span>\\n        </a>\\n    </div>\\n</script>\\n<!-- 바로가기 -->\\n<script type=\"text/template\" id=\"_atcmp_answer_17\">\\n    <div class=\"add_opt _item\" data-sm=\"@2@\" data-keyword=\"@1@\" data-template_id=\"@0@\" data-acir=\"@rank@\">\\n        <a href=\"@5@\" target=\"_blank\" class=\"opt_shortcut\">\\n            <span class=\"opt_url\">@display_link@</span>\\n            <span class=\"opt_txt\">사이트로 바로 이동</span>\\n        </a>\\n    </div>\\n</script>\\n<!-- 해외날씨 : 국내날씨 형태로 제공하기 위한 새로운 템플릿(10번으로 ID변경됨) -->\\n<script type=\"text/template\" id=\"_atcmp_answer_20\"></script>\\n<!-- 문맥검색 -->\\n<script type=\"text/template\" id=\"_atcmp_intend\">\\n    <div class=\"add_opt type_context _item\" data-sm=\"asct\" data-keyword=\"@transquery@\" data-acir=\"@rank@\">\\n        <a href=\"#\" class=\"opt_context\">\\n            <span class=\"opt_tit\"><strong>@query@</strong></span>\\n            <span class=\"opt_sub\">@intend@</span>\\n        </a>\\n    </div>\\n</script>\\n<!-- 결과 키워드 템플릿 (좌측 결과목록 템플릿:정답형 템플릿 아님) -->\\n<script type=\"text/template\" id=\"_atcmp_result_item_tpl\">\\n    <li class=\"_item @url_class@\" data-acr=\"@rank@\">\\n        <a href=\"#\" class=\"atcmp_keyword\" onclick=\"return false;\" title=\"\"><span class=\"atcmp_keyword_txt\">@txt@<span class=\"spat ic_expand\"></span></span></a>\\n        <a href=\"@url@\" target=\"_blank\" class=\"mquick\">바로이동</a>\\n        <span style=\"display:none\">@in_txt@</span>\\n    </li>\\n</script>\\n<!-- 일반 자동완성 하이라이팅 템플릿 -->\\n<script type=\"text/template\" id=\"_atcmp_keyword_highlight_tpl\">\\n    @mismatch_before@<strong>@match@</strong>@mismatch_after@\\n</script>\\n<!-- 부분 자동완성 하이라이팅 템플릿 -->\\n<script type=\"text/template\" id=\"_atcmp_keyword_partial_match_highlight_tpl\">\\n    @mismatch_before@<strong>@match@</strong>@mismatch_after@\\n</script>\\n<!--자동완성 템플릿 추가-->\\n</div>\\n<!-- EMPTY --></div>\\n</div>\\n\\n\\t<div class=\"section_navbar\">\\n\\t\\t<div class=\"area_navigation\" role=\"navigation\">\\n\\t\\t\\t<ul class=\"an_l\">\\n\\t\\t\\t\\t<li class=\"an_item\">\\n\\t\\t\\t\\t\\t<a href=\"http://mail.naver.com/\" class=\"an_a mn_mail\" data-clk=\"svc.mail\">\\n\\t\\t\\t\\t\\t\\t<span class=\"an_icon\"></span><span class=\"an_txt\">메일</span>\\n\\t\\t\\t\\t\\t</a>\\n\\t\\t\\t\\t</li>\\n\\t\\t\\t\\t<li class=\"an_item\">\\n\\t\\t\\t\\t\\t<a href=\"http://section.cafe.naver.com/\" class=\"an_a mn_cafe\" data-clk=\"svc.cafe\">\\n\\t\\t\\t\\t\\t\\t<span class=\"an_icon\"></span><span class=\"an_txt\">카페</span>\\n\\t\\t\\t\\t\\t</a>\\n\\t\\t\\t\\t</li>\\n\\t\\t\\t\\t<li class=\"an_item\">\\n\\t\\t\\t\\t\\t<a href=\"http://section.blog.naver.com/\" class=\"an_a mn_blog\" data-clk=\"svc.blog\">\\n\\t\\t\\t\\t\\t\\t<span class=\"an_icon\"></span><span class=\"an_txt\">블로그</span>\\n\\t\\t\\t\\t\\t</a>\\n\\t\\t\\t\\t</li>\\n\\t\\t\\t\\t<li class=\"an_item\">\\n\\t\\t\\t\\t\\t<a href=\"http://kin.naver.com/\" class=\"an_a mn_kin\" data-clk=\"svc.kin\">\\n\\t\\t\\t\\t\\t\\t<span class=\"an_icon\"></span><span class=\"an_txt\">지식인</span>\\n\\t\\t\\t\\t\\t</a>\\n\\t\\t\\t\\t</li>\\n\\t\\t\\t\\t<li class=\"an_item\">\\n\\t\\t\\t\\t\\t<a href=\"http://shopping2.naver.com/\" class=\"an_a mn_shopping\" data-clk=\"svc.shopping\">\\n\\t\\t\\t\\t\\t\\t<span class=\"an_icon\"></span><span class=\"an_txt\">쇼핑</span>\\n\\t\\t\\t\\t\\t</a>\\n\\t\\t\\t\\t</li>\\n\\t\\t\\t\\t<li class=\"an_item\">\\n\\t\\t\\t\\t\\t<a href=\"http://pay.naver.com/\" class=\"an_a mn_checkout\" data-clk=\"svc.pay\">\\n\\t\\t\\t\\t\\t\\t<span class=\"an_icon\"></span><span class=\"an_txt\">네이버페이</span>\\n\\t\\t\\t\\t\\t</a>\\n\\t\\t\\t\\t</li>\\n\\t\\t\\t\\t<li class=\"an_item\">\\n\\t\\t\\t\\t\\t<a href=\"http://tv.naver.com/\" class=\"an_a mn_tvcast\" data-clk=\"svc.tvcast\">\\n\\t\\t\\t\\t\\t\\t<span class=\"an_icon\"></span><span class=\"an_txt\">네이버TV</span>\\n\\t\\t\\t\\t\\t</a>\\n\\t\\t\\t\\t</li>\\t\\n\\t\\t\\t</ul>\\n\\t\\t\\t<ul id=\"PM_ID_serviceNavi\"  class=\"an_l\">\\n\\t\\t\\t\\t<li class=\"an_item\"><a href=\"http://dic.naver.com/\" class=\"an_a mn_dic\" data-clk=\"svc.dic\"><span class=\"an_icon\"></span><span class=\"an_txt\">사전</span></a></li>\\n<li class=\"an_item\"><a href=\"http://news.naver.com/\" class=\"an_a mn_news\" data-clk=\"svc.news\"><span class=\"an_icon\"></span><span class=\"an_txt\">뉴스</span></a></li>\\n<li class=\"an_item\"><a href=\"http://finance.naver.com/\" class=\"an_a mn_stock\" data-clk=\"svc.stock\"><span class=\"an_icon\"></span><span class=\"an_txt\">증권(금융)</span></a></li>\\n<li class=\"an_item\"><a href=\"http://land.naver.com/\" class=\"an_a mn_land\" data-clk=\"svc.land\"><span class=\"an_icon\"></span><span class=\"an_txt\">부동산</span></a></li>\\n<li class=\"an_item\"><a href=\"https://map.naver.com/\" class=\"an_a mn_map\" data-clk=\"svc.map\"><span class=\"an_icon\"></span><span class=\"an_txt\">지도</span></a></li>\\n<li class=\"an_item\"><a href=\"http://movie.naver.com/\" class=\"an_a mn_movie\" data-clk=\"svc.movie\"><span class=\"an_icon\"></span><span class=\"an_txt\">영화</span></a></li>\\n<li class=\"an_item\"><a href=\"http://music.naver.com\" class=\"an_a mn_music\" data-clk=\"svc.music\"><span class=\"an_icon\"></span><span class=\"an_txt\">뮤직</span></a></li>\\n<li class=\"an_item\"><a href=\"http://book.naver.com/\" class=\"an_a mn_book\" data-clk=\"svc.book\"><span class=\"an_icon\"></span><span class=\"an_txt\">책</span></a></li>\\n<li class=\"an_item\"><a href=\"http://comic.naver.com/\" class=\"an_a mn_comic\" data-clk=\"svc.webtoon\"><span class=\"an_icon\"></span><span class=\"an_txt\">만화 / 웹툰</span></a></li>\\n\\n\\t\\t\\t</ul>\\n\\t\\t\\t<ul id=\"PM_ID_serviceNaviEmpty\" class=\"an_l an_custom\" style=\"display:none\">\\n\\t\\t\\t\\t<li class=\"an_item an_pointer\"><span class=\"an_empty\"></span></li>\\n\\t\\t\\t\\t<li class=\"an_item\"><span class=\"an_empty\"></span></li>\\n\\t\\t\\t\\t<li class=\"an_item\"><span class=\"an_empty\"></span></li>\\n\\t\\t\\t\\t<li class=\"an_item\"><span class=\"an_empty\"></span></li>\\n\\t\\t\\t\\t<li class=\"an_item\"><span class=\"an_empty\"></span></li>\\n\\t\\t\\t</ul>\\n\\t\\t\\t<div class=\"an_bar\"></div>\\n\\t\\t\\t<a href=\"#\" id=\"PM_ID_btnServiceMore\" role=\"button\" class=\"PM_CL_btnServiceMore an_btn_more\" data-clk=\"svc.more\"><span class=\"an_mtxt\"><span class=\"blind\">더보기</span></span><span class=\"ico_an_more\"></span></a>\\n\\t\\t</div>\\n\\t\\t<div class=\"area_hotkeyword PM_CL_realtimeKeyword_base\">\\n\\t\\t\\t<div class=\"ah_roll PM_CL_realtimeKeyword_rolling_base\" aria-hidden=\"false\">\\n<h3 class=\"blind\">급상승 검색어 검색어</h3>\\n<div class=\"ah_roll_area PM_CL_realtimeKeyword_rolling\">\\n<ul class=\"ah_l\">\\n<li class=\"ah_item\">\\n<a href=\"#\" class=\"ah_a\" data-clk=\"lve.keyword\">\\n<span class=\"ah_r\">1</span>\\n<span class=\"ah_k\">차우찬</span>\\n</a>\\n</li>\\n<li class=\"ah_item\">\\n<a href=\"#\" class=\"ah_a\" data-clk=\"lve.keyword\">\\n<span class=\"ah_r\">2</span>\\n<span class=\"ah_k\">송다예</span>\\n</a>\\n</li>\\n<li class=\"ah_item\">\\n<a href=\"#\" class=\"ah_a\" data-clk=\"lve.keyword\">\\n<span class=\"ah_r\">3</span>\\n<span class=\"ah_k\">김기훈</span>\\n</a>\\n</li>\\n<li class=\"ah_item\">\\n<a href=\"#\" class=\"ah_a\" data-clk=\"lve.keyword\">\\n<span class=\"ah_r\">4</span>\\n<span class=\"ah_k\">헤어볼</span>\\n</a>\\n</li>\\n<li class=\"ah_item\">\\n<a href=\"#\" class=\"ah_a\" data-clk=\"lve.keyword\">\\n<span class=\"ah_r\">5</span>\\n<span class=\"ah_k\">김의겸</span>\\n</a>\\n</li>\\n<li class=\"ah_item\">\\n<a href=\"#\" class=\"ah_a\" data-clk=\"lve.keyword\">\\n<span class=\"ah_r\">6</span>\\n<span class=\"ah_k\">고양이 헤어볼</span>\\n</a>\\n</li>\\n<li class=\"ah_item\">\\n<a href=\"#\" class=\"ah_a\" data-clk=\"lve.keyword\">\\n<span class=\"ah_r\">7</span>\\n<span class=\"ah_k\">모하비</span>\\n</a>\\n</li>\\n<li class=\"ah_item\">\\n<a href=\"#\" class=\"ah_a\" data-clk=\"lve.keyword\">\\n<span class=\"ah_r\">8</span>\\n<span class=\"ah_k\">윤균상</span>\\n</a>\\n</li>\\n<li class=\"ah_item\">\\n<a href=\"#\" class=\"ah_a\" data-clk=\"lve.keyword\">\\n<span class=\"ah_r\">9</span>\\n<span class=\"ah_k\">기아 김기훈</span>\\n</a>\\n</li>\\n<li class=\"ah_item\">\\n<a href=\"#\" class=\"ah_a\" data-clk=\"lve.keyword\">\\n<span class=\"ah_r\">10</span>\\n<span class=\"ah_k\">라이프 오브 파이</span>\\n</a>\\n</li>\\n<li class=\"ah_item\">\\n<a href=\"#\" class=\"ah_a\" data-clk=\"lve.keyword\">\\n<span class=\"ah_r\">11</span>\\n<span class=\"ah_k\">튀김족발</span>\\n</a>\\n</li>\\n<li class=\"ah_item\">\\n<a href=\"#\" class=\"ah_a\" data-clk=\"lve.keyword\">\\n<span class=\"ah_r\">12</span>\\n<span class=\"ah_k\">고준희</span>\\n</a>\\n</li>\\n<li class=\"ah_item\">\\n<a href=\"#\" class=\"ah_a\" data-clk=\"lve.keyword\">\\n<span class=\"ah_r\">13</span>\\n<span class=\"ah_k\">일품솥밥정식</span>\\n</a>\\n</li>\\n<li class=\"ah_item\">\\n<a href=\"#\" class=\"ah_a\" data-clk=\"lve.keyword\">\\n<span class=\"ah_r\">14</span>\\n<span class=\"ah_k\">생방송투데이</span>\\n</a>\\n</li>\\n<li class=\"ah_item\">\\n<a href=\"#\" class=\"ah_a\" data-clk=\"lve.keyword\">\\n<span class=\"ah_r\">15</span>\\n<span class=\"ah_k\">김상혁</span>\\n</a>\\n</li>\\n<li class=\"ah_item\">\\n<a href=\"#\" class=\"ah_a\" data-clk=\"lve.keyword\">\\n<span class=\"ah_r\">16</span>\\n<span class=\"ah_k\">조동호</span>\\n</a>\\n</li>\\n<li class=\"ah_item\">\\n<a href=\"#\" class=\"ah_a\" data-clk=\"lve.keyword\">\\n<span class=\"ah_r\">17</span>\\n<span class=\"ah_k\">맘스터치 언빌리버블</span>\\n</a>\\n</li>\\n<li class=\"ah_item\">\\n<a href=\"#\" class=\"ah_a\" data-clk=\"lve.keyword\">\\n<span class=\"ah_r\">18</span>\\n<span class=\"ah_k\">희생부활자</span>\\n</a>\\n</li>\\n<li class=\"ah_item\">\\n<a href=\"#\" class=\"ah_a\" data-clk=\"lve.keyword\">\\n<span class=\"ah_r\">19</span>\\n<span class=\"ah_k\">윤성빈</span>\\n</a>\\n</li>\\n<li class=\"ah_item\">\\n<a href=\"#\" class=\"ah_a\" data-clk=\"lve.keyword\">\\n<span class=\"ah_r\">20</span>\\n<span class=\"ah_k\">어스 해석</span>\\n</a>\\n</li>\\n</ul>\\n</div>\\n</div>\\n\\t\\t\\t<span class=\"ah_ico_open\"></span>\\n\\t\\t\\t<div class=\"ah_list PM_CL_realtimeKeyword_list_base\" aria-hidden=\"true\">\\n<h3 class=\"ah_ltit\">급상승 검색어</h3>\\n<a href=\"http://datalab.naver.com/keyword/realtimeList.naver?where=main\" class=\"ah_ha\" data-clk=\"lve.rankhistory\"><span class=\"ah_ico_datalab\">DataLab.</span>급상승 트래킹<span class=\"ah_ico_hlink\"></span></a>\\n<div class=\"ah_tab\">\\n<a href=\"#\" role=\"tab\" class=\"ah_tab_btn ah_tab_on\" data-tab=\"1to10\" data-clk=\"lve.tab1\">1~10위</a>\\n<a href=\"#\" role=\"tab\" class=\"ah_tab_btn\" data-tab=\"11to20\" data-clk=\"lve.tab2\">11~20위</a>\\n</div>\\n<h4 class=\"blind PM_CL_realtimeKeyword_sublist_heading\">급상승 검색어 1~10위</h4>\\n<ul class=\"ah_l\" data-list=\"1to10\">\\n<li class=\"ah_item\" data-order=\"1\">\\n<a href=\"http://search.naver.com/search.naver?where=nexearch&query=%EC%B0%A8%EC%9A%B0%EC%B0%AC&sm=top_lve&ie=utf8\" class=\"ah_a\" data-ssl=\"https://search.naver.com/search.naver?where=nexearch&query=%EC%B0%A8%EC%9A%B0%EC%B0%AC&sm=top_lve&ie=utf8\" data-clk=\"lve.keyword\">\\n<span class=\"ah_r\">1</span>\\n<span class=\"ah_k\">차우찬</span>\\n</a>\\n<a href=\"http://datalab.naver.com/keyword/realtimeDetail.naver?datetime=2019-03-28T19:47:00&query=%EC%B0%A8%EC%9A%B0%EC%B0%AC&where=main\" class=\"ah_da\" data-clk=\"lve.kwdhistory\">\\n<span class=\"blind\">데이터랩 그래프 보기</span>\\n<span class=\"ah_ico_datagraph\"></span>\\n</a>\\n</li>\\n<li class=\"ah_item\" data-order=\"2\">\\n<a href=\"http://search.naver.com/search.naver?where=nexearch&query=%EC%86%A1%EB%8B%A4%EC%98%88&sm=top_lve&ie=utf8\" class=\"ah_a\" data-ssl=\"https://search.naver.com/search.naver?where=nexearch&query=%EC%86%A1%EB%8B%A4%EC%98%88&sm=top_lve&ie=utf8\" data-clk=\"lve.keyword\">\\n<span class=\"ah_r\">2</span>\\n<span class=\"ah_k\">송다예</span>\\n</a>\\n<a href=\"http://datalab.naver.com/keyword/realtimeDetail.naver?datetime=2019-03-28T19:47:00&query=%EC%86%A1%EB%8B%A4%EC%98%88&where=main\" class=\"ah_da\" data-clk=\"lve.kwdhistory\">\\n<span class=\"blind\">데이터랩 그래프 보기</span>\\n<span class=\"ah_ico_datagraph\"></span>\\n</a>\\n</li>\\n<li class=\"ah_item\" data-order=\"3\">\\n<a href=\"http://search.naver.com/search.naver?where=nexearch&query=%EA%B9%80%EA%B8%B0%ED%9B%88&sm=top_lve&ie=utf8\" class=\"ah_a\" data-ssl=\"https://search.naver.com/search.naver?where=nexearch&query=%EA%B9%80%EA%B8%B0%ED%9B%88&sm=top_lve&ie=utf8\" data-clk=\"lve.keyword\">\\n<span class=\"ah_r\">3</span>\\n<span class=\"ah_k\">김기훈</span>\\n</a>\\n<a href=\"http://datalab.naver.com/keyword/realtimeDetail.naver?datetime=2019-03-28T19:47:00&query=%EA%B9%80%EA%B8%B0%ED%9B%88&where=main\" class=\"ah_da\" data-clk=\"lve.kwdhistory\">\\n<span class=\"blind\">데이터랩 그래프 보기</span>\\n<span class=\"ah_ico_datagraph\"></span>\\n</a>\\n</li>\\n<li class=\"ah_item\" data-order=\"4\">\\n<a href=\"http://search.naver.com/search.naver?where=nexearch&query=%ED%97%A4%EC%96%B4%EB%B3%BC&sm=top_lve&ie=utf8\" class=\"ah_a\" data-ssl=\"https://search.naver.com/search.naver?where=nexearch&query=%ED%97%A4%EC%96%B4%EB%B3%BC&sm=top_lve&ie=utf8\" data-clk=\"lve.keyword\">\\n<span class=\"ah_r\">4</span>\\n<span class=\"ah_k\">헤어볼</span>\\n</a>\\n<a href=\"http://datalab.naver.com/keyword/realtimeDetail.naver?datetime=2019-03-28T19:47:00&query=%ED%97%A4%EC%96%B4%EB%B3%BC&where=main\" class=\"ah_da\" data-clk=\"lve.kwdhistory\">\\n<span class=\"blind\">데이터랩 그래프 보기</span>\\n<span class=\"ah_ico_datagraph\"></span>\\n</a>\\n</li>\\n<li class=\"ah_item\" data-order=\"5\">\\n<a href=\"http://search.naver.com/search.naver?where=nexearch&query=%EA%B9%80%EC%9D%98%EA%B2%B8&sm=top_lve&ie=utf8\" class=\"ah_a\" data-ssl=\"https://search.naver.com/search.naver?where=nexearch&query=%EA%B9%80%EC%9D%98%EA%B2%B8&sm=top_lve&ie=utf8\" data-clk=\"lve.keyword\">\\n<span class=\"ah_r\">5</span>\\n<span class=\"ah_k\">김의겸</span>\\n</a>\\n<a href=\"http://datalab.naver.com/keyword/realtimeDetail.naver?datetime=2019-03-28T19:47:00&query=%EA%B9%80%EC%9D%98%EA%B2%B8&where=main\" class=\"ah_da\" data-clk=\"lve.kwdhistory\">\\n<span class=\"blind\">데이터랩 그래프 보기</span>\\n<span class=\"ah_ico_datagraph\"></span>\\n</a>\\n</li>\\n<li class=\"ah_item\" data-order=\"6\">\\n<a href=\"http://search.naver.com/search.naver?where=nexearch&query=%EA%B3%A0%EC%96%91%EC%9D%B4+%ED%97%A4%EC%96%B4%EB%B3%BC&sm=top_lve&ie=utf8\" class=\"ah_a\" data-ssl=\"https://search.naver.com/search.naver?where=nexearch&query=%EA%B3%A0%EC%96%91%EC%9D%B4+%ED%97%A4%EC%96%B4%EB%B3%BC&sm=top_lve&ie=utf8\" data-clk=\"lve.keyword\">\\n<span class=\"ah_r\">6</span>\\n<span class=\"ah_k\">고양이 헤어볼</span>\\n</a>\\n<a href=\"http://datalab.naver.com/keyword/realtimeDetail.naver?datetime=2019-03-28T19:47:00&query=%EA%B3%A0%EC%96%91%EC%9D%B4+%ED%97%A4%EC%96%B4%EB%B3%BC&where=main\" class=\"ah_da\" data-clk=\"lve.kwdhistory\">\\n<span class=\"blind\">데이터랩 그래프 보기</span>\\n<span class=\"ah_ico_datagraph\"></span>\\n</a>\\n</li>\\n<li class=\"ah_item\" data-order=\"7\">\\n<a href=\"http://search.naver.com/search.naver?where=nexearch&query=%EB%AA%A8%ED%95%98%EB%B9%84&sm=top_lve&ie=utf8\" class=\"ah_a\" data-ssl=\"https://search.naver.com/search.naver?where=nexearch&query=%EB%AA%A8%ED%95%98%EB%B9%84&sm=top_lve&ie=utf8\" data-clk=\"lve.keyword\">\\n<span class=\"ah_r\">7</span>\\n<span class=\"ah_k\">모하비</span>\\n</a>\\n<a href=\"http://datalab.naver.com/keyword/realtimeDetail.naver?datetime=2019-03-28T19:47:00&query=%EB%AA%A8%ED%95%98%EB%B9%84&where=main\" class=\"ah_da\" data-clk=\"lve.kwdhistory\">\\n<span class=\"blind\">데이터랩 그래프 보기</span>\\n<span class=\"ah_ico_datagraph\"></span>\\n</a>\\n</li>\\n<li class=\"ah_item\" data-order=\"8\">\\n<a href=\"http://search.naver.com/search.naver?where=nexearch&query=%EC%9C%A4%EA%B7%A0%EC%83%81&sm=top_lve&ie=utf8\" class=\"ah_a\" data-ssl=\"https://search.naver.com/search.naver?where=nexearch&query=%EC%9C%A4%EA%B7%A0%EC%83%81&sm=top_lve&ie=utf8\" data-clk=\"lve.keyword\">\\n<span class=\"ah_r\">8</span>\\n<span class=\"ah_k\">윤균상</span>\\n</a>\\n<a href=\"http://datalab.naver.com/keyword/realtimeDetail.naver?datetime=2019-03-28T19:47:00&query=%EC%9C%A4%EA%B7%A0%EC%83%81&where=main\" class=\"ah_da\" data-clk=\"lve.kwdhistory\">\\n<span class=\"blind\">데이터랩 그래프 보기</span>\\n<span class=\"ah_ico_datagraph\"></span>\\n</a>\\n</li>\\n<li class=\"ah_item\" data-order=\"9\">\\n<a href=\"http://search.naver.com/search.naver?where=nexearch&query=%EA%B8%B0%EC%95%84+%EA%B9%80%EA%B8%B0%ED%9B%88&sm=top_lve&ie=utf8\" class=\"ah_a\" data-ssl=\"https://search.naver.com/search.naver?where=nexearch&query=%EA%B8%B0%EC%95%84+%EA%B9%80%EA%B8%B0%ED%9B%88&sm=top_lve&ie=utf8\" data-clk=\"lve.keyword\">\\n<span class=\"ah_r\">9</span>\\n<span class=\"ah_k\">기아 김기훈</span>\\n</a>\\n<a href=\"http://datalab.naver.com/keyword/realtimeDetail.naver?datetime=2019-03-28T19:47:00&query=%EA%B8%B0%EC%95%84+%EA%B9%80%EA%B8%B0%ED%9B%88&where=main\" class=\"ah_da\" data-clk=\"lve.kwdhistory\">\\n<span class=\"blind\">데이터랩 그래프 보기</span>\\n<span class=\"ah_ico_datagraph\"></span>\\n</a>\\n</li>\\n<li class=\"ah_item\" data-order=\"10\">\\n<a href=\"http://search.naver.com/search.naver?where=nexearch&query=%EB%9D%BC%EC%9D%B4%ED%94%84+%EC%98%A4%EB%B8%8C+%ED%8C%8C%EC%9D%B4&sm=top_lve&ie=utf8\" class=\"ah_a\" data-ssl=\"https://search.naver.com/search.naver?where=nexearch&query=%EB%9D%BC%EC%9D%B4%ED%94%84+%EC%98%A4%EB%B8%8C+%ED%8C%8C%EC%9D%B4&sm=top_lve&ie=utf8\" data-clk=\"lve.keyword\">\\n<span class=\"ah_r\">10</span>\\n<span class=\"ah_k\">라이프 오브 파이</span>\\n</a>\\n<a href=\"http://datalab.naver.com/keyword/realtimeDetail.naver?datetime=2019-03-28T19:47:00&query=%EB%9D%BC%EC%9D%B4%ED%94%84+%EC%98%A4%EB%B8%8C+%ED%8C%8C%EC%9D%B4&where=main\" class=\"ah_da\" data-clk=\"lve.kwdhistory\">\\n<span class=\"blind\">데이터랩 그래프 보기</span>\\n<span class=\"ah_ico_datagraph\"></span>\\n</a>\\n</li>\\n</ul>\\n<ul class=\"ah_l\" style=\"display:none;\" data-list=\"11to20\">\\n<li class=\"ah_item\" data-order=\"11\">\\n<a href=\"http://search.naver.com/search.naver?where=nexearch&query=%ED%8A%80%EA%B9%80%EC%A1%B1%EB%B0%9C&sm=top_lve&ie=utf8\" class=\"ah_a\" data-ssl=\"https://search.naver.com/search.naver?where=nexearch&query=%ED%8A%80%EA%B9%80%EC%A1%B1%EB%B0%9C&sm=top_lve&ie=utf8\" data-clk=\"lve.keyword\">\\n<span class=\"ah_r\">11</span>\\n<span class=\"ah_k\">튀김족발</span>\\n</a>\\n<a href=\"http://datalab.naver.com/keyword/realtimeDetail.naver?datetime=2019-03-28T19:47:00&query=%ED%8A%80%EA%B9%80%EC%A1%B1%EB%B0%9C&where=main\" class=\"ah_da\" data-clk=\"lve.kwdhistory\">\\n<span class=\"blind\">데이터랩 그래프 보기</span>\\n<span class=\"ah_ico_datagraph\"></span>\\n</a>\\n</li>\\n<li class=\"ah_item\" data-order=\"12\">\\n<a href=\"http://search.naver.com/search.naver?where=nexearch&query=%EA%B3%A0%EC%A4%80%ED%9D%AC&sm=top_lve&ie=utf8\" class=\"ah_a\" data-ssl=\"https://search.naver.com/search.naver?where=nexearch&query=%EA%B3%A0%EC%A4%80%ED%9D%AC&sm=top_lve&ie=utf8\" data-clk=\"lve.keyword\">\\n<span class=\"ah_r\">12</span>\\n<span class=\"ah_k\">고준희</span>\\n</a>\\n<a href=\"http://datalab.naver.com/keyword/realtimeDetail.naver?datetime=2019-03-28T19:47:00&query=%EA%B3%A0%EC%A4%80%ED%9D%AC&where=main\" class=\"ah_da\" data-clk=\"lve.kwdhistory\">\\n<span class=\"blind\">데이터랩 그래프 보기</span>\\n<span class=\"ah_ico_datagraph\"></span>\\n</a>\\n</li>\\n<li class=\"ah_item\" data-order=\"13\">\\n<a href=\"http://search.naver.com/search.naver?where=nexearch&query=%EC%9D%BC%ED%92%88%EC%86%A5%EB%B0%A5%EC%A0%95%EC%8B%9D&sm=top_lve&ie=utf8\" class=\"ah_a\" data-ssl=\"https://search.naver.com/search.naver?where=nexearch&query=%EC%9D%BC%ED%92%88%EC%86%A5%EB%B0%A5%EC%A0%95%EC%8B%9D&sm=top_lve&ie=utf8\" data-clk=\"lve.keyword\">\\n<span class=\"ah_r\">13</span>\\n<span class=\"ah_k\">일품솥밥정식</span>\\n</a>\\n<a href=\"http://datalab.naver.com/keyword/realtimeDetail.naver?datetime=2019-03-28T19:47:00&query=%EC%9D%BC%ED%92%88%EC%86%A5%EB%B0%A5%EC%A0%95%EC%8B%9D&where=main\" class=\"ah_da\" data-clk=\"lve.kwdhistory\">\\n<span class=\"blind\">데이터랩 그래프 보기</span>\\n<span class=\"ah_ico_datagraph\"></span>\\n</a>\\n</li>\\n<li class=\"ah_item\" data-order=\"14\">\\n<a href=\"http://search.naver.com/search.naver?where=nexearch&query=%EC%83%9D%EB%B0%A9%EC%86%A1%ED%88%AC%EB%8D%B0%EC%9D%B4&sm=top_lve&ie=utf8\" class=\"ah_a\" data-ssl=\"https://search.naver.com/search.naver?where=nexearch&query=%EC%83%9D%EB%B0%A9%EC%86%A1%ED%88%AC%EB%8D%B0%EC%9D%B4&sm=top_lve&ie=utf8\" data-clk=\"lve.keyword\">\\n<span class=\"ah_r\">14</span>\\n<span class=\"ah_k\">생방송투데이</span>\\n</a>\\n<a href=\"http://datalab.naver.com/keyword/realtimeDetail.naver?datetime=2019-03-28T19:47:00&query=%EC%83%9D%EB%B0%A9%EC%86%A1%ED%88%AC%EB%8D%B0%EC%9D%B4&where=main\" class=\"ah_da\" data-clk=\"lve.kwdhistory\">\\n<span class=\"blind\">데이터랩 그래프 보기</span>\\n<span class=\"ah_ico_datagraph\"></span>\\n</a>\\n</li>\\n<li class=\"ah_item\" data-order=\"15\">\\n<a href=\"http://search.naver.com/search.naver?where=nexearch&query=%EA%B9%80%EC%83%81%ED%98%81&sm=top_lve&ie=utf8\" class=\"ah_a\" data-ssl=\"https://search.naver.com/search.naver?where=nexearch&query=%EA%B9%80%EC%83%81%ED%98%81&sm=top_lve&ie=utf8\" data-clk=\"lve.keyword\">\\n<span class=\"ah_r\">15</span>\\n<span class=\"ah_k\">김상혁</span>\\n</a>\\n<a href=\"http://datalab.naver.com/keyword/realtimeDetail.naver?datetime=2019-03-28T19:47:00&query=%EA%B9%80%EC%83%81%ED%98%81&where=main\" class=\"ah_da\" data-clk=\"lve.kwdhistory\">\\n<span class=\"blind\">데이터랩 그래프 보기</span>\\n<span class=\"ah_ico_datagraph\"></span>\\n</a>\\n</li>\\n<li class=\"ah_item\" data-order=\"16\">\\n<a href=\"http://search.naver.com/search.naver?where=nexearch&query=%EC%A1%B0%EB%8F%99%ED%98%B8&sm=top_lve&ie=utf8\" class=\"ah_a\" data-ssl=\"https://search.naver.com/search.naver?where=nexearch&query=%EC%A1%B0%EB%8F%99%ED%98%B8&sm=top_lve&ie=utf8\" data-clk=\"lve.keyword\">\\n<span class=\"ah_r\">16</span>\\n<span class=\"ah_k\">조동호</span>\\n</a>\\n<a href=\"http://datalab.naver.com/keyword/realtimeDetail.naver?datetime=2019-03-28T19:47:00&query=%EC%A1%B0%EB%8F%99%ED%98%B8&where=main\" class=\"ah_da\" data-clk=\"lve.kwdhistory\">\\n<span class=\"blind\">데이터랩 그래프 보기</span>\\n<span class=\"ah_ico_datagraph\"></span>\\n</a>\\n</li>\\n<li class=\"ah_item\" data-order=\"17\">\\n<a href=\"http://search.naver.com/search.naver?where=nexearch&query=%EB%A7%98%EC%8A%A4%ED%84%B0%EC%B9%98+%EC%96%B8%EB%B9%8C%EB%A6%AC%EB%B2%84%EB%B8%94&sm=top_lve&ie=utf8\" class=\"ah_a\" data-ssl=\"https://search.naver.com/search.naver?where=nexearch&query=%EB%A7%98%EC%8A%A4%ED%84%B0%EC%B9%98+%EC%96%B8%EB%B9%8C%EB%A6%AC%EB%B2%84%EB%B8%94&sm=top_lve&ie=utf8\" data-clk=\"lve.keyword\">\\n<span class=\"ah_r\">17</span>\\n<span class=\"ah_k\">맘스터치 언빌리버블</span>\\n</a>\\n<a href=\"http://datalab.naver.com/keyword/realtimeDetail.naver?datetime=2019-03-28T19:47:00&query=%EB%A7%98%EC%8A%A4%ED%84%B0%EC%B9%98+%EC%96%B8%EB%B9%8C%EB%A6%AC%EB%B2%84%EB%B8%94&where=main\" class=\"ah_da\" data-clk=\"lve.kwdhistory\">\\n<span class=\"blind\">데이터랩 그래프 보기</span>\\n<span class=\"ah_ico_datagraph\"></span>\\n</a>\\n</li>\\n<li class=\"ah_item\" data-order=\"18\">\\n<a href=\"http://search.naver.com/search.naver?where=nexearch&query=%ED%9D%AC%EC%83%9D%EB%B6%80%ED%99%9C%EC%9E%90&sm=top_lve&ie=utf8\" class=\"ah_a\" data-ssl=\"https://search.naver.com/search.naver?where=nexearch&query=%ED%9D%AC%EC%83%9D%EB%B6%80%ED%99%9C%EC%9E%90&sm=top_lve&ie=utf8\" data-clk=\"lve.keyword\">\\n<span class=\"ah_r\">18</span>\\n<span class=\"ah_k\">희생부활자</span>\\n</a>\\n<a href=\"http://datalab.naver.com/keyword/realtimeDetail.naver?datetime=2019-03-28T19:47:00&query=%ED%9D%AC%EC%83%9D%EB%B6%80%ED%99%9C%EC%9E%90&where=main\" class=\"ah_da\" data-clk=\"lve.kwdhistory\">\\n<span class=\"blind\">데이터랩 그래프 보기</span>\\n<span class=\"ah_ico_datagraph\"></span>\\n</a>\\n</li>\\n<li class=\"ah_item\" data-order=\"19\">\\n<a href=\"http://search.naver.com/search.naver?where=nexearch&query=%EC%9C%A4%EC%84%B1%EB%B9%88&sm=top_lve&ie=utf8\" class=\"ah_a\" data-ssl=\"https://search.naver.com/search.naver?where=nexearch&query=%EC%9C%A4%EC%84%B1%EB%B9%88&sm=top_lve&ie=utf8\" data-clk=\"lve.keyword\">\\n<span class=\"ah_r\">19</span>\\n<span class=\"ah_k\">윤성빈</span>\\n</a>\\n<a href=\"http://datalab.naver.com/keyword/realtimeDetail.naver?datetime=2019-03-28T19:47:00&query=%EC%9C%A4%EC%84%B1%EB%B9%88&where=main\" class=\"ah_da\" data-clk=\"lve.kwdhistory\">\\n<span class=\"blind\">데이터랩 그래프 보기</span>\\n<span class=\"ah_ico_datagraph\"></span>\\n</a>\\n</li>\\n<li class=\"ah_item\" data-order=\"20\">\\n<a href=\"http://search.naver.com/search.naver?where=nexearch&query=%EC%96%B4%EC%8A%A4+%ED%95%B4%EC%84%9D&sm=top_lve&ie=utf8\" class=\"ah_a\" data-ssl=\"https://search.naver.com/search.naver?where=nexearch&query=%EC%96%B4%EC%8A%A4+%ED%95%B4%EC%84%9D&sm=top_lve&ie=utf8\" data-clk=\"lve.keyword\">\\n<span class=\"ah_r\">20</span>\\n<span class=\"ah_k\">어스 해석</span>\\n</a>\\n<a href=\"http://datalab.naver.com/keyword/realtimeDetail.naver?datetime=2019-03-28T19:47:00&query=%EC%96%B4%EC%8A%A4+%ED%95%B4%EC%84%9D&where=main\" class=\"ah_da\" data-clk=\"lve.kwdhistory\">\\n<span class=\"blind\">데이터랩 그래프 보기</span>\\n<span class=\"ah_ico_datagraph\"></span>\\n</a>\\n</li>\\n</ul>\\n<p class=\"ah_time\" data-time=\"20190328194700\">2019.03.28. 19:47:00 기준 <a href=\"http://help.naver.com/support/alias/search/word/word_5.naver\" data-ssl=\"https://help.naver.com/support/alias/search/word/word_5.naver\" class=\"ah_btn_help\" data-clk=\"lve.help\"><span class=\"ah_ico_help\"></span><span class=\"blind\">도움말</span></a></p>\\n</div>\\n\\t\\t</div>\\n\\t</div>\\n\\n</div>\\n<!-- //헤더 -->\\n<div style=\"position:relative;width:1080px;margin:0 auto;z-index:11\">\\n\\t<div id=\"da_top\"></div>\\n\\t<div id=\"da_brand\"></div>\\n\\t<div id=\"da_stake\"></div>\\n\\t<div id=\"da_expwide\"></div>\\n</div>\\n\\n\\n\\t\\t<div class=\"container\" role=\"main\">\\n\\t\\t\\t<div class=\"column_left\">\\n\\t<!-- AD TOP -->\\n\\t<div id=\"veta_top\">\\n\\t\\t<iframe id=\"da_iframe_time\" name=\"da_iframe_time\" src=\"https://nv.veta.naver.com/fxshow?su=SU10079&amp;nrefreshx=0\" data-veta-preview=\"main_time\" title=\"광고\" width=\"740\" height=\"120\" marginheight=\"0\" marginwidth=\"0\" scrolling=\"no\" frameborder=\"0\"></iframe>\\n\\t\\t<div class=\"veta_bdt\"></div><div class=\"veta_bdr\"></div><div class=\"veta_bdb\"></div><div class=\"veta_bdl\"></div>\\n\\t</div>\\n\\t<!-- //AD TOP -->\\n\\n\\t<!-- 뉴스캐스트 -->\\n    \\n    \\n\\n    \\n\\n    \\n\\n    \\n    \\t\\n    <div id=\"news_cast\" class=\"section_newscast\">\\n        <div class=\"area_newstop\">\\n            <div class=\"cast_flash\">\\n                <h3 class=\"cf_tit\">\\n                    <a href=\"http://news.naver.com/main/list.nhn?mode=LPOD&amp;mid=sec&amp;sid1=001&amp;sid2=140&amp;oid=001&amp;isYeonhapFlash=Y\" data-clk=\"ncy.newsflash\"class=\"cf_ta\">연합뉴스<span class=\"cf_ico_link\"></span></a>\\n                </h3>\\n                <div class=\"cast_atc _PM_newsstand_rolling\">\\n                    <ol class=\"ca_l\">\\n\\t\\t\\t\\t\\t\\t<li class=\"ca_item\"><a href=\"http://news.naver.com/main/list.nhn?mode=LPOD&mid=sec&sid1=001&sid2=140&oid=001&isYeonhapFlash=Y&aid=0010726323\" class=\"ca_a\" data-clk=\"ncy.quickarticle\">조양호 이어 박삼구도 퇴진…나란히 물러난 항공사 맞수</a></li>\\n<li class=\"ca_item\"><a href=\"http://news.naver.com/main/list.nhn?mode=LPOD&mid=sec&sid1=001&sid2=140&oid=001&isYeonhapFlash=Y&aid=0010726271\" class=\"ca_a\" data-clk=\"ncy.quickarticle\">\"총인구 2029년에 줄어…자연감소 10년 빨라져 올해 시작\"</a></li>\\n<li class=\"ca_item\"><a href=\"http://news.naver.com/main/list.nhn?mode=LPOD&mid=sec&sid1=001&sid2=140&oid=001&isYeonhapFlash=Y&aid=0010726642\" class=\"ca_a\" data-clk=\"ncy.quickarticle\">박영선 \"6년 전 황교안, 김학의 얘기에 당황…귀까지 빨개져\"</a></li>\\n<li class=\"ca_item\"><a href=\"http://news.naver.com/main/list.nhn?mode=LPOD&mid=sec&sid1=001&sid2=140&oid=001&isYeonhapFlash=Y&aid=0010726204\" class=\"ca_a\" data-clk=\"ncy.quickarticle\">승리 \\'불법 촬영물 유포\\' 추가 입건…정준영 내일 송치</a></li>\\n<li class=\"ca_item\"><a href=\"http://news.naver.com/main/list.nhn?mode=LPOD&mid=sec&sid1=001&sid2=140&oid=001&isYeonhapFlash=Y&aid=0010726459\" class=\"ca_a\" data-clk=\"ncy.quickarticle\">장관후보자 7명 청문보고서 \\'빨간불\\'…한국당 \"강력 반대\"</a></li>\\n<li class=\"ca_item\"><a href=\"http://news.naver.com/main/list.nhn?mode=LPOD&mid=sec&sid1=001&sid2=140&oid=001&isYeonhapFlash=Y&aid=0010726591\" class=\"ca_a\" data-clk=\"ncy.quickarticle\">세월호 CCTV 조작 가능성 제기…알리기 어려운 장면 있었나</a></li>\\n<li class=\"ca_item\"><a href=\"http://news.naver.com/main/list.nhn?mode=LPOD&mid=sec&sid1=001&sid2=140&oid=001&isYeonhapFlash=Y&aid=0010725831\" class=\"ca_a\" data-clk=\"ncy.quickarticle\">\\'조두순법\\' 국회 본회의 통과…비쟁점법안 16건 처리</a></li>\\n<li class=\"ca_item\"><a href=\"http://news.naver.com/main/list.nhn?mode=LPOD&mid=sec&sid1=001&sid2=140&oid=001&isYeonhapFlash=Y&aid=0010726431\" class=\"ca_a\" data-clk=\"ncy.quickarticle\">한유총 설립취소 내달 최종결정…내달 8일 추가 청문</a></li>\\n<li class=\"ca_item\"><a href=\"http://news.naver.com/main/list.nhn?mode=LPOD&mid=sec&sid1=001&sid2=140&oid=001&isYeonhapFlash=Y&aid=0010726623\" class=\"ca_a\" data-clk=\"ncy.quickarticle\">반기문 \"미세먼지 문제, 세계은행 등 국제기구에 자문\"</a></li>\\n<li class=\"ca_item\"><a href=\"http://news.naver.com/main/list.nhn?mode=LPOD&mid=sec&sid1=001&sid2=140&oid=001&isYeonhapFlash=Y&aid=0010726673\" class=\"ca_a\" data-clk=\"ncy.quickarticle\">원정도박자에 248억대 환치기 혐의 검찰 수사관 구속기소</a></li>\\n                    </ol>\\n                </div>\\n            </div>\\n            <ul class=\"cast_link\">\\n\\t\\t\\t\\t<li class=\"cl_item\">\\n<a href=\"http://news.naver.com/\" class=\"cl_a cl_news\" data-clk=\"ncy.newshome\">\\n네이버뉴스</a>\\n</li>\\n<li class=\"cl_item\">\\n<a href=\"http://entertain.naver.com/home\" class=\"cl_a cl_ent\" data-clk=\"ncy.entertainment\">\\n연예</a>\\n</li>\\n<li class=\"cl_item\">\\n<a href=\"http://sports.news.naver.com/\" class=\"cl_a cl_sports\" data-clk=\"ncy.sports\">\\n스포츠</a>\\n</li>\\n<li class=\"cl_item\">\\n<a href=\"http://news.naver.com/main/main.nhn?mode=LSD&mid=shm&sid1=101\" class=\"cl_a cl_finance\" data-clk=\"ncy.economy\">\\n경제</a>\\n</li>\\n            </ul>\\n        </div>\\n        <div class=\"area_newsstand\">\\n            <div class=\"an_menulist\">\\n\\t\\t\\t\\t<h3 class=\"an_tit\">\\n\\t\\t\\t\\t\\t<a href=\"http://newsstand.naver.com/\" class=\"an_ta\" target=\"_blank\" data-clk=\"nsd.title\">뉴스스탠드<span class=\"an_ico_link\"></span></a>\\n\\t\\t\\t\\t</h3>\\n                <div class=\"an_menulist_section1\">\\n                    <div class=\"an_sort\" role=\"tablist\">\\n                        <a class=\"as_btn_press _PM_newsstand_total_type is_selected\" href=\"#\" role=\"tab\" aria-selected=\"true\" data-clk=\"nsd.all\">전체 언론사</a>\\n                        <span class=\"as_bar\" role=\"presentation\"></span>\\n                        <a class=\"as_btn_my _PM_newsstand_my_type\" href=\"#\" role=\"tab\" aria-selected=\"false\" data-clk=\"nsd.my\">MY 뉴스</a>\\n                    </div>\\n                </div>\\n                <div class=\"an_menulist_section2\">\\n                    <div class=\"an_sort2\" role=\"tablist\">\\n                        <a class=\"as2_btn _PM_newsstand_thumb_type is_selected\" href=\"#\" role=\"tab\" aria-selected=\"true\" data-clk=\"nsd.pressview\"><i class=\"as2_btn_ico ico_image\"></i><span class=\"blind\">이미지형</span></a>\\n                        <a class=\"as2_btn _PM_newsstand_list_type\" href=\"#\" role=\"tab\" aria-selected=\"false\" data-clk=\"nsd.articleview\"><i class=\"as2_btn_ico ico_list\"></i><span class=\"blind\">리스트형</span></a>\\n                        <a class=\"as2_btn\" href=\"http://newsstand.naver.com/config.html\" data-clk=\"nsd.set\" target=\"_blank\"><i class=\"as2_btn_ico ico_setting\"></i><span class=\"blind\">설정</span></a>\\n                    </div>\\n                    <ul class=\"an_paging\">\\n                        <li class=\"ap_list\"><a class=\"ap_btn _PM_newsstand_prev\" href=\"#\" data-clk=\"nsd.prev\"><i class=\"ap_btn_ico ico_left\"></i><span class=\"blind\">이전 페이지</span></a></li>\\n                        <li class=\"ap_list\"><a class=\"ap_btn _PM_newsstand_next\" href=\"#\" data-clk=\"nsd.next\"><i class=\"ap_btn_ico ico_right\"></i><span class=\"blind\">다음 페이지</span></a></li>\\n                    </ul>\\n                </div>\\n            </div>\\n            <div class=\"an_panel_image _PM_newsstand_thumb\" role=\"tabpanel\" >\\n                <div class=\"api_list_wrap\">\\n                    <h3><span class=\"blind\">언론사 목록</span></h3>\\n                    <div class=\"flick-view\">\\n                        <div class=\"flick-container\">\\n                            <div class=\"flick-panel\">\\n                                <ul class=\"api_list\">\\n\\t\\t\\t\\t\\t\\t\\t\\t\\t\\n\\t\\t\\t\\t\\t\\t\\t\\t\\t\\t<li id=\"NS_005\" class=\"api_item\" data-pid=\"005\">\\n<a class=\"api_link\" href=\"http://newsstand.naver.com/?list=ct1&pcode=005\" aria-haspopup=\"true\" target=\"_blank\">\\n<img src=\"https://s.pstatic.net/static/newsstand/up/2017/0424/nsd1438916.png\" height=\"24\" alt=\"국민일보\" class=\"api_logo\">\\n</a>\\n<div class=\"api_popup_btn_set\" role=\"alertdialog\">\\n<div class=\"api_pbs_inner\">\\n<a href=\"#\" class=\"api_pbs_btn _PM_newsstand_subscribe\" role=\"button\" data-pid=\"005\" data-clk=\"nsd_all*p.sub\">구독</a>\\n<a href=\"#\" class=\"api_pbs_btn _PM_newsstand_unsubscribe\" role=\"button\" data-pid=\"005\" data-clk=\"nsd_all*p.sub\" style=\"display:none\">해지</a>\\n<a href=\"http://newsstand.naver.com/?list=ct1&pcode=005\" class=\"api_pbs_btn api_pbs_lb\" role=\"button\" target=\"_blank\" data-all-clk=\"nsd_all*p.logo\" data-my-clk=\"nsd_myn*p.logo\">기사보기</a>\\n</div>\\n</div>\\n</li>\\n<li id=\"NS_330\" class=\"api_item\" data-pid=\"330\">\\n<a class=\"api_link\" href=\"http://newsstand.naver.com/?list=ct1&pcode=330\" aria-haspopup=\"true\" target=\"_blank\">\\n<img src=\"https://s.pstatic.net/static/newsstand/up/2018/0626/nsd103519292.png\" height=\"24\" alt=\"중앙데일리\" class=\"api_logo\">\\n</a>\\n<div class=\"api_popup_btn_set\" role=\"alertdialog\">\\n<div class=\"api_pbs_inner\">\\n<a href=\"#\" class=\"api_pbs_btn _PM_newsstand_subscribe\" role=\"button\" data-pid=\"330\" data-clk=\"nsd_all*p.sub\">구독</a>\\n<a href=\"#\" class=\"api_pbs_btn _PM_newsstand_unsubscribe\" role=\"button\" data-pid=\"330\" data-clk=\"nsd_all*p.sub\" style=\"display:none\">해지</a>\\n<a href=\"http://newsstand.naver.com/?list=ct1&pcode=330\" class=\"api_pbs_btn api_pbs_lb\" role=\"button\" target=\"_blank\" data-all-clk=\"nsd_all*p.logo\" data-my-clk=\"nsd_myn*p.logo\">기사보기</a>\\n</div>\\n</div>\\n</li>\\n<li id=\"NS_326\" class=\"api_item\" data-pid=\"326\">\\n<a class=\"api_link\" href=\"http://newsstand.naver.com/?list=ct1&pcode=326\" aria-haspopup=\"true\" target=\"_blank\">\\n<img src=\"https://s.pstatic.net/static/newsstand/up/2017/0424/nsd173138949.png\" height=\"24\" alt=\"KBS World\" class=\"api_logo\">\\n</a>\\n<div class=\"api_popup_btn_set\" role=\"alertdialog\">\\n<div class=\"api_pbs_inner\">\\n<a href=\"#\" class=\"api_pbs_btn _PM_newsstand_subscribe\" role=\"button\" data-pid=\"326\" data-clk=\"nsd_all*p.sub\">구독</a>\\n<a href=\"#\" class=\"api_pbs_btn _PM_newsstand_unsubscribe\" role=\"button\" data-pid=\"326\" data-clk=\"nsd_all*p.sub\" style=\"display:none\">해지</a>\\n<a href=\"http://newsstand.naver.com/?list=ct1&pcode=326\" class=\"api_pbs_btn api_pbs_lb\" role=\"button\" target=\"_blank\" data-all-clk=\"nsd_all*p.logo\" data-my-clk=\"nsd_myn*p.logo\">기사보기</a>\\n</div>\\n</div>\\n</li>\\n<li id=\"NS_009\" class=\"api_item\" data-pid=\"009\">\\n<a class=\"api_link\" href=\"http://newsstand.naver.com/?list=ct1&pcode=009\" aria-haspopup=\"true\" target=\"_blank\">\\n<img src=\"https://s.pstatic.net/static/newsstand/up/2017/0424/nsd145032565.png\" height=\"24\" alt=\"매일경제\" class=\"api_logo\">\\n</a>\\n<div class=\"api_popup_btn_set\" role=\"alertdialog\">\\n<div class=\"api_pbs_inner\">\\n<a href=\"#\" class=\"api_pbs_btn _PM_newsstand_subscribe\" role=\"button\" data-pid=\"009\" data-clk=\"nsd_all*p.sub\">구독</a>\\n<a href=\"#\" class=\"api_pbs_btn _PM_newsstand_unsubscribe\" role=\"button\" data-pid=\"009\" data-clk=\"nsd_all*p.sub\" style=\"display:none\">해지</a>\\n<a href=\"http://newsstand.naver.com/?list=ct1&pcode=009\" class=\"api_pbs_btn api_pbs_lb\" role=\"button\" target=\"_blank\" data-all-clk=\"nsd_all*p.logo\" data-my-clk=\"nsd_myn*p.logo\">기사보기</a>\\n</div>\\n</div>\\n</li>\\n<li id=\"NS_029\" class=\"api_item\" data-pid=\"029\">\\n<a class=\"api_link\" href=\"http://newsstand.naver.com/?list=ct1&pcode=029\" aria-haspopup=\"true\" target=\"_blank\">\\n<img src=\"https://s.pstatic.net/static/newsstand/up/2018/0719/nsd162516824.png\" height=\"24\" alt=\"디지털타임스\" class=\"api_logo\">\\n</a>\\n<div class=\"api_popup_btn_set\" role=\"alertdialog\">\\n<div class=\"api_pbs_inner\">\\n<a href=\"#\" class=\"api_pbs_btn _PM_newsstand_subscribe\" role=\"button\" data-pid=\"029\" data-clk=\"nsd_all*p.sub\">구독</a>\\n<a href=\"#\" class=\"api_pbs_btn _PM_newsstand_unsubscribe\" role=\"button\" data-pid=\"029\" data-clk=\"nsd_all*p.sub\" style=\"display:none\">해지</a>\\n<a href=\"http://newsstand.naver.com/?list=ct1&pcode=029\" class=\"api_pbs_btn api_pbs_lb\" role=\"button\" target=\"_blank\" data-all-clk=\"nsd_all*p.logo\" data-my-clk=\"nsd_myn*p.logo\">기사보기</a>\\n</div>\\n</div>\\n</li>\\n<li id=\"NS_020\" class=\"api_item\" data-pid=\"020\">\\n<a class=\"api_link\" href=\"http://newsstand.naver.com/?list=ct1&pcode=020\" aria-haspopup=\"true\" target=\"_blank\">\\n<img src=\"https://s.pstatic.net/static/newsstand/up/2017/0424/nsd14479875.png\" height=\"24\" alt=\"동아일보\" class=\"api_logo\">\\n</a>\\n<div class=\"api_popup_btn_set\" role=\"alertdialog\">\\n<div class=\"api_pbs_inner\">\\n<a href=\"#\" class=\"api_pbs_btn _PM_newsstand_subscribe\" role=\"button\" data-pid=\"020\" data-clk=\"nsd_all*p.sub\">구독</a>\\n<a href=\"#\" class=\"api_pbs_btn _PM_newsstand_unsubscribe\" role=\"button\" data-pid=\"020\" data-clk=\"nsd_all*p.sub\" style=\"display:none\">해지</a>\\n<a href=\"http://newsstand.naver.com/?list=ct1&pcode=020\" class=\"api_pbs_btn api_pbs_lb\" role=\"button\" target=\"_blank\" data-all-clk=\"nsd_all*p.logo\" data-my-clk=\"nsd_myn*p.logo\">기사보기</a>\\n</div>\\n</div>\\n</li>\\n<li id=\"NS_014\" class=\"api_item\" data-pid=\"014\">\\n<a class=\"api_link\" href=\"http://newsstand.naver.com/?list=ct1&pcode=014\" aria-haspopup=\"true\" target=\"_blank\">\\n<img src=\"https://s.pstatic.net/static/newsstand/up/2017/0424/nsd172557496.png\" height=\"24\" alt=\"파이낸셜뉴스\" class=\"api_logo\">\\n</a>\\n<div class=\"api_popup_btn_set\" role=\"alertdialog\">\\n<div class=\"api_pbs_inner\">\\n<a href=\"#\" class=\"api_pbs_btn _PM_newsstand_subscribe\" role=\"button\" data-pid=\"014\" data-clk=\"nsd_all*p.sub\">구독</a>\\n<a href=\"#\" class=\"api_pbs_btn _PM_newsstand_unsubscribe\" role=\"button\" data-pid=\"014\" data-clk=\"nsd_all*p.sub\" style=\"display:none\">해지</a>\\n<a href=\"http://newsstand.naver.com/?list=ct1&pcode=014\" class=\"api_pbs_btn api_pbs_lb\" role=\"button\" target=\"_blank\" data-all-clk=\"nsd_all*p.logo\" data-my-clk=\"nsd_myn*p.logo\">기사보기</a>\\n</div>\\n</div>\\n</li>\\n<li id=\"NS_079\" class=\"api_item\" data-pid=\"079\">\\n<a class=\"api_link\" href=\"http://newsstand.naver.com/?list=ct1&pcode=079\" aria-haspopup=\"true\" target=\"_blank\">\\n<img src=\"https://s.pstatic.net/static/newsstand/up/2017/0424/nsd143958887.png\" height=\"24\" alt=\"노컷뉴스\" class=\"api_logo\">\\n</a>\\n<div class=\"api_popup_btn_set\" role=\"alertdialog\">\\n<div class=\"api_pbs_inner\">\\n<a href=\"#\" class=\"api_pbs_btn _PM_newsstand_subscribe\" role=\"button\" data-pid=\"079\" data-clk=\"nsd_all*p.sub\">구독</a>\\n<a href=\"#\" class=\"api_pbs_btn _PM_newsstand_unsubscribe\" role=\"button\" data-pid=\"079\" data-clk=\"nsd_all*p.sub\" style=\"display:none\">해지</a>\\n<a href=\"http://newsstand.naver.com/?list=ct1&pcode=079\" class=\"api_pbs_btn api_pbs_lb\" role=\"button\" target=\"_blank\" data-all-clk=\"nsd_all*p.logo\" data-my-clk=\"nsd_myn*p.logo\">기사보기</a>\\n</div>\\n</div>\\n</li>\\n<li id=\"NS_214\" class=\"api_item\" data-pid=\"214\">\\n<a class=\"api_link\" href=\"http://newsstand.naver.com/?list=ct1&pcode=214\" aria-haspopup=\"true\" target=\"_blank\">\\n<img src=\"https://s.pstatic.net/static/newsstand/up/2017/0424/nsd17324940.png\" height=\"24\" alt=\"MBC\" class=\"api_logo\">\\n</a>\\n<div class=\"api_popup_btn_set\" role=\"alertdialog\">\\n<div class=\"api_pbs_inner\">\\n<a href=\"#\" class=\"api_pbs_btn _PM_newsstand_subscribe\" role=\"button\" data-pid=\"214\" data-clk=\"nsd_all*p.sub\">구독</a>\\n<a href=\"#\" class=\"api_pbs_btn _PM_newsstand_unsubscribe\" role=\"button\" data-pid=\"214\" data-clk=\"nsd_all*p.sub\" style=\"display:none\">해지</a>\\n<a href=\"http://newsstand.naver.com/?list=ct1&pcode=214\" class=\"api_pbs_btn api_pbs_lb\" role=\"button\" target=\"_blank\" data-all-clk=\"nsd_all*p.logo\" data-my-clk=\"nsd_myn*p.logo\">기사보기</a>\\n</div>\\n</div>\\n</li>\\n<li id=\"NS_092\" class=\"api_item\" data-pid=\"092\">\\n<a class=\"api_link\" href=\"http://newsstand.naver.com/?list=ct1&pcode=092\" aria-haspopup=\"true\" target=\"_blank\">\\n<img src=\"https://s.pstatic.net/static/newsstand/up/2017/0424/nsd16425834.png\" height=\"24\" alt=\"지디넷코리아\" class=\"api_logo\">\\n</a>\\n<div class=\"api_popup_btn_set\" role=\"alertdialog\">\\n<div class=\"api_pbs_inner\">\\n<a href=\"#\" class=\"api_pbs_btn _PM_newsstand_subscribe\" role=\"button\" data-pid=\"092\" data-clk=\"nsd_all*p.sub\">구독</a>\\n<a href=\"#\" class=\"api_pbs_btn _PM_newsstand_unsubscribe\" role=\"button\" data-pid=\"092\" data-clk=\"nsd_all*p.sub\" style=\"display:none\">해지</a>\\n<a href=\"http://newsstand.naver.com/?list=ct1&pcode=092\" class=\"api_pbs_btn api_pbs_lb\" role=\"button\" target=\"_blank\" data-all-clk=\"nsd_all*p.logo\" data-my-clk=\"nsd_myn*p.logo\">기사보기</a>\\n</div>\\n</div>\\n</li>\\n<li id=\"NS_002\" class=\"api_item\" data-pid=\"002\">\\n<a class=\"api_link\" href=\"http://newsstand.naver.com/?list=ct1&pcode=002\" aria-haspopup=\"true\" target=\"_blank\">\\n<img src=\"https://s.pstatic.net/static/newsstand/up/2017/0424/nsd172615885.png\" height=\"24\" alt=\"프레시안\" class=\"api_logo\">\\n</a>\\n<div class=\"api_popup_btn_set\" role=\"alertdialog\">\\n<div class=\"api_pbs_inner\">\\n<a href=\"#\" class=\"api_pbs_btn _PM_newsstand_subscribe\" role=\"button\" data-pid=\"002\" data-clk=\"nsd_all*p.sub\">구독</a>\\n<a href=\"#\" class=\"api_pbs_btn _PM_newsstand_unsubscribe\" role=\"button\" data-pid=\"002\" data-clk=\"nsd_all*p.sub\" style=\"display:none\">해지</a>\\n<a href=\"http://newsstand.naver.com/?list=ct1&pcode=002\" class=\"api_pbs_btn api_pbs_lb\" role=\"button\" target=\"_blank\" data-all-clk=\"nsd_all*p.logo\" data-my-clk=\"nsd_myn*p.logo\">기사보기</a>\\n</div>\\n</div>\\n</li>\\n<li id=\"NS_139\" class=\"api_item\" data-pid=\"139\">\\n<a class=\"api_link\" href=\"http://newsstand.naver.com/?list=ct1&pcode=139\" aria-haspopup=\"true\" target=\"_blank\">\\n<img src=\"https://s.pstatic.net/static/newsstand/up/2017/0424/nsd151840663.png\" height=\"24\" alt=\"스포탈코리아\" class=\"api_logo\">\\n</a>\\n<div class=\"api_popup_btn_set\" role=\"alertdialog\">\\n<div class=\"api_pbs_inner\">\\n<a href=\"#\" class=\"api_pbs_btn _PM_newsstand_subscribe\" role=\"button\" data-pid=\"139\" data-clk=\"nsd_all*p.sub\">구독</a>\\n<a href=\"#\" class=\"api_pbs_btn _PM_newsstand_unsubscribe\" role=\"button\" data-pid=\"139\" data-clk=\"nsd_all*p.sub\" style=\"display:none\">해지</a>\\n<a href=\"http://newsstand.naver.com/?list=ct1&pcode=139\" class=\"api_pbs_btn api_pbs_lb\" role=\"button\" target=\"_blank\" data-all-clk=\"nsd_all*p.logo\" data-my-clk=\"nsd_myn*p.logo\">기사보기</a>\\n</div>\\n</div>\\n</li>\\n<li id=\"NS_971\" class=\"api_item\" data-pid=\"971\">\\n<a class=\"api_link\" href=\"http://newsstand.naver.com/?list=ct2&pcode=971\" aria-haspopup=\"true\" target=\"_blank\">\\n<img src=\"https://s.pstatic.net/static/newsstand/up/2019/0318/nsd154758272.png\" height=\"24\" alt=\"일요시사\" class=\"api_logo\">\\n</a>\\n<div class=\"api_popup_btn_set\" role=\"alertdialog\">\\n<div class=\"api_pbs_inner\">\\n<a href=\"#\" class=\"api_pbs_btn _PM_newsstand_subscribe\" role=\"button\" data-pid=\"971\" data-clk=\"nsd_all*p.sub\">구독</a>\\n<a href=\"#\" class=\"api_pbs_btn _PM_newsstand_unsubscribe\" role=\"button\" data-pid=\"971\" data-clk=\"nsd_all*p.sub\" style=\"display:none\">해지</a>\\n<a href=\"http://newsstand.naver.com/?list=ct2&pcode=971\" class=\"api_pbs_btn api_pbs_lb\" role=\"button\" target=\"_blank\" data-all-clk=\"nsd_all*p.logo\" data-my-clk=\"nsd_myn*p.logo\">기사보기</a>\\n</div>\\n</div>\\n</li>\\n<li id=\"NS_917\" class=\"api_item\" data-pid=\"917\">\\n<a class=\"api_link\" href=\"http://newsstand.naver.com/?list=ct4&pcode=917\" aria-haspopup=\"true\" target=\"_blank\">\\n<img src=\"https://s.pstatic.net/static/newsstand/up/2017/0424/nsd173057968.png\" height=\"24\" alt=\"IT조선\" class=\"api_logo\">\\n</a>\\n<div class=\"api_popup_btn_set\" role=\"alertdialog\">\\n<div class=\"api_pbs_inner\">\\n<a href=\"#\" class=\"api_pbs_btn _PM_newsstand_subscribe\" role=\"button\" data-pid=\"917\" data-clk=\"nsd_all*p.sub\">구독</a>\\n<a href=\"#\" class=\"api_pbs_btn _PM_newsstand_unsubscribe\" role=\"button\" data-pid=\"917\" data-clk=\"nsd_all*p.sub\" style=\"display:none\">해지</a>\\n<a href=\"http://newsstand.naver.com/?list=ct4&pcode=917\" class=\"api_pbs_btn api_pbs_lb\" role=\"button\" target=\"_blank\" data-all-clk=\"nsd_all*p.logo\" data-my-clk=\"nsd_myn*p.logo\">기사보기</a>\\n</div>\\n</div>\\n</li>\\n<li id=\"NS_135\" class=\"api_item\" data-pid=\"135\">\\n<a class=\"api_link\" href=\"http://newsstand.naver.com/?list=ct7&pcode=135\" aria-haspopup=\"true\" target=\"_blank\">\\n<img src=\"https://s.pstatic.net/static/newsstand/up/2017/0424/nsd153228485.png\" height=\"24\" alt=\"시사저널\" class=\"api_logo\">\\n</a>\\n<div class=\"api_popup_btn_set\" role=\"alertdialog\">\\n<div class=\"api_pbs_inner\">\\n<a href=\"#\" class=\"api_pbs_btn _PM_newsstand_subscribe\" role=\"button\" data-pid=\"135\" data-clk=\"nsd_all*p.sub\">구독</a>\\n<a href=\"#\" class=\"api_pbs_btn _PM_newsstand_unsubscribe\" role=\"button\" data-pid=\"135\" data-clk=\"nsd_all*p.sub\" style=\"display:none\">해지</a>\\n<a href=\"http://newsstand.naver.com/?list=ct7&pcode=135\" class=\"api_pbs_btn api_pbs_lb\" role=\"button\" target=\"_blank\" data-all-clk=\"nsd_all*p.logo\" data-my-clk=\"nsd_myn*p.logo\">기사보기</a>\\n</div>\\n</div>\\n</li>\\n<li id=\"NS_807\" class=\"api_item\" data-pid=\"807\">\\n<a class=\"api_link\" href=\"http://newsstand.naver.com/?list=ct7&pcode=807\" aria-haspopup=\"true\" target=\"_blank\">\\n<img src=\"https://s.pstatic.net/static/newsstand/up/2019/0311/nsd10115926.png\" height=\"24\" alt=\"인사이트코리아\" class=\"api_logo\">\\n</a>\\n<div class=\"api_popup_btn_set\" role=\"alertdialog\">\\n<div class=\"api_pbs_inner\">\\n<a href=\"#\" class=\"api_pbs_btn _PM_newsstand_subscribe\" role=\"button\" data-pid=\"807\" data-clk=\"nsd_all*p.sub\">구독</a>\\n<a href=\"#\" class=\"api_pbs_btn _PM_newsstand_unsubscribe\" role=\"button\" data-pid=\"807\" data-clk=\"nsd_all*p.sub\" style=\"display:none\">해지</a>\\n<a href=\"http://newsstand.naver.com/?list=ct7&pcode=807\" class=\"api_pbs_btn api_pbs_lb\" role=\"button\" target=\"_blank\" data-all-clk=\"nsd_all*p.logo\" data-my-clk=\"nsd_myn*p.logo\">기사보기</a>\\n</div>\\n</div>\\n</li>\\n<li id=\"NS_385\" class=\"api_item\" data-pid=\"385\">\\n<a class=\"api_link\" href=\"http://newsstand.naver.com/?list=ct8&pcode=385\" aria-haspopup=\"true\" target=\"_blank\">\\n<img src=\"https://s.pstatic.net/static/newsstand/up/2017/0424/nsd154255890.png\" height=\"24\" alt=\"영남일보\" class=\"api_logo\">\\n</a>\\n<div class=\"api_popup_btn_set\" role=\"alertdialog\">\\n<div class=\"api_pbs_inner\">\\n<a href=\"#\" class=\"api_pbs_btn _PM_newsstand_subscribe\" role=\"button\" data-pid=\"385\" data-clk=\"nsd_all*p.sub\">구독</a>\\n<a href=\"#\" class=\"api_pbs_btn _PM_newsstand_unsubscribe\" role=\"button\" data-pid=\"385\" data-clk=\"nsd_all*p.sub\" style=\"display:none\">해지</a>\\n<a href=\"http://newsstand.naver.com/?list=ct8&pcode=385\" class=\"api_pbs_btn api_pbs_lb\" role=\"button\" target=\"_blank\" data-all-clk=\"nsd_all*p.logo\" data-my-clk=\"nsd_myn*p.logo\">기사보기</a>\\n</div>\\n</div>\\n</li>\\n<li id=\"NS_391\" class=\"api_item\" data-pid=\"391\">\\n<a class=\"api_link\" href=\"http://newsstand.naver.com/?list=ct8&pcode=391\" aria-haspopup=\"true\" target=\"_blank\">\\n<img src=\"https://s.pstatic.net/static/newsstand/up/2017/0424/nsd17115481.png\" height=\"24\" alt=\"충청일보\" class=\"api_logo\">\\n</a>\\n<div class=\"api_popup_btn_set\" role=\"alertdialog\">\\n<div class=\"api_pbs_inner\">\\n<a href=\"#\" class=\"api_pbs_btn _PM_newsstand_subscribe\" role=\"button\" data-pid=\"391\" data-clk=\"nsd_all*p.sub\">구독</a>\\n<a href=\"#\" class=\"api_pbs_btn _PM_newsstand_unsubscribe\" role=\"button\" data-pid=\"391\" data-clk=\"nsd_all*p.sub\" style=\"display:none\">해지</a>\\n<a href=\"http://newsstand.naver.com/?list=ct8&pcode=391\" class=\"api_pbs_btn api_pbs_lb\" role=\"button\" target=\"_blank\" data-all-clk=\"nsd_all*p.logo\" data-my-clk=\"nsd_myn*p.logo\">기사보기</a>\\n</div>\\n</div>\\n</li>\\n\\n\\t\\t\\t\\t\\t\\t\\t\\t\\t\\n                                </ul>\\n                            </div>\\n                        </div>\\n                    </div>\\n                    <i class=\"api_list_border_right\" role=\"presentation\" aria-hidden=\"true\"></i>\\n                    <i class=\"api_list_border_horizontal1\" role=\"presentation\" aria-hidden=\"true\"></i>\\n                    <i class=\"api_list_border_horizontal2\" role=\"presentation\" aria-hidden=\"true\"></i>\\n                </div>\\n            </div>\\n            <div class=\"an_panel_list _PM_newsstand_list\" role=\"tabpanel\" aria-hidden=\"false\" style=\"display:none;\"  >\\n                <div class=\"apl_category_wrap\">\\n                    <h3><span class=\"blind\">언론사 목록</span></h3>\\n                    <ul class=\"aplc_list\" data-tab=\"total\">\\n                        <li class=\"aplc_item\"><a class=\"aplc_link is_selected\" href=\"#\" data-category=\"ct2\" data-clk=\"nsd_all.daei\"><span class=\"aplc_name\">종합/경제</span><span class=\"aplc_paging\"></span></a></li>\\n                        <li class=\"aplc_item\"><a class=\"aplc_link\" href=\"#\" data-category=\"ct3\" data-clk=\"nsd_all.dtvcom\"><span class=\"aplc_name\">방송/통신</span><span class=\"aplc_paging\"></span></a></li>\\n                        <li class=\"aplc_item\"><a class=\"aplc_link\" href=\"#\" data-category=\"ct4\" data-clk=\"nsd_all.dit\"><span class=\"aplc_name\">IT</span><span class=\"aplc_paging\"></span></a></li>\\n                        <li class=\"aplc_item\"><a class=\"aplc_link\" href=\"#\" data-category=\"ct5\" data-clk=\"nsd_all.deng\"><span class=\"aplc_name\">영자지</span><span class=\"aplc_paging\"></span></a></li>\\n                        <li class=\"aplc_item\"><a class=\"aplc_link\" href=\"#\" data-category=\"ct6\" data-clk=\"nsd_all.dsporent\"><span class=\"aplc_name\">스포츠/연예</span><span class=\"aplc_paging\"></span></a></li>\\n                        <li class=\"aplc_item\"><a class=\"aplc_link\" href=\"#\" data-category=\"ct7\" data-clk=\"nsd_all.dmagtec\"><span class=\"aplc_name\">매거진/전문지</span><span class=\"aplc_paging\"></span></a></li>\\n                        <li class=\"aplc_item\"><a class=\"aplc_link\" href=\"#\" data-category=\"ct8\" data-clk=\"nsd_all.dloc\"><span class=\"aplc_name\">지역</span><span class=\"aplc_paging\"></span></a></li>\\n                    </ul>\\n\\t\\t\\t\\t\\t<ul class=\"aplc_list\" data-tab=\"my\" style=\"display:none;\">\\n\\t\\t\\t\\t\\t\\t<!-- nvpaperlist:empty -->\\n\\t\\t\\t\\t\\t</ul>\\n                </div>\\n                <div class=\"flick-view\">\\n                    <div class=\"flick-container\">\\n                        <div class=\"flick-panel\">\\n                            \\n\\t\\t\\t\\t\\t\\t\\t\\n                        </div>\\n                    </div>\\n                </div>\\n            </div>\\n            <div class=\"an_panel_list _PM_newsstand_info\" role=\"tabpanel\" aria-hidden=\"false\" style=\"display:none;\">\\n                <div class=\"flick-view\">\\n                    <div class=\"flick-container\">\\n                        <div class=\"flick-panel\">\\n                            <div class=\"an_nopress_view\">\\n                                <div class=\"anv_wrap\">\\n                                    <em class=\"anv_tit\">설정한 언론사가 없습니다.</em><p class=\"anv_text\">언론사 구독 설정에서 MY언론사를 추가하면</p><p class=\"anv_text\">설정한 언론사의 기사들을 네이버 홈에서 바로 보실 수 있습니다.</p>\\n                                \\t<a class=\"anv_btn\" href=\"http://newsstand.naver.com/config.html\" role=\"button\" data-clk=\"nsd_myn*a.thum\" target=\"_blank\">언론사 추가</a>\\n                            \\t</div>\\n                        \\t</div>\\n                        </div>\\n                    </div>\\n                </div>\\n            </div>\\n\\t\\t\\t<div class=\"PM_CL_newsstand_layer\">\\n\\t\\t\\t</div>\\n        </div>\\n    </div>\\n\\t<!-- //뉴스캐스트 -->\\n</div>\\n\\n\\t\\t\\t<div class=\"column_right\">\\n\\t<!-- 로그인 -->\\n\\t\\n\\t\\t\\n\\n\\n\\n\\n\\n\\t\\n\\n\\n<div id=\"account\" class=\"section_login\">\\n\\t<h2 class=\"blind\">Sign in</h2>\\n\\t<div class=\"lg_global\">\\n\\t\\t<p class=\"lg_global_text\">Connect with people</p>\\n\\t\\t<a class=\"lg_global_btn\" href=\"https://nid.naver.com/nidlogin.login?mode=form&url=https%3A%2F%2Fwww.naver.com\" role=\"button\"  data-clk=\"log_off.login\">\\n\\t\\t\\t<i class=\"ico_global_login lang_en_v1\"><span class=\"blind\">NAVER Sign in</span></i>\\n\\t\\t</a>\\n\\t\\t<div class=\"lg_links\">\\n\\t\\t\\t<a href=\"https://nid.naver.com/nidregister.form?url=https%3A%2F%2Fwww.naver.com\" class=\"lg_link_join\" data-clk=\"log_off.registration\">Sign up</a>\\n\\t\\t\\t<span class=\"lg_link_find\">Forgot <a href=\"https://nid.naver.com/user/help.nhn?todo=idinquiry\" class=\"lg_find_text_en\" data-clk=\"log_off.searchid\">Username</a> or <a href=\"https://nid.naver.com/nidreminder.form\" class=\"lg_find_text_en\" data-clk=\"log_off.searchpass\">Password?</a></span>\\n\\t\\t</div>\\n\\t</div>\\n</div>\\n\\n\\n\\t\\n\\t<!-- //로그인 -->\\n\\t<div id=\"ad_branding_hide\"></div>\\n\\t<!-- 타임스퀘어 -->\\n\\t<div class=\"_PM_timesquare_wrapper\" id=\"time_square\">\\n\\t\\t<div class=\"section_timesquare _PM_timesquare_base\" data-code=\"sports\">\\n<h2 class=\"blind\">스포츠</h2>\\n<div class=\"area_header\">\\n<div class=\"header_info _PM_timesquare_info\">\\n<a href=\"https://calendar.naver.com\" data-clk=\"squ.date\" class=\"hi_date\"><span class=\"hi_dnum\">03.28.</span><span class=\"hi_day\">(목)</span></a><i class=\"hi_slash\" aria-hidden=\"true\" role=\"presentation\">|</i>\\n\\n<h3 class=\"hi_tit\">스포츠</h3>\\n</div>\\n<div class=\"header_paging _PM_timesquare_navi\">\\n</div>\\n<div class=\"header_btns\">\\n<a data-clk=\"squ.pre\" class=\"header_btn_prev _PM_timesquare_prev\" href=\"#\"><i class=\"ico_btn_prev\" aria-hidden=\"true\"></i><span class=\"blind\">앞의 목록으로 이동</span></a>\\n<a data-clk=\"squ.next\" class=\"header_btn_next _PM_timesquare_next\" href=\"#\"><i class=\"ico_btn_next\" aria-hidden=\"true\"></i><span class=\"blind\">뒤의 목록으로 이동</span></a>\\n</div>\\n</div>\\n<div class=\"area_ct\">\\n<div class=\"flick-view\">\\n<div class=\"flick-container\">\\n<div class=\"flick-panel _PM_timesquare_list\" data-code=\"sports\">\\n<ul class=\"type_news_basic\">\\n<li class=\"tnb_item\"><a data-clk=\"squ_spo.tit1\" class=\"tnb_link tnb_cate\" href=\"https://sports.news.naver.com/esports/index.nhn\">e스포츠</a><a data-clk=\"squ_spo.con1\" class=\"tnb_link tnb_text\" href=\"javascript:window.open(\\'https://sports.news.naver.com/tv/index.nhn?category=lol&gameId=2019032820R479R494lol\\',\\'\\', \\'scrollbars=yes, toolbar=no, location=0, directories=0, status=0, menubar=0,  resizable=1, left=100,top=75,width=1024,height=620\\');void(0);\"><i class=\"tnh_ico_live\"><span class=\"tnh_ico_text\">LIVE</span></i>[TV중계] GEN vs DWG</a></li>\\n<li class=\"tnb_item\"><a data-clk=\"squ_spo.tit2\" class=\"tnb_link tnb_cate\" href=\"https://sports.news.naver.com/basketball/index.nhn\">농구</a><a data-clk=\"squ_spo.con2\" class=\"tnb_link tnb_text\" href=\"javascript:window.open(\\'https://sports.news.naver.com/tv/index.nhn?category=kbl&gameId=20190328065033036\\',\\'\\', \\'scrollbars=yes, toolbar=no, location=0, directories=0, status=0, menubar=0,  resizable=1, left=100,top=75,width=1024,height=620\\');void(0);\"><i class=\"tnh_ico_live\"><span class=\"tnh_ico_text\">LIVE</span></i>[KBL TV중계] 부산 KT vs 창원 LG</a></li>\\n<li class=\"tnb_item\"><a data-clk=\"squ_spo.tit3\" class=\"tnb_link tnb_cate\" href=\"https://sports.news.naver.com/kbaseball/index.nhn\">야구</a><a data-clk=\"squ_spo.con3\" class=\"tnb_link tnb_text\" href=\"javascript:window.open(\\'https://sports.news.naver.com/tv/index.nhn?category=kbo&gameId=20190328HHHT02019\\',\\'\\', \\'scrollbars=yes, toolbar=no, location=0, directories=0, status=0, menubar=0,  resizable=1, left=100,top=75,width=1024,height=620\\');void(0);\"><i class=\"tnh_ico_live\"><span class=\"tnh_ico_text\">LIVE</span></i>[KBO리그 TV중계] 한화 vs KIA</a></li>\\n</ul>\\n</div>\\n</div>\\n</div>\\n</div>\\n</div>\\n\\t\\n\\t</div>\\n\\t<!-- //타임스퀘어 -->\\n\\n\\t<!-- 광고 -->\\n\\t<div id=\"veta_branding\">\\n\\t<iframe id=\"da_iframe_rolling\" name=\"da_iframe_rolling\" src=\"https://nv.veta.naver.com/fxshow?su=SU10078&amp;nrefreshx=0\" data-veta-preview=\"main_rolling\" title=\"광고\" width=\"332\" height=\"150\" marginheight=\"0\" marginwidth=\"0\" scrolling=\"no\" frameborder=\"0\"></iframe>\\n\\t\\t<div class=\"veta_bdt\"></div><div class=\"veta_bdr\"></div><div class=\"veta_bdb\"></div><div class=\"veta_bdl\"></div>\\n\\t</div>\\n\\t<!-- //광고 -->\\n</div>\\n\\n\\t\\t\\t<!-- EMPTY -->\\n\\t\\t\\t<div class=\"column_bottom\">\\n\\t<!-- 주제형캐스트 -->\\n\\t<div id=\"themecast\" class=\"section_themecast\">\\n\\t\\t<h2 class=\"blind\">주제형 캐스트</h2>\\n\\t\\t<div id=\"PM_ID_themecastNavi\" class=\"themecast_category\">\\n\\t\\t\\t<div class=\"area_category\">\\n\\t\\t\\t\\t<h3 class=\"blind\">관심 주제 선택</h3>\\n\\t\\t\\t\\t<div class=\"ac_scroll\" role=\"tablist\">\\n\\t\\t\\t\\t\\t<div class=\"scroll-area\" role=\"presentation\">\\n\\t\\t\\t\\t\\t\\t<!-- style=\"width:xxxxPX\" -->\\n\\t\\t\\t\\t\\t\\t<div id=\"PM_ID_themelist\" class=\"rolling-container\" role=\"presentation\" style=\"width:587;overflow:hidden;\">\\n\\t\\t\\t\\t\\t\\t\\t<ul style=\"width:2000px\">\\n\\t\\t\\t\\t\\t\\t\\t\\t<li class=\"rolling-panel\" role=\"presentation\">\\n\\t<a href=\"#LIVINGHOME\" role=\"tab\" aria-selected=\"true\" data-id=\"LIVINGHOME\" data-nclick=\"lif\" data-clk=\"tct.lif\" class=\"PM_CL_themeItem ac_a tcc_livinghome\">리빙</a>\\n</li><li class=\"rolling-panel\" role=\"presentation\">\\n\\t<a href=\"#LIVING\" role=\"tab\" aria-selected=\"false\" data-id=\"LIVING\" data-nclick=\"fod\" data-clk=\"tct.fod\" class=\"PM_CL_themeItem ac_a tcc_living\">푸드</a>\\n</li><li class=\"rolling-panel\" role=\"presentation\">\\n\\t<a href=\"#SPORTS\" role=\"tab\" aria-selected=\"false\" data-id=\"SPORTS\" data-nclick=\"spo\" data-clk=\"tct.spo\" class=\"PM_CL_themeItem ac_a tcc_sports\">스포츠</a>\\n</li><li class=\"rolling-panel\" role=\"presentation\">\\n\\t<a href=\"#CARGAME\" role=\"tab\" aria-selected=\"false\" data-id=\"CARGAME\" data-nclick=\"aut\" data-clk=\"tct.aut\" class=\"PM_CL_themeItem ac_a tcc_cargame\">자동차</a>\\n</li><li class=\"rolling-panel\" role=\"presentation\">\\n\\t<a href=\"#BEAUTY\" role=\"tab\" aria-selected=\"false\" data-id=\"BEAUTY\" data-nclick=\"bty\" data-clk=\"tct.bty\" class=\"PM_CL_themeItem ac_a tcc_beauty\">패션뷰티</a>\\n</li><li class=\"rolling-panel\" role=\"presentation\">\\n\\t<a href=\"#MOMKIDS\" role=\"tab\" aria-selected=\"false\" data-id=\"MOMKIDS\" data-nclick=\"mom\" data-clk=\"tct.mom\" class=\"PM_CL_themeItem ac_a tcc_momkids\">부모i</a>\\n</li><li class=\"rolling-panel\" role=\"presentation\">\\n\\t<a href=\"#HEALTH\" role=\"tab\" aria-selected=\"false\" data-id=\"HEALTH\" data-nclick=\"hea\" data-clk=\"tct.hea\" class=\"PM_CL_themeItem ac_a tcc_health\">건강</a>\\n</li><li class=\"rolling-panel\" role=\"presentation\">\\n\\t<a href=\"#BBOOM\" role=\"tab\" aria-selected=\"false\" data-id=\"BBOOM\" data-nclick=\"web\" data-clk=\"tct.web\" class=\"PM_CL_themeItem ac_a tcc_bboom\">웹툰</a>\\n</li><li class=\"rolling-panel\" role=\"presentation\">\\n\\t<a href=\"#GAMEAPP\" role=\"tab\" aria-selected=\"false\" data-id=\"GAMEAPP\" data-nclick=\"gam\" data-clk=\"tct.gam\" class=\"PM_CL_themeItem ac_a tcc_gameapp\">게임</a>\\n</li><li class=\"rolling-panel\" role=\"presentation\">\\n\\t<a href=\"#VIDEO\" role=\"tab\" aria-selected=\"false\" data-id=\"VIDEO\" data-nclick=\"tvc\" data-clk=\"tct.tvc\" class=\"PM_CL_themeItem ac_a tcc_video\">TV연예</a>\\n</li><li class=\"rolling-panel\" role=\"presentation\">\\n\\t<a href=\"#MUSIC\" role=\"tab\" aria-selected=\"false\" data-id=\"MUSIC\" data-nclick=\"muc\" data-clk=\"tct.muc\" class=\"PM_CL_themeItem ac_a tcc_music\">뮤직</a>\\n</li><li class=\"rolling-panel\" role=\"presentation\">\\n\\t<a href=\"#MOVIE\" role=\"tab\" aria-selected=\"false\" data-id=\"MOVIE\" data-nclick=\"mov\" data-clk=\"tct.mov\" class=\"PM_CL_themeItem ac_a tcc_movie\">영화</a>\\n</li><li class=\"rolling-panel\" role=\"presentation\">\\n\\t<a href=\"#CULTURE\" role=\"tab\" aria-selected=\"false\" data-id=\"CULTURE\" data-nclick=\"bok\" data-clk=\"tct.bok\" class=\"PM_CL_themeItem ac_a tcc_culture\">책문화</a>\\n</li><li class=\"rolling-panel\" role=\"presentation\">\\n\\t<a href=\"#WITH\" role=\"tab\" aria-selected=\"false\" data-id=\"WITH\" data-nclick=\"pub\" data-clk=\"tct.pub\" class=\"PM_CL_themeItem ac_a tcc_with\">함께N</a>\\n</li><li class=\"rolling-panel\" role=\"presentation\">\\n\\t<a href=\"#TRAVEL\" role=\"tab\" aria-selected=\"false\" data-id=\"TRAVEL\" data-nclick=\"tra\" data-clk=\"tct.tra\" class=\"PM_CL_themeItem ac_a tcc_travel\">여행+</a>\\n</li><li class=\"rolling-panel\" role=\"presentation\">\\n\\t<a href=\"#DESIGN\" role=\"tab\" aria-selected=\"false\" data-id=\"DESIGN\" data-nclick=\"des\" data-clk=\"tct.des\" class=\"PM_CL_themeItem ac_a tcc_design\">디자인</a>\\n</li><li class=\"rolling-panel\" role=\"presentation\">\\n\\t<a href=\"#FINANCE\" role=\"tab\" aria-selected=\"false\" data-id=\"FINANCE\" data-nclick=\"fin\" data-clk=\"tct.fin\" class=\"PM_CL_themeItem ac_a tcc_finance\">경제M</a>\\n</li><li class=\"rolling-panel\" role=\"presentation\">\\n\\t<a href=\"#JOB\" role=\"tab\" aria-selected=\"false\" data-id=\"JOB\" data-nclick=\"job\" data-clk=\"tct.job\" class=\"PM_CL_themeItem ac_a tcc_job\">JOB&</a>\\n</li><li class=\"rolling-panel\" role=\"presentation\">\\n\\t<a href=\"#SCIENCE\" role=\"tab\" aria-selected=\"false\" data-id=\"SCIENCE\" data-nclick=\"sci\" data-clk=\"tct.sci\" class=\"PM_CL_themeItem ac_a tcc_science\">과학</a>\\n</li><li class=\"rolling-panel\" role=\"presentation\">\\n\\t<a href=\"#CHINA\" role=\"tab\" aria-selected=\"false\" data-id=\"CHINA\" data-nclick=\"chn\" data-clk=\"tct.chn\" class=\"PM_CL_themeItem ac_a tcc_china\">중국</a>\\n</li><li class=\"rolling-panel\" role=\"presentation\">\\n\\t<a href=\"#BUSINESS\" role=\"tab\" aria-selected=\"false\" data-id=\"BUSINESS\" data-nclick=\"bsn\" data-clk=\"tct.bsn\" class=\"PM_CL_themeItem ac_a tcc_business\">비즈니스</a>\\n</li><li class=\"rolling-panel\" role=\"presentation\">\\n\\t<a href=\"#FARM\" role=\"tab\" aria-selected=\"false\" data-id=\"FARM\" data-nclick=\"far\" data-clk=\"tct.far\" class=\"PM_CL_themeItem ac_a tcc_farm\">FARM</a>\\n</li><li class=\"rolling-panel\" role=\"presentation\">\\n\\t<a href=\"#SCHOOL\" role=\"tab\" aria-selected=\"false\" data-id=\"SCHOOL\" data-nclick=\"scl\" data-clk=\"tct.scl\" class=\"PM_CL_themeItem ac_a tcc_school\">스쿨잼</a>\\n</li><li class=\"rolling-panel\" role=\"presentation\">\\n\\t<a href=\"#SHOW\" role=\"tab\" aria-selected=\"false\" data-id=\"SHOW\" data-nclick=\"sow\" data-clk=\"tct.sow\" class=\"PM_CL_themeItem ac_a tcc_show\">공연전시</a>\\n</li><li class=\"rolling-panel\" role=\"presentation\">\\n\\t<a href=\"#LAW\" role=\"tab\" aria-selected=\"false\" data-id=\"LAW\" data-nclick=\"law\" data-clk=\"tct.law\" class=\"PM_CL_themeItem ac_a tcc_law\">법률</a>\\n</li><li class=\"rolling-panel\" role=\"presentation\">\\n\\t<a href=\"#ANIMAL\" role=\"tab\" aria-selected=\"false\" data-id=\"ANIMAL\" data-nclick=\"ani\" data-clk=\"tct.ani\" class=\"PM_CL_themeItem ac_a tcc_animal\">동물공감</a>\\n</li><li class=\"rolling-panel\" role=\"presentation\">\\n\\t<a href=\"#WEDDING\" role=\"tab\" aria-selected=\"false\" data-id=\"WEDDING\" data-nclick=\"wed\" data-clk=\"tct.wed\" class=\"PM_CL_themeItem ac_a tcc_wedding\">연애·결혼</a>\\n</li><li class=\"rolling-panel\" role=\"presentation\">\\n\\t<a href=\"#ITTECH\" role=\"tab\" aria-selected=\"false\" data-id=\"ITTECH\" data-nclick=\"tec\" data-clk=\"tct.tec\" class=\"PM_CL_themeItem ac_a tcc_ittech\">테크</a>\\n</li><li class=\"rolling-panel\" role=\"presentation\">\\n\\t<a href=\"#EMOTION\" role=\"tab\" aria-selected=\"false\" data-id=\"EMOTION\" data-nclick=\"emo\" data-clk=\"tct.emo\" class=\"PM_CL_themeItem ac_a tcc_emotion\">감성충전</a>\\n</li>\\n\\t\\t\\t\\t\\t\\t\\t</ul>\\n\\t\\t\\t\\t\\t\\t</div>\\n\\t\\t\\t\\t\\t</div>\\n\\t\\t\\t\\t</div>\\n\\t\\t\\t</div>\\n\\t\\t\\t<div class=\"area_catebtns\">\\n\\t\\t\\t\\t<a href=\"#\" class=\"ac_btn_prev PM_CL_btnThemePrev\" data-clk=\"tct.prev\" role=\"button\"><span class=\"blind\">이전 주제</span><span class=\"ac_bicon\"></span></a>\\n\\t\\t\\t\\t<a href=\"#\" class=\"ac_btn_next PM_CL_btnThemeNext\" data-clk=\"tct.next\" role=\"button\"><span class=\"blind\">다음 주제</span><span class=\"ac_bicon\"></span></a>\\n\\t\\t\\t\\t<a href=\"#\" class=\"ac_btn_cate PM_CL_btnThemeEdit\" data-clk=\"tct.menu\" role=\"button\"><span class=\"blind\">전체 주제 열기</span><span class=\"ac_bicon\"></span></a>\\n\\t\\t\\t\\t<div id=\"PM_ID_themeNaviLeft\" class=\"ac_bgl\" style=\"display:none\"></div>\\n\\t\\t\\t\\t<div id=\"PM_ID_themeNaviRight\" class=\"ac_bgr\" style=\"display:none\"></div>\\n\\t\\t\\t</div>\\n\\t\\t</div>\\n\\t\\t<div id=\"PM_ID_themeEdit\" class=\"area_themesetting\" aria-hidden=\"true\">\\n\\t<h3 class=\"blind\">관심 주제 설정</h3>\\n\\t<script id=\"PM_ID_themeEditItem\" type=\"text/template\">\\n\\t\\t<li class=\"at_item PM_CL_themeEditItem\" data-clk=\"tca*l.{=nclick}\">\\n\\t\\t\\t<div class=\"at_iw\" role=\"checkbox\" aria-checked=\"{if subscribed}true{/if}\" >\\n\\t\\t\\t\\t<span class=\"at_iradio\">\\n\\t\\t\\t\\t\\t<span data-id=\"{=code}\" class=\"PM_CL_themeItemCheck radio-mark{if subscribed} radio-checked{/if}\"></span>\\n\\t\\t\\t\\t\\t<input type=\"checkbox\" id=\"config_tcc_{=css}\" class=\"at_ipt\">\\n\\t\\t\\t\\t</span>\\n\\t\\t\\t\\t<label for=\"config_tcc_{=css}\">{=name}</label>\\n\\t\\t\\t</div>\\n\\t\\t</li>\\n\\t</script>\\n\\t<script id=\"PM_ID_themeSelectItem\" type=\"text/template\">\\n\\t\\t<li class=\"at_item\" role=\"presentation\" data-clk=\"tca.{=nclick}\"{if subscribed} data-nclick=\"{=nclick}\"{/if}>\\n\\t\\t\\t<a href=\"#{=code}\" data-id=\"{=code}\" role=\"tab\" aria-selected=\"{if subscribed}true{else}false{/if}\" class=\"PM_CL_themeItemSelect at_a tcc_{=css}\">\\n\\t\\t\\t\\t<span class=\"at_icon\"></span>{=name}\\n\\t\\t\\t\\t{if isNewPanel }<span class=\"at_ico_new\">NEW</span>{/if}\\n\\t\\t\\t</a>\\n\\t\\t</li>\\n\\t</script>\\n\\t<script id=\"PM_ID_themeNaviItem\" type=\"text/template\">\\n\\t\\t<li class=\"rolling-panel\" role=\"presentation\">\\n\\t\\t\\t<span href=\"#{=code}\" data-id=\"{=code}\" role=\"tab\" aria-selected=\"false\" class=\"ac_a tcc_{=css}\">{=name}</span>\\n\\t\\t</li>\\t\\n\\t</script>\\n\\t<script id=\"PM_ID_themeNaviEmptyItem\" type=\"text/template\">\\n\\t\\t<li class=\"rolling-panel{if first} ac_pointer {/if}\" role=\"presentation\">\\n\\t\\t\\t<span class=\"ac_empty\"></span>\\n\\t\\t</li>\\n\\t</script>\\n\\t<script id=\"PM_ID_themeSubscribePopup\" type=\"text/template\">\\n\\t\\t<div class=\"area_alert_confirm\" style=\"top:{=top}px;left:{=left}px\">\\n\\t\\t\\t<div class=\"aa_wrap\">\\n\\t\\t\\t\\t<p class=\"aa_txt\"><strong class=\"aa_st tcc_{=css}\">\\'{=name}\\'</strong>를 관심주제로 <br>설정하시겠습니까?</p>\\n\\t\\t\\t\\t<div class=\"aa_btns\">\\n\\t\\t\\t\\t\\t<a href=\"#\" data-id=\"{=code}\" data-nclick=\"{=nclick}\" role=\"button\" class=\"PM_CL_themeAddOk aa_btn_confirm\" data-clk=\"tca.likeok\">확인</a>\\n\\t\\t\\t\\t\\t<a href=\"#\" role=\"button\" class=\"PM_CL_themeAddCancel aa_btn_cancel\" data-clk=\"tca.likecancel\">취소</a>\\n\\t\\t\\t\\t</div>\\n\\t\\t\\t</div>\\n\\t\\t</div>\\n\\t</script>\\n\\t<script id=\"PM_ID_themeImportPopup\" type=\"text/template\">\\n\\t\\t<div class=\"area_alert_confirm\">\\n\\t\\t\\t<div class=\"aa_wrap\">\\n\\t\\t\\t<p class=\"aa_txt\"><strong class=\"aa_st\">모바일에서 설정한 주제</strong>를 <br>가져오시겠습니까?</p>\\n\\t\\t\\t<div class=\"aa_btns\">\\n\\t\\t\\t\\t<a href=\"#\" role=\"button\" class=\"PM_CL_themeImportOk aa_btn_confirm\" data-clk=\"tca.mobileok\">확인</a>\\n\\t\\t\\t\\t<a href=\"#\" role=\"button\" class=\"PM_CL_themeImportCancel aa_btn_cancel\" data-clk=\"tca.mobilecancel\">취소</a>\\n\\t\\t\\t\\t</div>\\n\\t\\t\\t</div>\\n\\t\\t</div>\\t\\n\\t</script>\\n\\t<ul id=\"PM_ID_themeEditItemList\" class=\"at_all\" role=\"tablist\">\\n\\t</ul>\\n\\t<a href=\"#\" class=\"at_btn_close PM_CL_btnThemeEdit\" role=\"button\" data-clk=\"tca.close\"><span class=\"blind\">전체 주제 목록 닫기</span><span class=\"at_bicon\"></span></a>\\n\\t<div id=\"PM_ID_btnBoxShortcut\" class=\"at_btns\">\\n\\t\\t<a href=\"#\" class=\"at_btn_setting PM_CL_btnThemeEditShow\" role=\"button\" data-clk=\"tca.like\"><span class=\"at_bicon\"></span>관심주제 설정</a>\\n\\t\\t<span class=\"at_bar\"></span>\\n<a href=\"#\" data-login-url=\"https://nid.naver.com/nidlogin.login?url=http%3A%2F%2Fwww.naver.com\" class=\"at_btn_import PM_CL_btnThemeImport\" role=\"button\" data-clk=\"tca.mobile\"><span class=\"at_bicon\"></span>모바일 관심 주제 가져오기</a>\\n\\n<span class=\"at_import_login PM_CL_importMessage2\" style=\"display:none\">\\n\\t<span href=\"https://nid.naver.com/nidlogin.login?url=http%3A%2F%2Fwww.naver.com\" class=\"at_lt\" data-clk=\"tca.tip\">\\n\\t\\t<strong class=\"at_ls\">로그인</strong>후 사용 가능합니다\\n\\t</span>\\n</span>\\n\\n\\n\\t</div>\\t\\n\\t<div id=\"PM_ID_btnBoxEdit\" v class=\"at_btns\" style=\"display:none\">\\n\\t\\t<a href=\"#\" class=\"at_btn_cancel PM_CL_btnThemeEditCancel\" role=\"button\" data-clk=\"tca*l.cancel\">취소</a>\\n\\t\\t<a href=\"#\" class=\"at_btn_confirm PM_CL_btnThemeEditOk\" role=\"button\" data-clk=\"tca*l.ok\">확인</a>\\n\\t\\t<a href=\"#\" class=\"at_btn_reset PM_CL_btnThemeEditInit\" role=\"button\" data-clk=\"tca*l.reset\"><span class=\"at_bicon\"></span>초기화</a>\\n\\t\\t<a href=\"#\" class=\"at_btn_all PM_CL_btnThemeSelectAll\" role=\"button\" data-clk=\"\">전체선택</a>\\t\\t\\n\\t\\t<span class=\"at_bar\"></span>\\n<a href=\"#\" data-login-url=\"https://nid.naver.com/nidlogin.login?url=http%3A%2F%2Fwww.naver.com\" class=\"at_btn_import PM_CL_btnThemeImport\" role=\"button\" data-clk=\"tca.mobile\"><span class=\"at_bicon\"></span>모바일 관심 주제 가져오기</a>\\n\\n<span class=\"at_import_login PM_CL_importMessage2\" style=\"display:none\">\\n\\t<span href=\"https://nid.naver.com/nidlogin.login?url=http%3A%2F%2Fwww.naver.com\" class=\"at_lt\" data-clk=\"tca.tip\">\\n\\t\\t<strong class=\"at_ls\">로그인</strong>후 사용 가능합니다\\n\\t</span>\\n</span>\\n\\n\\n\\t</div>\\n</div>\\n\\n\\t\\t<div id=\"PM_ID_themecastBody\" class=\"themecast_flick\">\\n\\t\\t\\t<div class=\"flick-container\">\\n\\t\\t\\t\\t<div class=\"flick-panel\">\\n\\t\\t\\t\\t\\t<div class=\"area_themecast id_livinghome\">\\n\\n<!--EMPTY-->\\n<ul class=\"themecast_list\">\\n<li class=\"tl_title\" data-seq=\"64\">\\n<div class=\"tt_mw\">\\n<img src=\"https://s.pstatic.net/static/www/mobile/edit/2017/0427/mobile_101734614282.png\" width=\"166\" height=\"185\" alt=\"\" class=\"tt_m\">\\n</div>\\n<h3 class=\"tt_tit\">리빙</h3>\\n<div class=\"tt_bar\"></div>\\n<ul class=\"tt_links\">\\n<li class=\"tt_litem\"><a href=\"https://shopping.naver.com/living/handmade/category?menu=10001108\" class=\"tt_la\" data-clk=\"tcc_lif.link\" data-gdid=\"UAT_1290193\">취미 클래스</a></li>\\n<li class=\"tt_litem\"><a href=\"https://tv.naver.com/p/living\" class=\"tt_la\" data-clk=\"tcc_lif.link\" data-gdid=\"UAT_3031206\">리빙TV</a></li>\\n<li class=\"tt_litem\"><a href=\"https://blog.naver.com/living_food\" class=\"tt_la\" data-clk=\"tcc_lif.link\" data-gdid=\"UAT_3031207\">공식 블로그</a></li>\\n<li class=\"tt_litem\"><a href=\"https://tv.naver.com/v/3929226/list/252127\" class=\"tt_la\" data-clk=\"tcc_lif.link\" data-gdid=\"UAT_3048367\">키친 투어</a></li>\\n<li class=\"tt_litem\"><a href=\"https://terms.naver.com/list.nhn?cid=42827&categoryId=42827\" class=\"tt_la\" data-clk=\"tcc_lif.link\" data-gdid=\"UAT_3358461\">인테리어 사전</a></li>\\n</ul>\\n</li><li class=\"tl_bigimage\" data-seq=\"287945\">\\n<a href=\"https://tv.naver.com/v/5185072\" class=\"tb_a\" data-clk=\"tcc_lif.two\" data-gdid=\"UAT_3919251\">\\n<div class=\"tb_mw\">\\n<img src=\"https://s.pstatic.net/static/www/mobile/edit/2019/0325/mobile_152252161114.jpg\" width=\"346\" height=\"185\" alt=\"\" class=\"tb_m\">\\n<span class=\"tb_bd\"></span>\\n</div>\\n<div class=\"tb_ow\">\\n<span class=\"tb_bg\"></span>\\n<span class=\"tb_tw\">\\n<span class=\"tb_d\">키친투어 이벤트 당선작</span>\\n<span class=\"tb_t\">스테인리스 타일이 특징인, 작지만 알찬 주방</span>\\n</span>\\n<span class=\"tb_align\"></span>\\n</div>\\n</a>\\n</li><li class=\"tl_default\"\\ndata-seq=\"288608\"\\ndata-title=\"이번 한 주 내가 한 일에 대해서, 나의 일주일 소비기록\"\\ndata-expsStartYmdt=\"2019-03-28 17:00\"\\ndata-expsEndYmdt=\"2099-12-31 23:59\"\\ndata-fixedSeq=\"0\"\\ndata-fixedExpsStartYmdt=\"\"\\ndata-fixedExpsEndYmdt=\"\">\\n<a href=\"https://blog.naver.com/poohcey/221490767288\" class=\"td_a\" data-clk=\"tcc_lif.contents\" data-gdid=\"UAT_3926993\">\\n<span class=\"td_mw\">\\n<img src=\"https://s.pstatic.net/static/www/mobile/edit/2019/0326/mobile_18211753141.jpg\" width=\"166\" height=\"108\" alt=\"\" class=\"td_m\">\\n<span class=\"td_bd\"></span>\\n</span>\\n<span class=\"td_tw\">\\n<span class=\"td_t\">이번 한 주 내가 한 일에 대해서, 나의 일주일 소비기록</span>\\n</span>\\n</a>\\n<span class=\"td_ow\">\\n<span class=\"td_o\">목요일 그녀</span>\\n<span class=\"td_bar\"></span>\\n<span class=\"td_o\">블로그</span>\\n</span>\\n</li>\\n<li class=\"tl_default\"\\ndata-seq=\"288584\"\\ndata-title=\"커다란 수납공간이 생겼어요, 수납 벤치 만들기\"\\ndata-expsStartYmdt=\"2019-03-28 13:00\"\\ndata-expsEndYmdt=\"2099-12-31 23:59\"\\ndata-fixedSeq=\"0\"\\ndata-fixedExpsStartYmdt=\"\"\\ndata-fixedExpsEndYmdt=\"\">\\n<a href=\"https://blog.naver.com/bugslife0714/221492935603\" class=\"td_a\" data-clk=\"tcc_lif.contents\" data-gdid=\"UAT_3926764\">\\n<span class=\"td_mw\">\\n<img src=\"https://s.pstatic.net/static/www/mobile/edit/2019/0326/mobile_180430726480.jpg\" width=\"166\" height=\"108\" alt=\"\" class=\"td_m\">\\n<span class=\"td_bd\"></span>\\n</span>\\n<span class=\"td_tw\">\\n<span class=\"td_t\">커다란 수납공간이 생겼어요, 수납 벤치 만들기</span>\\n</span>\\n</a>\\n<span class=\"td_ow\">\\n<span class=\"td_o\">bugslife0714</span>\\n<span class=\"td_bar\"></span>\\n<span class=\"td_o\">블로그</span>\\n</span>\\n</li><script id=\"p_main_livinghome_00_script\" type=\"text/template\" data-veta-type=\"empty\">\\n(function() {\\n    var isUnderIE9 = AgentDetect.IS_IE && AgentDetect.searchBrowserVersion() < 9.0;\\n\\n    if (isUnderIE9 === true) {\\n        String.prototype.trim = function () {\\n            return this.replace(/^[\\\\s\\\\uFEFF\\\\xA0]+|[\\\\s\\\\uFEFF\\\\xA0]+$/g, \"\");\\n        };\\n    }\\n\\tvar naver_corp_da = window.naver_corp_da || {};\\n\\tvar da_dom_id = \\'p_main_livinghome_00\\'.trim();\\n\\tvar uId = (da_dom_id.length > 0) ? da_dom_id : (typeof nbp_ad !== \\'undefined\\') ? nbp_ad.mobilenetwork.ad_div_id : \\'adw_da\\';\\n\\tvar tarEl = NBP_CORP.$(uId);\\n\\t\\n\\tvar util = naver_corp_da.Util ? new naver_corp_da.Util() : new NBP_CORP.Nimp();\\n\\n\\tif(tarEl) {\\n\\t\\t/* ActiveView */\\n\\t\\tvar ac_end_date = \"20301231235959\";\\n\\t\\tvar ad_end_date = \"20301231235959\";\\n\\n\\t\\tvar scroll_target = (typeof da_scroll_target !== \\'undefined\\') ? da_scroll_target.targetEl : window;\\n\\t\\tvar orientation_change_time = 500;\\n\\n\\t\\tvar callback = function () {\\n\\t\\t\\tvar url = \"https://nv.veta.naver.com/fxview?eu=EU10022502&calp=-&oj=k2vjaOqyvpl01KO5fXkHeb34zW7B0f%2Brh9W6oCPEn06reoiNVlVNTjXttrYFGtN%2B&ac=7560751&src=3184385&evtcd=C1073&x_ti=944&tb=LIVINGHOME_1&oid=&sid1=&sid2=&rk=6e28c0b72ba16a30cbf1bce7e2514da5&eltts=qZ5WYzdnKjzTr7rHNuhYuA%3D%3D&brs=Y&&eid=V900&x_ev=\";\\n\\t\\t\\tvar x_ev = \\'\\';\\n\\t\\t\\ttry {\\n\\t\\t\\t\\tvar target = NBP_CORP.$(uId);\\n\\t\\t\\t\\tx_ev = (target) ? ((parseInt(target.getBoundingClientRect().height || target.offsetHeight, 10) === 0) ? \\'000\\' : \\'111\\') : \\'000\\';\\n\\t\\t\\t} catch(e) {\\n\\t\\t\\t\\tx_ev = \\'000\\';\\n\\t\\t\\t} finally {\\n\\t\\t\\t\\turl += x_ev;\\n\\t\\t\\t\\tutil.log(url);\\n\\t\\t\\t}\\n\\t\\t};\\n\\n\\t\\tvar callbackForInValid = function () {};\\n\\n\\t\\tnaver_corp_da.activeViews[uId] = naver_corp_da.activeViews[uId] || null;\\n\\n\\t\\tif(naver_corp_da.activeViews[uId]) {\\n\\t\\t\\tnaver_corp_da.activeViews[uId].clearActiveView();\\n\\t\\t\\tnaver_corp_da.activeViews[uId] = null;\\n\\t\\t} \\n\\n\\t\\tnaver_corp_da.activeViews[uId] = new naver_corp_da.ActiveView({\\n\\t\\t\\tadDivId : uId,\\n\\t\\t\\tacEndDate : ac_end_date,\\n\\t\\t\\tadEndDate : ad_end_date,\\n\\t\\t\\tscrollTarget : scroll_target,\\n\\t\\t\\tactiveViewTime : 1000,\\n\\t\\t\\tactiveViewPercentage : 0.5,\\n\\t\\t\\torientationChangeTime : orientation_change_time,\\n\\t\\t\\tcallback : callback,\\n\\t\\t\\tcallbackForInValid : callbackForInValid\\n\\t\\t});\\n\\n\\t\\tnaver_corp_da.activeViews[uId].checkActiveView();\\n\\t}\\n})();\\n</script><li class=\"tl_default\"\\ndata-seq=\"289001\"\\ndata-title=\"두 배로 넓어 보이는, 소형 아파트 인테리어\"\\ndata-expsStartYmdt=\"2019-03-28 12:00\"\\ndata-expsEndYmdt=\"2099-12-31 23:59\"\\ndata-fixedSeq=\"0\"\\ndata-fixedExpsStartYmdt=\"\"\\ndata-fixedExpsEndYmdt=\"\">\\n<a href=\"https://post.naver.com/viewer/postView.nhn?volumeNo=18237273&memberNo=22836449\" class=\"td_a\" data-clk=\"tcc_lif.contents\" data-gdid=\"UAT_3931926\">\\n<span class=\"td_mw\">\\n<img src=\"https://s.pstatic.net/static/www/mobile/edit/2019/0327/mobile_18353818478.jpg\" width=\"166\" height=\"108\" alt=\"\" class=\"td_m\">\\n<span class=\"td_bd\"></span>\\n</span>\\n<span class=\"td_tw\">\\n<span class=\"td_t\">두 배로 넓어 보이는, 소형 아파트 인테리어</span>\\n</span>\\n</a>\\n<span class=\"td_ow\">\\n<span class=\"td_o\">호미파이 코리아</span>\\n<span class=\"td_bar\"></span>\\n<span class=\"td_o\">포스트</span>\\n</span>\\n</li>\\n<li class=\"tl_default\"\\ndata-seq=\"289000\"\\ndata-title=\"레일 조명 달기, 셀프인테리어 설치 후기\"\\ndata-expsStartYmdt=\"2019-03-28 10:00\"\\ndata-expsEndYmdt=\"2099-12-31 23:59\"\\ndata-fixedSeq=\"0\"\\ndata-fixedExpsStartYmdt=\"\"\\ndata-fixedExpsEndYmdt=\"\">\\n<a href=\"https://blog.naver.com/you173/221484242584\" class=\"td_a\" data-clk=\"tcc_lif.contents\" data-gdid=\"UAT_3931923\">\\n<span class=\"td_mw\">\\n<img src=\"https://s.pstatic.net/static/www/mobile/edit/2019/0327/mobile_183432139537.jpg\" width=\"166\" height=\"108\" alt=\"\" class=\"td_m\">\\n<span class=\"td_bd\"></span>\\n</span>\\n<span class=\"td_tw\">\\n<span class=\"td_t\">레일 조명 달기, 셀프인테리어 설치 후기</span>\\n</span>\\n</a>\\n<span class=\"td_ow\">\\n<span class=\"td_o\">올갱이국</span>\\n<span class=\"td_bar\"></span>\\n<span class=\"td_o\">블로그</span>\\n</span>\\n</li>\\n<li class=\"tl_default\"\\ndata-seq=\"289074\"\\ndata-title=\"부티크 호텔처럼 공간에 색 입히기 #셀프리모델링\"\\ndata-expsStartYmdt=\"2019-03-28 08:00\"\\ndata-expsEndYmdt=\"2099-12-31 23:59\"\\ndata-fixedSeq=\"0\"\\ndata-fixedExpsStartYmdt=\"\"\\ndata-fixedExpsEndYmdt=\"\">\\n<a href=\"https://blog.naver.com/unilife80/221498142208\" class=\"td_a\" data-clk=\"tcc_lif.contents\" data-gdid=\"UAT_3932307\">\\n<span class=\"td_mw\">\\n<img src=\"https://s.pstatic.net/static/www/mobile/edit/2019/0327/mobile_21093438433.jpg\" width=\"166\" height=\"108\" alt=\"\" class=\"td_m\">\\n<span class=\"td_bd\"></span>\\n</span>\\n<span class=\"td_tw\">\\n<span class=\"td_t\">부티크 호텔처럼 공간에 색 입히기 #셀프리모델링</span>\\n</span>\\n</a>\\n<span class=\"td_ow\">\\n<span class=\"td_o\">unilife80</span>\\n<span class=\"td_bar\"></span>\\n<span class=\"td_o\">블로그</span>\\n</span>\\n</li>\\n<li class=\"tl_default\"\\ndata-seq=\"289073\"\\ndata-title=\"욕실 인테리어 + 이동식 욕조 들이기\"\\ndata-expsStartYmdt=\"2019-03-28 08:00\"\\ndata-expsEndYmdt=\"2099-12-31 23:59\"\\ndata-fixedSeq=\"0\"\\ndata-fixedExpsStartYmdt=\"\"\\ndata-fixedExpsEndYmdt=\"\">\\n<a href=\"https://blog.naver.com/wltjs5625/221498425570\" class=\"td_a\" data-clk=\"tcc_lif.contents\" data-gdid=\"UAT_3932306\">\\n<span class=\"td_mw\">\\n<img src=\"https://s.pstatic.net/static/www/m/guide/dummy_1X1.jpg\" data-src=\"https://s.pstatic.net/static/www/mobile/edit/2019/0327/mobile_210603302305.jpg\" width=\"166\" height=\"108\" alt=\"\" class=\"td_m\">\\n<span class=\"td_bd\"></span>\\n</span>\\n<span class=\"td_tw\">\\n<span class=\"td_t\">욕실 인테리어 + 이동식 욕조 들이기</span>\\n</span>\\n</a>\\n<span class=\"td_ow\">\\n<span class=\"td_o\">복숭아갈비</span>\\n<span class=\"td_bar\"></span>\\n<span class=\"td_o\">블로그</span>\\n</span>\\n</li>\\n<li class=\"tl_default\"\\ndata-seq=\"288999\"\\ndata-title=\"모던한 느낌, 라탄 소품을 믹스한 우리집 인테리어\"\\ndata-expsStartYmdt=\"2019-03-28 08:00\"\\ndata-expsEndYmdt=\"2099-12-31 23:59\"\\ndata-fixedSeq=\"0\"\\ndata-fixedExpsStartYmdt=\"\"\\ndata-fixedExpsEndYmdt=\"\">\\n<a href=\"https://blog.naver.com/vc0921/221494948039\" class=\"td_a\" data-clk=\"tcc_lif.contents\" data-gdid=\"UAT_3931921\">\\n<span class=\"td_mw\">\\n<img src=\"https://s.pstatic.net/static/www/m/guide/dummy_1X1.jpg\" data-src=\"https://s.pstatic.net/static/www/mobile/edit/2019/0327/mobile_183407703995.jpg\" width=\"166\" height=\"108\" alt=\"\" class=\"td_m\">\\n<span class=\"td_bd\"></span>\\n</span>\\n<span class=\"td_tw\">\\n<span class=\"td_t\">모던한 느낌, 라탄 소품을 믹스한 우리집 인테리어</span>\\n</span>\\n</a>\\n<span class=\"td_ow\">\\n<span class=\"td_o\">쏭쏭</span>\\n<span class=\"td_bar\"></span>\\n<span class=\"td_o\">블로그</span>\\n</span>\\n</li>\\n<li class=\"tl_default\"\\ndata-seq=\"287940\"\\ndata-title=\"살림 일기, 단독주택의 손님 \\'봄\\'\"\\ndata-expsStartYmdt=\"2019-03-27 17:00\"\\ndata-expsEndYmdt=\"2099-12-31 23:59\"\\ndata-fixedSeq=\"0\"\\ndata-fixedExpsStartYmdt=\"\"\\ndata-fixedExpsEndYmdt=\"\">\\n<a href=\"https://blog.naver.com/rizziyj/221492009794\" class=\"td_a\" data-clk=\"tcc_lif.contents\" data-gdid=\"UAT_3919018\">\\n<span class=\"td_mw\">\\n<img src=\"https://s.pstatic.net/static/www/m/guide/dummy_1X1.jpg\" data-src=\"https://s.pstatic.net/static/www/mobile/edit/2019/0325/mobile_150735899780.jpg\" width=\"166\" height=\"108\" alt=\"\" class=\"td_m\">\\n<span class=\"td_bd\"></span>\\n</span>\\n<span class=\"td_tw\">\\n<span class=\"td_t\">살림 일기, 단독주택의 손님 \\'봄\\'</span>\\n</span>\\n</a>\\n<span class=\"td_ow\">\\n<span class=\"td_o\">꿈꾸는 리찌</span>\\n<span class=\"td_bar\"></span>\\n<span class=\"td_o\">블로그</span>\\n</span>\\n</li>\\n<li class=\"tl_default\"\\ndata-seq=\"288062\"\\ndata-title=\"양파망 파우치 재활용, 이렇게 다양한지 몰랐어요\"\\ndata-expsStartYmdt=\"2019-03-27 13:00\"\\ndata-expsEndYmdt=\"2099-12-31 23:59\"\\ndata-fixedSeq=\"0\"\\ndata-fixedExpsStartYmdt=\"\"\\ndata-fixedExpsEndYmdt=\"\">\\n<a href=\"https://blog.naver.com/dorehandmade/221488441756\" class=\"td_a\" data-clk=\"tcc_lif.contents\" data-gdid=\"UAT_3920447\">\\n<span class=\"td_mw\">\\n<img src=\"https://s.pstatic.net/static/www/m/guide/dummy_1X1.jpg\" data-src=\"https://s.pstatic.net/static/www/mobile/edit/2019/0325/mobile_165312659149.jpg\" width=\"166\" height=\"108\" alt=\"\" class=\"td_m\">\\n<span class=\"td_bd\"></span>\\n</span>\\n<span class=\"td_tw\">\\n<span class=\"td_t\">양파망 파우치 재활용, 이렇게 다양한지 몰랐어요</span>\\n</span>\\n</a>\\n<span class=\"td_ow\">\\n<span class=\"td_o\">DORE</span>\\n<span class=\"td_bar\"></span>\\n<span class=\"td_o\">블로그</span>\\n</span>\\n</li>\\n<li class=\"tl_btmbanner\" data-seq=\"288582\">\\n<h4 class=\"tb_tit\">리빙TV</h4>\\n<ul class=\"tb_media\">\\n<li class=\"tb_item\">\\n<a href=\"https://tv.naver.com/v/5826476\" class=\"tb_mw\" data-clk=\"tcc_lif.groupbtm\" data-gdid=\"UAT_3926722\">\\n<img src=\"https://s.pstatic.net/static/www/m/guide/dummy_1X1.jpg\" data-src=\"https://s.pstatic.net/static/www/mobile/edit/2019/0326/mobile_18024637751c.jpg\" width=\"115\" height=\"70\" alt=\"월간 정은주 3월호<br>디자이너가 전하는 리빙 이야기\" class=\"tb_m\">\\n<span class=\"tb_bd\"></span>\\n</a>\\n<span class=\"tb_tw\">\\n<a href=\"https://tv.naver.com/v/5826476\" class=\"tb_t\" data-clk=\"tcc_lif.groupbtm\" data-gdid=\"UAT_3926722\">월간 정은주 3월호<br>디자이너가 전하는 리빙 이야기</a>\\n<span class=\"tb_dw\">\\n<span class=\"tb_o\">정은주리빙TV</span>\\n</span>\\n</span>\\n</li>\\n<li class=\"tb_item\">\\n<a href=\"https://tv.naver.com/v/5778377\" class=\"tb_mw\" data-clk=\"tcc_lif.groupbtm\" data-gdid=\"UAT_3926723\">\\n<img src=\"https://s.pstatic.net/static/www/m/guide/dummy_1X1.jpg\" data-src=\"https://s.pstatic.net/static/www/mobile/edit/2019/0328/mobile_11313220341c.jpg\" width=\"115\" height=\"70\" alt=\"자수 기초 교과서 <br>블링블링 스팽글 & 비즈 수 놓기\" class=\"tb_m\">\\n<span class=\"tb_bd\"></span>\\n</a>\\n<span class=\"tb_tw\">\\n<a href=\"https://tv.naver.com/v/5778377\" class=\"tb_t\" data-clk=\"tcc_lif.groupbtm\" data-gdid=\"UAT_3926723\">자수 기초 교과서 <br>블링블링 스팽글 & 비즈 수 놓기</a>\\n<span class=\"tb_dw\">\\n<span class=\"tb_o\">미호출판사</span>\\n</span>\\n</span>\\n</li>\\n</ul>\\n</li>\\n<li class=\"tl_btmbanner\" data-seq=\"288582\">\\n<h4 class=\"tb_tit\"></h4>\\n<ul class=\"tb_media\">\\n<li class=\"tb_item\">\\n<a href=\"https://tv.naver.com/v/5824628\" class=\"tb_mw\" data-clk=\"tcc_lif.groupbtm\" data-gdid=\"UAT_3926724\">\\n<img src=\"https://s.pstatic.net/static/www/m/guide/dummy_1X1.jpg\" data-src=\"https://s.pstatic.net/static/www/mobile/edit/2019/0326/mobile_180306473641c.jpg\" width=\"115\" height=\"70\" alt=\"고급 원목 책상 상판,<br> 가죽으로 감싸기 #가구공예\" class=\"tb_m\">\\n<span class=\"tb_bd\"></span>\\n</a>\\n<span class=\"tb_tw\">\\n<a href=\"https://tv.naver.com/v/5824628\" class=\"tb_t\" data-clk=\"tcc_lif.groupbtm\" data-gdid=\"UAT_3926724\">고급 원목 책상 상판,<br> 가죽으로 감싸기 #가구공예</a>\\n<span class=\"tb_dw\">\\n<span class=\"tb_o\">묠니르 MJOLNIR</span>\\n</span>\\n</span>\\n</li>\\n<li class=\"tb_item\">\\n<a href=\"https://tv.naver.com/v/5716883\" class=\"tb_mw\" data-clk=\"tcc_lif.groupbtm\" data-gdid=\"UAT_3926725\">\\n<img src=\"https://s.pstatic.net/static/www/m/guide/dummy_1X1.jpg\" data-src=\"https://s.pstatic.net/static/www/mobile/edit/2019/0326/mobile_180330636949c.jpg\" width=\"115\" height=\"70\" alt=\"공중에 떠 있는 컵에서, <br>꽃이 쏟아지는 마법\" class=\"tb_m\">\\n<span class=\"tb_bd\"></span>\\n</a>\\n<span class=\"tb_tw\">\\n<a href=\"https://tv.naver.com/v/5716883\" class=\"tb_t\" data-clk=\"tcc_lif.groupbtm\" data-gdid=\"UAT_3926725\">공중에 떠 있는 컵에서, <br>꽃이 쏟아지는 마법</a>\\n<span class=\"tb_dw\">\\n<span class=\"tb_o\">플로리스트 전진영</span>\\n</span>\\n</span>\\n</li>\\n</ul>\\n</li>\\n</ul>\\n</div>\\n\\t\\t\\t\\t</div>\\n\\t\\t\\t</div>\\n\\t\\t</div>\\n\\t</div>\\n\\t<!-- //주제형캐스트 -->\\n\\t<div id=\"shp_cst\" class=\"section_shoppingcast\">\\n\\t\\t<iframe src=\"https://castbox.shopping.naver.com/shopbox/main.nhn?\" id=\"cnsv_shbx\" title=\"쇼핑캐스트\" marginheight=\"0\" marginwidth=\"0\" scrolling=\"no\" frameborder=\"0\" width=\"330\" height=\"882\">쇼핑캐스트 : <a href=\"https://castbox.shopping.naver.com/shopbox/main.nhn?\">https://castbox.shopping.naver.com/shopbox/main.nhn?</a></iframe>\\n\\t</div>\\n</div>\\n\\n<div class=\"column_banner\">\\n\\t<div class=\"section_btmbn\">\\n\\t\\t<ul class=\"btmbanner_list\">\\n\\t\\t\\t\\n<li class=\"bl_item\">\\n<a data-clk=\"mcb.left\" href=\"https://blog.naver.com/smallgiantk/221486184493\" class=\"bl_a\" target=\"_blank\">\\n<div class=\"bl_mw\">\\n<img src=\"https://s.pstatic.net/static/www/mobile/edit/2019/0320/mobile_165349203772.jpg\" width=\"166\" height=\"88\" alt=\"중소기업중앙회 중소기업 인식개선 대한민국 국민 누구나 동영상,수필,포스터 부문\" title=\"중소기업중앙회 중소기업 인식개선 대한민국 국민 누구나 동영상,수필,포스터 부문\" class=\"bl_m\">\\n<span class=\"bl_bd\"></span>\\n</div>\\n<div class=\"bl_tw\">\\n<span class=\"bl_s\">중소기업중앙회</span>\\n<strong class=\"bl_t\">중소기업 인식개선</strong>\\n<span class=\"bl_d\">대한민국 국민 누구나<br/>동영상,수필,포스터 부문</span>\\n</div>\\n</a>\\n</li>\\n\\n\\t\\t\\t\\n<li class=\"bl_item\">\\n<a data-clk=\"mcb.right\" href=\"https://blog.naver.com/edwith/221497079459\" class=\"bl_a\" target=\"_blank\">\\n<div class=\"bl_mw\">\\n<img src=\"https://s.pstatic.net/static/www/mobile/edit/2019/0327/mobile_103232282424.png\" width=\"166\" height=\"88\" alt=\"스타무크X포항공대 미래 의료기술 공개강좌 일반인의 눈높이에 맞춘 3D프린팅&amp;의료빅데이터\" title=\"스타무크X포항공대 미래 의료기술 공개강좌 일반인의 눈높이에 맞춘 3D프린팅&amp;의료빅데이터\" class=\"bl_m\">\\n<span class=\"bl_bd\"></span>\\n</div>\\n<div class=\"bl_tw\">\\n<span class=\"bl_s\">스타무크X포항공대</span>\\n<strong class=\"bl_t\">미래 의료기술 공개강좌</strong>\\n<span class=\"bl_d\">일반인의 눈높이에 맞춘<br/>3D프린팅&amp;의료빅데이터</span>\\n</div>\\n</a>\\n</li>\\n\\n\\t\\t</ul>\\n\\t</div>\\n\\n\\t<div class=\"section_rbn\">\\n\\n\\t\\t<!-- 광고 -->\\n\\t\\t<div id=\"veta_time2\">\\n\\t\\t\\t<iframe id=\"da_iframe_below\" name=\"da_iframe_below\" src=\"https://nv.veta.naver.com/fxshow?su=SU10082&amp;nrefreshx=0\" data-veta-preview=\"main_below\" width=\"332\" height=\"130\" marginheight=\"0\" marginwidth=\"0\" scrolling=\"no\" frameborder=\"0\" align=\"center\" title=\"광고\"></iframe>\\n\\t\\t\\t<div class=\"veta_bdt\"></div><div class=\"veta_bdr\"></div><div class=\"veta_bdb\"></div><div class=\"veta_bdl\"></div>\\n\\t\\t</div>\\n\\t\\t<!-- //광고 -->\\n\\n\\t</div>\\n</div>\\n\\n\\t\\t</div>\\n\\t\\t<div class=\"section_footer\" role=\"contentinfo\">\\n\\t<div class=\"notice\">\\n\\t\\t<div class=\"area_notice\">\\n\\t\\t\\t<h3 class=\"an_tit\"><a href=\"//www.naver.com/NOTICE\" class=\"an_ta\" data-clk=\"ntc.notice\">공지사항</a></h3>\\n\\t\\t\\t<!-- EMPTY -->\\n\\t\\t</div>\\n\\t\\t<div class=\"area_services\">\\n\\t\\t\\t<a href=\"more.html\" class=\"as_a\" data-clk=\"ntc.svcmap\">서비스 전체보기<span class=\"as_ico_all\"></span></a>\\n\\t\\t</div>\\n\\t</div>\\n\\n\\n\\t<div class=\"aside\">\\n\\t\\t<div class=\"area_flower\">\\n\\t\\t\\t<div class=\"af_tw\">\\n\\t\\t\\t\\t<h3 class=\"af_tit\">프로젝트 꽃</h3>\\n\\t\\t\\t\\t<a href=\"https://search.naver.com/search.naver?where=nexearch&sm=top_hty&fbm=1&ie=utf8&query=%ED%94%84%EB%A1%9C%EC%A0%9D%ED%8A%B8%EA%BD%83\" data-clk=\"prj.link\" class=\"af_a\">바로가기</a>\\n\\t\\t\\t</div>\\n\\t\\t\\t<div class=\"af_mw\">\\n\\t\\t\\t\\t<a href=\"https://search.naver.com/search.naver?where=nexearch&sm=top_hty&fbm=1&ie=utf8&query=%ED%94%84%EB%A1%9C%EC%A0%9D%ED%8A%B8%EA%BD%83\" data-clk=\"prj.link\"class=\"af_qr\"><span class=\"blind\">프로젝트 꽃</span></a>\\n\\t\\t\\t</div>\\n\\t\\t</div>\\n\\t\\t<div class=\"area_newmain\">\\n<div class=\"an_tw\">\\n<h3 class=\"an_tit\">새로운<br>네이버모바일</h3>\\n<a href=\"https://alpha.naver.com/experiment/newnaverapp/beta\" data-clk=\"new.main\" class=\"an_a\">다운로드 안내</a>\\n</div>\\n<div class=\"an_mw\">\\n<a href=\"https://alpha.naver.com/experiment/newnaverapp/beta\" data-clk=\"new.main\" class=\"an_qr\"><span class=\"blind\">새로운 네이버 모바일</span></a>\\n</div>\\n</div>\\n\\t\\t<div class=\"area_user\">\\n\\t\\t\\t<div class=\"au_wrap\">\\n\\t\\t\\t\\t<h3 class=\"au_tit\">Creators</h3>\\n\\t\\t\\t\\t<ul class=\"au_l\">\\n\\t\\t\\t\\t\\t<li class=\"au_item\"><a href=\"http://www.navercorp.com/ko/service/creators.nhn\" data-clk=\"crt.creator\" class=\"au_a\">크리에이터</a></li>\\n\\t\\t\\t\\t\\t<li class=\"au_item\"><span class=\"au_bar\"></span><a href=\"http://www.navercorp.com/ko/service/business.nhn\" data-clk=\"crt.smbusiness\" class=\"au_a\">스몰비즈니스</a></li>\\n\\t\\t\\t\\t</ul>\\n\\t\\t\\t</div>\\n\\t\\t\\t<div class=\"au_wrap\">\\n\\t\\t\\t\\t<h3 class=\"au_tit\">Partners</h3>\\n\\t\\t\\t\\t<ul class=\"au_l\">\\n\\t\\t\\t\\t\\t<li class=\"au_item\"><a href=\"http://business.naver.com/service.html\" data-clk=\"ptn.service\" class=\"au_a\">비즈니스 · 광고</a></li>\\n\\t\\t\\t\\t\\t<li class=\"au_item\"><span class=\"au_bar\"></span><a href=\"https://sell.storefarm.naver.com/#/home/about\" data-clk=\"ptn.store\"class=\"au_a\">스토어 개설</a></li>\\n\\t\\t\\t\\t\\t<li class=\"au_item\"><span class=\"au_bar\"></span><a href=\"https://smartplace.naver.com/\" data-clk=\"ptn.place\"class=\"au_a\">지역업체 등록</a></li>\\n\\t\\t\\t\\t</ul>\\n\\t\\t\\t</div>\\n\\t\\t\\t<div class=\"au_wrap\">\\n\\t\\t\\t\\t<h3 class=\"au_tit\">Developers</h3>\\n\\t\\t\\t\\t<ul class=\"au_l\">\\n\\t\\t\\t\\t\\t<li class=\"au_item\"><a href=\"http://developers.naver.com\" data-clk=\"dvl.center\" class=\"au_a au_sa\">네이버 개발자센터</a></li>\\n\\t\\t\\t\\t\\t<li class=\"au_item\"><span class=\"au_bar\"></span><a href=\"https://developers.naver.com/docs/common/openapiguide/#/apilist.md/\" data-clk=\"dvl.openapi\" class=\"au_a\">오픈 API</a></li>\\n\\t\\t\\t\\t\\t<li class=\"au_item\"><span class=\"au_bar\"></span><a href=\"http://naver.github.io/\" data-clk=\"dvl.opensource\" class=\"au_a\">오픈소스</a></li>\\n\\t\\t\\t\\t\\t<li class=\"au_item\"><span class=\"au_bar\"></span><a href=\"http://d2.naver.com/\" data-clk=\"dvl.d2\" class=\"au_a\">네이버 D2</a></li>\\n\\t\\t\\t\\t\\t<li class=\"au_item\"><span class=\"au_bar\"></span><a href=\"http://www.naverlabs.com/\" data-clk=\"dvl.labs\" class=\"au_a\">네이버 랩스</a></li>\\n\\t\\t\\t\\t</ul>\\n\\t\\t\\t</div>\\n\\t\\t</div>\\n\\t</div>\\n\\n\\t<div class=\"footer\">\\n\\t\\t<div class=\"area_terms\">\\n\\t\\t\\t<h3 class=\"blind\">네이버 정책 및 약관</h3>\\n\\t\\t\\t<ul class=\"at_l\">\\n\\t\\t\\t\\t<li class=\"at_item\"><a href=\"http://www.navercorp.com/\" class=\"at_a\" data-clk=\"plc.intronhn\">회사소개</a></li>\\n\\t\\t\\t\\t<li class=\"at_item\"><span class=\"at_bar\"></span><a href=\"http://recruit.navercorp.com/naver/recruitMain\" class=\"at_a\" data-clk=\"plc.recruit\">인재채용</a></li>\\n\\t\\t\\t\\t<li class=\"at_item\"><span class=\"at_bar\"></span><a href=\"https://www.navercorp.com/naver/proposalGuide\" class=\"at_a\" data-clk=\"plc.contact\">제휴제안</a></li>\\n\\t\\t\\t\\t<li class=\"at_item\"><span class=\"at_bar\"></span><a href=\"/policy/service.html\" class=\"at_a\" data-clk=\"plc.service\">이용약관</a></li>\\n\\t\\t\\t\\t<li class=\"at_item\"><span class=\"at_bar\"></span><a href=\"/policy/privacy.html\" class=\"at_a\" data-clk=\"plc.privacy\"><strong class=\"at_st\">개인정보처리방침</strong></a></li>\\n\\t\\t\\t\\t<li class=\"at_item\"><span class=\"at_bar\"></span><a href=\"/policy/youthpolicy.html\" class=\"at_a\" data-clk=\"plc.youth\">청소년보호정책</a></li>\\n\\t\\t\\t\\t<li class=\"at_item\"><span class=\"at_bar\"></span><a href=\"/policy/spamcheck.html\" class=\"at_a\" data-clk=\"plc.policy\">네이버 정책</a></li>\\n\\t\\t\\t\\t<li class=\"at_item\"><span class=\"at_bar\"></span><a href=\"https://help.naver.com/\" class=\"at_a\" data-clk=\"plc.helpcenter\">고객센터</a></li>\\n\\t\\t\\t</ul>\\n\\t\\t\\t<address class=\"at_cr\">ⓒ <a href=\"http://www.navercorp.com/\" target=\"_blank\" class=\"at_ca\" data-clk=\"plc.nhn\">NAVER Corp.</a></address>\\n\\t\\t</div>\\n\\t</div>\\n</div>\\n\\n\\t</div>\\n\\t\\n\\t<script src=\"https://pm.pstatic.net/js/c/jindo_v180212.js\"></script>\\n\\t\\n\\t\\n\\t<script>\\n\\t\\tvar svr = \"<!--cvweb02.ntop-->\";\\n\\t\\tvar svt = \"20190328194745\";\\n\\t\\tvar aPanelListAll;\\n\\t\\t\\n\\t\\tvar nmainJS = [\"https://pm.pstatic.net/js/c/nmain_v190109.js\"];\\n\\t\\t\\n\\t\\tvar sThemecastAdScriptUrl = \\'https://ssl.pstatic.net/tveta/libs/assets/js/pc/main/min/pc.veta.core.min.js?20180330\\';\\n\\t\\tnmainJS.push(sThemecastAdScriptUrl);\\n\\n\\t\\tfunction loadJS() {\\n\\n\\t\\t\\t\\n\\t\\t\\t\\tsetTimeout(function() { lcs_do(refreshLcs()); }, 0);\\n\\t\\t\\t\\n\\n\\t\\t\\tjindo.LazyLoading.load(nmainJS, function(){\\n\\n\\t\\t\\t\\ttry { naver.main.nelo.setEnable(true); } catch(e) { };\\n\\n\\t\\t\\t\\tif ( svr === \"<!--cweb301.ntop-->\" ) {\\n\\t\\t\\t\\t\\tJEagleEyeClient.setEnable(true);\\n\\t\\t\\t\\t}\\n\\n\\t\\t\\t\\tif(typeof initPage != \\'undefined\\') {\\n    \\t\\t\\t\\tinitPage();\\n\\t\\t\\t\\t}\\t\\n\\n\\t\\t\\t\\ttry {\\n\\t\\t\\t\\t\\taPanelListAll = [{\"adMap\":null,\"code\":\"LIVINGHOME\",\"name\":\"리빙\",\"css\":\"livinghome\",\"nclick\":\"lif\",\"openDate\":null},{\"adMap\":null,\"code\":\"LIVING\",\"name\":\"푸드\",\"css\":\"living\",\"nclick\":\"fod\",\"openDate\":null},{\"adMap\":null,\"code\":\"SPORTS\",\"name\":\"스포츠\",\"css\":\"sports\",\"nclick\":\"spo\",\"openDate\":null},{\"adMap\":null,\"code\":\"CARGAME\",\"name\":\"자동차\",\"css\":\"cargame\",\"nclick\":\"aut\",\"openDate\":null},{\"adMap\":null,\"code\":\"BEAUTY\",\"name\":\"패션뷰티\",\"css\":\"beauty\",\"nclick\":\"bty\",\"openDate\":null},{\"adMap\":null,\"code\":\"MOMKIDS\",\"name\":\"부모i\",\"css\":\"momkids\",\"nclick\":\"mom\",\"openDate\":null},{\"adMap\":null,\"code\":\"HEALTH\",\"name\":\"건강\",\"css\":\"health\",\"nclick\":\"hea\",\"openDate\":null},{\"adMap\":null,\"code\":\"BBOOM\",\"name\":\"웹툰\",\"css\":\"bboom\",\"nclick\":\"web\",\"openDate\":null},{\"adMap\":null,\"code\":\"GAMEAPP\",\"name\":\"게임\",\"css\":\"gameapp\",\"nclick\":\"gam\",\"openDate\":null},{\"adMap\":null,\"code\":\"VIDEO\",\"name\":\"TV연예\",\"css\":\"video\",\"nclick\":\"tvc\",\"openDate\":null},{\"adMap\":null,\"code\":\"MUSIC\",\"name\":\"뮤직\",\"css\":\"music\",\"nclick\":\"muc\",\"openDate\":null},{\"adMap\":{\"id\":\"p_main_movie_00\",\"adPath\":\"%2Ffxshow%3Fsu%3DSU10199%26da_dom_id%3Dp_main_movie_00%26tb%3DMOVIE_1\"},\"code\":\"MOVIE\",\"name\":\"영화\",\"css\":\"movie\",\"nclick\":\"mov\",\"openDate\":null},{\"adMap\":null,\"code\":\"CULTURE\",\"name\":\"책문화\",\"css\":\"culture\",\"nclick\":\"bok\",\"openDate\":null},{\"adMap\":null,\"code\":\"WITH\",\"name\":\"함께N\",\"css\":\"with\",\"nclick\":\"pub\",\"openDate\":null},{\"adMap\":{\"id\":\"p_main_travel_00\",\"adPath\":\"%2Ffxshow%3Fsu%3DSU10198%26da_dom_id%3Dp_main_travel_00%26tb%3DTRAVEL_1\"},\"code\":\"TRAVEL\",\"name\":\"여행+\",\"css\":\"travel\",\"nclick\":\"tra\",\"openDate\":null},{\"adMap\":null,\"code\":\"DESIGN\",\"name\":\"디자인\",\"css\":\"design\",\"nclick\":\"des\",\"openDate\":null},{\"adMap\":null,\"code\":\"FINANCE\",\"name\":\"경제M\",\"css\":\"finance\",\"nclick\":\"fin\",\"openDate\":null},{\"adMap\":{\"id\":\"p_main_job_00\",\"adPath\":\"%2Ffxshow%3Fsu%3DSU10200%26da_dom_id%3Dp_main_job_00%26tb%3DJOB_1\"},\"code\":\"JOB\",\"name\":\"JOB&\",\"css\":\"job\",\"nclick\":\"job\",\"openDate\":null},{\"adMap\":null,\"code\":\"SCIENCE\",\"name\":\"과학\",\"css\":\"science\",\"nclick\":\"sci\",\"openDate\":null},{\"adMap\":null,\"code\":\"CHINA\",\"name\":\"중국\",\"css\":\"china\",\"nclick\":\"chn\",\"openDate\":null},{\"adMap\":{\"id\":\"p_main_business_00\",\"adPath\":\"%2Ffxshow%3Fsu%3DSU10204%26da_dom_id%3Dp_main_business_00%26tb%3DBUSINESS_1\"},\"code\":\"BUSINESS\",\"name\":\"비즈니스\",\"css\":\"business\",\"nclick\":\"bsn\",\"openDate\":null},{\"adMap\":null,\"code\":\"FARM\",\"name\":\"FARM\",\"css\":\"farm\",\"nclick\":\"far\",\"openDate\":null},{\"adMap\":{\"id\":\"p_main_school_01\",\"adPath\":\"%2Ffxshow%3Fsu%3DSU10210%26da_dom_id%3Dp_main_school_01%26tb%3DSCHOOL_1\"},\"code\":\"SCHOOL\",\"name\":\"스쿨잼\",\"css\":\"school\",\"nclick\":\"scl\",\"openDate\":null},{\"adMap\":null,\"code\":\"SHOW\",\"name\":\"공연전시\",\"css\":\"show\",\"nclick\":\"sow\",\"openDate\":\"20170622\"},{\"adMap\":null,\"code\":\"LAW\",\"name\":\"법률\",\"css\":\"law\",\"nclick\":\"law\",\"openDate\":\"20170803\"},{\"adMap\":null,\"code\":\"ANIMAL\",\"name\":\"동물공감\",\"css\":\"animal\",\"nclick\":\"ani\",\"openDate\":\"20170824\"},{\"adMap\":null,\"code\":\"WEDDING\",\"name\":\"연애·결혼\",\"css\":\"wedding\",\"nclick\":\"wed\",\"openDate\":\"20170831\"},{\"adMap\":null,\"code\":\"ITTECH\",\"name\":\"테크\",\"css\":\"ittech\",\"nclick\":\"tec\",\"openDate\":\"20170921\"},{\"adMap\":null,\"code\":\"EMOTION\",\"name\":\"감성충전\",\"css\":\"emotion\",\"nclick\":\"emo\",\"openDate\":\"20180322\"}]; \\n\\t\\t\\t\\t} catch(e) {\\n\\t\\t\\t\\t\\tJEagleEyeClient.sendError(\"invalid panel.json\");\\n\\t\\t\\t\\t}\\n\\t\\t\\t\\tnaver.main.PageRefresh.init();\\n\\n\\t\\t\\t\\tnaver.main.Panel.init(aPanelListAll);\\n\\n\\t\\t\\t\\tnaver.main.Log.init();\\n\\n\\t\\t\\t\\tnaver.main.ServiceNavi.init();\\n\\t\\t\\t\\tnaver.main.ThemecastNavi.init({\\n\\t\\t\\t\\t\\tbFlick: false,\\n\\t\\t\\t\\t\\tsAdList: \\'{\"header\":{\"msg\":\"success\",\"code\":0},\"body\":{\"adScriptList\":[{\"adScriptPCMain1\":{\"http\":\"https://ssl.pstatic.net/tveta/libs/assets/js/pc/main/min/pc.veta.core.min.js?20180330\",\"https\":\"https://ssl.pstatic.net/tveta/libs/assets/js/pc/main/min/pc.veta.core.min.js?20180330\"}}],\"adList\":[{\"menu\":\"ANIMAL\",\"childMenu\":\"\",\"adType\":\"singleDom\",\"multiDomAdUrl\":\"\",\"multiDomUnit\":\"\",\"infoList\":[{\"adposId\":\"1000124\",\"singleDomAdUrl\":\"https://nv.veta.naver.com/fxshow\",\"param\":{\"da_dom_id\":\"p_main_animal_00\",\"tb\":\"ANIMAL_1\",\"unit\":\"SU10261\",\"calp\":\"-\"},\"type\":{\"position\":\"rel\",\"positionIndex\":0,\"subject\":\"contents\"},\"dom\":null}]},{\"menu\":\"BEAUTY\",\"childMenu\":\"\",\"adType\":\"singleDom\",\"multiDomAdUrl\":\"\",\"multiDomUnit\":\"\",\"infoList\":[{\"adposId\":\"1000106\",\"singleDomAdUrl\":\"http://nv.veta.naver.com/fxshow\",\"param\":{\"da_dom_id\":\"p_main_beauty_00\",\"tb\":\"BEAUTY_1\",\"unit\":\"SU10249\",\"calp\":\"-\"},\"type\":{\"position\":\"rel\",\"positionIndex\":0,\"subject\":\"contents\"},\"dom\":null}]},{\"menu\":\"BUSINESS\",\"childMenu\":\"\",\"adType\":\"singleDom\",\"multiDomAdUrl\":\"\",\"multiDomUnit\":\"\",\"infoList\":[{\"adposId\":\"1000084\",\"singleDomAdUrl\":\"http://nv.veta.naver.com/fxshow\",\"param\":{\"da_dom_id\":\"p_main_business_00\",\"tb\":\"BUSINESS_1\",\"unit\":\"SU10204\",\"calp\":\"-\"},\"type\":{\"position\":\"rel\",\"positionIndex\":0,\"subject\":\"contents\"},\"dom\":null}]},{\"menu\":\"CARGAME\",\"childMenu\":\"\",\"adType\":\"singleDom\",\"multiDomAdUrl\":\"\",\"multiDomUnit\":\"\",\"infoList\":[{\"adposId\":\"1000102\",\"singleDomAdUrl\":\"http://nv.veta.naver.com/fxshow\",\"param\":{\"da_dom_id\":\"p_main_cargame_00\",\"tb\":\"CARGAME_1\",\"unit\":\"SU10253\",\"calp\":\"-\"},\"type\":{\"position\":\"rel\",\"positionIndex\":0,\"subject\":\"contents\"},\"dom\":null}]},{\"menu\":\"CHINA\",\"childMenu\":\"\",\"adType\":\"singleDom\",\"multiDomAdUrl\":\"\",\"multiDomUnit\":\"\",\"infoList\":[{\"adposId\":\"1000107\",\"singleDomAdUrl\":\"http://nv.veta.naver.com/fxshow\",\"param\":{\"da_dom_id\":\"p_main_china_00\",\"tb\":\"CHINA_1\",\"unit\":\"SU10206\",\"calp\":\"-\"},\"type\":{\"position\":\"rel\",\"positionIndex\":0,\"subject\":\"contents\"},\"dom\":null}]},{\"menu\":\"DESIGN\",\"childMenu\":\"\",\"adType\":\"singleDom\",\"multiDomAdUrl\":\"\",\"multiDomUnit\":\"\",\"infoList\":[{\"adposId\":\"1000090\",\"singleDomAdUrl\":\"http://nv.veta.naver.com/fxshow\",\"param\":{\"da_dom_id\":\"p_main_design_00\",\"tb\":\"DESIGN_1\",\"unit\":\"SU10205\",\"calp\":\"-\"},\"type\":{\"position\":\"rel\",\"positionIndex\":0,\"subject\":\"contents\"},\"dom\":null}]},{\"menu\":\"FARM\",\"childMenu\":\"\",\"adType\":\"singleDom\",\"multiDomAdUrl\":\"\",\"multiDomUnit\":\"\",\"infoList\":[{\"adposId\":\"1000101\",\"singleDomAdUrl\":\"http://nv.veta.naver.com/fxshow\",\"param\":{\"da_dom_id\":\"p_main_farm_00\",\"tb\":\"FARM_1\",\"unit\":\"SU10207\",\"calp\":\"-\"},\"type\":{\"position\":\"rel\",\"positionIndex\":0,\"subject\":\"contents\"},\"dom\":null}]},{\"menu\":\"FINANCE\",\"childMenu\":\"\",\"adType\":\"singleDom\",\"multiDomAdUrl\":\"\",\"multiDomUnit\":\"\",\"infoList\":[{\"adposId\":\"1000105\",\"singleDomAdUrl\":\"http://nv.veta.naver.com/fxshow\",\"param\":{\"da_dom_id\":\"p_main_finance_00\",\"tb\":\"FINANCE_1\",\"unit\":\"SU10250\",\"calp\":\"-\"},\"type\":{\"position\":\"rel\",\"positionIndex\":0,\"subject\":\"contents\"},\"dom\":null}]},{\"menu\":\"ITTECH\",\"childMenu\":\"\",\"adType\":\"singleDom\",\"multiDomAdUrl\":\"\",\"multiDomUnit\":\"\",\"infoList\":[{\"adposId\":\"1000113\",\"singleDomAdUrl\":\"https://nv.veta.naver.com/fxshow\",\"param\":{\"da_dom_id\":\"p_main_ittech_00\",\"tb\":\"ITTECH_1\",\"unit\":\"SU10260\",\"calp\":\"-\"},\"type\":{\"position\":\"rel\",\"positionIndex\":0,\"subject\":\"contents\"},\"dom\":null}]},{\"menu\":\"JOB\",\"childMenu\":\"\",\"adType\":\"singleDom\",\"multiDomAdUrl\":\"\",\"multiDomUnit\":\"\",\"infoList\":[{\"adposId\":\"1000088\",\"singleDomAdUrl\":\"http://nv.veta.naver.com/fxshow\",\"param\":{\"da_dom_id\":\"p_main_job_00\",\"tb\":\"JOB_1\",\"unit\":\"SU10200\",\"calp\":\"-\"},\"type\":{\"position\":\"rel\",\"positionIndex\":0,\"subject\":\"contents\"},\"dom\":null}]},{\"menu\":\"LAW\",\"childMenu\":\"\",\"adType\":\"singleDom\",\"multiDomAdUrl\":\"\",\"multiDomUnit\":\"\",\"infoList\":[{\"adposId\":\"1000100\",\"singleDomAdUrl\":\"http://nv.veta.naver.com/fxshow\",\"param\":{\"da_dom_id\":\"p_main_law_00\",\"tb\":\"LAW_1\",\"unit\":\"SU10255\",\"calp\":\"-\"},\"type\":{\"position\":\"rel\",\"positionIndex\":0,\"subject\":\"contents\"},\"dom\":null}]},{\"menu\":\"LIVING\",\"childMenu\":\"\",\"adType\":\"singleDom\",\"multiDomAdUrl\":\"\",\"multiDomUnit\":\"\",\"infoList\":[{\"adposId\":\"1000104\",\"singleDomAdUrl\":\"http://nv.veta.naver.com/fxshow\",\"param\":{\"da_dom_id\":\"p_main_living_00\",\"tb\":\"LIVING_1\",\"unit\":\"SU10251\",\"calp\":\"-\"},\"type\":{\"position\":\"rel\",\"positionIndex\":0,\"subject\":\"contents\"},\"dom\":null}]},{\"menu\":\"LIVINGHOME\",\"childMenu\":\"\",\"adType\":\"singleDom\",\"multiDomAdUrl\":\"\",\"multiDomUnit\":\"\",\"infoList\":[{\"adposId\":\"1000103\",\"singleDomAdUrl\":\"http://nv.veta.naver.com/fxshow\",\"param\":{\"da_dom_id\":\"p_main_livinghome_00\",\"tb\":\"LIVINGHOME_1\",\"unit\":\"SU10252\",\"calp\":\"-\"},\"type\":{\"position\":\"rel\",\"positionIndex\":0,\"subject\":\"contents\"},\"dom\":null}]},{\"menu\":\"MOMKIDS\",\"childMenu\":\"\",\"adType\":\"singleDom\",\"multiDomAdUrl\":\"\",\"multiDomUnit\":\"\",\"infoList\":[{\"adposId\":\"1000089\",\"singleDomAdUrl\":\"http://nv.veta.naver.com/fxshow\",\"param\":{\"da_dom_id\":\"p_main_momkids_00\",\"tb\":\"MOMKIDS_1\",\"unit\":\"SU10226\",\"calp\":\"-\"},\"type\":{\"position\":\"rel\",\"positionIndex\":0,\"subject\":\"contents\"},\"dom\":null}]},{\"menu\":\"MOVIE\",\"childMenu\":\"\",\"adType\":\"singleDom\",\"multiDomAdUrl\":\"\",\"multiDomUnit\":\"\",\"infoList\":[{\"adposId\":\"1000087\",\"singleDomAdUrl\":\"http://nv.veta.naver.com/fxshow\",\"param\":{\"da_dom_id\":\"p_main_movie_00\",\"tb\":\"MOVIE_1\",\"unit\":\"SU10199\",\"calp\":\"-\"},\"type\":{\"position\":\"rel\",\"positionIndex\":0,\"subject\":\"contents\"},\"dom\":null}]},{\"menu\":\"SCHOOL\",\"childMenu\":\"\",\"adType\":\"singleDom\",\"multiDomAdUrl\":\"\",\"multiDomUnit\":\"\",\"infoList\":[{\"adposId\":\"1000085\",\"singleDomAdUrl\":\"http://nv.veta.naver.com/fxshow\",\"param\":{\"da_dom_id\":\"p_main_school_01\",\"tb\":\"SCHOOL_1\",\"unit\":\"SU10210\",\"calp\":\"-\"},\"type\":{\"position\":\"rel\",\"positionIndex\":0,\"subject\":\"contents\"},\"dom\":null}]},{\"menu\":\"SHOW\",\"childMenu\":\"\",\"adType\":\"singleDom\",\"multiDomAdUrl\":\"\",\"multiDomUnit\":\"\",\"infoList\":[{\"adposId\":\"1000112\",\"singleDomAdUrl\":\"https://nv.veta.naver.com/fxshow\",\"param\":{\"da_dom_id\":\"p_main_show_00\",\"tb\":\"SHOW_1\",\"unit\":\"SU10262\",\"calp\":\"-\"},\"type\":{\"position\":\"rel\",\"positionIndex\":0,\"subject\":\"contents\"},\"dom\":null}]},{\"menu\":\"TRAVEL\",\"childMenu\":\"\",\"adType\":\"singleDom\",\"multiDomAdUrl\":\"\",\"multiDomUnit\":\"\",\"infoList\":[{\"adposId\":\"1000086\",\"singleDomAdUrl\":\"http://nv.veta.naver.com/fxshow\",\"param\":{\"da_dom_id\":\"p_main_travel_00\",\"tb\":\"TRAVEL_1\",\"unit\":\"SU10198\",\"calp\":\"-\"},\"type\":{\"position\":\"rel\",\"positionIndex\":0,\"subject\":\"contents\"},\"dom\":null}]},{\"menu\":\"WEDDING\",\"childMenu\":\"\",\"adType\":\"singleDom\",\"multiDomAdUrl\":\"\",\"multiDomUnit\":\"\",\"infoList\":[{\"adposId\":\"1000128\",\"singleDomAdUrl\":\"https://nv.veta.naver.com/fxshow\",\"param\":{\"da_dom_id\":\"p_main_wedding_00\",\"tb\":\"WEDDING_1\",\"unit\":\"SU10263\",\"calp\":\"-\"},\"type\":{\"position\":\"rel\",\"positionIndex\":0,\"subject\":\"contents\"},\"dom\":null}]}]}}\\'\\n\\t\\t\\t\\t});\\n\\t\\t\\t\\tnaver.main.CenterBanner.init();\\n\\t\\t\\t\\tnewSmartSearch();\\n\\t\\n\\t\\t\\t\\tnew naver.main.Newsstand({\\n\\t\\t\\t\\t\\trcode : \"(none)\",\\n        \\t\\t    newspaperURL : \"newspaper.naver.com\",\\n            \\t\\tnewsStandURL : \"newsstand.naver.com\",\\n\\t\\t            userInfoURL : \"userinfo.www.naver.com\",\\n    \\t\\t        newsCastInfo : \"\",\\n        \\t\\t    newsStandInfo : \"\",\\n            \\t\\theadlineList : {\"pid\" : [\"002\",\"003\",\"005\",\"006\",\"008\",\"009\",\"011\",\"013\",\"014\",\"015\",\"016\",\"018\",\"020\",\"021\",\"022\",\"023\",\"024\",\"025\",\"028\",\"029\",\"030\",\"031\",\"032\",\"038\",\"042\",\"044\",\"047\",\"050\",\"052\",\"055\",\"056\",\"057\",\"073\",\"075\",\"076\",\"079\",\"081\",\"082\",\"083\",\"087\",\"088\",\"089\",\"092\",\"108\",\"109\",\"117\",\"120\",\"122\",\"123\",\"135\",\"138\",\"139\",\"140\",\"143\",\"144\",\"213\",\"214\",\"215\",\"241\",\"243\",\"277\",\"293\",\"296\",\"301\",\"308\",\"310\",\"311\",\"312\",\"314\",\"326\",\"327\",\"328\",\"329\",\"330\",\"331\",\"332\",\"333\",\"334\",\"335\",\"336\",\"337\",\"338\",\"339\",\"340\",\"344\",\"345\",\"346\",\"353\",\"354\",\"355\",\"356\",\"361\",\"362\",\"363\",\"364\",\"366\",\"368\",\"374\",\"376\",\"384\",\"385\",\"387\",\"388\",\"389\",\"390\",\"391\",\"396\",\"404\",\"410\",\"416\",\"417\",\"421\",\"422\",\"440\",\"447\",\"477\",\"529\",\"536\",\"539\",\"801\",\"802\",\"803\",\"804\",\"806\",\"807\",\"808\",\"809\",\"810\",\"901\",\"902\",\"903\",\"904\",\"905\",\"906\",\"907\",\"908\",\"909\",\"910\",\"911\",\"912\",\"913\",\"914\",\"915\",\"916\",\"917\",\"920\",\"921\",\"922\",\"923\",\"924\",\"925\",\"926\",\"927\",\"928\",\"930\",\"932\",\"933\",\"934\",\"935\",\"936\",\"937\",\"938\",\"939\",\"940\",\"941\",\"942\",\"943\",\"944\",\"945\",\"946\",\"947\",\"948\",\"949\",\"950\",\"951\",\"952\",\"953\",\"954\",\"955\",\"956\",\"957\",\"958\",\"959\",\"960\",\"961\",\"962\",\"963\",\"964\",\"965\",\"966\",\"967\",\"968\",\"969\",\"970\",\"971\",\"972\",\"973\",\"974\",\"975\",\"976\",\"977\",\"978\",\"979\",\"980\",\"981\",\"982\",\"983\",\"984\",\"986\",\"987\",\"988\",\"989\",\"990\",\"991\",\"993\"], \"amigo\" : [], \"invalid\" : []},\\n\\t\\t\\t\\t\\tpressCategory : {\"ct1\":[{\"pid\":\"032\",\"name\":\"경향신문\",\"img\":\"https://s.pstatic.net/static/newsstand/up/2017/0424/nsd14372435.png\",\"cate\":\"ct2\",\"amigo\":\"N\",\"viewer\":\"Y\",\"today\":\"N\",\"local\":null},{\"pid\":\"005\",\"name\":\"국민일보\",\"img\":\"https://s.pstatic.net/static/newsstand/up/2017/0424/nsd1438916.png\",\"cate\":\"ct2\",\"amigo\":\"N\",\"viewer\":\"Y\",\"today\":\"N\",\"local\":null},{\"pid\":\"079\",\"name\":\"노컷뉴스\",\"img\":\"https://s.pstatic.net/static/newsstand/up/2017/0424/nsd143958887.png\",\"cate\":\"ct2\",\"amigo\":\"N\",\"viewer\":\"Y\",\"today\":\"N\",\"local\":null},{\"pid\":\"327\",\"name\":\"뉴데일리\",\"img\":\"https://s.pstatic.net/static/newsstand/up/2017/0424/nsd144037935.png\",\"cate\":\"ct2\",\"amigo\":\"N\",\"viewer\":\"Y\",\"today\":\"N\",\"local\":null},{\"pid\":\"930\",\"name\":\"뉴스타파\",\"img\":\"https://s.pstatic.net/static/newsstand/up/2017/0424/nsd144152433.png\",\"cate\":\"ct2\",\"amigo\":\"N\",\"viewer\":\"Y\",\"today\":\"N\",\"local\":null},{\"pid\":\"003\",\"name\":\"뉴시스\",\"img\":\"https://s.pstatic.net/static/newsstand/up/2017/0424/nsd14449981.png\",\"cate\":\"ct3\",\"amigo\":\"N\",\"viewer\":\"Y\",\"today\":\"N\",\"local\":null},{\"pid\":\"368\",\"name\":\"데일리안\",\"img\":\"https://s.pstatic.net/static/newsstand/up/2017/0424/nsd14463367.png\",\"cate\":\"ct2\",\"amigo\":\"N\",\"viewer\":\"Y\",\"today\":\"N\",\"local\":null},{\"pid\":\"020\",\"name\":\"동아일보\",\"img\":\"https://s.pstatic.net/static/newsstand/up/2017/0424/nsd14479875.png\",\"cate\":\"ct2\",\"amigo\":\"N\",\"viewer\":\"Y\",\"today\":\"N\",\"local\":null},{\"pid\":\"029\",\"name\":\"디지털타임스\",\"img\":\"https://s.pstatic.net/static/newsstand/up/2018/0719/nsd162516824.png\",\"cate\":\"ct4\",\"amigo\":\"N\",\"viewer\":\"Y\",\"today\":\"N\",\"local\":null},{\"pid\":\"117\",\"name\":\"마이데일리\",\"img\":\"https://s.pstatic.net/static/newsstand/up/2017/0424/nsd144944309.png\",\"cate\":\"ct6\",\"amigo\":\"N\",\"viewer\":\"Y\",\"today\":\"N\",\"local\":null},{\"pid\":\"009\",\"name\":\"매일경제\",\"img\":\"https://s.pstatic.net/static/newsstand/up/2017/0424/nsd145032565.png\",\"cate\":\"ct2\",\"amigo\":\"N\",\"viewer\":\"Y\",\"today\":\"N\",\"local\":null},{\"pid\":\"008\",\"name\":\"머니투데이\",\"img\":\"https://s.pstatic.net/static/newsstand/up/2017/0424/nsd145214517.png\",\"cate\":\"ct2\",\"amigo\":\"N\",\"viewer\":\"Y\",\"today\":\"N\",\"local\":null},{\"pid\":\"021\",\"name\":\"문화일보\",\"img\":\"https://s.pstatic.net/static/newsstand/up/2017/0424/nsd19245981.png\",\"cate\":\"ct2\",\"amigo\":\"N\",\"viewer\":\"Y\",\"today\":\"N\",\"local\":null},{\"pid\":\"006\",\"name\":\"미디어오늘\",\"img\":\"https://s.pstatic.net/static/newsstand/up/2017/0424/nsd145346617.png\",\"cate\":\"ct2\",\"amigo\":\"N\",\"viewer\":\"Y\",\"today\":\"N\",\"local\":null},{\"pid\":\"293\",\"name\":\"블로터\",\"img\":\"https://s.pstatic.net/static/newsstand/up/2018/0316/nsd175350622.png\",\"cate\":\"ct4\",\"amigo\":\"N\",\"viewer\":\"Y\",\"today\":\"N\",\"local\":null},{\"pid\":\"011\",\"name\":\"서울경제\",\"img\":\"https://s.pstatic.net/static/newsstand/up/2017/0424/nsd145718601.png\",\"cate\":\"ct2\",\"amigo\":\"N\",\"viewer\":\"Y\",\"today\":\"N\",\"local\":null},{\"pid\":\"081\",\"name\":\"서울신문\",\"img\":\"https://s.pstatic.net/static/newsstand/up/2017/0424/nsd145738195.png\",\"cate\":\"ct2\",\"amigo\":\"N\",\"viewer\":\"Y\",\"today\":\"N\",\"local\":null},{\"pid\":\"022\",\"name\":\"세계일보\",\"img\":\"https://s.pstatic.net/static/newsstand/up/2017/0424/nsd145813557.png\",\"cate\":\"ct2\",\"amigo\":\"N\",\"viewer\":\"Y\",\"today\":\"N\",\"local\":null},{\"pid\":\"314\",\"name\":\"스포츠동아\",\"img\":\"https://s.pstatic.net/static/newsstand/up/2017/0424/nsd145951763.png\",\"cate\":\"ct6\",\"amigo\":\"N\",\"viewer\":\"Y\",\"today\":\"N\",\"local\":null},{\"pid\":\"073\",\"name\":\"스포츠서울\",\"img\":\"https://s.pstatic.net/static/newsstand/up/2017/0424/nsd15042554.png\",\"cate\":\"ct6\",\"amigo\":\"N\",\"viewer\":\"Y\",\"today\":\"N\",\"local\":null},{\"pid\":\"076\",\"name\":\"스포츠조선\",\"img\":\"https://s.pstatic.net/static/newsstand/up/2017/0424/nsd183553864.png\",\"cate\":\"ct6\",\"amigo\":\"N\",\"viewer\":\"Y\",\"today\":\"N\",\"local\":null},{\"pid\":\"139\",\"name\":\"스포탈코리아\",\"img\":\"https://s.pstatic.net/static/newsstand/up/2017/0424/nsd151840663.png\",\"cate\":\"ct6\",\"amigo\":\"N\",\"viewer\":\"Y\",\"today\":\"N\",\"local\":null},{\"pid\":\"308\",\"name\":\"시사인\",\"img\":\"https://s.pstatic.net/static/newsstand/up/2017/0424/nsd151929775.png\",\"cate\":\"ct7\",\"amigo\":\"N\",\"viewer\":\"Y\",\"today\":\"N\",\"local\":null},{\"pid\":\"277\",\"name\":\"아시아경제\",\"img\":\"https://s.pstatic.net/static/newsstand/up/2017/0424/nsd153432228.png\",\"cate\":\"ct2\",\"amigo\":\"N\",\"viewer\":\"Y\",\"today\":\"N\",\"local\":null},{\"pid\":\"031\",\"name\":\"아이뉴스24\",\"img\":\"https://s.pstatic.net/static/newsstand/up/2017/0424/nsd153955864.png\",\"cate\":\"ct2\",\"amigo\":\"N\",\"viewer\":\"Y\",\"today\":\"N\",\"local\":null},{\"pid\":\"422\",\"name\":\"연합뉴스TV\",\"img\":\"https://s.pstatic.net/static/newsstand/up/2017/0424/nsd154219877.png\",\"cate\":\"ct3\",\"amigo\":\"N\",\"viewer\":\"Y\",\"today\":\"N\",\"local\":null},{\"pid\":\"047\",\"name\":\"오마이뉴스\",\"img\":\"https://s.pstatic.net/static/newsstand/up/2017/0424/nsd154314463.png\",\"cate\":\"ct2\",\"amigo\":\"N\",\"viewer\":\"Y\",\"today\":\"N\",\"local\":null},{\"pid\":\"018\",\"name\":\"이데일리\",\"img\":\"https://s.pstatic.net/static/newsstand/up/2017/0424/nsd154426359.png\",\"cate\":\"ct2\",\"amigo\":\"N\",\"viewer\":\"Y\",\"today\":\"N\",\"local\":null},{\"pid\":\"241\",\"name\":\"일간스포츠\",\"img\":\"https://s.pstatic.net/static/newsstand/up/2017/0424/nsd154619739.png\",\"cate\":\"ct6\",\"amigo\":\"N\",\"viewer\":\"Y\",\"today\":\"N\",\"local\":null},{\"pid\":\"030\",\"name\":\"전자신문\",\"img\":\"https://s.pstatic.net/static/newsstand/up/2017/0424/nsd162528724.png\",\"cate\":\"ct4\",\"amigo\":\"N\",\"viewer\":\"Y\",\"today\":\"N\",\"local\":null},{\"pid\":\"366\",\"name\":\"조선비즈\",\"img\":\"https://s.pstatic.net/static/newsstand/up/2017/0424/nsd162659528.png\",\"cate\":\"ct2\",\"amigo\":\"N\",\"viewer\":\"Y\",\"today\":\"N\",\"local\":null},{\"pid\":\"023\",\"name\":\"조선일보\",\"img\":\"https://s.pstatic.net/static/newsstand/up/2017/0424/nsd162718792.png\",\"cate\":\"ct2\",\"amigo\":\"N\",\"viewer\":\"Y\",\"today\":\"N\",\"local\":null},{\"pid\":\"330\",\"name\":\"중앙데일리\",\"img\":\"https://s.pstatic.net/static/newsstand/up/2018/0626/nsd103519292.png\",\"cate\":\"ct5\",\"amigo\":\"N\",\"viewer\":\"Y\",\"today\":\"N\",\"local\":null},{\"pid\":\"025\",\"name\":\"중앙일보\",\"img\":\"https://s.pstatic.net/static/newsstand/up/2018/0807/nsd1484475.png\",\"cate\":\"ct2\",\"amigo\":\"N\",\"viewer\":\"Y\",\"today\":\"N\",\"local\":null},{\"pid\":\"092\",\"name\":\"지디넷코리아\",\"img\":\"https://s.pstatic.net/static/newsstand/up/2017/0424/nsd16425834.png\",\"cate\":\"ct4\",\"amigo\":\"N\",\"viewer\":\"Y\",\"today\":\"N\",\"local\":null},{\"pid\":\"376\",\"name\":\"지지통신\",\"img\":\"https://s.pstatic.net/static/newsstand/up/2017/0424/nsd16432873.png\",\"cate\":\"ct3\",\"amigo\":\"N\",\"viewer\":\"Y\",\"today\":\"N\",\"local\":null},{\"pid\":\"044\",\"name\":\"코리아헤럴드\",\"img\":\"https://s.pstatic.net/static/newsstand/up/2017/0424/nsd17341942.png\",\"cate\":\"ct5\",\"amigo\":\"N\",\"viewer\":\"Y\",\"today\":\"N\",\"local\":null},{\"pid\":\"014\",\"name\":\"파이낸셜뉴스\",\"img\":\"https://s.pstatic.net/static/newsstand/up/2017/0424/nsd172557496.png\",\"cate\":\"ct2\",\"amigo\":\"N\",\"viewer\":\"Y\",\"today\":\"N\",\"local\":null},{\"pid\":\"002\",\"name\":\"프레시안\",\"img\":\"https://s.pstatic.net/static/newsstand/up/2017/0424/nsd172615885.png\",\"cate\":\"ct2\",\"amigo\":\"N\",\"viewer\":\"Y\",\"today\":\"N\",\"local\":null},{\"pid\":\"028\",\"name\":\"한겨레\",\"img\":\"https://s.pstatic.net/static/newsstand/up/2017/0424/nsd17263596.png\",\"cate\":\"ct2\",\"amigo\":\"N\",\"viewer\":\"Y\",\"today\":\"N\",\"local\":null},{\"pid\":\"015\",\"name\":\"한국경제\",\"img\":\"https://s.pstatic.net/static/newsstand/up/2017/0424/nsd172736175.png\",\"cate\":\"ct2\",\"amigo\":\"N\",\"viewer\":\"Y\",\"today\":\"N\",\"local\":null},{\"pid\":\"215\",\"name\":\"한국경제TV\",\"img\":\"https://s.pstatic.net/static/newsstand/up/2017/0424/nsd172755139.png\",\"cate\":\"ct3\",\"amigo\":\"N\",\"viewer\":\"Y\",\"today\":\"N\",\"local\":null},{\"pid\":\"038\",\"name\":\"한국일보\",\"img\":\"https://s.pstatic.net/static/newsstand/up/2017/0424/nsd172837200.png\",\"cate\":\"ct2\",\"amigo\":\"N\",\"viewer\":\"Y\",\"today\":\"N\",\"local\":null},{\"pid\":\"016\",\"name\":\"헤럴드경제\",\"img\":\"https://s.pstatic.net/static/newsstand/up/2017/0424/nsd172855569.png\",\"cate\":\"ct2\",\"amigo\":\"N\",\"viewer\":\"Y\",\"today\":\"N\",\"local\":null},{\"pid\":\"904\",\"name\":\"JTBC\",\"img\":\"https://s.pstatic.net/static/newsstand/up/2017/0424/nsd173111263.png\",\"cate\":\"ct3\",\"amigo\":\"N\",\"viewer\":\"Y\",\"today\":\"N\",\"local\":null},{\"pid\":\"056\",\"name\":\"KBS\",\"img\":\"https://s.pstatic.net/static/newsstand/up/2017/0424/nsd173124306.png\",\"cate\":\"ct3\",\"amigo\":\"N\",\"viewer\":\"Y\",\"today\":\"N\",\"local\":null},{\"pid\":\"326\",\"name\":\"KBS World\",\"img\":\"https://s.pstatic.net/static/newsstand/up/2017/0424/nsd173138949.png\",\"cate\":\"ct5\",\"amigo\":\"N\",\"viewer\":\"Y\",\"today\":\"N\",\"local\":null},{\"pid\":\"214\",\"name\":\"MBC\",\"img\":\"https://s.pstatic.net/static/newsstand/up/2017/0424/nsd17324940.png\",\"cate\":\"ct3\",\"amigo\":\"N\",\"viewer\":\"Y\",\"today\":\"N\",\"local\":null},{\"pid\":\"057\",\"name\":\"MBN\",\"img\":\"https://s.pstatic.net/static/newsstand/up/2017/0424/nsd173223533.png\",\"cate\":\"ct3\",\"amigo\":\"N\",\"viewer\":\"Y\",\"today\":\"N\",\"local\":null},{\"pid\":\"109\",\"name\":\"OSEN\",\"img\":\"https://s.pstatic.net/static/newsstand/up/2017/0424/nsd17338859.png\",\"cate\":\"ct6\",\"amigo\":\"N\",\"viewer\":\"Y\",\"today\":\"N\",\"local\":null},{\"pid\":\"055\",\"name\":\"SBS\",\"img\":\"https://s.pstatic.net/static/newsstand/up/2017/0424/nsd173335676.png\",\"cate\":\"ct3\",\"amigo\":\"N\",\"viewer\":\"Y\",\"today\":\"N\",\"local\":null},{\"pid\":\"052\",\"name\":\"YTN\",\"img\":\"https://s.pstatic.net/static/newsstand/up/2017/0424/nsd173559874.png\",\"cate\":\"ct3\",\"amigo\":\"N\",\"viewer\":\"Y\",\"today\":\"N\",\"local\":null}],\"ct2\":[{\"pid\":\"960\",\"name\":\"건설경제신문\",\"img\":\"https://s.pstatic.net/static/newsstand/up/2017/1201/nsd161545206.png\",\"cate\":\"ct2\",\"amigo\":\"N\",\"viewer\":\"Y\",\"today\":\"N\",\"local\":null},{\"pid\":\"032\",\"name\":\"경향신문\",\"img\":\"https://s.pstatic.net/static/newsstand/up/2017/0424/nsd14372435.png\",\"cate\":\"ct2\",\"amigo\":\"N\",\"viewer\":\"Y\",\"today\":\"N\",\"local\":null},{\"pid\":\"005\",\"name\":\"국민일보\",\"img\":\"https://s.pstatic.net/static/newsstand/up/2017/0424/nsd1438916.png\",\"cate\":\"ct2\",\"amigo\":\"N\",\"viewer\":\"Y\",\"today\":\"N\",\"local\":null},{\"pid\":\"944\",\"name\":\"나우뉴스\",\"img\":\"https://s.pstatic.net/static/newsstand/up/2017/0424/nsd14392079.png\",\"cate\":\"ct2\",\"amigo\":\"N\",\"viewer\":\"Y\",\"today\":\"N\",\"local\":null},{\"pid\":\"079\",\"name\":\"노컷뉴스\",\"img\":\"https://s.pstatic.net/static/newsstand/up/2017/0424/nsd143958887.png\",\"cate\":\"ct2\",\"amigo\":\"N\",\"viewer\":\"Y\",\"today\":\"N\",\"local\":null},{\"pid\":\"327\",\"name\":\"뉴데일리\",\"img\":\"https://s.pstatic.net/static/newsstand/up/2017/0424/nsd144037935.png\",\"cate\":\"ct2\",\"amigo\":\"N\",\"viewer\":\"Y\",\"today\":\"N\",\"local\":null},{\"pid\":\"930\",\"name\":\"뉴스타파\",\"img\":\"https://s.pstatic.net/static/newsstand/up/2017/0424/nsd144152433.png\",\"cate\":\"ct2\",\"amigo\":\"N\",\"viewer\":\"Y\",\"today\":\"N\",\"local\":null},{\"pid\":\"913\",\"name\":\"뉴스토마토\",\"img\":\"https://s.pstatic.net/static/newsstand/up/2017/0424/nsd14431117.png\",\"cate\":\"ct2\",\"amigo\":\"N\",\"viewer\":\"Y\",\"today\":\"N\",\"local\":null},{\"pid\":\"914\",\"name\":\"뉴스핌\",\"img\":\"https://s.pstatic.net/static/newsstand/up/2017/0613/nsd173430698.png\",\"cate\":\"ct2\",\"amigo\":\"N\",\"viewer\":\"Y\",\"today\":\"N\",\"local\":null},{\"pid\":\"536\",\"name\":\"더팩트\",\"img\":\"https://s.pstatic.net/static/newsstand/up/2017/0424/nsd144543120.png\",\"cate\":\"ct2\",\"amigo\":\"N\",\"viewer\":\"Y\",\"today\":\"N\",\"local\":null},{\"pid\":\"804\",\"name\":\"데이터뉴스\",\"img\":\"https://s.pstatic.net/static/newsstand/up/2019/0311/nsd10146709.png\",\"cate\":\"ct2\",\"amigo\":\"N\",\"viewer\":\"Y\",\"today\":\"N\",\"local\":null},{\"pid\":\"368\",\"name\":\"데일리안\",\"img\":\"https://s.pstatic.net/static/newsstand/up/2017/0424/nsd14463367.png\",\"cate\":\"ct2\",\"amigo\":\"N\",\"viewer\":\"Y\",\"today\":\"N\",\"local\":null},{\"pid\":\"020\",\"name\":\"동아일보\",\"img\":\"https://s.pstatic.net/static/newsstand/up/2017/0424/nsd14479875.png\",\"cate\":\"ct2\",\"amigo\":\"N\",\"viewer\":\"Y\",\"today\":\"N\",\"local\":null},{\"pid\":\"009\",\"name\":\"매일경제\",\"img\":\"https://s.pstatic.net/static/newsstand/up/2017/0424/nsd145032565.png\",\"cate\":\"ct2\",\"amigo\":\"N\",\"viewer\":\"Y\",\"today\":\"N\",\"local\":null},{\"pid\":\"969\",\"name\":\"매일노동뉴스\",\"img\":\"https://s.pstatic.net/static/newsstand/up/2017/1201/nsd161443290.png\",\"cate\":\"ct2\",\"amigo\":\"N\",\"viewer\":\"Y\",\"today\":\"N\",\"local\":null},{\"pid\":\"417\",\"name\":\"머니에스\",\"img\":\"https://s.pstatic.net/static/newsstand/up/2017/0424/nsd145150694.png\",\"cate\":\"ct2\",\"amigo\":\"N\",\"viewer\":\"Y\",\"today\":\"N\",\"local\":null},{\"pid\":\"008\",\"name\":\"머니투데이\",\"img\":\"https://s.pstatic.net/static/newsstand/up/2017/0424/nsd145214517.png\",\"cate\":\"ct2\",\"amigo\":\"N\",\"viewer\":\"Y\",\"today\":\"N\",\"local\":null},{\"pid\":\"961\",\"name\":\"메트로신문\",\"img\":\"https://s.pstatic.net/static/newsstand/up/2017/1201/nsd161618979.png\",\"cate\":\"ct2\",\"amigo\":\"N\",\"viewer\":\"Y\",\"today\":\"N\",\"local\":null},{\"pid\":\"021\",\"name\":\"문화일보\",\"img\":\"https://s.pstatic.net/static/newsstand/up/2017/0424/nsd19245981.png\",\"cate\":\"ct2\",\"amigo\":\"N\",\"viewer\":\"Y\",\"today\":\"N\",\"local\":null},{\"pid\":\"006\",\"name\":\"미디어오늘\",\"img\":\"https://s.pstatic.net/static/newsstand/up/2017/0424/nsd145346617.png\",\"cate\":\"ct2\",\"amigo\":\"N\",\"viewer\":\"Y\",\"today\":\"N\",\"local\":null},{\"pid\":\"809\",\"name\":\"미디어펜\",\"img\":\"https://s.pstatic.net/static/newsstand/up/2019/0318/nsd11175114.png\",\"cate\":\"ct2\",\"amigo\":\"N\",\"viewer\":\"Y\",\"today\":\"N\",\"local\":null},{\"pid\":\"939\",\"name\":\"브릿지경제\",\"img\":\"https://s.pstatic.net/static/newsstand/up/2017/0424/nsd145512265.png\",\"cate\":\"ct2\",\"amigo\":\"N\",\"viewer\":\"Y\",\"today\":\"N\",\"local\":null},{\"pid\":\"943\",\"name\":\"비즈니스워치\",\"img\":\"https://s.pstatic.net/static/newsstand/up/2017/1102/nsd155540688.png\",\"cate\":\"ct2\",\"amigo\":\"N\",\"viewer\":\"Y\",\"today\":\"N\",\"local\":null},{\"pid\":\"942\",\"name\":\"비즈니스포스트\",\"img\":\"https://s.pstatic.net/static/newsstand/up/2017/0424/nsd145630550.png\",\"cate\":\"ct2\",\"amigo\":\"N\",\"viewer\":\"Y\",\"today\":\"N\",\"local\":null},{\"pid\":\"973\",\"name\":\"비즈한국\",\"img\":\"https://s.pstatic.net/static/newsstand/up/2017/1209/nsd14224593.png\",\"cate\":\"ct2\",\"amigo\":\"N\",\"viewer\":\"Y\",\"today\":\"N\",\"local\":null},{\"pid\":\"011\",\"name\":\"서울경제\",\"img\":\"https://s.pstatic.net/static/newsstand/up/2017/0424/nsd145718601.png\",\"cate\":\"ct2\",\"amigo\":\"N\",\"viewer\":\"Y\",\"today\":\"N\",\"local\":null},{\"pid\":\"081\",\"name\":\"서울신문\",\"img\":\"https://s.pstatic.net/static/newsstand/up/2017/0424/nsd145738195.png\",\"cate\":\"ct2\",\"amigo\":\"N\",\"viewer\":\"Y\",\"today\":\"N\",\"local\":null},{\"pid\":\"022\",\"name\":\"세계일보\",\"img\":\"https://s.pstatic.net/static/newsstand/up/2017/0424/nsd145813557.png\",\"cate\":\"ct2\",\"amigo\":\"N\",\"viewer\":\"Y\",\"today\":\"N\",\"local\":null},{\"pid\":\"970\",\"name\":\"소비자가만드는신문\",\"img\":\"https://s.pstatic.net/static/newsstand/up/2018/1016/nsd1687672.png\",\"cate\":\"ct2\",\"amigo\":\"N\",\"viewer\":\"Y\",\"today\":\"N\",\"local\":null},{\"pid\":\"957\",\"name\":\"시사위크\",\"img\":\"https://s.pstatic.net/static/newsstand/up/2017/1127/nsd8401364.png\",\"cate\":\"ct2\",\"amigo\":\"N\",\"viewer\":\"Y\",\"today\":\"N\",\"local\":null},{\"pid\":\"975\",\"name\":\"시사저널이코노미\",\"img\":\"https://s.pstatic.net/static/newsstand/up/2017/1209/nsd1413096.png\",\"cate\":\"ct2\",\"amigo\":\"N\",\"viewer\":\"Y\",\"today\":\"N\",\"local\":null},{\"pid\":\"810\",\"name\":\"신아일보\",\"img\":\"https://s.pstatic.net/static/newsstand/up/2019/0318/nsd15471273.png\",\"cate\":\"ct2\",\"amigo\":\"N\",\"viewer\":\"Y\",\"today\":\"N\",\"local\":null},{\"pid\":\"277\",\"name\":\"아시아경제\",\"img\":\"https://s.pstatic.net/static/newsstand/up/2017/0424/nsd153432228.png\",\"cate\":\"ct2\",\"amigo\":\"N\",\"viewer\":\"Y\",\"today\":\"N\",\"local\":null},{\"pid\":\"920\",\"name\":\"아시아투데이\",\"img\":\"https://s.pstatic.net/static/newsstand/up/2017/0424/nsd153458161.png\",\"cate\":\"ct2\",\"amigo\":\"N\",\"viewer\":\"Y\",\"today\":\"N\",\"local\":null},{\"pid\":\"031\",\"name\":\"아이뉴스24\",\"img\":\"https://s.pstatic.net/static/newsstand/up/2017/0424/nsd153955864.png\",\"cate\":\"ct2\",\"amigo\":\"N\",\"viewer\":\"Y\",\"today\":\"N\",\"local\":null},{\"pid\":\"921\",\"name\":\"아주경제\",\"img\":\"https://s.pstatic.net/static/newsstand/up/2018/0611/nsd111954432.png\",\"cate\":\"ct2\",\"amigo\":\"N\",\"viewer\":\"Y\",\"today\":\"N\",\"local\":null},{\"pid\":\"963\",\"name\":\"에너지경제\",\"img\":\"https://s.pstatic.net/static/newsstand/up/2018/0118/nsd105113618.png\",\"cate\":\"ct2\",\"amigo\":\"N\",\"viewer\":\"Y\",\"today\":\"N\",\"local\":null},{\"pid\":\"013\",\"name\":\"연합인포맥스\",\"img\":\"https://s.pstatic.net/static/newsstand/up/2017/0424/nsd154238686.png\",\"cate\":\"ct2\",\"amigo\":\"N\",\"viewer\":\"Y\",\"today\":\"N\",\"local\":null},{\"pid\":\"047\",\"name\":\"오마이뉴스\",\"img\":\"https://s.pstatic.net/static/newsstand/up/2017/0424/nsd154314463.png\",\"cate\":\"ct2\",\"amigo\":\"N\",\"viewer\":\"Y\",\"today\":\"N\",\"local\":null},{\"pid\":\"801\",\"name\":\"위키리크스한국\",\"img\":\"https://s.pstatic.net/static/newsstand/up/2019/0311/nsd10043701.png\",\"cate\":\"ct2\",\"amigo\":\"N\",\"viewer\":\"Y\",\"today\":\"N\",\"local\":null},{\"pid\":\"539\",\"name\":\"위키트리\",\"img\":\"https://s.pstatic.net/static/newsstand/up/2017/0424/nsd15444343.png\",\"cate\":\"ct2\",\"amigo\":\"N\",\"viewer\":\"Y\",\"today\":\"N\",\"local\":null},{\"pid\":\"964\",\"name\":\"이뉴스투데이\",\"img\":\"https://s.pstatic.net/static/newsstand/up/2017/1201/nsd16174237.png\",\"cate\":\"ct2\",\"amigo\":\"N\",\"viewer\":\"Y\",\"today\":\"N\",\"local\":null},{\"pid\":\"018\",\"name\":\"이데일리\",\"img\":\"https://s.pstatic.net/static/newsstand/up/2017/0424/nsd154426359.png\",\"cate\":\"ct2\",\"amigo\":\"N\",\"viewer\":\"Y\",\"today\":\"N\",\"local\":null},{\"pid\":\"243\",\"name\":\"이코노미스트\",\"img\":\"https://s.pstatic.net/static/newsstand/up/2017/0424/nsd15444742.png\",\"cate\":\"ct2\",\"amigo\":\"N\",\"viewer\":\"Y\",\"today\":\"N\",\"local\":null},{\"pid\":\"922\",\"name\":\"이투데이\",\"img\":\"https://s.pstatic.net/static/newsstand/up/2018/1016/nsd16842870.png\",\"cate\":\"ct2\",\"amigo\":\"N\",\"viewer\":\"Y\",\"today\":\"N\",\"local\":null},{\"pid\":\"803\",\"name\":\"인더스트리뉴스\",\"img\":\"https://s.pstatic.net/static/newsstand/up/2019/0313/nsd71954506.png\",\"cate\":\"ct2\",\"amigo\":\"N\",\"viewer\":\"Y\",\"today\":\"N\",\"local\":null},{\"pid\":\"923\",\"name\":\"인민망\",\"img\":\"https://s.pstatic.net/static/newsstand/up/2017/0424/nsd154522345.png\",\"cate\":\"ct2\",\"amigo\":\"N\",\"viewer\":\"Y\",\"today\":\"N\",\"local\":null},{\"pid\":\"971\",\"name\":\"일요시사\",\"img\":\"https://s.pstatic.net/static/newsstand/up/2019/0318/nsd154758272.png\",\"cate\":\"ct2\",\"amigo\":\"N\",\"viewer\":\"Y\",\"today\":\"N\",\"local\":null},{\"pid\":\"925\",\"name\":\"일요신문\",\"img\":\"https://s.pstatic.net/static/newsstand/up/2017/0424/nsd192546763.png\",\"cate\":\"ct2\",\"amigo\":\"N\",\"viewer\":\"Y\",\"today\":\"N\",\"local\":null},{\"pid\":\"366\",\"name\":\"조선비즈\",\"img\":\"https://s.pstatic.net/static/newsstand/up/2017/0424/nsd162659528.png\",\"cate\":\"ct2\",\"amigo\":\"N\",\"viewer\":\"Y\",\"today\":\"N\",\"local\":null},{\"pid\":\"023\",\"name\":\"조선일보\",\"img\":\"https://s.pstatic.net/static/newsstand/up/2017/0424/nsd162718792.png\",\"cate\":\"ct2\",\"amigo\":\"N\",\"viewer\":\"Y\",\"today\":\"N\",\"local\":null},{\"pid\":\"123\",\"name\":\"조세일보\",\"img\":\"https://s.pstatic.net/static/newsstand/up/2017/0424/nsd162739461.png\",\"cate\":\"ct2\",\"amigo\":\"N\",\"viewer\":\"Y\",\"today\":\"N\",\"local\":null},{\"pid\":\"353\",\"name\":\"중앙SUNDAY\",\"img\":\"https://s.pstatic.net/static/newsstand/up/2019/0319/nsd152835299.png\",\"cate\":\"ct2\",\"amigo\":\"N\",\"viewer\":\"Y\",\"today\":\"N\",\"local\":null},{\"pid\":\"025\",\"name\":\"중앙일보\",\"img\":\"https://s.pstatic.net/static/newsstand/up/2018/0807/nsd1484475.png\",\"cate\":\"ct2\",\"amigo\":\"N\",\"viewer\":\"Y\",\"today\":\"N\",\"local\":null},{\"pid\":\"941\",\"name\":\"초이스경제\",\"img\":\"https://s.pstatic.net/static/newsstand/up/2017/0424/nsd164431529.png\",\"cate\":\"ct2\",\"amigo\":\"N\",\"viewer\":\"Y\",\"today\":\"N\",\"local\":null},{\"pid\":\"143\",\"name\":\"쿠키뉴스\",\"img\":\"https://s.pstatic.net/static/newsstand/up/2017/0424/nsd172415111.png\",\"cate\":\"ct2\",\"amigo\":\"N\",\"viewer\":\"Y\",\"today\":\"N\",\"local\":null},{\"pid\":\"014\",\"name\":\"파이낸셜뉴스\",\"img\":\"https://s.pstatic.net/static/newsstand/up/2017/0424/nsd172557496.png\",\"cate\":\"ct2\",\"amigo\":\"N\",\"viewer\":\"Y\",\"today\":\"N\",\"local\":null},{\"pid\":\"002\",\"name\":\"프레시안\",\"img\":\"https://s.pstatic.net/static/newsstand/up/2017/0424/nsd172615885.png\",\"cate\":\"ct2\",\"amigo\":\"N\",\"viewer\":\"Y\",\"today\":\"N\",\"local\":null},{\"pid\":\"028\",\"name\":\"한겨레\",\"img\":\"https://s.pstatic.net/static/newsstand/up/2017/0424/nsd17263596.png\",\"cate\":\"ct2\",\"amigo\":\"N\",\"viewer\":\"Y\",\"today\":\"N\",\"local\":null},{\"pid\":\"015\",\"name\":\"한국경제\",\"img\":\"https://s.pstatic.net/static/newsstand/up/2017/0424/nsd172736175.png\",\"cate\":\"ct2\",\"amigo\":\"N\",\"viewer\":\"Y\",\"today\":\"N\",\"local\":null},{\"pid\":\"968\",\"name\":\"한국금융신문\",\"img\":\"https://s.pstatic.net/static/newsstand/up/2017/1201/nsd161235556.png\",\"cate\":\"ct2\",\"amigo\":\"N\",\"viewer\":\"Y\",\"today\":\"N\",\"local\":null},{\"pid\":\"038\",\"name\":\"한국일보\",\"img\":\"https://s.pstatic.net/static/newsstand/up/2017/0424/nsd172837200.png\",\"cate\":\"ct2\",\"amigo\":\"N\",\"viewer\":\"Y\",\"today\":\"N\",\"local\":null},{\"pid\":\"993\",\"name\":\"허프포스트코리아\",\"img\":\"https://s.pstatic.net/static/newsstand/up/2018/1210/nsd162234841.png\",\"cate\":\"ct2\",\"amigo\":\"N\",\"viewer\":\"Y\",\"today\":\"N\",\"local\":null},{\"pid\":\"016\",\"name\":\"헤럴드경제\",\"img\":\"https://s.pstatic.net/static/newsstand/up/2017/0424/nsd172855569.png\",\"cate\":\"ct2\",\"amigo\":\"N\",\"viewer\":\"Y\",\"today\":\"N\",\"local\":null},{\"pid\":\"974\",\"name\":\"BBS NEWS\",\"img\":\"https://s.pstatic.net/static/newsstand/up/2017/1209/nsd14324918.png\",\"cate\":\"ct2\",\"amigo\":\"N\",\"viewer\":\"Y\",\"today\":\"N\",\"local\":null},{\"pid\":\"932\",\"name\":\"CEO스코어데일리\",\"img\":\"https://s.pstatic.net/static/newsstand/up/2018/0627/nsd124328796.png\",\"cate\":\"ct2\",\"amigo\":\"N\",\"viewer\":\"Y\",\"today\":\"N\",\"local\":null},{\"pid\":\"954\",\"name\":\"CNB뉴스\",\"img\":\"https://s.pstatic.net/static/newsstand/up/2017/1122/nsd113655834.png\",\"cate\":\"ct2\",\"amigo\":\"N\",\"viewer\":\"Y\",\"today\":\"N\",\"local\":null},{\"pid\":\"120\",\"name\":\"EBN\",\"img\":\"https://s.pstatic.net/static/newsstand/up/2017/1017/nsd173540697.png\",\"cate\":\"ct2\",\"amigo\":\"N\",\"viewer\":\"Y\",\"today\":\"N\",\"local\":null},{\"pid\":\"959\",\"name\":\"M이코노미뉴스\",\"img\":\"https://s.pstatic.net/static/newsstand/up/2017/1201/nsd161518383.png\",\"cate\":\"ct2\",\"amigo\":\"N\",\"viewer\":\"Y\",\"today\":\"N\",\"local\":null},{\"pid\":\"972\",\"name\":\"PD저널\",\"img\":\"https://s.pstatic.net/static/newsstand/up/2017/1207/nsd13738461.png\",\"cate\":\"ct2\",\"amigo\":\"N\",\"viewer\":\"Y\",\"today\":\"N\",\"local\":null}],\"ct3\":[{\"pid\":\"421\",\"name\":\"뉴스1\",\"img\":\"https://s.pstatic.net/static/newsstand/up/2017/0424/nsd14405515.png\",\"cate\":\"ct3\",\"amigo\":\"N\",\"viewer\":\"Y\",\"today\":\"N\",\"local\":null},{\"pid\":\"003\",\"name\":\"뉴시스\",\"img\":\"https://s.pstatic.net/static/newsstand/up/2017/0424/nsd14449981.png\",\"cate\":\"ct3\",\"amigo\":\"N\",\"viewer\":\"Y\",\"today\":\"N\",\"local\":null},{\"pid\":\"916\",\"name\":\"머니투데이방송\",\"img\":\"https://s.pstatic.net/static/newsstand/up/2017/0424/nsd145249746.png\",\"cate\":\"ct3\",\"amigo\":\"N\",\"viewer\":\"Y\",\"today\":\"N\",\"local\":null},{\"pid\":\"934\",\"name\":\"아리랑TV\",\"img\":\"https://s.pstatic.net/static/newsstand/up/2017/0424/nsd153357809.png\",\"cate\":\"ct3\",\"amigo\":\"N\",\"viewer\":\"Y\",\"today\":\"N\",\"local\":null},{\"pid\":\"422\",\"name\":\"연합뉴스TV\",\"img\":\"https://s.pstatic.net/static/newsstand/up/2017/0424/nsd154219877.png\",\"cate\":\"ct3\",\"amigo\":\"N\",\"viewer\":\"Y\",\"today\":\"N\",\"local\":null},{\"pid\":\"376\",\"name\":\"지지통신\",\"img\":\"https://s.pstatic.net/static/newsstand/up/2017/0424/nsd16432873.png\",\"cate\":\"ct3\",\"amigo\":\"N\",\"viewer\":\"Y\",\"today\":\"N\",\"local\":null},{\"pid\":\"903\",\"name\":\"채널에이\",\"img\":\"https://s.pstatic.net/static/newsstand/up/2017/0424/nsd164352456.png\",\"cate\":\"ct3\",\"amigo\":\"N\",\"viewer\":\"Y\",\"today\":\"N\",\"local\":null},{\"pid\":\"215\",\"name\":\"한국경제TV\",\"img\":\"https://s.pstatic.net/static/newsstand/up/2017/0424/nsd172755139.png\",\"cate\":\"ct3\",\"amigo\":\"N\",\"viewer\":\"Y\",\"today\":\"N\",\"local\":null},{\"pid\":\"933\",\"name\":\"CNN\",\"img\":\"https://s.pstatic.net/static/newsstand/up/2017/0424/nsd173010586.png\",\"cate\":\"ct3\",\"amigo\":\"N\",\"viewer\":\"Y\",\"today\":\"N\",\"local\":null},{\"pid\":\"344\",\"name\":\"EBS\",\"img\":\"https://s.pstatic.net/static/newsstand/up/2017/0424/nsd173043431.png\",\"cate\":\"ct3\",\"amigo\":\"N\",\"viewer\":\"Y\",\"today\":\"N\",\"local\":null},{\"pid\":\"904\",\"name\":\"JTBC\",\"img\":\"https://s.pstatic.net/static/newsstand/up/2017/0424/nsd173111263.png\",\"cate\":\"ct3\",\"amigo\":\"N\",\"viewer\":\"Y\",\"today\":\"N\",\"local\":null},{\"pid\":\"980\",\"name\":\"KBC광주방송\",\"img\":\"https://s.pstatic.net/static/newsstand/up/2018/0126/nsd114019464.png\",\"cate\":\"ct3\",\"amigo\":\"N\",\"viewer\":\"Y\",\"today\":\"N\",\"local\":null},{\"pid\":\"056\",\"name\":\"KBS\",\"img\":\"https://s.pstatic.net/static/newsstand/up/2017/0424/nsd173124306.png\",\"cate\":\"ct3\",\"amigo\":\"N\",\"viewer\":\"Y\",\"today\":\"N\",\"local\":null},{\"pid\":\"906\",\"name\":\"KNN\",\"img\":\"https://s.pstatic.net/static/newsstand/up/2017/0424/nsd173151831.png\",\"cate\":\"ct3\",\"amigo\":\"N\",\"viewer\":\"Y\",\"today\":\"N\",\"local\":null},{\"pid\":\"214\",\"name\":\"MBC\",\"img\":\"https://s.pstatic.net/static/newsstand/up/2017/0424/nsd17324940.png\",\"cate\":\"ct3\",\"amigo\":\"N\",\"viewer\":\"Y\",\"today\":\"N\",\"local\":null},{\"pid\":\"057\",\"name\":\"MBN\",\"img\":\"https://s.pstatic.net/static/newsstand/up/2017/0424/nsd173223533.png\",\"cate\":\"ct3\",\"amigo\":\"N\",\"viewer\":\"Y\",\"today\":\"N\",\"local\":null},{\"pid\":\"340\",\"name\":\"OBS\",\"img\":\"https://s.pstatic.net/static/newsstand/up/2017/0424/nsd173252323.png\",\"cate\":\"ct3\",\"amigo\":\"N\",\"viewer\":\"Y\",\"today\":\"N\",\"local\":null},{\"pid\":\"055\",\"name\":\"SBS\",\"img\":\"https://s.pstatic.net/static/newsstand/up/2017/0424/nsd173335676.png\",\"cate\":\"ct3\",\"amigo\":\"N\",\"viewer\":\"Y\",\"today\":\"N\",\"local\":null},{\"pid\":\"374\",\"name\":\"SBSCNBC\",\"img\":\"https://s.pstatic.net/static/newsstand/up/2017/0424/nsd173348251.png\",\"cate\":\"ct3\",\"amigo\":\"N\",\"viewer\":\"Y\",\"today\":\"N\",\"local\":null},{\"pid\":\"989\",\"name\":\"TBC대구방송\",\"img\":\"https://s.pstatic.net/static/newsstand/up/2018/1004/nsd113150397.png\",\"cate\":\"ct3\",\"amigo\":\"N\",\"viewer\":\"Y\",\"today\":\"N\",\"local\":null},{\"pid\":\"902\",\"name\":\"TV조선\",\"img\":\"https://s.pstatic.net/static/newsstand/up/2018/0904/nsd153923387.png\",\"cate\":\"ct3\",\"amigo\":\"N\",\"viewer\":\"Y\",\"today\":\"N\",\"local\":null},{\"pid\":\"052\",\"name\":\"YTN\",\"img\":\"https://s.pstatic.net/static/newsstand/up/2017/0424/nsd173559874.png\",\"cate\":\"ct3\",\"amigo\":\"N\",\"viewer\":\"Y\",\"today\":\"N\",\"local\":null},{\"pid\":\"945\",\"name\":\"YTN사이언스\",\"img\":\"https://s.pstatic.net/static/newsstand/up/2017/0424/nsd173618176.png\",\"cate\":\"ct3\",\"amigo\":\"N\",\"viewer\":\"Y\",\"today\":\"N\",\"local\":null},{\"pid\":\"981\",\"name\":\"tbs교통방송\",\"img\":\"https://s.pstatic.net/static/newsstand/up/2018/0201/nsd19842442.png\",\"cate\":\"ct3\",\"amigo\":\"N\",\"viewer\":\"Y\",\"today\":\"N\",\"local\":null}],\"ct4\":[{\"pid\":\"910\",\"name\":\"넥스트데일리\",\"img\":\"https://s.pstatic.net/static/newsstand/up/2017/0424/nsd143938201.png\",\"cate\":\"ct4\",\"amigo\":\"N\",\"viewer\":\"Y\",\"today\":\"N\",\"local\":null},{\"pid\":\"138\",\"name\":\"디지털데일리\",\"img\":\"https://s.pstatic.net/static/newsstand/up/2017/0424/nsd14481127.png\",\"cate\":\"ct4\",\"amigo\":\"N\",\"viewer\":\"Y\",\"today\":\"N\",\"local\":null},{\"pid\":\"029\",\"name\":\"디지털타임스\",\"img\":\"https://s.pstatic.net/static/newsstand/up/2018/0719/nsd162516824.png\",\"cate\":\"ct4\",\"amigo\":\"N\",\"viewer\":\"Y\",\"today\":\"N\",\"local\":null},{\"pid\":\"952\",\"name\":\"보안뉴스\",\"img\":\"https://s.pstatic.net/static/newsstand/up/2017/1122/nsd113617499.png\",\"cate\":\"ct4\",\"amigo\":\"N\",\"viewer\":\"Y\",\"today\":\"N\",\"local\":null},{\"pid\":\"293\",\"name\":\"블로터\",\"img\":\"https://s.pstatic.net/static/newsstand/up/2018/0316/nsd175350622.png\",\"cate\":\"ct4\",\"amigo\":\"N\",\"viewer\":\"Y\",\"today\":\"N\",\"local\":null},{\"pid\":\"030\",\"name\":\"전자신문\",\"img\":\"https://s.pstatic.net/static/newsstand/up/2017/0424/nsd162528724.png\",\"cate\":\"ct4\",\"amigo\":\"N\",\"viewer\":\"Y\",\"today\":\"N\",\"local\":null},{\"pid\":\"092\",\"name\":\"지디넷코리아\",\"img\":\"https://s.pstatic.net/static/newsstand/up/2017/0424/nsd16425834.png\",\"cate\":\"ct4\",\"amigo\":\"N\",\"viewer\":\"Y\",\"today\":\"N\",\"local\":null},{\"pid\":\"953\",\"name\":\"키뉴스\",\"img\":\"https://s.pstatic.net/static/newsstand/up/2017/1122/nsd113635611.png\",\"cate\":\"ct4\",\"amigo\":\"N\",\"viewer\":\"Y\",\"today\":\"N\",\"local\":null},{\"pid\":\"977\",\"name\":\"헬로디디\",\"img\":\"https://s.pstatic.net/static/newsstand/up/2017/1214/nsd112148521.png\",\"cate\":\"ct4\",\"amigo\":\"N\",\"viewer\":\"Y\",\"today\":\"N\",\"local\":null},{\"pid\":\"917\",\"name\":\"IT조선\",\"img\":\"https://s.pstatic.net/static/newsstand/up/2017/0424/nsd173057968.png\",\"cate\":\"ct4\",\"amigo\":\"N\",\"viewer\":\"Y\",\"today\":\"N\",\"local\":null}],\"ct5\":[{\"pid\":\"330\",\"name\":\"중앙데일리\",\"img\":\"https://s.pstatic.net/static/newsstand/up/2018/0626/nsd103519292.png\",\"cate\":\"ct5\",\"amigo\":\"N\",\"viewer\":\"Y\",\"today\":\"N\",\"local\":null},{\"pid\":\"044\",\"name\":\"코리아헤럴드\",\"img\":\"https://s.pstatic.net/static/newsstand/up/2017/0424/nsd17341942.png\",\"cate\":\"ct5\",\"amigo\":\"N\",\"viewer\":\"Y\",\"today\":\"N\",\"local\":null},{\"pid\":\"326\",\"name\":\"KBS World\",\"img\":\"https://s.pstatic.net/static/newsstand/up/2017/0424/nsd173138949.png\",\"cate\":\"ct5\",\"amigo\":\"N\",\"viewer\":\"Y\",\"today\":\"N\",\"local\":null},{\"pid\":\"946\",\"name\":\"YONHAPNEWS\",\"img\":\"https://s.pstatic.net/static/newsstand/up/2017/0424/nsd173542219.png\",\"cate\":\"ct5\",\"amigo\":\"N\",\"viewer\":\"Y\",\"today\":\"N\",\"local\":null}],\"ct6\":[{\"pid\":\"447\",\"name\":\"뉴스엔\",\"img\":\"https://s.pstatic.net/static/newsstand/up/2017/0424/nsd144110729.png\",\"cate\":\"ct6\",\"amigo\":\"N\",\"viewer\":\"Y\",\"today\":\"N\",\"local\":null},{\"pid\":\"117\",\"name\":\"마이데일리\",\"img\":\"https://s.pstatic.net/static/newsstand/up/2017/0424/nsd144944309.png\",\"cate\":\"ct6\",\"amigo\":\"N\",\"viewer\":\"Y\",\"today\":\"N\",\"local\":null},{\"pid\":\"108\",\"name\":\"스타뉴스\",\"img\":\"https://s.pstatic.net/static/newsstand/up/2017/0424/nsd14592836.png\",\"cate\":\"ct6\",\"amigo\":\"N\",\"viewer\":\"Y\",\"today\":\"N\",\"local\":null},{\"pid\":\"802\",\"name\":\"스포츠Q\",\"img\":\"https://s.pstatic.net/static/newsstand/up/2019/0313/nsd71851694.png\",\"cate\":\"ct6\",\"amigo\":\"N\",\"viewer\":\"Y\",\"today\":\"N\",\"local\":null},{\"pid\":\"144\",\"name\":\"스포츠경향\",\"img\":\"https://s.pstatic.net/static/newsstand/up/2017/0424/nsd14593063.png\",\"cate\":\"ct6\",\"amigo\":\"N\",\"viewer\":\"Y\",\"today\":\"N\",\"local\":null},{\"pid\":\"314\",\"name\":\"스포츠동아\",\"img\":\"https://s.pstatic.net/static/newsstand/up/2017/0424/nsd145951763.png\",\"cate\":\"ct6\",\"amigo\":\"N\",\"viewer\":\"Y\",\"today\":\"N\",\"local\":null},{\"pid\":\"073\",\"name\":\"스포츠서울\",\"img\":\"https://s.pstatic.net/static/newsstand/up/2017/0424/nsd15042554.png\",\"cate\":\"ct6\",\"amigo\":\"N\",\"viewer\":\"Y\",\"today\":\"N\",\"local\":null},{\"pid\":\"396\",\"name\":\"스포츠월드\",\"img\":\"https://s.pstatic.net/static/newsstand/up/2017/0424/nsd1521496.png\",\"cate\":\"ct6\",\"amigo\":\"N\",\"viewer\":\"Y\",\"today\":\"N\",\"local\":null},{\"pid\":\"076\",\"name\":\"스포츠조선\",\"img\":\"https://s.pstatic.net/static/newsstand/up/2017/0424/nsd183553864.png\",\"cate\":\"ct6\",\"amigo\":\"N\",\"viewer\":\"Y\",\"today\":\"N\",\"local\":null},{\"pid\":\"940\",\"name\":\"스포츠투데이\",\"img\":\"https://s.pstatic.net/static/newsstand/up/2017/0424/nsd183628961.png\",\"cate\":\"ct6\",\"amigo\":\"N\",\"viewer\":\"Y\",\"today\":\"N\",\"local\":null},{\"pid\":\"962\",\"name\":\"스포츠한국\",\"img\":\"https://s.pstatic.net/static/newsstand/up/2017/1201/nsd161647719.png\",\"cate\":\"ct6\",\"amigo\":\"N\",\"viewer\":\"Y\",\"today\":\"N\",\"local\":null},{\"pid\":\"139\",\"name\":\"스포탈코리아\",\"img\":\"https://s.pstatic.net/static/newsstand/up/2017/0424/nsd151840663.png\",\"cate\":\"ct6\",\"amigo\":\"N\",\"viewer\":\"Y\",\"today\":\"N\",\"local\":null},{\"pid\":\"477\",\"name\":\"스포티비뉴스\",\"img\":\"https://s.pstatic.net/static/newsstand/up/2017/1221/nsd134325318.png\",\"cate\":\"ct6\",\"amigo\":\"N\",\"viewer\":\"Y\",\"today\":\"N\",\"local\":null},{\"pid\":\"311\",\"name\":\"엑스포츠뉴스\",\"img\":\"https://s.pstatic.net/static/newsstand/up/2017/0424/nsd154117.png\",\"cate\":\"ct6\",\"amigo\":\"N\",\"viewer\":\"Y\",\"today\":\"N\",\"local\":null},{\"pid\":\"529\",\"name\":\"엠스플뉴스\",\"img\":\"https://s.pstatic.net/static/newsstand/up/2018/1122/nsd113027714.png\",\"cate\":\"ct6\",\"amigo\":\"N\",\"viewer\":\"Y\",\"today\":\"N\",\"local\":null},{\"pid\":\"241\",\"name\":\"일간스포츠\",\"img\":\"https://s.pstatic.net/static/newsstand/up/2017/0424/nsd154619739.png\",\"cate\":\"ct6\",\"amigo\":\"N\",\"viewer\":\"Y\",\"today\":\"N\",\"local\":null},{\"pid\":\"947\",\"name\":\"조이뉴스24\",\"img\":\"https://s.pstatic.net/static/newsstand/up/2017/0424/nsd162759461.png\",\"cate\":\"ct6\",\"amigo\":\"N\",\"viewer\":\"Y\",\"today\":\"N\",\"local\":null},{\"pid\":\"312\",\"name\":\"텐아시아\",\"img\":\"https://s.pstatic.net/static/newsstand/up/2017/0424/nsd172519405.png\",\"cate\":\"ct6\",\"amigo\":\"N\",\"viewer\":\"Y\",\"today\":\"N\",\"local\":null},{\"pid\":\"440\",\"name\":\"티브이데일리\",\"img\":\"https://s.pstatic.net/static/newsstand/up/2017/0424/nsd172538465.png\",\"cate\":\"ct6\",\"amigo\":\"N\",\"viewer\":\"Y\",\"today\":\"N\",\"local\":null},{\"pid\":\"410\",\"name\":\"MK스포츠\",\"img\":\"https://s.pstatic.net/static/newsstand/up/2017/0424/nsd173237747.png\",\"cate\":\"ct6\",\"amigo\":\"N\",\"viewer\":\"Y\",\"today\":\"N\",\"local\":null},{\"pid\":\"109\",\"name\":\"OSEN\",\"img\":\"https://s.pstatic.net/static/newsstand/up/2017/0424/nsd17338859.png\",\"cate\":\"ct6\",\"amigo\":\"N\",\"viewer\":\"Y\",\"today\":\"N\",\"local\":null},{\"pid\":\"416\",\"name\":\"SBS연예스포츠\",\"img\":\"https://s.pstatic.net/static/newsstand/up/2017/0424/nsd173430905.png\",\"cate\":\"ct6\",\"amigo\":\"N\",\"viewer\":\"Y\",\"today\":\"N\",\"local\":null},{\"pid\":\"213\",\"name\":\"TV리포트\",\"img\":\"https://s.pstatic.net/static/newsstand/up/2017/0424/nsd173446621.png\",\"cate\":\"ct6\",\"amigo\":\"N\",\"viewer\":\"Y\",\"today\":\"N\",\"local\":null},{\"pid\":\"404\",\"name\":\"enews24\",\"img\":\"https://s.pstatic.net/static/newsstand/up/2017/0424/nsd173715121.png\",\"cate\":\"ct6\",\"amigo\":\"N\",\"viewer\":\"Y\",\"today\":\"N\",\"local\":null}],\"ct7\":[{\"pid\":\"356\",\"name\":\"게임메카\",\"img\":\"https://s.pstatic.net/static/newsstand/up/2017/0424/nsd143454437.png\",\"cate\":\"ct7\",\"amigo\":\"N\",\"viewer\":\"Y\",\"today\":\"N\",\"local\":null},{\"pid\":\"363\",\"name\":\"과학동아\",\"img\":\"https://s.pstatic.net/static/newsstand/up/2017/0424/nsd143721586.png\",\"cate\":\"ct7\",\"amigo\":\"N\",\"viewer\":\"Y\",\"today\":\"N\",\"local\":null},{\"pid\":\"908\",\"name\":\"국방일보\",\"img\":\"https://s.pstatic.net/static/newsstand/up/2017/0424/nsd143827635.png\",\"cate\":\"ct7\",\"amigo\":\"N\",\"viewer\":\"Y\",\"today\":\"N\",\"local\":null},{\"pid\":\"938\",\"name\":\"그린포스트코리아\",\"img\":\"https://s.pstatic.net/static/newsstand/up/2017/1106/nsd95428551.png\",\"cate\":\"ct7\",\"amigo\":\"N\",\"viewer\":\"Y\",\"today\":\"N\",\"local\":null},{\"pid\":\"984\",\"name\":\"낚시춘추\",\"img\":\"https://s.pstatic.net/static/newsstand/up/2018/0312/nsd11361752.png\",\"cate\":\"ct7\",\"amigo\":\"N\",\"viewer\":\"Y\",\"today\":\"N\",\"local\":null},{\"pid\":\"911\",\"name\":\"농민신문\",\"img\":\"https://s.pstatic.net/static/newsstand/up/2017/0424/nsd144020188.png\",\"cate\":\"ct7\",\"amigo\":\"N\",\"viewer\":\"Y\",\"today\":\"N\",\"local\":null},{\"pid\":\"912\",\"name\":\"뉴스컬처\",\"img\":\"https://s.pstatic.net/static/newsstand/up/2018/0525/nsd141715196.png\",\"cate\":\"ct7\",\"amigo\":\"N\",\"viewer\":\"Y\",\"today\":\"N\",\"local\":null},{\"pid\":\"905\",\"name\":\"더스쿠프\",\"img\":\"https://s.pstatic.net/static/newsstand/up/2018/0626/nsd103415937.png\",\"cate\":\"ct7\",\"amigo\":\"N\",\"viewer\":\"Y\",\"today\":\"N\",\"local\":null},{\"pid\":\"991\",\"name\":\"데일리NK\",\"img\":\"https://s.pstatic.net/static/newsstand/up/2018/1008/nsd101815434.png\",\"cate\":\"ct7\",\"amigo\":\"N\",\"viewer\":\"Y\",\"today\":\"N\",\"local\":null},{\"pid\":\"042\",\"name\":\"데일리한국\",\"img\":\"https://s.pstatic.net/static/newsstand/up/2017/0424/nsd144629578.png\",\"cate\":\"ct7\",\"amigo\":\"N\",\"viewer\":\"Y\",\"today\":\"N\",\"local\":null},{\"pid\":\"955\",\"name\":\"독서신문\",\"img\":\"https://s.pstatic.net/static/newsstand/up/2019/0207/nsd141354748.png\",\"cate\":\"ct7\",\"amigo\":\"N\",\"viewer\":\"Y\",\"today\":\"N\",\"local\":null},{\"pid\":\"345\",\"name\":\"디자인정글\",\"img\":\"https://s.pstatic.net/static/newsstand/up/2017/0424/nsd144732945.png\",\"cate\":\"ct7\",\"amigo\":\"N\",\"viewer\":\"Y\",\"today\":\"N\",\"local\":null},{\"pid\":\"915\",\"name\":\"르몽드 디플로마티크\",\"img\":\"https://s.pstatic.net/static/newsstand/up/2017/0424/nsd1449112.png\",\"cate\":\"ct7\",\"amigo\":\"N\",\"viewer\":\"Y\",\"today\":\"N\",\"local\":null},{\"pid\":\"024\",\"name\":\"매경이코노미\",\"img\":\"https://s.pstatic.net/static/newsstand/up/2017/0424/nsd145011543.png\",\"cate\":\"ct7\",\"amigo\":\"N\",\"viewer\":\"Y\",\"today\":\"N\",\"local\":null},{\"pid\":\"075\",\"name\":\"맥스무비\",\"img\":\"https://s.pstatic.net/static/newsstand/up/2017/0424/nsd183033195.png\",\"cate\":\"ct7\",\"amigo\":\"N\",\"viewer\":\"Y\",\"today\":\"N\",\"local\":null},{\"pid\":\"122\",\"name\":\"법률신문\",\"img\":\"https://s.pstatic.net/static/newsstand/up/2017/0424/nsd145431309.png\",\"cate\":\"ct7\",\"amigo\":\"N\",\"viewer\":\"Y\",\"today\":\"N\",\"local\":null},{\"pid\":\"958\",\"name\":\"베리타스알파\",\"img\":\"https://s.pstatic.net/static/newsstand/up/2017/1201/nsd161315555.png\",\"cate\":\"ct7\",\"amigo\":\"N\",\"viewer\":\"Y\",\"today\":\"N\",\"local\":null},{\"pid\":\"355\",\"name\":\"사이언스타임즈\",\"img\":\"https://s.pstatic.net/static/newsstand/up/2017/0424/nsd145657590.png\",\"cate\":\"ct7\",\"amigo\":\"N\",\"viewer\":\"Y\",\"today\":\"N\",\"local\":null},{\"pid\":\"808\",\"name\":\"산업일보\",\"img\":\"https://s.pstatic.net/static/newsstand/up/2019/0314/nsd11030667.png\",\"cate\":\"ct7\",\"amigo\":\"N\",\"viewer\":\"Y\",\"today\":\"N\",\"local\":null},{\"pid\":\"329\",\"name\":\"소년한국일보\",\"img\":\"https://s.pstatic.net/static/newsstand/up/2017/0424/nsd14583498.png\",\"cate\":\"ct7\",\"amigo\":\"N\",\"viewer\":\"Y\",\"today\":\"N\",\"local\":null},{\"pid\":\"308\",\"name\":\"시사인\",\"img\":\"https://s.pstatic.net/static/newsstand/up/2017/0424/nsd151929775.png\",\"cate\":\"ct7\",\"amigo\":\"N\",\"viewer\":\"Y\",\"today\":\"N\",\"local\":null},{\"pid\":\"135\",\"name\":\"시사저널\",\"img\":\"https://s.pstatic.net/static/newsstand/up/2017/0424/nsd153228485.png\",\"cate\":\"ct7\",\"amigo\":\"N\",\"viewer\":\"Y\",\"today\":\"N\",\"local\":null},{\"pid\":\"140\",\"name\":\"씨네21\",\"img\":\"https://s.pstatic.net/static/newsstand/up/2017/0424/nsd153251814.png\",\"cate\":\"ct7\",\"amigo\":\"N\",\"viewer\":\"Y\",\"today\":\"N\",\"local\":null},{\"pid\":\"979\",\"name\":\"약사공론\",\"img\":\"https://s.pstatic.net/static/newsstand/up/2018/0212/nsd161550299.png\",\"cate\":\"ct7\",\"amigo\":\"N\",\"viewer\":\"Y\",\"today\":\"N\",\"local\":null},{\"pid\":\"328\",\"name\":\"에이블뉴스\",\"img\":\"https://s.pstatic.net/static/newsstand/up/2017/0424/nsd154040656.png\",\"cate\":\"ct7\",\"amigo\":\"N\",\"viewer\":\"Y\",\"today\":\"N\",\"local\":null},{\"pid\":\"354\",\"name\":\"엘르\",\"img\":\"https://s.pstatic.net/static/newsstand/up/2017/0424/nsd154119884.png\",\"cate\":\"ct7\",\"amigo\":\"N\",\"viewer\":\"Y\",\"today\":\"N\",\"local\":null},{\"pid\":\"310\",\"name\":\"여성신문\",\"img\":\"https://s.pstatic.net/static/newsstand/up/2017/0424/nsd154151666.png\",\"cate\":\"ct7\",\"amigo\":\"N\",\"viewer\":\"Y\",\"today\":\"N\",\"local\":null},{\"pid\":\"950\",\"name\":\"월간중앙\",\"img\":\"https://s.pstatic.net/static/newsstand/up/2017/1122/nsd113515807.png\",\"cate\":\"ct7\",\"amigo\":\"N\",\"viewer\":\"Y\",\"today\":\"N\",\"local\":null},{\"pid\":\"988\",\"name\":\"이웃집과학자\",\"img\":\"https://s.pstatic.net/static/newsstand/up/2018/0906/nsd1125619.png\",\"cate\":\"ct7\",\"amigo\":\"N\",\"viewer\":\"Y\",\"today\":\"N\",\"local\":null},{\"pid\":\"982\",\"name\":\"이코노미조선\",\"img\":\"https://s.pstatic.net/static/newsstand/up/2018/0226/nsd13574834.png\",\"cate\":\"ct7\",\"amigo\":\"N\",\"viewer\":\"Y\",\"today\":\"N\",\"local\":null},{\"pid\":\"924\",\"name\":\"인벤\",\"img\":\"https://s.pstatic.net/static/newsstand/up/2017/0424/nsd154539705.png\",\"cate\":\"ct7\",\"amigo\":\"N\",\"viewer\":\"Y\",\"today\":\"N\",\"local\":null},{\"pid\":\"807\",\"name\":\"인사이트코리아\",\"img\":\"https://s.pstatic.net/static/newsstand/up/2019/0311/nsd10115926.png\",\"cate\":\"ct7\",\"amigo\":\"N\",\"viewer\":\"Y\",\"today\":\"N\",\"local\":null},{\"pid\":\"362\",\"name\":\"자동차생활\",\"img\":\"https://s.pstatic.net/static/newsstand/up/2017/0424/nsd162354371.png\",\"cate\":\"ct7\",\"amigo\":\"N\",\"viewer\":\"Y\",\"today\":\"N\",\"local\":null},{\"pid\":\"965\",\"name\":\"전기신문\",\"img\":\"https://s.pstatic.net/static/newsstand/up/2017/1201/nsd161818802.png\",\"cate\":\"ct7\",\"amigo\":\"N\",\"viewer\":\"Y\",\"today\":\"N\",\"local\":null},{\"pid\":\"966\",\"name\":\"정신의학신문\",\"img\":\"https://s.pstatic.net/static/newsstand/up/2017/1201/nsd161847464.png\",\"cate\":\"ct7\",\"amigo\":\"N\",\"viewer\":\"Y\",\"today\":\"N\",\"local\":null},{\"pid\":\"990\",\"name\":\"주간조선\",\"img\":\"https://s.pstatic.net/static/newsstand/up/2018/0913/nsd104554287.png\",\"cate\":\"ct7\",\"amigo\":\"N\",\"viewer\":\"Y\",\"today\":\"N\",\"local\":null},{\"pid\":\"361\",\"name\":\"채널예스\",\"img\":\"https://s.pstatic.net/static/newsstand/up/2017/0424/nsd164412540.png\",\"cate\":\"ct7\",\"amigo\":\"N\",\"viewer\":\"Y\",\"today\":\"N\",\"local\":null},{\"pid\":\"956\",\"name\":\"철강금속신문\",\"img\":\"https://s.pstatic.net/static/newsstand/up/2018/0406/nsd201637238.png\",\"cate\":\"ct7\",\"amigo\":\"N\",\"viewer\":\"Y\",\"today\":\"N\",\"local\":null},{\"pid\":\"928\",\"name\":\"컴퓨터월드\",\"img\":\"https://s.pstatic.net/static/newsstand/up/2017/0424/nsd17150763.png\",\"cate\":\"ct7\",\"amigo\":\"N\",\"viewer\":\"Y\",\"today\":\"N\",\"local\":null},{\"pid\":\"967\",\"name\":\"코리아쉬핑가제트\",\"img\":\"https://s.pstatic.net/static/newsstand/up/2017/1201/nsd162046351.png\",\"cate\":\"ct7\",\"amigo\":\"N\",\"viewer\":\"Y\",\"today\":\"N\",\"local\":null},{\"pid\":\"296\",\"name\":\"코메디닷컴\",\"img\":\"https://s.pstatic.net/static/newsstand/up/2017/0424/nsd172354656.png\",\"cate\":\"ct7\",\"amigo\":\"N\",\"viewer\":\"Y\",\"today\":\"N\",\"local\":null},{\"pid\":\"986\",\"name\":\"투데이신문\",\"img\":\"https://s.pstatic.net/static/newsstand/up/2018/0903/nsd92617272.png\",\"cate\":\"ct7\",\"amigo\":\"N\",\"viewer\":\"Y\",\"today\":\"N\",\"local\":null},{\"pid\":\"951\",\"name\":\"포브스코리아\",\"img\":\"https://s.pstatic.net/static/newsstand/up/2017/1122/nsd113546163.png\",\"cate\":\"ct7\",\"amigo\":\"N\",\"viewer\":\"Y\",\"today\":\"N\",\"local\":null},{\"pid\":\"948\",\"name\":\"한겨레21\",\"img\":\"https://s.pstatic.net/static/newsstand/up/2017/0424/nsd172654646.png\",\"cate\":\"ct7\",\"amigo\":\"N\",\"viewer\":\"Y\",\"today\":\"N\",\"local\":null},{\"pid\":\"050\",\"name\":\"한경비즈니스\",\"img\":\"https://s.pstatic.net/static/newsstand/up/2017/0424/nsd172712628.png\",\"cate\":\"ct7\",\"amigo\":\"N\",\"viewer\":\"Y\",\"today\":\"N\",\"local\":null},{\"pid\":\"384\",\"name\":\"한국대학신문\",\"img\":\"https://s.pstatic.net/static/newsstand/up/2017/0424/nsd172816434.png\",\"cate\":\"ct7\",\"amigo\":\"N\",\"viewer\":\"Y\",\"today\":\"N\",\"local\":null},{\"pid\":\"346\",\"name\":\"헬스조선\",\"img\":\"https://s.pstatic.net/static/newsstand/up/2017/0424/nsd172911723.png\",\"cate\":\"ct7\",\"amigo\":\"N\",\"viewer\":\"Y\",\"today\":\"N\",\"local\":null},{\"pid\":\"806\",\"name\":\"MONEY\",\"img\":\"https://s.pstatic.net/static/newsstand/up/2019/0319/nsd13114644.png\",\"cate\":\"ct7\",\"amigo\":\"N\",\"viewer\":\"Y\",\"today\":\"N\",\"local\":null},{\"pid\":\"364\",\"name\":\"PC사랑\",\"img\":\"https://s.pstatic.net/static/newsstand/up/2017/0424/nsd173322105.png\",\"cate\":\"ct7\",\"amigo\":\"N\",\"viewer\":\"Y\",\"today\":\"N\",\"local\":null},{\"pid\":\"949\",\"name\":\"TheAsiaN\",\"img\":\"https://s.pstatic.net/static/newsstand/up/2017/0424/nsd173523100.png\",\"cate\":\"ct7\",\"amigo\":\"N\",\"viewer\":\"Y\",\"today\":\"N\",\"local\":null}],\"ct8\":[{\"pid\":\"335\",\"name\":\"강원도민일보\",\"img\":\"https://s.pstatic.net/static/newsstand/up/2017/0424/nsd14341394.png\",\"cate\":\"ct8\",\"amigo\":\"N\",\"viewer\":\"Y\",\"today\":\"N\",\"local\":[{\"name\":\"강원\",\"code\":\"01\"}]},{\"pid\":\"087\",\"name\":\"강원일보\",\"img\":\"https://s.pstatic.net/static/newsstand/up/2017/0424/nsd143434899.png\",\"cate\":\"ct8\",\"amigo\":\"N\",\"viewer\":\"Y\",\"today\":\"N\",\"local\":[{\"name\":\"강원\",\"code\":\"01\"}]},{\"pid\":\"339\",\"name\":\"경기일보\",\"img\":\"https://s.pstatic.net/static/newsstand/up/2017/0424/nsd143511509.png\",\"cate\":\"ct8\",\"amigo\":\"N\",\"viewer\":\"Y\",\"today\":\"N\",\"local\":[{\"name\":\"경기\",\"code\":\"02\"},{\"name\":\"인천\",\"code\":\"11\"}]},{\"pid\":\"333\",\"name\":\"경남신문\",\"img\":\"https://s.pstatic.net/static/newsstand/up/2017/0424/nsd143531816.png\",\"cate\":\"ct8\",\"amigo\":\"N\",\"viewer\":\"Y\",\"today\":\"N\",\"local\":[{\"name\":\"경남\",\"code\":\"03\"},{\"name\":\"부산\",\"code\":\"08\"},{\"name\":\"울산\",\"code\":\"10\"}]},{\"pid\":\"978\",\"name\":\"경북도민일보\",\"img\":\"https://s.pstatic.net/static/newsstand/up/2017/1214/nsd111929299.png\",\"cate\":\"ct8\",\"amigo\":\"N\",\"viewer\":\"Y\",\"today\":\"N\",\"local\":[{\"name\":\"경북\",\"code\":\"04\"},{\"name\":\"대구\",\"code\":\"06\"}]},{\"pid\":\"907\",\"name\":\"경북매일신문\",\"img\":\"https://s.pstatic.net/static/newsstand/up/2017/0424/nsd143555345.png\",\"cate\":\"ct8\",\"amigo\":\"N\",\"viewer\":\"Y\",\"today\":\"N\",\"local\":[{\"name\":\"경북\",\"code\":\"04\"},{\"name\":\"대구\",\"code\":\"06\"}]},{\"pid\":\"337\",\"name\":\"경북일보\",\"img\":\"https://s.pstatic.net/static/newsstand/up/2017/0424/nsd143612100.png\",\"cate\":\"ct8\",\"amigo\":\"N\",\"viewer\":\"Y\",\"today\":\"N\",\"local\":[{\"name\":\"경북\",\"code\":\"04\"},{\"name\":\"대구\",\"code\":\"06\"},{\"name\":\"울산\",\"code\":\"10\"}]},{\"pid\":\"935\",\"name\":\"경상일보\",\"img\":\"https://s.pstatic.net/static/newsstand/up/2017/0424/nsd143628241.png\",\"cate\":\"ct8\",\"amigo\":\"N\",\"viewer\":\"Y\",\"today\":\"N\",\"local\":[{\"name\":\"울산\",\"code\":\"10\"}]},{\"pid\":\"338\",\"name\":\"경인일보\",\"img\":\"https://s.pstatic.net/static/newsstand/up/2017/0424/nsd143645415.png\",\"cate\":\"ct8\",\"amigo\":\"N\",\"viewer\":\"Y\",\"today\":\"N\",\"local\":[{\"name\":\"경기\",\"code\":\"02\"},{\"name\":\"인천\",\"code\":\"11\"}]},{\"pid\":\"301\",\"name\":\"광주드림\",\"img\":\"https://s.pstatic.net/static/newsstand/up/2017/1201/nsd17629468.png\",\"cate\":\"ct8\",\"amigo\":\"N\",\"viewer\":\"Y\",\"today\":\"N\",\"local\":[{\"name\":\"광주\",\"code\":\"05\"}]},{\"pid\":\"083\",\"name\":\"광주일보\",\"img\":\"https://s.pstatic.net/static/newsstand/up/2017/0424/nsd143742681.png\",\"cate\":\"ct8\",\"amigo\":\"N\",\"viewer\":\"Y\",\"today\":\"N\",\"local\":[{\"name\":\"광주\",\"code\":\"05\"},{\"name\":\"전남\",\"code\":\"12\"}]},{\"pid\":\"332\",\"name\":\"국제신문\",\"img\":\"https://s.pstatic.net/static/newsstand/up/2017/0424/nsd143844997.png\",\"cate\":\"ct8\",\"amigo\":\"N\",\"viewer\":\"Y\",\"today\":\"N\",\"local\":[{\"name\":\"경남\",\"code\":\"03\"},{\"name\":\"부산\",\"code\":\"08\"},{\"name\":\"울산\",\"code\":\"10\"}]},{\"pid\":\"909\",\"name\":\"기호일보\",\"img\":\"https://s.pstatic.net/static/newsstand/up/2017/0424/nsd14392544.png\",\"cate\":\"ct8\",\"amigo\":\"N\",\"viewer\":\"Y\",\"today\":\"N\",\"local\":[{\"name\":\"경기\",\"code\":\"02\"},{\"name\":\"인천\",\"code\":\"11\"}]},{\"pid\":\"936\",\"name\":\"대구일보\",\"img\":\"https://s.pstatic.net/static/newsstand/up/2017/0424/nsd144433908.png\",\"cate\":\"ct8\",\"amigo\":\"N\",\"viewer\":\"Y\",\"today\":\"N\",\"local\":[{\"name\":\"경북\",\"code\":\"04\"},{\"name\":\"대구\",\"code\":\"06\"}]},{\"pid\":\"089\",\"name\":\"대전일보\",\"img\":\"https://s.pstatic.net/static/newsstand/up/2017/0424/nsd144457151.png\",\"cate\":\"ct8\",\"amigo\":\"N\",\"viewer\":\"Y\",\"today\":\"N\",\"local\":[{\"name\":\"대전\",\"code\":\"07\"},{\"name\":\"충남\",\"code\":\"15\"},{\"name\":\"충북\",\"code\":\"16\"},{\"name\":\"세종\",\"code\":\"17\"}]},{\"pid\":\"088\",\"name\":\"매일신문\",\"img\":\"https://s.pstatic.net/static/newsstand/up/2017/0424/nsd14505572.png\",\"cate\":\"ct8\",\"amigo\":\"N\",\"viewer\":\"Y\",\"today\":\"N\",\"local\":[{\"name\":\"경북\",\"code\":\"04\"},{\"name\":\"대구\",\"code\":\"06\"}]},{\"pid\":\"976\",\"name\":\"무등일보\",\"img\":\"https://s.pstatic.net/static/newsstand/up/2017/1221/nsd13422489.png\",\"cate\":\"ct8\",\"amigo\":\"N\",\"viewer\":\"Y\",\"today\":\"N\",\"local\":[{\"name\":\"광주\",\"code\":\"05\"},{\"name\":\"전남\",\"code\":\"12\"}]},{\"pid\":\"082\",\"name\":\"부산일보\",\"img\":\"https://s.pstatic.net/static/newsstand/up/2017/0424/nsd145450220.png\",\"cate\":\"ct8\",\"amigo\":\"N\",\"viewer\":\"Y\",\"today\":\"N\",\"local\":[{\"name\":\"경남\",\"code\":\"03\"},{\"name\":\"부산\",\"code\":\"08\"},{\"name\":\"울산\",\"code\":\"10\"}]},{\"pid\":\"385\",\"name\":\"영남일보\",\"img\":\"https://s.pstatic.net/static/newsstand/up/2017/0424/nsd154255890.png\",\"cate\":\"ct8\",\"amigo\":\"N\",\"viewer\":\"Y\",\"today\":\"N\",\"local\":[{\"name\":\"경북\",\"code\":\"04\"},{\"name\":\"대구\",\"code\":\"06\"}]},{\"pid\":\"387\",\"name\":\"인천일보\",\"img\":\"https://s.pstatic.net/static/newsstand/up/2017/0424/nsd154558680.png\",\"cate\":\"ct8\",\"amigo\":\"N\",\"viewer\":\"Y\",\"today\":\"N\",\"local\":[{\"name\":\"경기\",\"code\":\"02\"},{\"name\":\"인천\",\"code\":\"11\"}]},{\"pid\":\"388\",\"name\":\"전남일보\",\"img\":\"https://s.pstatic.net/static/newsstand/up/2019/0207/nsd141413617.png\",\"cate\":\"ct8\",\"amigo\":\"N\",\"viewer\":\"Y\",\"today\":\"N\",\"local\":[{\"name\":\"광주\",\"code\":\"05\"},{\"name\":\"전남\",\"code\":\"12\"}]},{\"pid\":\"937\",\"name\":\"전북도민일보\",\"img\":\"https://s.pstatic.net/static/newsstand/up/2017/0424/nsd16244628.png\",\"cate\":\"ct8\",\"amigo\":\"N\",\"viewer\":\"Y\",\"today\":\"N\",\"local\":[{\"name\":\"전북\",\"code\":\"13\"}]},{\"pid\":\"336\",\"name\":\"전북일보\",\"img\":\"https://s.pstatic.net/static/newsstand/up/2017/0424/nsd16256807.png\",\"cate\":\"ct8\",\"amigo\":\"N\",\"viewer\":\"Y\",\"today\":\"N\",\"local\":[{\"name\":\"전북\",\"code\":\"13\"}]},{\"pid\":\"901\",\"name\":\"제민일보\",\"img\":\"https://s.pstatic.net/static/newsstand/up/2017/0424/nsd16254923.png\",\"cate\":\"ct8\",\"amigo\":\"N\",\"viewer\":\"Y\",\"today\":\"N\",\"local\":[{\"name\":\"제주\",\"code\":\"14\"}]},{\"pid\":\"389\",\"name\":\"제주도민일보\",\"img\":\"https://s.pstatic.net/static/newsstand/up/2017/0424/nsd1626960.png\",\"cate\":\"ct8\",\"amigo\":\"N\",\"viewer\":\"Y\",\"today\":\"N\",\"local\":[{\"name\":\"제주\",\"code\":\"14\"}]},{\"pid\":\"334\",\"name\":\"제주의소리\",\"img\":\"https://s.pstatic.net/static/newsstand/up/2017/0424/nsd162631114.png\",\"cate\":\"ct8\",\"amigo\":\"N\",\"viewer\":\"Y\",\"today\":\"N\",\"local\":[{\"name\":\"제주\",\"code\":\"14\"}]},{\"pid\":\"390\",\"name\":\"중도일보\",\"img\":\"https://s.pstatic.net/static/newsstand/up/2017/0424/nsd162822857.png\",\"cate\":\"ct8\",\"amigo\":\"N\",\"viewer\":\"Y\",\"today\":\"N\",\"local\":[{\"name\":\"대전\",\"code\":\"07\"},{\"name\":\"충남\",\"code\":\"15\"}]},{\"pid\":\"983\",\"name\":\"중부매일신문\",\"img\":\"https://s.pstatic.net/static/newsstand/up/2018/0212/nsd162058391.png\",\"cate\":\"ct8\",\"amigo\":\"N\",\"viewer\":\"Y\",\"today\":\"N\",\"local\":[{\"name\":\"대전\",\"code\":\"07\"},{\"name\":\"충남\",\"code\":\"15\"},{\"name\":\"충북\",\"code\":\"16\"},{\"name\":\"세종\",\"code\":\"17\"}]},{\"pid\":\"926\",\"name\":\"중부일보\",\"img\":\"https://s.pstatic.net/static/newsstand/up/2017/0424/nsd162931439.png\",\"cate\":\"ct8\",\"amigo\":\"N\",\"viewer\":\"Y\",\"today\":\"N\",\"local\":[{\"name\":\"경기\",\"code\":\"02\"},{\"name\":\"인천\",\"code\":\"11\"}]},{\"pid\":\"927\",\"name\":\"충북일보\",\"img\":\"https://s.pstatic.net/static/newsstand/up/2017/0424/nsd164449667.png\",\"cate\":\"ct8\",\"amigo\":\"N\",\"viewer\":\"Y\",\"today\":\"N\",\"local\":[{\"name\":\"충북\",\"code\":\"16\"},{\"name\":\"세종\",\"code\":\"17\"}]},{\"pid\":\"391\",\"name\":\"충청일보\",\"img\":\"https://s.pstatic.net/static/newsstand/up/2017/0424/nsd17115481.png\",\"cate\":\"ct8\",\"amigo\":\"N\",\"viewer\":\"Y\",\"today\":\"N\",\"local\":[{\"name\":\"대전\",\"code\":\"07\"},{\"name\":\"충남\",\"code\":\"15\"},{\"name\":\"충북\",\"code\":\"16\"},{\"name\":\"세종\",\"code\":\"17\"}]},{\"pid\":\"331\",\"name\":\"충청투데이\",\"img\":\"https://s.pstatic.net/static/newsstand/up/2017/0424/nsd17133978.png\",\"cate\":\"ct8\",\"amigo\":\"N\",\"viewer\":\"Y\",\"today\":\"N\",\"local\":[{\"name\":\"대전\",\"code\":\"07\"},{\"name\":\"충남\",\"code\":\"15\"},{\"name\":\"충북\",\"code\":\"16\"},{\"name\":\"세종\",\"code\":\"17\"}]},{\"pid\":\"987\",\"name\":\"한라일보\",\"img\":\"https://s.pstatic.net/static/newsstand/up/2018/0917/nsd1045519.png\",\"cate\":\"ct8\",\"amigo\":\"N\",\"viewer\":\"Y\",\"today\":\"N\",\"local\":null}]},\\n\\t\\t\\t\\t\\tisSupportedFlicking : false\\n    \\t\\t    });\\n\\n\\t\\t\\t\\tnew naver.main.Timesquare({\\n    \\t    \\t    aOrderedPanel : [{\"code\":\"weather\",\"name\":\"날씨\"},{\"code\":\"news\",\"name\":\"뉴스\"},{\"code\":\"sports\",\"name\":\"스포츠\"},{\"code\":\"finance\",\"name\":\"금융\"},{\"code\":\"conversation\",\"name\":\"회화\"},{\"code\":\"lifetools\",\"name\":\"생활도구\"}],\\n        \\t    \\tisSupportedFlicking : false\\n\\t\\t        });\\n\\n\\t\\t\\t\\tnew naver.main.RealtimeKeyword();\\n\\t\\t\\t\\tif ( !($Agent().navigator().ie && $Agent().navigator().version <= 8) ) {\\t\\n\\t\\t\\t\\t\\tnaver_adbd.Manager().activate();\\n\\t\\t\\t\\t}\\n\\n\\t\\t\\t\\tnaver.main.SchoolFixed.init(\"(none)\");\\n\\t\\t\\t\\tnaver.main.bestseller.init();\\n\\t\\t\\t\\t\\n\\t\\t\\t\\tsetTimeout(function() {\\n\\t\\t\\t\\t\\tif (iframeLazyLoad) {\\n\\t\\t\\t\\t\\t\\t$Element(\"da_iframe_time\").attr(\"src\", urlDaIframeTime);\\n\\t\\t\\t\\t\\t\\tvar welMinime = $Element(\"minime\");\\n\\t\\t\\t\\t\\t\\tif (welMinime) {\\n\\t\\t\\t\\t\\t\\t\\twelMinime.attr(\"src\", urlMinime);\\n\\t\\t\\t\\t\\t\\t}\\n\\t\\t\\t\\t\\t\\t$Element(\"da_iframe_rolling\").attr(\"src\", urlDaIframeRolling);\\n\\t\\t\\t\\t\\t\\t$Element(\"cnsv_shbx\").attr(\"src\", urlCnsvShbx);\\n\\t\\t\\t\\t\\t\\t$Element(\"da_iframe_below\").attr(\"src\", urlDaIframeBelow);\\n\\t\\t\\t\\t\\t}\\n\\t\\t\\t\\t\\t//console.log(performance.timing.loadEventEnd - performance.timing.navigationStart);\\n\\t\\t\\t\\t}, 0);\\n\\n\\t\\t\\t});\\n\\t\\t}\\n\\n\\t\\tif (window.addEventListener) { \\n\\t\\t\\twindow.addEventListener(\"load\", function() { loadJS(); }, true);\\n\\t\\t} else if (window.attachEvent) { \\n\\t\\t\\twindow.attachEvent(\"onload\", loadJS);\\n\\t\\t} else {\\n\\t\\t\\twindow.onload = loadJS;\\n\\t\\t}\\n\\t\\t\\n\\t</script>\\n</body>\\n</html>\\n'"
            ]
          },
          "metadata": {
            "tags": []
          },
          "execution_count": 10
        }
      ]
    },
    {
      "metadata": {
        "id": "WmbULRzN7SPG",
        "colab_type": "text"
      },
      "cell_type": "markdown",
      "source": [
        "#네이버 실시간 급상승 크롤링 - 정규식"
      ]
    },
    {
      "metadata": {
        "id": "tlf8hlHE45HK",
        "colab_type": "code",
        "outputId": "99c38c64-c5c0-4dec-d9d9-a249ea4a47fa",
        "colab": {
          "base_uri": "https://localhost:8080/",
          "height": 721
        }
      },
      "cell_type": "code",
      "source": [
        "#정규식\n",
        "\n",
        "#-> 비정형데이터\n",
        "\n",
        "#findall -> 특정패턴검색\n",
        "import re\n",
        "r=requests. get('http://naver.com')\n",
        "\n",
        "re.findall('<span class=\"ah_k\">(.*?)</span>',r.text) # 인기검색어 코드추출"
      ],
      "execution_count": 0,
      "outputs": [
        {
          "output_type": "execute_result",
          "data": {
            "text/plain": [
              "['차우찬',\n",
              " '송다예',\n",
              " '김기훈',\n",
              " '헤어볼',\n",
              " '김의겸',\n",
              " '고양이 헤어볼',\n",
              " '윤균상',\n",
              " '모하비',\n",
              " '기아 김기훈',\n",
              " '튀김족발',\n",
              " '생방송투데이',\n",
              " '라이프 오브 파이',\n",
              " '고준희',\n",
              " '일품솥밥정식',\n",
              " '김상혁',\n",
              " '조동호',\n",
              " '맘스터치 언빌리버블',\n",
              " '희생부활자',\n",
              " '윤성빈',\n",
              " '어스 해석',\n",
              " '차우찬',\n",
              " '송다예',\n",
              " '김기훈',\n",
              " '헤어볼',\n",
              " '김의겸',\n",
              " '고양이 헤어볼',\n",
              " '윤균상',\n",
              " '모하비',\n",
              " '기아 김기훈',\n",
              " '튀김족발',\n",
              " '생방송투데이',\n",
              " '라이프 오브 파이',\n",
              " '고준희',\n",
              " '일품솥밥정식',\n",
              " '김상혁',\n",
              " '조동호',\n",
              " '맘스터치 언빌리버블',\n",
              " '희생부활자',\n",
              " '윤성빈',\n",
              " '어스 해석']"
            ]
          },
          "metadata": {
            "tags": []
          },
          "execution_count": 15
        }
      ]
    },
    {
      "metadata": {
        "id": "uUpojoXX6sJJ",
        "colab_type": "code",
        "outputId": "ce4b8bd3-4c1f-4058-9f0e-7574d01b3b84",
        "colab": {
          "base_uri": "https://localhost:8080/",
          "height": 34
        }
      },
      "cell_type": "code",
      "source": [
        "import re\n",
        "r=requests. get('http://naver.com')\n",
        "\n",
        "lst=re.findall('<span class=\"ah_k\">(.*?)</span>',r.text) # 인기검색어 코드추출 \n",
        "\n",
        "lst[:10] #상위 10개"
      ],
      "execution_count": 0,
      "outputs": [
        {
          "output_type": "execute_result",
          "data": {
            "text/plain": [
              "['차우찬', '송다예', '김기훈', '헤어볼', '고양이 헤어볼', '김의겸', '윤균상', '모하비', '기아 김기훈', '튀김족발']"
            ]
          },
          "metadata": {
            "tags": []
          },
          "execution_count": 17
        }
      ]
    },
    {
      "metadata": {
        "id": "OY-dp5vN7vaB",
        "colab_type": "text"
      },
      "cell_type": "markdown",
      "source": [
        "# 네이버 실검 순위\n",
        "\n",
        "http://rank.search.naver.com/rank.js"
      ]
    },
    {
      "metadata": {
        "id": "3QEiJ6YE8ZPi",
        "colab_type": "text"
      },
      "cell_type": "markdown",
      "source": [
        "{\n",
        "\t\"ts\": \"2019-03-28T19:54:00+0900\",\n",
        "  \n",
        "\t\"st\": \"2019-03-28T19:54:00+0900\",\n",
        "\t\n",
        "  \"et\": \"2019-03-28T19:54:00+0900\",\n",
        "\t\n",
        "  \"data\": [ //행\n",
        "\t\n",
        "  {\n",
        "\t\n",
        "  \"category\": \"general\",\n",
        "\t\n",
        "                        \"data\": [//열\n",
        "\n",
        "                            {\n",
        "\n",
        "                            \"rank\": 1,\n",
        "\n",
        "                            \"keyword\": \"차우찬\",\n",
        "\n",
        "                            \"change\": \"+\",\n",
        "\n",
        "                            \"score\": 0,\n",
        "\n",
        "                            \"tvalue\": 0.0,\n",
        "\n",
        "                            \"cvalue\": 0.0,\n",
        "\n",
        "                            \"ratio\": \".\",\n",
        "\n",
        "                            \"delta\": 0\n",
        "\n",
        "                            },\n",
        "\t\t\t\t"
      ]
    },
    {
      "metadata": {
        "id": "9YslzVEd7fVT",
        "colab_type": "code",
        "outputId": "9380d260-a03d-45b3-ccd6-67e1a025cbf8",
        "colab": {
          "base_uri": "https://localhost:8080/",
          "height": 639
        }
      },
      "cell_type": "code",
      "source": [
        "# json-> 자바 스크립트, open API\n",
        "\n",
        "import json, requests\n",
        "from pandas.io.json import json_normalize\n",
        "\n",
        "r = requests.get('http://rank.search.naver.com/rank.js')\n",
        "json_normalize(json.loads(r.text), ['data', 'data'])\n",
        "## 실습"
      ],
      "execution_count": 0,
      "outputs": [
        {
          "output_type": "execute_result",
          "data": {
            "text/html": [
              "<div>\n",
              "<style scoped>\n",
              "    .dataframe tbody tr th:only-of-type {\n",
              "        vertical-align: middle;\n",
              "    }\n",
              "\n",
              "    .dataframe tbody tr th {\n",
              "        vertical-align: top;\n",
              "    }\n",
              "\n",
              "    .dataframe thead th {\n",
              "        text-align: right;\n",
              "    }\n",
              "</style>\n",
              "<table border=\"1\" class=\"dataframe\">\n",
              "  <thead>\n",
              "    <tr style=\"text-align: right;\">\n",
              "      <th></th>\n",
              "      <th>change</th>\n",
              "      <th>cvalue</th>\n",
              "      <th>delta</th>\n",
              "      <th>keyword</th>\n",
              "      <th>rank</th>\n",
              "      <th>ratio</th>\n",
              "      <th>score</th>\n",
              "      <th>tvalue</th>\n",
              "    </tr>\n",
              "  </thead>\n",
              "  <tbody>\n",
              "    <tr>\n",
              "      <th>0</th>\n",
              "      <td>+</td>\n",
              "      <td>0.0</td>\n",
              "      <td>0</td>\n",
              "      <td>차우찬</td>\n",
              "      <td>1</td>\n",
              "      <td>.</td>\n",
              "      <td>0</td>\n",
              "      <td>0.0</td>\n",
              "    </tr>\n",
              "    <tr>\n",
              "      <th>1</th>\n",
              "      <td>+</td>\n",
              "      <td>0.0</td>\n",
              "      <td>0</td>\n",
              "      <td>송다예</td>\n",
              "      <td>2</td>\n",
              "      <td>.</td>\n",
              "      <td>0</td>\n",
              "      <td>0.0</td>\n",
              "    </tr>\n",
              "    <tr>\n",
              "      <th>2</th>\n",
              "      <td>+</td>\n",
              "      <td>0.0</td>\n",
              "      <td>0</td>\n",
              "      <td>김기훈</td>\n",
              "      <td>3</td>\n",
              "      <td>.</td>\n",
              "      <td>0</td>\n",
              "      <td>0.0</td>\n",
              "    </tr>\n",
              "    <tr>\n",
              "      <th>3</th>\n",
              "      <td>+</td>\n",
              "      <td>0.0</td>\n",
              "      <td>0</td>\n",
              "      <td>헤어볼</td>\n",
              "      <td>4</td>\n",
              "      <td>.</td>\n",
              "      <td>0</td>\n",
              "      <td>0.0</td>\n",
              "    </tr>\n",
              "    <tr>\n",
              "      <th>4</th>\n",
              "      <td>+</td>\n",
              "      <td>0.0</td>\n",
              "      <td>0</td>\n",
              "      <td>고양이 헤어볼</td>\n",
              "      <td>5</td>\n",
              "      <td>.</td>\n",
              "      <td>0</td>\n",
              "      <td>0.0</td>\n",
              "    </tr>\n",
              "    <tr>\n",
              "      <th>5</th>\n",
              "      <td>+</td>\n",
              "      <td>0.0</td>\n",
              "      <td>0</td>\n",
              "      <td>김의겸</td>\n",
              "      <td>6</td>\n",
              "      <td>.</td>\n",
              "      <td>0</td>\n",
              "      <td>0.0</td>\n",
              "    </tr>\n",
              "    <tr>\n",
              "      <th>6</th>\n",
              "      <td>+</td>\n",
              "      <td>0.0</td>\n",
              "      <td>0</td>\n",
              "      <td>윤균상</td>\n",
              "      <td>7</td>\n",
              "      <td>.</td>\n",
              "      <td>0</td>\n",
              "      <td>0.0</td>\n",
              "    </tr>\n",
              "    <tr>\n",
              "      <th>7</th>\n",
              "      <td>+</td>\n",
              "      <td>0.0</td>\n",
              "      <td>0</td>\n",
              "      <td>모하비</td>\n",
              "      <td>8</td>\n",
              "      <td>.</td>\n",
              "      <td>0</td>\n",
              "      <td>0.0</td>\n",
              "    </tr>\n",
              "    <tr>\n",
              "      <th>8</th>\n",
              "      <td>+</td>\n",
              "      <td>0.0</td>\n",
              "      <td>0</td>\n",
              "      <td>기아 김기훈</td>\n",
              "      <td>9</td>\n",
              "      <td>.</td>\n",
              "      <td>0</td>\n",
              "      <td>0.0</td>\n",
              "    </tr>\n",
              "    <tr>\n",
              "      <th>9</th>\n",
              "      <td>+</td>\n",
              "      <td>0.0</td>\n",
              "      <td>0</td>\n",
              "      <td>튀김족발</td>\n",
              "      <td>10</td>\n",
              "      <td>.</td>\n",
              "      <td>0</td>\n",
              "      <td>0.0</td>\n",
              "    </tr>\n",
              "    <tr>\n",
              "      <th>10</th>\n",
              "      <td>+</td>\n",
              "      <td>0.0</td>\n",
              "      <td>0</td>\n",
              "      <td>생방송투데이</td>\n",
              "      <td>11</td>\n",
              "      <td>.</td>\n",
              "      <td>0</td>\n",
              "      <td>0.0</td>\n",
              "    </tr>\n",
              "    <tr>\n",
              "      <th>11</th>\n",
              "      <td>+</td>\n",
              "      <td>0.0</td>\n",
              "      <td>0</td>\n",
              "      <td>일품솥밥정식</td>\n",
              "      <td>12</td>\n",
              "      <td>.</td>\n",
              "      <td>0</td>\n",
              "      <td>0.0</td>\n",
              "    </tr>\n",
              "    <tr>\n",
              "      <th>12</th>\n",
              "      <td>+</td>\n",
              "      <td>0.0</td>\n",
              "      <td>0</td>\n",
              "      <td>고준희</td>\n",
              "      <td>13</td>\n",
              "      <td>.</td>\n",
              "      <td>0</td>\n",
              "      <td>0.0</td>\n",
              "    </tr>\n",
              "    <tr>\n",
              "      <th>13</th>\n",
              "      <td>+</td>\n",
              "      <td>0.0</td>\n",
              "      <td>0</td>\n",
              "      <td>라이프 오브 파이</td>\n",
              "      <td>14</td>\n",
              "      <td>.</td>\n",
              "      <td>0</td>\n",
              "      <td>0.0</td>\n",
              "    </tr>\n",
              "    <tr>\n",
              "      <th>14</th>\n",
              "      <td>+</td>\n",
              "      <td>0.0</td>\n",
              "      <td>0</td>\n",
              "      <td>김상혁</td>\n",
              "      <td>15</td>\n",
              "      <td>.</td>\n",
              "      <td>0</td>\n",
              "      <td>0.0</td>\n",
              "    </tr>\n",
              "    <tr>\n",
              "      <th>15</th>\n",
              "      <td>+</td>\n",
              "      <td>0.0</td>\n",
              "      <td>0</td>\n",
              "      <td>맘스터치 언빌리버블</td>\n",
              "      <td>16</td>\n",
              "      <td>.</td>\n",
              "      <td>0</td>\n",
              "      <td>0.0</td>\n",
              "    </tr>\n",
              "    <tr>\n",
              "      <th>16</th>\n",
              "      <td>+</td>\n",
              "      <td>0.0</td>\n",
              "      <td>0</td>\n",
              "      <td>조동호</td>\n",
              "      <td>17</td>\n",
              "      <td>.</td>\n",
              "      <td>0</td>\n",
              "      <td>0.0</td>\n",
              "    </tr>\n",
              "    <tr>\n",
              "      <th>17</th>\n",
              "      <td>+</td>\n",
              "      <td>0.0</td>\n",
              "      <td>0</td>\n",
              "      <td>윤성빈</td>\n",
              "      <td>18</td>\n",
              "      <td>.</td>\n",
              "      <td>0</td>\n",
              "      <td>0.0</td>\n",
              "    </tr>\n",
              "    <tr>\n",
              "      <th>18</th>\n",
              "      <td>+</td>\n",
              "      <td>0.0</td>\n",
              "      <td>0</td>\n",
              "      <td>어스 해석</td>\n",
              "      <td>19</td>\n",
              "      <td>.</td>\n",
              "      <td>0</td>\n",
              "      <td>0.0</td>\n",
              "    </tr>\n",
              "    <tr>\n",
              "      <th>19</th>\n",
              "      <td>+</td>\n",
              "      <td>0.0</td>\n",
              "      <td>0</td>\n",
              "      <td>희생부활자</td>\n",
              "      <td>20</td>\n",
              "      <td>.</td>\n",
              "      <td>0</td>\n",
              "      <td>0.0</td>\n",
              "    </tr>\n",
              "  </tbody>\n",
              "</table>\n",
              "</div>"
            ],
            "text/plain": [
              "   change  cvalue  delta     keyword  rank ratio  score  tvalue\n",
              "0       +     0.0      0         차우찬     1     .      0     0.0\n",
              "1       +     0.0      0         송다예     2     .      0     0.0\n",
              "2       +     0.0      0         김기훈     3     .      0     0.0\n",
              "3       +     0.0      0         헤어볼     4     .      0     0.0\n",
              "4       +     0.0      0     고양이 헤어볼     5     .      0     0.0\n",
              "5       +     0.0      0         김의겸     6     .      0     0.0\n",
              "6       +     0.0      0         윤균상     7     .      0     0.0\n",
              "7       +     0.0      0         모하비     8     .      0     0.0\n",
              "8       +     0.0      0      기아 김기훈     9     .      0     0.0\n",
              "9       +     0.0      0        튀김족발    10     .      0     0.0\n",
              "10      +     0.0      0      생방송투데이    11     .      0     0.0\n",
              "11      +     0.0      0      일품솥밥정식    12     .      0     0.0\n",
              "12      +     0.0      0         고준희    13     .      0     0.0\n",
              "13      +     0.0      0   라이프 오브 파이    14     .      0     0.0\n",
              "14      +     0.0      0         김상혁    15     .      0     0.0\n",
              "15      +     0.0      0  맘스터치 언빌리버블    16     .      0     0.0\n",
              "16      +     0.0      0         조동호    17     .      0     0.0\n",
              "17      +     0.0      0         윤성빈    18     .      0     0.0\n",
              "18      +     0.0      0       어스 해석    19     .      0     0.0\n",
              "19      +     0.0      0       희생부활자    20     .      0     0.0"
            ]
          },
          "metadata": {
            "tags": []
          },
          "execution_count": 18
        }
      ]
    },
    {
      "metadata": {
        "id": "_aqKprvq8B5q",
        "colab_type": "code",
        "outputId": "5dfd4d1f-cf5e-4fc7-dec2-e2a823ea604b",
        "colab": {
          "base_uri": "https://localhost:8080/",
          "height": 2903
        }
      },
      "cell_type": "code",
      "source": [
        "jo = json.loads(r.text)\n",
        "jo"
      ],
      "execution_count": 0,
      "outputs": [
        {
          "output_type": "execute_result",
          "data": {
            "text/plain": [
              "{'data': [{'category': 'general',\n",
              "   'data': [{'change': '+',\n",
              "     'cvalue': 0.0,\n",
              "     'delta': 0,\n",
              "     'keyword': '차우찬',\n",
              "     'rank': 1,\n",
              "     'ratio': '.',\n",
              "     'score': 0,\n",
              "     'tvalue': 0.0},\n",
              "    {'change': '+',\n",
              "     'cvalue': 0.0,\n",
              "     'delta': 0,\n",
              "     'keyword': '송다예',\n",
              "     'rank': 2,\n",
              "     'ratio': '.',\n",
              "     'score': 0,\n",
              "     'tvalue': 0.0},\n",
              "    {'change': '+',\n",
              "     'cvalue': 0.0,\n",
              "     'delta': 0,\n",
              "     'keyword': '김기훈',\n",
              "     'rank': 3,\n",
              "     'ratio': '.',\n",
              "     'score': 0,\n",
              "     'tvalue': 0.0},\n",
              "    {'change': '+',\n",
              "     'cvalue': 0.0,\n",
              "     'delta': 0,\n",
              "     'keyword': '헤어볼',\n",
              "     'rank': 4,\n",
              "     'ratio': '.',\n",
              "     'score': 0,\n",
              "     'tvalue': 0.0},\n",
              "    {'change': '+',\n",
              "     'cvalue': 0.0,\n",
              "     'delta': 0,\n",
              "     'keyword': '고양이 헤어볼',\n",
              "     'rank': 5,\n",
              "     'ratio': '.',\n",
              "     'score': 0,\n",
              "     'tvalue': 0.0},\n",
              "    {'change': '+',\n",
              "     'cvalue': 0.0,\n",
              "     'delta': 0,\n",
              "     'keyword': '김의겸',\n",
              "     'rank': 6,\n",
              "     'ratio': '.',\n",
              "     'score': 0,\n",
              "     'tvalue': 0.0},\n",
              "    {'change': '+',\n",
              "     'cvalue': 0.0,\n",
              "     'delta': 0,\n",
              "     'keyword': '윤균상',\n",
              "     'rank': 7,\n",
              "     'ratio': '.',\n",
              "     'score': 0,\n",
              "     'tvalue': 0.0},\n",
              "    {'change': '+',\n",
              "     'cvalue': 0.0,\n",
              "     'delta': 0,\n",
              "     'keyword': '모하비',\n",
              "     'rank': 8,\n",
              "     'ratio': '.',\n",
              "     'score': 0,\n",
              "     'tvalue': 0.0},\n",
              "    {'change': '+',\n",
              "     'cvalue': 0.0,\n",
              "     'delta': 0,\n",
              "     'keyword': '기아 김기훈',\n",
              "     'rank': 9,\n",
              "     'ratio': '.',\n",
              "     'score': 0,\n",
              "     'tvalue': 0.0},\n",
              "    {'change': '+',\n",
              "     'cvalue': 0.0,\n",
              "     'delta': 0,\n",
              "     'keyword': '튀김족발',\n",
              "     'rank': 10,\n",
              "     'ratio': '.',\n",
              "     'score': 0,\n",
              "     'tvalue': 0.0},\n",
              "    {'change': '+',\n",
              "     'cvalue': 0.0,\n",
              "     'delta': 0,\n",
              "     'keyword': '생방송투데이',\n",
              "     'rank': 11,\n",
              "     'ratio': '.',\n",
              "     'score': 0,\n",
              "     'tvalue': 0.0},\n",
              "    {'change': '+',\n",
              "     'cvalue': 0.0,\n",
              "     'delta': 0,\n",
              "     'keyword': '일품솥밥정식',\n",
              "     'rank': 12,\n",
              "     'ratio': '.',\n",
              "     'score': 0,\n",
              "     'tvalue': 0.0},\n",
              "    {'change': '+',\n",
              "     'cvalue': 0.0,\n",
              "     'delta': 0,\n",
              "     'keyword': '고준희',\n",
              "     'rank': 13,\n",
              "     'ratio': '.',\n",
              "     'score': 0,\n",
              "     'tvalue': 0.0},\n",
              "    {'change': '+',\n",
              "     'cvalue': 0.0,\n",
              "     'delta': 0,\n",
              "     'keyword': '라이프 오브 파이',\n",
              "     'rank': 14,\n",
              "     'ratio': '.',\n",
              "     'score': 0,\n",
              "     'tvalue': 0.0},\n",
              "    {'change': '+',\n",
              "     'cvalue': 0.0,\n",
              "     'delta': 0,\n",
              "     'keyword': '김상혁',\n",
              "     'rank': 15,\n",
              "     'ratio': '.',\n",
              "     'score': 0,\n",
              "     'tvalue': 0.0},\n",
              "    {'change': '+',\n",
              "     'cvalue': 0.0,\n",
              "     'delta': 0,\n",
              "     'keyword': '맘스터치 언빌리버블',\n",
              "     'rank': 16,\n",
              "     'ratio': '.',\n",
              "     'score': 0,\n",
              "     'tvalue': 0.0},\n",
              "    {'change': '+',\n",
              "     'cvalue': 0.0,\n",
              "     'delta': 0,\n",
              "     'keyword': '조동호',\n",
              "     'rank': 17,\n",
              "     'ratio': '.',\n",
              "     'score': 0,\n",
              "     'tvalue': 0.0},\n",
              "    {'change': '+',\n",
              "     'cvalue': 0.0,\n",
              "     'delta': 0,\n",
              "     'keyword': '윤성빈',\n",
              "     'rank': 18,\n",
              "     'ratio': '.',\n",
              "     'score': 0,\n",
              "     'tvalue': 0.0},\n",
              "    {'change': '+',\n",
              "     'cvalue': 0.0,\n",
              "     'delta': 0,\n",
              "     'keyword': '어스 해석',\n",
              "     'rank': 19,\n",
              "     'ratio': '.',\n",
              "     'score': 0,\n",
              "     'tvalue': 0.0},\n",
              "    {'change': '+',\n",
              "     'cvalue': 0.0,\n",
              "     'delta': 0,\n",
              "     'keyword': '희생부활자',\n",
              "     'rank': 20,\n",
              "     'ratio': '.',\n",
              "     'score': 0,\n",
              "     'tvalue': 0.0}]}],\n",
              " 'et': '2019-03-28T19:54:00+0900',\n",
              " 'st': '2019-03-28T19:54:00+0900',\n",
              " 'ts': '2019-03-28T19:54:00+0900'}"
            ]
          },
          "metadata": {
            "tags": []
          },
          "execution_count": 22
        }
      ]
    },
    {
      "metadata": {
        "id": "UU1cPXT-80JM",
        "colab_type": "code",
        "outputId": "c8d0d06d-c7e4-494f-b62f-0fc33f80a27d",
        "colab": {
          "base_uri": "https://localhost:8080/",
          "height": 639
        }
      },
      "cell_type": "code",
      "source": [
        "# 위 정보를 normalize -> 표 형태로\n",
        "\n",
        "#jo = json.loads(r.text) 이므로 jo 대입\n",
        "json_normalize(jo, ['data', 'data'])"
      ],
      "execution_count": 0,
      "outputs": [
        {
          "output_type": "execute_result",
          "data": {
            "text/html": [
              "<div>\n",
              "<style scoped>\n",
              "    .dataframe tbody tr th:only-of-type {\n",
              "        vertical-align: middle;\n",
              "    }\n",
              "\n",
              "    .dataframe tbody tr th {\n",
              "        vertical-align: top;\n",
              "    }\n",
              "\n",
              "    .dataframe thead th {\n",
              "        text-align: right;\n",
              "    }\n",
              "</style>\n",
              "<table border=\"1\" class=\"dataframe\">\n",
              "  <thead>\n",
              "    <tr style=\"text-align: right;\">\n",
              "      <th></th>\n",
              "      <th>change</th>\n",
              "      <th>cvalue</th>\n",
              "      <th>delta</th>\n",
              "      <th>keyword</th>\n",
              "      <th>rank</th>\n",
              "      <th>ratio</th>\n",
              "      <th>score</th>\n",
              "      <th>tvalue</th>\n",
              "    </tr>\n",
              "  </thead>\n",
              "  <tbody>\n",
              "    <tr>\n",
              "      <th>0</th>\n",
              "      <td>+</td>\n",
              "      <td>0.0</td>\n",
              "      <td>0</td>\n",
              "      <td>차우찬</td>\n",
              "      <td>1</td>\n",
              "      <td>.</td>\n",
              "      <td>0</td>\n",
              "      <td>0.0</td>\n",
              "    </tr>\n",
              "    <tr>\n",
              "      <th>1</th>\n",
              "      <td>+</td>\n",
              "      <td>0.0</td>\n",
              "      <td>0</td>\n",
              "      <td>송다예</td>\n",
              "      <td>2</td>\n",
              "      <td>.</td>\n",
              "      <td>0</td>\n",
              "      <td>0.0</td>\n",
              "    </tr>\n",
              "    <tr>\n",
              "      <th>2</th>\n",
              "      <td>+</td>\n",
              "      <td>0.0</td>\n",
              "      <td>0</td>\n",
              "      <td>김기훈</td>\n",
              "      <td>3</td>\n",
              "      <td>.</td>\n",
              "      <td>0</td>\n",
              "      <td>0.0</td>\n",
              "    </tr>\n",
              "    <tr>\n",
              "      <th>3</th>\n",
              "      <td>+</td>\n",
              "      <td>0.0</td>\n",
              "      <td>0</td>\n",
              "      <td>헤어볼</td>\n",
              "      <td>4</td>\n",
              "      <td>.</td>\n",
              "      <td>0</td>\n",
              "      <td>0.0</td>\n",
              "    </tr>\n",
              "    <tr>\n",
              "      <th>4</th>\n",
              "      <td>+</td>\n",
              "      <td>0.0</td>\n",
              "      <td>0</td>\n",
              "      <td>고양이 헤어볼</td>\n",
              "      <td>5</td>\n",
              "      <td>.</td>\n",
              "      <td>0</td>\n",
              "      <td>0.0</td>\n",
              "    </tr>\n",
              "    <tr>\n",
              "      <th>5</th>\n",
              "      <td>+</td>\n",
              "      <td>0.0</td>\n",
              "      <td>0</td>\n",
              "      <td>김의겸</td>\n",
              "      <td>6</td>\n",
              "      <td>.</td>\n",
              "      <td>0</td>\n",
              "      <td>0.0</td>\n",
              "    </tr>\n",
              "    <tr>\n",
              "      <th>6</th>\n",
              "      <td>+</td>\n",
              "      <td>0.0</td>\n",
              "      <td>0</td>\n",
              "      <td>윤균상</td>\n",
              "      <td>7</td>\n",
              "      <td>.</td>\n",
              "      <td>0</td>\n",
              "      <td>0.0</td>\n",
              "    </tr>\n",
              "    <tr>\n",
              "      <th>7</th>\n",
              "      <td>+</td>\n",
              "      <td>0.0</td>\n",
              "      <td>0</td>\n",
              "      <td>모하비</td>\n",
              "      <td>8</td>\n",
              "      <td>.</td>\n",
              "      <td>0</td>\n",
              "      <td>0.0</td>\n",
              "    </tr>\n",
              "    <tr>\n",
              "      <th>8</th>\n",
              "      <td>+</td>\n",
              "      <td>0.0</td>\n",
              "      <td>0</td>\n",
              "      <td>기아 김기훈</td>\n",
              "      <td>9</td>\n",
              "      <td>.</td>\n",
              "      <td>0</td>\n",
              "      <td>0.0</td>\n",
              "    </tr>\n",
              "    <tr>\n",
              "      <th>9</th>\n",
              "      <td>+</td>\n",
              "      <td>0.0</td>\n",
              "      <td>0</td>\n",
              "      <td>튀김족발</td>\n",
              "      <td>10</td>\n",
              "      <td>.</td>\n",
              "      <td>0</td>\n",
              "      <td>0.0</td>\n",
              "    </tr>\n",
              "    <tr>\n",
              "      <th>10</th>\n",
              "      <td>+</td>\n",
              "      <td>0.0</td>\n",
              "      <td>0</td>\n",
              "      <td>생방송투데이</td>\n",
              "      <td>11</td>\n",
              "      <td>.</td>\n",
              "      <td>0</td>\n",
              "      <td>0.0</td>\n",
              "    </tr>\n",
              "    <tr>\n",
              "      <th>11</th>\n",
              "      <td>+</td>\n",
              "      <td>0.0</td>\n",
              "      <td>0</td>\n",
              "      <td>일품솥밥정식</td>\n",
              "      <td>12</td>\n",
              "      <td>.</td>\n",
              "      <td>0</td>\n",
              "      <td>0.0</td>\n",
              "    </tr>\n",
              "    <tr>\n",
              "      <th>12</th>\n",
              "      <td>+</td>\n",
              "      <td>0.0</td>\n",
              "      <td>0</td>\n",
              "      <td>고준희</td>\n",
              "      <td>13</td>\n",
              "      <td>.</td>\n",
              "      <td>0</td>\n",
              "      <td>0.0</td>\n",
              "    </tr>\n",
              "    <tr>\n",
              "      <th>13</th>\n",
              "      <td>+</td>\n",
              "      <td>0.0</td>\n",
              "      <td>0</td>\n",
              "      <td>라이프 오브 파이</td>\n",
              "      <td>14</td>\n",
              "      <td>.</td>\n",
              "      <td>0</td>\n",
              "      <td>0.0</td>\n",
              "    </tr>\n",
              "    <tr>\n",
              "      <th>14</th>\n",
              "      <td>+</td>\n",
              "      <td>0.0</td>\n",
              "      <td>0</td>\n",
              "      <td>김상혁</td>\n",
              "      <td>15</td>\n",
              "      <td>.</td>\n",
              "      <td>0</td>\n",
              "      <td>0.0</td>\n",
              "    </tr>\n",
              "    <tr>\n",
              "      <th>15</th>\n",
              "      <td>+</td>\n",
              "      <td>0.0</td>\n",
              "      <td>0</td>\n",
              "      <td>맘스터치 언빌리버블</td>\n",
              "      <td>16</td>\n",
              "      <td>.</td>\n",
              "      <td>0</td>\n",
              "      <td>0.0</td>\n",
              "    </tr>\n",
              "    <tr>\n",
              "      <th>16</th>\n",
              "      <td>+</td>\n",
              "      <td>0.0</td>\n",
              "      <td>0</td>\n",
              "      <td>조동호</td>\n",
              "      <td>17</td>\n",
              "      <td>.</td>\n",
              "      <td>0</td>\n",
              "      <td>0.0</td>\n",
              "    </tr>\n",
              "    <tr>\n",
              "      <th>17</th>\n",
              "      <td>+</td>\n",
              "      <td>0.0</td>\n",
              "      <td>0</td>\n",
              "      <td>윤성빈</td>\n",
              "      <td>18</td>\n",
              "      <td>.</td>\n",
              "      <td>0</td>\n",
              "      <td>0.0</td>\n",
              "    </tr>\n",
              "    <tr>\n",
              "      <th>18</th>\n",
              "      <td>+</td>\n",
              "      <td>0.0</td>\n",
              "      <td>0</td>\n",
              "      <td>어스 해석</td>\n",
              "      <td>19</td>\n",
              "      <td>.</td>\n",
              "      <td>0</td>\n",
              "      <td>0.0</td>\n",
              "    </tr>\n",
              "    <tr>\n",
              "      <th>19</th>\n",
              "      <td>+</td>\n",
              "      <td>0.0</td>\n",
              "      <td>0</td>\n",
              "      <td>희생부활자</td>\n",
              "      <td>20</td>\n",
              "      <td>.</td>\n",
              "      <td>0</td>\n",
              "      <td>0.0</td>\n",
              "    </tr>\n",
              "  </tbody>\n",
              "</table>\n",
              "</div>"
            ],
            "text/plain": [
              "   change  cvalue  delta     keyword  rank ratio  score  tvalue\n",
              "0       +     0.0      0         차우찬     1     .      0     0.0\n",
              "1       +     0.0      0         송다예     2     .      0     0.0\n",
              "2       +     0.0      0         김기훈     3     .      0     0.0\n",
              "3       +     0.0      0         헤어볼     4     .      0     0.0\n",
              "4       +     0.0      0     고양이 헤어볼     5     .      0     0.0\n",
              "5       +     0.0      0         김의겸     6     .      0     0.0\n",
              "6       +     0.0      0         윤균상     7     .      0     0.0\n",
              "7       +     0.0      0         모하비     8     .      0     0.0\n",
              "8       +     0.0      0      기아 김기훈     9     .      0     0.0\n",
              "9       +     0.0      0        튀김족발    10     .      0     0.0\n",
              "10      +     0.0      0      생방송투데이    11     .      0     0.0\n",
              "11      +     0.0      0      일품솥밥정식    12     .      0     0.0\n",
              "12      +     0.0      0         고준희    13     .      0     0.0\n",
              "13      +     0.0      0   라이프 오브 파이    14     .      0     0.0\n",
              "14      +     0.0      0         김상혁    15     .      0     0.0\n",
              "15      +     0.0      0  맘스터치 언빌리버블    16     .      0     0.0\n",
              "16      +     0.0      0         조동호    17     .      0     0.0\n",
              "17      +     0.0      0         윤성빈    18     .      0     0.0\n",
              "18      +     0.0      0       어스 해석    19     .      0     0.0\n",
              "19      +     0.0      0       희생부활자    20     .      0     0.0"
            ]
          },
          "metadata": {
            "tags": []
          },
          "execution_count": 24
        }
      ]
    },
    {
      "metadata": {
        "id": "3AfuqRHR-4pu",
        "colab_type": "text"
      },
      "cell_type": "markdown",
      "source": [
        "## 위의 테이블을 파일로 만들어서 저장하기"
      ]
    },
    {
      "metadata": {
        "id": "KLqx6UQN-SVp",
        "colab_type": "code",
        "outputId": "22417c82-945d-4e53-973c-2354b183cfd7",
        "colab": {
          "base_uri": "https://localhost:8080/",
          "height": 639
        }
      },
      "cell_type": "code",
      "source": [
        "df = json_normalize(jo, ['data', 'data'])\n",
        "df"
      ],
      "execution_count": 0,
      "outputs": [
        {
          "output_type": "execute_result",
          "data": {
            "text/html": [
              "<div>\n",
              "<style scoped>\n",
              "    .dataframe tbody tr th:only-of-type {\n",
              "        vertical-align: middle;\n",
              "    }\n",
              "\n",
              "    .dataframe tbody tr th {\n",
              "        vertical-align: top;\n",
              "    }\n",
              "\n",
              "    .dataframe thead th {\n",
              "        text-align: right;\n",
              "    }\n",
              "</style>\n",
              "<table border=\"1\" class=\"dataframe\">\n",
              "  <thead>\n",
              "    <tr style=\"text-align: right;\">\n",
              "      <th></th>\n",
              "      <th>change</th>\n",
              "      <th>cvalue</th>\n",
              "      <th>delta</th>\n",
              "      <th>keyword</th>\n",
              "      <th>rank</th>\n",
              "      <th>ratio</th>\n",
              "      <th>score</th>\n",
              "      <th>tvalue</th>\n",
              "    </tr>\n",
              "  </thead>\n",
              "  <tbody>\n",
              "    <tr>\n",
              "      <th>0</th>\n",
              "      <td>+</td>\n",
              "      <td>0.0</td>\n",
              "      <td>0</td>\n",
              "      <td>차우찬</td>\n",
              "      <td>1</td>\n",
              "      <td>.</td>\n",
              "      <td>0</td>\n",
              "      <td>0.0</td>\n",
              "    </tr>\n",
              "    <tr>\n",
              "      <th>1</th>\n",
              "      <td>+</td>\n",
              "      <td>0.0</td>\n",
              "      <td>0</td>\n",
              "      <td>송다예</td>\n",
              "      <td>2</td>\n",
              "      <td>.</td>\n",
              "      <td>0</td>\n",
              "      <td>0.0</td>\n",
              "    </tr>\n",
              "    <tr>\n",
              "      <th>2</th>\n",
              "      <td>+</td>\n",
              "      <td>0.0</td>\n",
              "      <td>0</td>\n",
              "      <td>김기훈</td>\n",
              "      <td>3</td>\n",
              "      <td>.</td>\n",
              "      <td>0</td>\n",
              "      <td>0.0</td>\n",
              "    </tr>\n",
              "    <tr>\n",
              "      <th>3</th>\n",
              "      <td>+</td>\n",
              "      <td>0.0</td>\n",
              "      <td>0</td>\n",
              "      <td>헤어볼</td>\n",
              "      <td>4</td>\n",
              "      <td>.</td>\n",
              "      <td>0</td>\n",
              "      <td>0.0</td>\n",
              "    </tr>\n",
              "    <tr>\n",
              "      <th>4</th>\n",
              "      <td>+</td>\n",
              "      <td>0.0</td>\n",
              "      <td>0</td>\n",
              "      <td>고양이 헤어볼</td>\n",
              "      <td>5</td>\n",
              "      <td>.</td>\n",
              "      <td>0</td>\n",
              "      <td>0.0</td>\n",
              "    </tr>\n",
              "    <tr>\n",
              "      <th>5</th>\n",
              "      <td>+</td>\n",
              "      <td>0.0</td>\n",
              "      <td>0</td>\n",
              "      <td>김의겸</td>\n",
              "      <td>6</td>\n",
              "      <td>.</td>\n",
              "      <td>0</td>\n",
              "      <td>0.0</td>\n",
              "    </tr>\n",
              "    <tr>\n",
              "      <th>6</th>\n",
              "      <td>+</td>\n",
              "      <td>0.0</td>\n",
              "      <td>0</td>\n",
              "      <td>윤균상</td>\n",
              "      <td>7</td>\n",
              "      <td>.</td>\n",
              "      <td>0</td>\n",
              "      <td>0.0</td>\n",
              "    </tr>\n",
              "    <tr>\n",
              "      <th>7</th>\n",
              "      <td>+</td>\n",
              "      <td>0.0</td>\n",
              "      <td>0</td>\n",
              "      <td>모하비</td>\n",
              "      <td>8</td>\n",
              "      <td>.</td>\n",
              "      <td>0</td>\n",
              "      <td>0.0</td>\n",
              "    </tr>\n",
              "    <tr>\n",
              "      <th>8</th>\n",
              "      <td>+</td>\n",
              "      <td>0.0</td>\n",
              "      <td>0</td>\n",
              "      <td>기아 김기훈</td>\n",
              "      <td>9</td>\n",
              "      <td>.</td>\n",
              "      <td>0</td>\n",
              "      <td>0.0</td>\n",
              "    </tr>\n",
              "    <tr>\n",
              "      <th>9</th>\n",
              "      <td>+</td>\n",
              "      <td>0.0</td>\n",
              "      <td>0</td>\n",
              "      <td>튀김족발</td>\n",
              "      <td>10</td>\n",
              "      <td>.</td>\n",
              "      <td>0</td>\n",
              "      <td>0.0</td>\n",
              "    </tr>\n",
              "    <tr>\n",
              "      <th>10</th>\n",
              "      <td>+</td>\n",
              "      <td>0.0</td>\n",
              "      <td>0</td>\n",
              "      <td>생방송투데이</td>\n",
              "      <td>11</td>\n",
              "      <td>.</td>\n",
              "      <td>0</td>\n",
              "      <td>0.0</td>\n",
              "    </tr>\n",
              "    <tr>\n",
              "      <th>11</th>\n",
              "      <td>+</td>\n",
              "      <td>0.0</td>\n",
              "      <td>0</td>\n",
              "      <td>일품솥밥정식</td>\n",
              "      <td>12</td>\n",
              "      <td>.</td>\n",
              "      <td>0</td>\n",
              "      <td>0.0</td>\n",
              "    </tr>\n",
              "    <tr>\n",
              "      <th>12</th>\n",
              "      <td>+</td>\n",
              "      <td>0.0</td>\n",
              "      <td>0</td>\n",
              "      <td>고준희</td>\n",
              "      <td>13</td>\n",
              "      <td>.</td>\n",
              "      <td>0</td>\n",
              "      <td>0.0</td>\n",
              "    </tr>\n",
              "    <tr>\n",
              "      <th>13</th>\n",
              "      <td>+</td>\n",
              "      <td>0.0</td>\n",
              "      <td>0</td>\n",
              "      <td>라이프 오브 파이</td>\n",
              "      <td>14</td>\n",
              "      <td>.</td>\n",
              "      <td>0</td>\n",
              "      <td>0.0</td>\n",
              "    </tr>\n",
              "    <tr>\n",
              "      <th>14</th>\n",
              "      <td>+</td>\n",
              "      <td>0.0</td>\n",
              "      <td>0</td>\n",
              "      <td>김상혁</td>\n",
              "      <td>15</td>\n",
              "      <td>.</td>\n",
              "      <td>0</td>\n",
              "      <td>0.0</td>\n",
              "    </tr>\n",
              "    <tr>\n",
              "      <th>15</th>\n",
              "      <td>+</td>\n",
              "      <td>0.0</td>\n",
              "      <td>0</td>\n",
              "      <td>맘스터치 언빌리버블</td>\n",
              "      <td>16</td>\n",
              "      <td>.</td>\n",
              "      <td>0</td>\n",
              "      <td>0.0</td>\n",
              "    </tr>\n",
              "    <tr>\n",
              "      <th>16</th>\n",
              "      <td>+</td>\n",
              "      <td>0.0</td>\n",
              "      <td>0</td>\n",
              "      <td>조동호</td>\n",
              "      <td>17</td>\n",
              "      <td>.</td>\n",
              "      <td>0</td>\n",
              "      <td>0.0</td>\n",
              "    </tr>\n",
              "    <tr>\n",
              "      <th>17</th>\n",
              "      <td>+</td>\n",
              "      <td>0.0</td>\n",
              "      <td>0</td>\n",
              "      <td>윤성빈</td>\n",
              "      <td>18</td>\n",
              "      <td>.</td>\n",
              "      <td>0</td>\n",
              "      <td>0.0</td>\n",
              "    </tr>\n",
              "    <tr>\n",
              "      <th>18</th>\n",
              "      <td>+</td>\n",
              "      <td>0.0</td>\n",
              "      <td>0</td>\n",
              "      <td>어스 해석</td>\n",
              "      <td>19</td>\n",
              "      <td>.</td>\n",
              "      <td>0</td>\n",
              "      <td>0.0</td>\n",
              "    </tr>\n",
              "    <tr>\n",
              "      <th>19</th>\n",
              "      <td>+</td>\n",
              "      <td>0.0</td>\n",
              "      <td>0</td>\n",
              "      <td>희생부활자</td>\n",
              "      <td>20</td>\n",
              "      <td>.</td>\n",
              "      <td>0</td>\n",
              "      <td>0.0</td>\n",
              "    </tr>\n",
              "  </tbody>\n",
              "</table>\n",
              "</div>"
            ],
            "text/plain": [
              "   change  cvalue  delta     keyword  rank ratio  score  tvalue\n",
              "0       +     0.0      0         차우찬     1     .      0     0.0\n",
              "1       +     0.0      0         송다예     2     .      0     0.0\n",
              "2       +     0.0      0         김기훈     3     .      0     0.0\n",
              "3       +     0.0      0         헤어볼     4     .      0     0.0\n",
              "4       +     0.0      0     고양이 헤어볼     5     .      0     0.0\n",
              "5       +     0.0      0         김의겸     6     .      0     0.0\n",
              "6       +     0.0      0         윤균상     7     .      0     0.0\n",
              "7       +     0.0      0         모하비     8     .      0     0.0\n",
              "8       +     0.0      0      기아 김기훈     9     .      0     0.0\n",
              "9       +     0.0      0        튀김족발    10     .      0     0.0\n",
              "10      +     0.0      0      생방송투데이    11     .      0     0.0\n",
              "11      +     0.0      0      일품솥밥정식    12     .      0     0.0\n",
              "12      +     0.0      0         고준희    13     .      0     0.0\n",
              "13      +     0.0      0   라이프 오브 파이    14     .      0     0.0\n",
              "14      +     0.0      0         김상혁    15     .      0     0.0\n",
              "15      +     0.0      0  맘스터치 언빌리버블    16     .      0     0.0\n",
              "16      +     0.0      0         조동호    17     .      0     0.0\n",
              "17      +     0.0      0         윤성빈    18     .      0     0.0\n",
              "18      +     0.0      0       어스 해석    19     .      0     0.0\n",
              "19      +     0.0      0       희생부활자    20     .      0     0.0"
            ]
          },
          "metadata": {
            "tags": []
          },
          "execution_count": 29
        }
      ]
    },
    {
      "metadata": {
        "id": "SIpX5CVx9K0q",
        "colab_type": "code",
        "colab": {}
      },
      "cell_type": "code",
      "source": [
        "df.to_excel('네이버실검.xls') #엑셀로 저장"
      ],
      "execution_count": 0,
      "outputs": []
    },
    {
      "metadata": {
        "id": "LU0UacJ7-s8i",
        "colab_type": "code",
        "colab": {}
      },
      "cell_type": "code",
      "source": [
        "# 리눅스"
      ],
      "execution_count": 0,
      "outputs": []
    },
    {
      "metadata": {
        "id": "Xv0ie3UU9qXV",
        "colab_type": "code",
        "outputId": "725d1be5-9f21-47e3-e579-3eb7e86b9788",
        "colab": {
          "base_uri": "https://localhost:8080/",
          "height": 70
        }
      },
      "cell_type": "code",
      "source": [
        "ls -l"
      ],
      "execution_count": 0,
      "outputs": [
        {
          "output_type": "stream",
          "text": [
            "total 16\n",
            "drwxr-xr-x 1 root root 4096 Mar  8 17:26 \u001b[0m\u001b[01;34msample_data\u001b[0m/\n",
            "-rw-r--r-- 1 root root 9728 Mar 28 11:04 네이버실검.xls\n"
          ],
          "name": "stdout"
        }
      ]
    },
    {
      "metadata": {
        "id": "qlPzVK2I-Asp",
        "colab_type": "code",
        "colab": {}
      },
      "cell_type": "code",
      "source": [
        "# 다운로드하는 법 -> 코드 스니펫에서 download 검색 후 필요한 코드 불러오기(확인하기)\n",
        "from google.colab import files\n",
        "\n",
        "#with open('example.txt', 'w') as f:\n",
        "#  f.write('some content')\n",
        "\n",
        "files.download('네이버실검.xls') # 엑셀 파일로 만들어서 저장"
      ],
      "execution_count": 0,
      "outputs": []
    },
    {
      "metadata": {
        "id": "IVBvuK-z_ORU",
        "colab_type": "code",
        "colab": {}
      },
      "cell_type": "code",
      "source": [
        ""
      ],
      "execution_count": 0,
      "outputs": []
    }
  ]
}